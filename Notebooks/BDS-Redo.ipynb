{
 "metadata": {
  "language_info": {
   "codemirror_mode": {
    "name": "ipython",
    "version": 3
   },
   "file_extension": ".py",
   "mimetype": "text/x-python",
   "name": "python",
   "nbconvert_exporter": "python",
   "pygments_lexer": "ipython3",
   "version": "3.8.5-final"
  },
  "orig_nbformat": 2,
  "kernelspec": {
   "name": "python3",
   "display_name": "Python 3",
   "language": "python"
  }
 },
 "nbformat": 4,
 "nbformat_minor": 2,
 "cells": [
  {
   "cell_type": "code",
   "execution_count": 1,
   "metadata": {},
   "outputs": [],
   "source": [
    "# Loading the packages needed\n",
    "import pandas as pd\n",
    "import seaborn as sns\n",
    "import matplotlib.pyplot as plt"
   ]
  },
  {
   "cell_type": "code",
   "execution_count": 2,
   "metadata": {},
   "outputs": [],
   "source": [
    "#setting viewing options for dataframe outputs\n",
    "pd.set_option('display.max_columns', 50)\n",
    "pd.set_option('max_colwidth',40)\n",
    "pd.set_option('display.max_rows', 60)\n",
    "pd.set_option('display.min_rows', 30)"
   ]
  },
  {
   "source": [
    "# Reading datasets Needed"
   ],
   "cell_type": "markdown",
   "metadata": {}
  },
  {
   "cell_type": "code",
   "execution_count": 3,
   "metadata": {},
   "outputs": [
    {
     "output_type": "stream",
     "name": "stdout",
     "text": [
      "6492\nFalse    6492\nTrue       12\ndtype: int64\n<class 'pandas.core.frame.DataFrame'>\nInt64Index: 6492 entries, 0 to 6503\nData columns (total 1 columns):\n #   Column         Non-Null Count  Dtype\n---  ------         --------------  -----\n 0   Phone_Numbers  6492 non-null   int64\ndtypes: int64(1)\nmemory usage: 101.4 KB\n"
     ]
    }
   ],
   "source": [
    "# Dataset for invites.\n",
    "invites = pd.read_excel('data\\invites.xlsx')\n",
    "print(invites.Phone_Numbers.nunique())\n",
    "print(invites.duplicated().value_counts())\n",
    "invites.drop_duplicates(inplace = True)\n",
    "invites.info()"
   ]
  },
  {
   "cell_type": "code",
   "execution_count": 4,
   "metadata": {},
   "outputs": [
    {
     "output_type": "execute_result",
     "data": {
      "text/plain": [
       "    county  gender         phone\n",
       "0  Mombasa  Female  254716377808\n",
       "1  Mombasa  Female  254759653919"
      ],
      "text/html": "<div>\n<style scoped>\n    .dataframe tbody tr th:only-of-type {\n        vertical-align: middle;\n    }\n\n    .dataframe tbody tr th {\n        vertical-align: top;\n    }\n\n    .dataframe thead th {\n        text-align: right;\n    }\n</style>\n<table border=\"1\" class=\"dataframe\">\n  <thead>\n    <tr style=\"text-align: right;\">\n      <th></th>\n      <th>county</th>\n      <th>gender</th>\n      <th>phone</th>\n    </tr>\n  </thead>\n  <tbody>\n    <tr>\n      <th>0</th>\n      <td>Mombasa</td>\n      <td>Female</td>\n      <td>254716377808</td>\n    </tr>\n    <tr>\n      <th>1</th>\n      <td>Mombasa</td>\n      <td>Female</td>\n      <td>254759653919</td>\n    </tr>\n  </tbody>\n</table>\n</div>"
     },
     "metadata": {},
     "execution_count": 4
    }
   ],
   "source": [
    "# Dataset shared by WB on Gender and County\n",
    "wb_data = pd.read_excel('data\\Wb-learners-20-11-23.xlsx')\n",
    "wb_data = wb_data[['county', 'gender','Phone', 'AltPhone']]\n",
    "#wb_data['Phone'].isin(wb_data['AltPhone']).value_counts()\n",
    "#bringing together phone and altphone to capture both in interactions\n",
    "list_county = list(wb_data.county)\n",
    "list_gender = list(wb_data.gender)\n",
    "list_phone = list(wb_data.Phone)\n",
    "list_altphone = list(wb_data.AltPhone)\n",
    "\n",
    "zip1 = zip(list_county,list_gender,list_phone)\n",
    "zip2 = zip(list_county,list_gender,list_altphone)\n",
    "\n",
    "wb1 = pd.DataFrame(zip1,columns=['county','gender','phone'])\n",
    "wb2 = pd.DataFrame(zip2,columns=['county','gender','phone'])\n",
    "\n",
    "wb_data2 = pd.concat([wb1,wb2])\n",
    "wb_data2.drop_duplicates(subset =[\"phone\"], inplace = True)\n",
    "wb_data2.head(2)"
   ]
  },
  {
   "cell_type": "code",
   "execution_count": 5,
   "metadata": {},
   "outputs": [
    {
     "output_type": "execute_result",
     "data": {
      "text/plain": [
       "False    6487\n",
       "True        3\n",
       "dtype: int64"
      ]
     },
     "metadata": {},
     "execution_count": 5
    }
   ],
   "source": [
    "wb_data.duplicated().value_counts()"
   ]
  },
  {
   "cell_type": "code",
   "execution_count": 6,
   "metadata": {},
   "outputs": [
    {
     "output_type": "execute_result",
     "data": {
      "text/plain": [
       "   learner_id  phone_number  days_accessed  months_accessed   mode_day  \\\n",
       "0     1445117  254791578958              2                1   Thursday   \n",
       "1      600234  254799260550              2                1  Wednesday   \n",
       "\n",
       "   mode_hour time_interval  \n",
       "0          9       Morning  \n",
       "1         23         Night  "
      ],
      "text/html": "<div>\n<style scoped>\n    .dataframe tbody tr th:only-of-type {\n        vertical-align: middle;\n    }\n\n    .dataframe tbody tr th {\n        vertical-align: top;\n    }\n\n    .dataframe thead th {\n        text-align: right;\n    }\n</style>\n<table border=\"1\" class=\"dataframe\">\n  <thead>\n    <tr style=\"text-align: right;\">\n      <th></th>\n      <th>learner_id</th>\n      <th>phone_number</th>\n      <th>days_accessed</th>\n      <th>months_accessed</th>\n      <th>mode_day</th>\n      <th>mode_hour</th>\n      <th>time_interval</th>\n    </tr>\n  </thead>\n  <tbody>\n    <tr>\n      <th>0</th>\n      <td>1445117</td>\n      <td>254791578958</td>\n      <td>2</td>\n      <td>1</td>\n      <td>Thursday</td>\n      <td>9</td>\n      <td>Morning</td>\n    </tr>\n    <tr>\n      <th>1</th>\n      <td>600234</td>\n      <td>254799260550</td>\n      <td>2</td>\n      <td>1</td>\n      <td>Wednesday</td>\n      <td>23</td>\n      <td>Night</td>\n    </tr>\n  </tbody>\n</table>\n</div>"
     },
     "metadata": {},
     "execution_count": 6
    }
   ],
   "source": [
    "# LEARNER BEHAVIORAL DATA - includes mode_day and time_interval (will use this to get day and time analytics)\n",
    "behavioral_analytics = pd.read_csv('data\\Wb-learner-behaviour-data.csv')\n",
    "behavioral_analytics = behavioral_analytics[['learner_id', 'phone_number','days_accessed', 'months_accessed', 'mode_day', 'mode_hour', 'time_interval']]\n",
    "behavioral_analytics.head(2)"
   ]
  },
  {
   "cell_type": "code",
   "execution_count": 7,
   "metadata": {},
   "outputs": [
    {
     "output_type": "execute_result",
     "data": {
      "text/plain": [
       "   Unnamed: 0  id  phone_number first_day_accessed last_day_accessed  \\\n",
       "0           0   1  254791229014         2020-11-21        2020-11-23   \n",
       "1           1   2  254743452507         2020-11-20        2020-11-20   \n",
       "\n",
       "   num_interactions partner_name project_name  program_id  \\\n",
       "0               132   World Bank       WB-BDS        1111   \n",
       "1                23   World Bank       WB-BDS        1111   \n",
       "\n",
       "                           program_name  variation_id  \\\n",
       "0  WB -BDS Language selection - English          1242   \n",
       "1  WB -BDS Language selection - English          1242   \n",
       "\n",
       "                         variation_name  package_id  message_type sender  \\\n",
       "0  WB -BDS Language selection - English       10646             1  33300   \n",
       "1  WB -BDS Language selection - English       10646             1  33300   \n",
       "\n",
       "   digits  BDS_interactions  BDSAC_interactions  BDSACK_interactions  \\\n",
       "0      12               1.0                 0.0                  0.0   \n",
       "1      12               1.0                 0.0                  0.0   \n",
       "\n",
       "   BDSAP_interactions  BDSAPK_interactions  BDSBI_interactions  \\\n",
       "0                24.0                  0.0                19.0   \n",
       "1                 0.0                  0.0                 0.0   \n",
       "\n",
       "   BDSBIK_interactions  BDSBM_interactions  BDSBMK_interactions  ...  \\\n",
       "0                  0.0                28.0                  0.0  ...   \n",
       "1                  0.0                 0.0                  0.0  ...   \n",
       "\n",
       "   BDSCPK_interactions  BDSDM_interactions  BDSDMK_interactions  \\\n",
       "0                  0.0                 0.0                  0.0   \n",
       "1                  0.0                 0.0                  0.0   \n",
       "\n",
       "   BDSEN_interactions  BDSENK_interactions  BDSFB_interactions  \\\n",
       "0                24.0                  0.0                 0.0   \n",
       "1                22.0                  0.0                 0.0   \n",
       "\n",
       "   BDSFBK_interactions  BDSFN_interactions  BDSFNK_interactions  \\\n",
       "0                  0.0                20.0                  0.0   \n",
       "1                  0.0                 0.0                  0.0   \n",
       "\n",
       "   BDSMI_interactions  BDSMIK_interactions  BDSMS_interactions  \\\n",
       "0                 0.0                  0.0                16.0   \n",
       "1                 0.0                  0.0                 0.0   \n",
       "\n",
       "   BDSMSK_interactions  BDSO_interactions  BDSO1_interactions  \\\n",
       "0                  0.0                0.0                 0.0   \n",
       "1                  0.0                0.0                 0.0   \n",
       "\n",
       "   BDSO1K_interactions  BDSO2_interactions  BDSO2K_interactions  \\\n",
       "0                  0.0                 0.0                  0.0   \n",
       "1                  0.0                 0.0                  0.0   \n",
       "\n",
       "   BDSOK_interactions  BDSOQ_interactions  BDSOQK_interactions  \\\n",
       "0                 0.0                 0.0                  0.0   \n",
       "1                 0.0                 0.0                  0.0   \n",
       "\n",
       "   BDSPM_interactions  BDSPMK_interactions  BDSRG_interactions  \\\n",
       "0                 0.0                  0.0                 0.0   \n",
       "1                 0.0                  0.0                 0.0   \n",
       "\n",
       "   BDSRGK_interactions  \n",
       "0                  0.0  \n",
       "1                  0.0  \n",
       "\n",
       "[2 rows x 55 columns]"
      ],
      "text/html": "<div>\n<style scoped>\n    .dataframe tbody tr th:only-of-type {\n        vertical-align: middle;\n    }\n\n    .dataframe tbody tr th {\n        vertical-align: top;\n    }\n\n    .dataframe thead th {\n        text-align: right;\n    }\n</style>\n<table border=\"1\" class=\"dataframe\">\n  <thead>\n    <tr style=\"text-align: right;\">\n      <th></th>\n      <th>Unnamed: 0</th>\n      <th>id</th>\n      <th>phone_number</th>\n      <th>first_day_accessed</th>\n      <th>last_day_accessed</th>\n      <th>num_interactions</th>\n      <th>partner_name</th>\n      <th>project_name</th>\n      <th>program_id</th>\n      <th>program_name</th>\n      <th>variation_id</th>\n      <th>variation_name</th>\n      <th>package_id</th>\n      <th>message_type</th>\n      <th>sender</th>\n      <th>digits</th>\n      <th>BDS_interactions</th>\n      <th>BDSAC_interactions</th>\n      <th>BDSACK_interactions</th>\n      <th>BDSAP_interactions</th>\n      <th>BDSAPK_interactions</th>\n      <th>BDSBI_interactions</th>\n      <th>BDSBIK_interactions</th>\n      <th>BDSBM_interactions</th>\n      <th>BDSBMK_interactions</th>\n      <th>...</th>\n      <th>BDSCPK_interactions</th>\n      <th>BDSDM_interactions</th>\n      <th>BDSDMK_interactions</th>\n      <th>BDSEN_interactions</th>\n      <th>BDSENK_interactions</th>\n      <th>BDSFB_interactions</th>\n      <th>BDSFBK_interactions</th>\n      <th>BDSFN_interactions</th>\n      <th>BDSFNK_interactions</th>\n      <th>BDSMI_interactions</th>\n      <th>BDSMIK_interactions</th>\n      <th>BDSMS_interactions</th>\n      <th>BDSMSK_interactions</th>\n      <th>BDSO_interactions</th>\n      <th>BDSO1_interactions</th>\n      <th>BDSO1K_interactions</th>\n      <th>BDSO2_interactions</th>\n      <th>BDSO2K_interactions</th>\n      <th>BDSOK_interactions</th>\n      <th>BDSOQ_interactions</th>\n      <th>BDSOQK_interactions</th>\n      <th>BDSPM_interactions</th>\n      <th>BDSPMK_interactions</th>\n      <th>BDSRG_interactions</th>\n      <th>BDSRGK_interactions</th>\n    </tr>\n  </thead>\n  <tbody>\n    <tr>\n      <th>0</th>\n      <td>0</td>\n      <td>1</td>\n      <td>254791229014</td>\n      <td>2020-11-21</td>\n      <td>2020-11-23</td>\n      <td>132</td>\n      <td>World Bank</td>\n      <td>WB-BDS</td>\n      <td>1111</td>\n      <td>WB -BDS Language selection - English</td>\n      <td>1242</td>\n      <td>WB -BDS Language selection - English</td>\n      <td>10646</td>\n      <td>1</td>\n      <td>33300</td>\n      <td>12</td>\n      <td>1.0</td>\n      <td>0.0</td>\n      <td>0.0</td>\n      <td>24.0</td>\n      <td>0.0</td>\n      <td>19.0</td>\n      <td>0.0</td>\n      <td>28.0</td>\n      <td>0.0</td>\n      <td>...</td>\n      <td>0.0</td>\n      <td>0.0</td>\n      <td>0.0</td>\n      <td>24.0</td>\n      <td>0.0</td>\n      <td>0.0</td>\n      <td>0.0</td>\n      <td>20.0</td>\n      <td>0.0</td>\n      <td>0.0</td>\n      <td>0.0</td>\n      <td>16.0</td>\n      <td>0.0</td>\n      <td>0.0</td>\n      <td>0.0</td>\n      <td>0.0</td>\n      <td>0.0</td>\n      <td>0.0</td>\n      <td>0.0</td>\n      <td>0.0</td>\n      <td>0.0</td>\n      <td>0.0</td>\n      <td>0.0</td>\n      <td>0.0</td>\n      <td>0.0</td>\n    </tr>\n    <tr>\n      <th>1</th>\n      <td>1</td>\n      <td>2</td>\n      <td>254743452507</td>\n      <td>2020-11-20</td>\n      <td>2020-11-20</td>\n      <td>23</td>\n      <td>World Bank</td>\n      <td>WB-BDS</td>\n      <td>1111</td>\n      <td>WB -BDS Language selection - English</td>\n      <td>1242</td>\n      <td>WB -BDS Language selection - English</td>\n      <td>10646</td>\n      <td>1</td>\n      <td>33300</td>\n      <td>12</td>\n      <td>1.0</td>\n      <td>0.0</td>\n      <td>0.0</td>\n      <td>0.0</td>\n      <td>0.0</td>\n      <td>0.0</td>\n      <td>0.0</td>\n      <td>0.0</td>\n      <td>0.0</td>\n      <td>...</td>\n      <td>0.0</td>\n      <td>0.0</td>\n      <td>0.0</td>\n      <td>22.0</td>\n      <td>0.0</td>\n      <td>0.0</td>\n      <td>0.0</td>\n      <td>0.0</td>\n      <td>0.0</td>\n      <td>0.0</td>\n      <td>0.0</td>\n      <td>0.0</td>\n      <td>0.0</td>\n      <td>0.0</td>\n      <td>0.0</td>\n      <td>0.0</td>\n      <td>0.0</td>\n      <td>0.0</td>\n      <td>0.0</td>\n      <td>0.0</td>\n      <td>0.0</td>\n      <td>0.0</td>\n      <td>0.0</td>\n      <td>0.0</td>\n      <td>0.0</td>\n    </tr>\n  </tbody>\n</table>\n<p>2 rows × 55 columns</p>\n</div>"
     },
     "metadata": {},
     "execution_count": 7
    }
   ],
   "source": [
    "# LEARNER ANALYTICS - include num_interactions(Will use this to get mean and median interaction, interaction bands, general stats on engagement )\n",
    "learner_analytics = pd.read_csv('data\\\\analytics_learner_82.csv')\n",
    "learner_analytics.head(2)"
   ]
  },
  {
   "cell_type": "code",
   "execution_count": 8,
   "metadata": {},
   "outputs": [
    {
     "output_type": "execute_result",
     "data": {
      "text/plain": [
       "      Unnamed: 0    id  phone_number first_day_accessed last_day_accessed  \\\n",
       "2294        2294  2295  254707879478         2020-07-24        2020-11-14   \n",
       "\n",
       "      num_interactions partner_name project_name  program_id  \\\n",
       "2294              5175   World Bank       WB-BDS        1111   \n",
       "\n",
       "                              program_name  variation_id  \\\n",
       "2294  WB -BDS Language selection - English          1242   \n",
       "\n",
       "                            variation_name  package_id  message_type sender  \\\n",
       "2294  WB -BDS Language selection - English       10646             1  33300   \n",
       "\n",
       "      digits  BDS_interactions  BDSAC_interactions  BDSACK_interactions  \\\n",
       "2294      12               1.0                 0.0                300.0   \n",
       "\n",
       "      BDSAP_interactions  BDSAPK_interactions  BDSBI_interactions  \\\n",
       "2294                 0.0                332.0                 0.0   \n",
       "\n",
       "      BDSBIK_interactions  BDSBM_interactions  BDSBMK_interactions  ...  \\\n",
       "2294                159.0                 0.0                378.0  ...   \n",
       "\n",
       "      BDSCPK_interactions  BDSDM_interactions  BDSDMK_interactions  \\\n",
       "2294                461.0                 0.0                478.0   \n",
       "\n",
       "      BDSEN_interactions  BDSENK_interactions  BDSFB_interactions  \\\n",
       "2294                 0.0                 75.0                 0.0   \n",
       "\n",
       "      BDSFBK_interactions  BDSFN_interactions  BDSFNK_interactions  \\\n",
       "2294                347.0                 0.0                266.0   \n",
       "\n",
       "      BDSMI_interactions  BDSMIK_interactions  BDSMS_interactions  \\\n",
       "2294                 0.0                376.0                 0.0   \n",
       "\n",
       "      BDSMSK_interactions  BDSO_interactions  BDSO1_interactions  \\\n",
       "2294                152.0                0.0                 0.0   \n",
       "\n",
       "      BDSO1K_interactions  BDSO2_interactions  BDSO2K_interactions  \\\n",
       "2294                  3.0                 0.0                  0.0   \n",
       "\n",
       "      BDSOK_interactions  BDSOQ_interactions  BDSOQK_interactions  \\\n",
       "2294                 3.0                 0.0                143.0   \n",
       "\n",
       "      BDSPM_interactions  BDSPMK_interactions  BDSRG_interactions  \\\n",
       "2294                 0.0                458.0                 0.0   \n",
       "\n",
       "      BDSRGK_interactions  \n",
       "2294                394.0  \n",
       "\n",
       "[1 rows x 55 columns]"
      ],
      "text/html": "<div>\n<style scoped>\n    .dataframe tbody tr th:only-of-type {\n        vertical-align: middle;\n    }\n\n    .dataframe tbody tr th {\n        vertical-align: top;\n    }\n\n    .dataframe thead th {\n        text-align: right;\n    }\n</style>\n<table border=\"1\" class=\"dataframe\">\n  <thead>\n    <tr style=\"text-align: right;\">\n      <th></th>\n      <th>Unnamed: 0</th>\n      <th>id</th>\n      <th>phone_number</th>\n      <th>first_day_accessed</th>\n      <th>last_day_accessed</th>\n      <th>num_interactions</th>\n      <th>partner_name</th>\n      <th>project_name</th>\n      <th>program_id</th>\n      <th>program_name</th>\n      <th>variation_id</th>\n      <th>variation_name</th>\n      <th>package_id</th>\n      <th>message_type</th>\n      <th>sender</th>\n      <th>digits</th>\n      <th>BDS_interactions</th>\n      <th>BDSAC_interactions</th>\n      <th>BDSACK_interactions</th>\n      <th>BDSAP_interactions</th>\n      <th>BDSAPK_interactions</th>\n      <th>BDSBI_interactions</th>\n      <th>BDSBIK_interactions</th>\n      <th>BDSBM_interactions</th>\n      <th>BDSBMK_interactions</th>\n      <th>...</th>\n      <th>BDSCPK_interactions</th>\n      <th>BDSDM_interactions</th>\n      <th>BDSDMK_interactions</th>\n      <th>BDSEN_interactions</th>\n      <th>BDSENK_interactions</th>\n      <th>BDSFB_interactions</th>\n      <th>BDSFBK_interactions</th>\n      <th>BDSFN_interactions</th>\n      <th>BDSFNK_interactions</th>\n      <th>BDSMI_interactions</th>\n      <th>BDSMIK_interactions</th>\n      <th>BDSMS_interactions</th>\n      <th>BDSMSK_interactions</th>\n      <th>BDSO_interactions</th>\n      <th>BDSO1_interactions</th>\n      <th>BDSO1K_interactions</th>\n      <th>BDSO2_interactions</th>\n      <th>BDSO2K_interactions</th>\n      <th>BDSOK_interactions</th>\n      <th>BDSOQ_interactions</th>\n      <th>BDSOQK_interactions</th>\n      <th>BDSPM_interactions</th>\n      <th>BDSPMK_interactions</th>\n      <th>BDSRG_interactions</th>\n      <th>BDSRGK_interactions</th>\n    </tr>\n  </thead>\n  <tbody>\n    <tr>\n      <th>2294</th>\n      <td>2294</td>\n      <td>2295</td>\n      <td>254707879478</td>\n      <td>2020-07-24</td>\n      <td>2020-11-14</td>\n      <td>5175</td>\n      <td>World Bank</td>\n      <td>WB-BDS</td>\n      <td>1111</td>\n      <td>WB -BDS Language selection - English</td>\n      <td>1242</td>\n      <td>WB -BDS Language selection - English</td>\n      <td>10646</td>\n      <td>1</td>\n      <td>33300</td>\n      <td>12</td>\n      <td>1.0</td>\n      <td>0.0</td>\n      <td>300.0</td>\n      <td>0.0</td>\n      <td>332.0</td>\n      <td>0.0</td>\n      <td>159.0</td>\n      <td>0.0</td>\n      <td>378.0</td>\n      <td>...</td>\n      <td>461.0</td>\n      <td>0.0</td>\n      <td>478.0</td>\n      <td>0.0</td>\n      <td>75.0</td>\n      <td>0.0</td>\n      <td>347.0</td>\n      <td>0.0</td>\n      <td>266.0</td>\n      <td>0.0</td>\n      <td>376.0</td>\n      <td>0.0</td>\n      <td>152.0</td>\n      <td>0.0</td>\n      <td>0.0</td>\n      <td>3.0</td>\n      <td>0.0</td>\n      <td>0.0</td>\n      <td>3.0</td>\n      <td>0.0</td>\n      <td>143.0</td>\n      <td>0.0</td>\n      <td>458.0</td>\n      <td>0.0</td>\n      <td>394.0</td>\n    </tr>\n  </tbody>\n</table>\n<p>1 rows × 55 columns</p>\n</div>"
     },
     "metadata": {},
     "execution_count": 8
    }
   ],
   "source": [
    "learner_analytics[learner_analytics.num_interactions==5175]"
   ]
  },
  {
   "cell_type": "code",
   "execution_count": 9,
   "metadata": {},
   "outputs": [],
   "source": [
    "# Program Codes and Names\n",
    "prog_names = pd.read_csv('data\\Program-completion-rates-20-101-2020 (1).csv')\n",
    "list_code = list(prog_names['Program Code'])\n",
    "list_Topic = list(prog_names['Topic'])\n",
    "list_Course = list(prog_names['Training Name'])\n",
    "dict_topic_codes = dict(zip(list_code,list_Topic)) \n",
    "dict_course_codes = dict(zip(list_code,list_Course))"
   ]
  },
  {
   "cell_type": "code",
   "execution_count": 17,
   "metadata": {},
   "outputs": [
    {
     "output_type": "error",
     "ename": "UnicodeDecodeError",
     "evalue": "'utf-8' codec can't decode byte 0x93 in position 17: invalid start byte",
     "traceback": [
      "\u001b[1;31m---------------------------------------------------------------------------\u001b[0m",
      "\u001b[1;31mUnicodeDecodeError\u001b[0m                        Traceback (most recent call last)",
      "\u001b[1;32mpandas\\_libs\\parsers.pyx\u001b[0m in \u001b[0;36mpandas._libs.parsers.TextReader._convert_tokens\u001b[1;34m()\u001b[0m\n",
      "\u001b[1;32mpandas\\_libs\\parsers.pyx\u001b[0m in \u001b[0;36mpandas._libs.parsers.TextReader._convert_with_dtype\u001b[1;34m()\u001b[0m\n",
      "\u001b[1;32mpandas\\_libs\\parsers.pyx\u001b[0m in \u001b[0;36mpandas._libs.parsers.TextReader._string_convert\u001b[1;34m()\u001b[0m\n",
      "\u001b[1;32mpandas\\_libs\\parsers.pyx\u001b[0m in \u001b[0;36mpandas._libs.parsers._string_box_utf8\u001b[1;34m()\u001b[0m\n",
      "\u001b[1;31mUnicodeDecodeError\u001b[0m: 'utf-8' codec can't decode byte 0x93 in position 17: invalid start byte",
      "\nDuring handling of the above exception, another exception occurred:\n",
      "\u001b[1;31mUnicodeDecodeError\u001b[0m                        Traceback (most recent call last)",
      "\u001b[1;32m<ipython-input-17-d833ce224a50>\u001b[0m in \u001b[0;36m<module>\u001b[1;34m\u001b[0m\n\u001b[0;32m      1\u001b[0m \u001b[1;31m# Complete interaction dataset - to be used to calculate Completion rates and Duration for completion\u001b[0m\u001b[1;33m\u001b[0m\u001b[1;33m\u001b[0m\u001b[1;33m\u001b[0m\u001b[0m\n\u001b[1;32m----> 2\u001b[1;33m \u001b[0mwbd_int\u001b[0m \u001b[1;33m=\u001b[0m \u001b[0mpd\u001b[0m\u001b[1;33m.\u001b[0m\u001b[0mread_csv\u001b[0m\u001b[1;33m(\u001b[0m\u001b[1;34m'data\\Wb-interactions-20-11.csv'\u001b[0m\u001b[1;33m)\u001b[0m\u001b[1;33m\u001b[0m\u001b[1;33m\u001b[0m\u001b[0m\n\u001b[0m\u001b[0;32m      3\u001b[0m \u001b[0mprint\u001b[0m\u001b[1;33m(\u001b[0m\u001b[0mwbd_int\u001b[0m\u001b[1;33m.\u001b[0m\u001b[0minfo\u001b[0m\u001b[1;33m(\u001b[0m\u001b[1;33m)\u001b[0m\u001b[1;33m)\u001b[0m\u001b[1;33m\u001b[0m\u001b[1;33m\u001b[0m\u001b[0m\n\u001b[0;32m      4\u001b[0m \u001b[0mwbd_int\u001b[0m\u001b[1;33m.\u001b[0m\u001b[0mhead\u001b[0m\u001b[1;33m(\u001b[0m\u001b[1;36m2\u001b[0m\u001b[1;33m)\u001b[0m\u001b[1;33m\u001b[0m\u001b[1;33m\u001b[0m\u001b[0m\n",
      "\u001b[1;32m~\\anaconda3\\lib\\site-packages\\pandas\\io\\parsers.py\u001b[0m in \u001b[0;36mread_csv\u001b[1;34m(filepath_or_buffer, sep, delimiter, header, names, index_col, usecols, squeeze, prefix, mangle_dupe_cols, dtype, engine, converters, true_values, false_values, skipinitialspace, skiprows, skipfooter, nrows, na_values, keep_default_na, na_filter, verbose, skip_blank_lines, parse_dates, infer_datetime_format, keep_date_col, date_parser, dayfirst, cache_dates, iterator, chunksize, compression, thousands, decimal, lineterminator, quotechar, quoting, doublequote, escapechar, comment, encoding, dialect, error_bad_lines, warn_bad_lines, delim_whitespace, low_memory, memory_map, float_precision)\u001b[0m\n\u001b[0;32m    684\u001b[0m     )\n\u001b[0;32m    685\u001b[0m \u001b[1;33m\u001b[0m\u001b[0m\n\u001b[1;32m--> 686\u001b[1;33m     \u001b[1;32mreturn\u001b[0m \u001b[0m_read\u001b[0m\u001b[1;33m(\u001b[0m\u001b[0mfilepath_or_buffer\u001b[0m\u001b[1;33m,\u001b[0m \u001b[0mkwds\u001b[0m\u001b[1;33m)\u001b[0m\u001b[1;33m\u001b[0m\u001b[1;33m\u001b[0m\u001b[0m\n\u001b[0m\u001b[0;32m    687\u001b[0m \u001b[1;33m\u001b[0m\u001b[0m\n\u001b[0;32m    688\u001b[0m \u001b[1;33m\u001b[0m\u001b[0m\n",
      "\u001b[1;32m~\\anaconda3\\lib\\site-packages\\pandas\\io\\parsers.py\u001b[0m in \u001b[0;36m_read\u001b[1;34m(filepath_or_buffer, kwds)\u001b[0m\n\u001b[0;32m    456\u001b[0m \u001b[1;33m\u001b[0m\u001b[0m\n\u001b[0;32m    457\u001b[0m     \u001b[1;32mtry\u001b[0m\u001b[1;33m:\u001b[0m\u001b[1;33m\u001b[0m\u001b[1;33m\u001b[0m\u001b[0m\n\u001b[1;32m--> 458\u001b[1;33m         \u001b[0mdata\u001b[0m \u001b[1;33m=\u001b[0m \u001b[0mparser\u001b[0m\u001b[1;33m.\u001b[0m\u001b[0mread\u001b[0m\u001b[1;33m(\u001b[0m\u001b[0mnrows\u001b[0m\u001b[1;33m)\u001b[0m\u001b[1;33m\u001b[0m\u001b[1;33m\u001b[0m\u001b[0m\n\u001b[0m\u001b[0;32m    459\u001b[0m     \u001b[1;32mfinally\u001b[0m\u001b[1;33m:\u001b[0m\u001b[1;33m\u001b[0m\u001b[1;33m\u001b[0m\u001b[0m\n\u001b[0;32m    460\u001b[0m         \u001b[0mparser\u001b[0m\u001b[1;33m.\u001b[0m\u001b[0mclose\u001b[0m\u001b[1;33m(\u001b[0m\u001b[1;33m)\u001b[0m\u001b[1;33m\u001b[0m\u001b[1;33m\u001b[0m\u001b[0m\n",
      "\u001b[1;32m~\\anaconda3\\lib\\site-packages\\pandas\\io\\parsers.py\u001b[0m in \u001b[0;36mread\u001b[1;34m(self, nrows)\u001b[0m\n\u001b[0;32m   1194\u001b[0m     \u001b[1;32mdef\u001b[0m \u001b[0mread\u001b[0m\u001b[1;33m(\u001b[0m\u001b[0mself\u001b[0m\u001b[1;33m,\u001b[0m \u001b[0mnrows\u001b[0m\u001b[1;33m=\u001b[0m\u001b[1;32mNone\u001b[0m\u001b[1;33m)\u001b[0m\u001b[1;33m:\u001b[0m\u001b[1;33m\u001b[0m\u001b[1;33m\u001b[0m\u001b[0m\n\u001b[0;32m   1195\u001b[0m         \u001b[0mnrows\u001b[0m \u001b[1;33m=\u001b[0m \u001b[0m_validate_integer\u001b[0m\u001b[1;33m(\u001b[0m\u001b[1;34m\"nrows\"\u001b[0m\u001b[1;33m,\u001b[0m \u001b[0mnrows\u001b[0m\u001b[1;33m)\u001b[0m\u001b[1;33m\u001b[0m\u001b[1;33m\u001b[0m\u001b[0m\n\u001b[1;32m-> 1196\u001b[1;33m         \u001b[0mret\u001b[0m \u001b[1;33m=\u001b[0m \u001b[0mself\u001b[0m\u001b[1;33m.\u001b[0m\u001b[0m_engine\u001b[0m\u001b[1;33m.\u001b[0m\u001b[0mread\u001b[0m\u001b[1;33m(\u001b[0m\u001b[0mnrows\u001b[0m\u001b[1;33m)\u001b[0m\u001b[1;33m\u001b[0m\u001b[1;33m\u001b[0m\u001b[0m\n\u001b[0m\u001b[0;32m   1197\u001b[0m \u001b[1;33m\u001b[0m\u001b[0m\n\u001b[0;32m   1198\u001b[0m         \u001b[1;31m# May alter columns / col_dict\u001b[0m\u001b[1;33m\u001b[0m\u001b[1;33m\u001b[0m\u001b[1;33m\u001b[0m\u001b[0m\n",
      "\u001b[1;32m~\\anaconda3\\lib\\site-packages\\pandas\\io\\parsers.py\u001b[0m in \u001b[0;36mread\u001b[1;34m(self, nrows)\u001b[0m\n\u001b[0;32m   2153\u001b[0m     \u001b[1;32mdef\u001b[0m \u001b[0mread\u001b[0m\u001b[1;33m(\u001b[0m\u001b[0mself\u001b[0m\u001b[1;33m,\u001b[0m \u001b[0mnrows\u001b[0m\u001b[1;33m=\u001b[0m\u001b[1;32mNone\u001b[0m\u001b[1;33m)\u001b[0m\u001b[1;33m:\u001b[0m\u001b[1;33m\u001b[0m\u001b[1;33m\u001b[0m\u001b[0m\n\u001b[0;32m   2154\u001b[0m         \u001b[1;32mtry\u001b[0m\u001b[1;33m:\u001b[0m\u001b[1;33m\u001b[0m\u001b[1;33m\u001b[0m\u001b[0m\n\u001b[1;32m-> 2155\u001b[1;33m             \u001b[0mdata\u001b[0m \u001b[1;33m=\u001b[0m \u001b[0mself\u001b[0m\u001b[1;33m.\u001b[0m\u001b[0m_reader\u001b[0m\u001b[1;33m.\u001b[0m\u001b[0mread\u001b[0m\u001b[1;33m(\u001b[0m\u001b[0mnrows\u001b[0m\u001b[1;33m)\u001b[0m\u001b[1;33m\u001b[0m\u001b[1;33m\u001b[0m\u001b[0m\n\u001b[0m\u001b[0;32m   2156\u001b[0m         \u001b[1;32mexcept\u001b[0m \u001b[0mStopIteration\u001b[0m\u001b[1;33m:\u001b[0m\u001b[1;33m\u001b[0m\u001b[1;33m\u001b[0m\u001b[0m\n\u001b[0;32m   2157\u001b[0m             \u001b[1;32mif\u001b[0m \u001b[0mself\u001b[0m\u001b[1;33m.\u001b[0m\u001b[0m_first_chunk\u001b[0m\u001b[1;33m:\u001b[0m\u001b[1;33m\u001b[0m\u001b[1;33m\u001b[0m\u001b[0m\n",
      "\u001b[1;32mpandas\\_libs\\parsers.pyx\u001b[0m in \u001b[0;36mpandas._libs.parsers.TextReader.read\u001b[1;34m()\u001b[0m\n",
      "\u001b[1;32mpandas\\_libs\\parsers.pyx\u001b[0m in \u001b[0;36mpandas._libs.parsers.TextReader._read_low_memory\u001b[1;34m()\u001b[0m\n",
      "\u001b[1;32mpandas\\_libs\\parsers.pyx\u001b[0m in \u001b[0;36mpandas._libs.parsers.TextReader._read_rows\u001b[1;34m()\u001b[0m\n",
      "\u001b[1;32mpandas\\_libs\\parsers.pyx\u001b[0m in \u001b[0;36mpandas._libs.parsers.TextReader._convert_column_data\u001b[1;34m()\u001b[0m\n",
      "\u001b[1;32mpandas\\_libs\\parsers.pyx\u001b[0m in \u001b[0;36mpandas._libs.parsers.TextReader._convert_tokens\u001b[1;34m()\u001b[0m\n",
      "\u001b[1;32mpandas\\_libs\\parsers.pyx\u001b[0m in \u001b[0;36mpandas._libs.parsers.TextReader._convert_with_dtype\u001b[1;34m()\u001b[0m\n",
      "\u001b[1;32mpandas\\_libs\\parsers.pyx\u001b[0m in \u001b[0;36mpandas._libs.parsers.TextReader._string_convert\u001b[1;34m()\u001b[0m\n",
      "\u001b[1;32mpandas\\_libs\\parsers.pyx\u001b[0m in \u001b[0;36mpandas._libs.parsers._string_box_utf8\u001b[1;34m()\u001b[0m\n",
      "\u001b[1;31mUnicodeDecodeError\u001b[0m: 'utf-8' codec can't decode byte 0x93 in position 17: invalid start byte"
     ]
    }
   ],
   "source": [
    "# Complete interaction dataset - to be used to calculate Completion rates and Duration for completion\n",
    "wbd_int = pd.read_csv('data\\Wb-interactions-20-11.csv')\n",
    "print(wbd_int.info())\n",
    "wbd_int.head(2)"
   ]
  },
  {
   "cell_type": "code",
   "execution_count": null,
   "metadata": {},
   "outputs": [],
   "source": [
    "wbd_int1[wbd_int1.program_code == 'BDSAC'][wbd_int1[wbd_int1.program_code == 'BDSAC'].phone_number == 254711222335].sort_values(by = ['created_at'], ascending = True)"
   ]
  },
  {
   "cell_type": "code",
   "execution_count": 11,
   "metadata": {},
   "outputs": [
    {
     "output_type": "execute_result",
     "data": {
      "text/plain": [
       "    County Cluster\n",
       "0  Nairobi      C1\n",
       "1   Kisumu      C1"
      ],
      "text/html": "<div>\n<style scoped>\n    .dataframe tbody tr th:only-of-type {\n        vertical-align: middle;\n    }\n\n    .dataframe tbody tr th {\n        vertical-align: top;\n    }\n\n    .dataframe thead th {\n        text-align: right;\n    }\n</style>\n<table border=\"1\" class=\"dataframe\">\n  <thead>\n    <tr style=\"text-align: right;\">\n      <th></th>\n      <th>County</th>\n      <th>Cluster</th>\n    </tr>\n  </thead>\n  <tbody>\n    <tr>\n      <th>0</th>\n      <td>Nairobi</td>\n      <td>C1</td>\n    </tr>\n    <tr>\n      <th>1</th>\n      <td>Kisumu</td>\n      <td>C1</td>\n    </tr>\n  </tbody>\n</table>\n</div>"
     },
     "metadata": {},
     "execution_count": 11
    }
   ],
   "source": [
    "# dataset containing the clusters\n",
    "clusters = pd.read_excel('data\\cluster.xlsx')\n",
    "list_county1 = list(clusters.County)\n",
    "list_cluster = list(clusters.Cluster)\n",
    "dict_cluster = dict(zip(list_county1,list_cluster))\n",
    "clusters.head(2)"
   ]
  },
  {
   "cell_type": "code",
   "execution_count": 12,
   "metadata": {},
   "outputs": [
    {
     "output_type": "stream",
     "name": "stdout",
     "text": [
      "<class 'pandas.core.frame.DataFrame'>\nRangeIndex: 2872 entries, 0 to 2871\nData columns (total 13 columns):\n #   Column                                Non-Null Count  Dtype  \n---  ------                                --------------  -----  \n 0   phone_number                          2872 non-null   int64  \n 1   quizzes_attempted                     2872 non-null   int64  \n 2   quiz_code                             2872 non-null   object \n 3   quiz_name                             2872 non-null   object \n 4   blooms_quiz_questions_in_training     2872 non-null   int64  \n 5   blooms_questions_attempted_in_quiz    2872 non-null   int64  \n 6   questions_completion_rate             2872 non-null   float64\n 7   blooms_quiz_questions_scored_correct  2872 non-null   int64  \n 8   blooms_quiz_questions_attempt_score   2872 non-null   float64\n 9   blooms_quiz_questions_score           2872 non-null   int64  \n 10  quiz_total_score                      2872 non-null   float64\n 11  quiz_possible_score                   2872 non-null   int64  \n 12  percent                               2872 non-null   int64  \ndtypes: float64(3), int64(8), object(2)\nmemory usage: 291.8+ KB\n"
     ]
    }
   ],
   "source": [
    "# dataset containing the knowledge score for quiz_level\n",
    "df_knowledge_quiz = pd.read_excel('data\\World Bank - full_quiz_knowledge_score_table - download.xlsx')\n",
    "df_knowledge_quiz.info()"
   ]
  },
  {
   "source": [
    "# Merging of Datasets"
   ],
   "cell_type": "markdown",
   "metadata": {}
  },
  {
   "source": [
    "## Merging interactions and county, gender and cluster"
   ],
   "cell_type": "markdown",
   "metadata": {}
  },
  {
   "cell_type": "code",
   "execution_count": 13,
   "metadata": {},
   "outputs": [
    {
     "output_type": "execute_result",
     "data": {
      "text/plain": [
       "      phone_number first_day_accessed last_day_accessed  num_interactions  \\\n",
       "0     254791229014         2020-11-21        2020-11-23               132   \n",
       "1     254743452507         2020-11-20        2020-11-20                23   \n",
       "2     254708644243         2020-11-19        2020-11-22               142   \n",
       "3     254718805285         2020-11-19        2020-11-23               362   \n",
       "4     254791862950         2020-11-19        2020-11-19                85   \n",
       "5     254728263704         2020-11-18        2020-11-18                 1   \n",
       "6     254743711983         2020-11-18        2020-11-18                26   \n",
       "7     254799432709         2020-11-18        2020-11-18                12   \n",
       "8     254704275042         2020-11-17        2020-11-17                 3   \n",
       "9     254795308211         2020-11-17        2020-11-20               373   \n",
       "10    254795545431         2020-11-17        2020-11-24               204   \n",
       "11    254702327504         2020-11-16        2020-11-17                32   \n",
       "12    254703549175         2020-11-16        2020-11-16                 4   \n",
       "13    254720599312         2020-11-16        2020-11-16                 3   \n",
       "14    254758597667         2020-11-16        2020-11-16               106   \n",
       "...            ...                ...               ...               ...   \n",
       "5154  254799633731         2020-07-22        2020-11-14               460   \n",
       "5155  254799639485         2020-07-22        2020-11-15               417   \n",
       "5156  254799659651         2020-07-22        2020-08-20               194   \n",
       "5157  254799661102         2020-07-22        2020-08-10               129   \n",
       "5158  254799736546         2020-07-22        2020-11-16              1234   \n",
       "5159  254799769016         2020-07-22        2020-11-23               242   \n",
       "5160  254799784017         2020-07-22        2020-11-22               110   \n",
       "5161  254799789615         2020-07-22        2020-08-15               414   \n",
       "5162  254799794088         2020-07-22        2020-11-16               373   \n",
       "5163  254799805494         2020-07-22        2020-07-26               448   \n",
       "5164  254799908967         2020-07-22        2020-10-06              1103   \n",
       "5165  254799948577         2020-07-22        2020-11-13                 6   \n",
       "5166  254799958850         2020-07-22        2020-11-14                61   \n",
       "5167  254799963155         2020-07-22        2020-11-10               374   \n",
       "5168  254799974696         2020-07-22        2020-10-04                26   \n",
       "\n",
       "     partner_name project_name  program_id  \\\n",
       "0      World Bank       WB-BDS        1111   \n",
       "1      World Bank       WB-BDS        1111   \n",
       "2      World Bank       WB-BDS        1111   \n",
       "3      World Bank       WB-BDS        1111   \n",
       "4      World Bank       WB-BDS        1111   \n",
       "5      World Bank       WB-BDS        1111   \n",
       "6      World Bank       WB-BDS        1111   \n",
       "7      World Bank       WB-BDS        1111   \n",
       "8      World Bank       WB-BDS        1111   \n",
       "9      World Bank       WB-BDS        1111   \n",
       "10     World Bank       WB-BDS        1111   \n",
       "11     World Bank       WB-BDS        1111   \n",
       "12     World Bank       WB-BDS        1111   \n",
       "13     World Bank       WB-BDS        1111   \n",
       "14     World Bank       WB-BDS        1111   \n",
       "...           ...          ...         ...   \n",
       "5154   World Bank       WB-BDS        1111   \n",
       "5155   World Bank       WB-BDS        1111   \n",
       "5156   World Bank       WB-BDS        1111   \n",
       "5157   World Bank       WB-BDS        1111   \n",
       "5158   World Bank       WB-BDS        1111   \n",
       "5159   World Bank       WB-BDS        1111   \n",
       "5160   World Bank       WB-BDS        1111   \n",
       "5161   World Bank       WB-BDS        1111   \n",
       "5162   World Bank       WB-BDS        1111   \n",
       "5163   World Bank       WB-BDS        1111   \n",
       "5164   World Bank       WB-BDS        1111   \n",
       "5165   World Bank       WB-BDS        1111   \n",
       "5166   World Bank       WB-BDS        1111   \n",
       "5167   World Bank       WB-BDS        1111   \n",
       "5168   World Bank       WB-BDS        1111   \n",
       "\n",
       "                              program_name  variation_id  \\\n",
       "0     WB -BDS Language selection - English          1242   \n",
       "1     WB -BDS Language selection - English          1242   \n",
       "2     WB -BDS Language selection - English          1242   \n",
       "3     WB -BDS Language selection - English          1242   \n",
       "4     WB -BDS Language selection - English          1242   \n",
       "5     WB -BDS Language selection - English          1242   \n",
       "6     WB -BDS Language selection - English          1242   \n",
       "7     WB -BDS Language selection - English          1242   \n",
       "8     WB -BDS Language selection - English          1242   \n",
       "9     WB -BDS Language selection - English          1242   \n",
       "10    WB -BDS Language selection - English          1242   \n",
       "11    WB -BDS Language selection - English          1242   \n",
       "12    WB -BDS Language selection - English          1242   \n",
       "13    WB -BDS Language selection - English          1242   \n",
       "14    WB -BDS Language selection - English          1242   \n",
       "...                                    ...           ...   \n",
       "5154  WB -BDS Language selection - English          1242   \n",
       "5155  WB -BDS Language selection - English          1242   \n",
       "5156  WB -BDS Language selection - English          1242   \n",
       "5157  WB -BDS Language selection - English          1242   \n",
       "5158  WB -BDS Language selection - English          1242   \n",
       "5159  WB -BDS Language selection - English          1242   \n",
       "5160  WB -BDS Language selection - English          1242   \n",
       "5161  WB -BDS Language selection - English          1242   \n",
       "5162  WB -BDS Language selection - English          1242   \n",
       "5163  WB -BDS Language selection - English          1242   \n",
       "5164  WB -BDS Language selection - English          1242   \n",
       "5165  WB -BDS Language selection - English          1242   \n",
       "5166  WB -BDS Language selection - English          1242   \n",
       "5167  WB -BDS Language selection - English          1242   \n",
       "5168  WB -BDS Language selection - English          1242   \n",
       "\n",
       "                            variation_name  package_id  message_type sender  \\\n",
       "0     WB -BDS Language selection - English       10646             1  33300   \n",
       "1     WB -BDS Language selection - English       10646             1  33300   \n",
       "2     WB -BDS Language selection - English       10646             1  33300   \n",
       "3     WB -BDS Language selection - English       10646             1  33300   \n",
       "4     WB -BDS Language selection - English       10646             1  33300   \n",
       "5     WB -BDS Language selection - English       10646             1  33300   \n",
       "6     WB -BDS Language selection - English       10646             1  33300   \n",
       "7     WB -BDS Language selection - English       10646             1  33300   \n",
       "8     WB -BDS Language selection - English       10646             1  33300   \n",
       "9     WB -BDS Language selection - English       10646             1  33300   \n",
       "10    WB -BDS Language selection - English       10646             1  33300   \n",
       "11    WB -BDS Language selection - English       10646             1  33300   \n",
       "12    WB -BDS Language selection - English       10646             1  33300   \n",
       "13    WB -BDS Language selection - English       10646             1  33300   \n",
       "14    WB -BDS Language selection - English       10646             1  33300   \n",
       "...                                    ...         ...           ...    ...   \n",
       "5154  WB -BDS Language selection - English       10646             1  33300   \n",
       "5155  WB -BDS Language selection - English       10646             1  33300   \n",
       "5156  WB -BDS Language selection - English       10646             1  33300   \n",
       "5157  WB -BDS Language selection - English       10646             1  33300   \n",
       "5158  WB -BDS Language selection - English       10646             1  33300   \n",
       "5159  WB -BDS Language selection - English       10646             1  33300   \n",
       "5160  WB -BDS Language selection - English       10646             1  33300   \n",
       "5161  WB -BDS Language selection - English       10646             1  33300   \n",
       "5162  WB -BDS Language selection - English       10646             1  33300   \n",
       "5163  WB -BDS Language selection - English       10646             1  33300   \n",
       "5164  WB -BDS Language selection - English       10646             1  33300   \n",
       "5165  WB -BDS Language selection - English       10646             1  33300   \n",
       "5166  WB -BDS Language selection - English       10646             1  33300   \n",
       "5167  WB -BDS Language selection - English       10646             1  33300   \n",
       "5168  WB -BDS Language selection - English       10646             1  33300   \n",
       "\n",
       "         county  gender  int_bands cluster  \n",
       "0        Kiambu  Female  100 - 199      C3  \n",
       "1        Nakuru  Female      < 100      C1  \n",
       "2        Kiambu    Male  100 - 199      C3  \n",
       "3        Migori  Female  300 - 399      C2  \n",
       "4       Nairobi    Male      < 100      C1  \n",
       "5       Nairobi  Female      < 100      C1  \n",
       "6         Kitui    Male      < 100      C3  \n",
       "7       Nairobi  Female      < 100      C1  \n",
       "8       Nairobi  Female      < 100      C1  \n",
       "9        Nakuru  Female  300 - 399      C1  \n",
       "10      Turkana  Female  200 - 299      C2  \n",
       "11       Migori    Male      < 100      C2  \n",
       "12    Nyandarua  Female      < 100      C3  \n",
       "13       Migori    Male      < 100      C2  \n",
       "14       Migori  Female  100 - 199      C2  \n",
       "...         ...     ...        ...     ...  \n",
       "5154     Migori  Female  400 - 499      C2  \n",
       "5155    Mombasa    Male  400 - 499      C1  \n",
       "5156     Kisumu    Male  100 - 199      C1  \n",
       "5157     Kisumu  Female  100 - 199      C1  \n",
       "5158   Kakamega  Female      > 500      C2  \n",
       "5159  Nyandarua  Female  200 - 299      C3  \n",
       "5160     Kiambu    Male  100 - 199      C3  \n",
       "5161     Migori    Male  400 - 499      C2  \n",
       "5162      Kitui    Male  300 - 399      C3  \n",
       "5163   Machakos  Female  400 - 499      C3  \n",
       "5164     Migori    Male      > 500      C2  \n",
       "5165  Nyandarua  Female      < 100      C3  \n",
       "5166     Nakuru    Male      < 100      C1  \n",
       "5167     Nakuru  Female  300 - 399      C1  \n",
       "5168     Kiambu    Male      < 100      C3  \n",
       "\n",
       "[5169 rows x 17 columns]"
      ],
      "text/html": "<div>\n<style scoped>\n    .dataframe tbody tr th:only-of-type {\n        vertical-align: middle;\n    }\n\n    .dataframe tbody tr th {\n        vertical-align: top;\n    }\n\n    .dataframe thead th {\n        text-align: right;\n    }\n</style>\n<table border=\"1\" class=\"dataframe\">\n  <thead>\n    <tr style=\"text-align: right;\">\n      <th></th>\n      <th>phone_number</th>\n      <th>first_day_accessed</th>\n      <th>last_day_accessed</th>\n      <th>num_interactions</th>\n      <th>partner_name</th>\n      <th>project_name</th>\n      <th>program_id</th>\n      <th>program_name</th>\n      <th>variation_id</th>\n      <th>variation_name</th>\n      <th>package_id</th>\n      <th>message_type</th>\n      <th>sender</th>\n      <th>county</th>\n      <th>gender</th>\n      <th>int_bands</th>\n      <th>cluster</th>\n    </tr>\n  </thead>\n  <tbody>\n    <tr>\n      <th>0</th>\n      <td>254791229014</td>\n      <td>2020-11-21</td>\n      <td>2020-11-23</td>\n      <td>132</td>\n      <td>World Bank</td>\n      <td>WB-BDS</td>\n      <td>1111</td>\n      <td>WB -BDS Language selection - English</td>\n      <td>1242</td>\n      <td>WB -BDS Language selection - English</td>\n      <td>10646</td>\n      <td>1</td>\n      <td>33300</td>\n      <td>Kiambu</td>\n      <td>Female</td>\n      <td>100 - 199</td>\n      <td>C3</td>\n    </tr>\n    <tr>\n      <th>1</th>\n      <td>254743452507</td>\n      <td>2020-11-20</td>\n      <td>2020-11-20</td>\n      <td>23</td>\n      <td>World Bank</td>\n      <td>WB-BDS</td>\n      <td>1111</td>\n      <td>WB -BDS Language selection - English</td>\n      <td>1242</td>\n      <td>WB -BDS Language selection - English</td>\n      <td>10646</td>\n      <td>1</td>\n      <td>33300</td>\n      <td>Nakuru</td>\n      <td>Female</td>\n      <td>&lt; 100</td>\n      <td>C1</td>\n    </tr>\n    <tr>\n      <th>2</th>\n      <td>254708644243</td>\n      <td>2020-11-19</td>\n      <td>2020-11-22</td>\n      <td>142</td>\n      <td>World Bank</td>\n      <td>WB-BDS</td>\n      <td>1111</td>\n      <td>WB -BDS Language selection - English</td>\n      <td>1242</td>\n      <td>WB -BDS Language selection - English</td>\n      <td>10646</td>\n      <td>1</td>\n      <td>33300</td>\n      <td>Kiambu</td>\n      <td>Male</td>\n      <td>100 - 199</td>\n      <td>C3</td>\n    </tr>\n    <tr>\n      <th>3</th>\n      <td>254718805285</td>\n      <td>2020-11-19</td>\n      <td>2020-11-23</td>\n      <td>362</td>\n      <td>World Bank</td>\n      <td>WB-BDS</td>\n      <td>1111</td>\n      <td>WB -BDS Language selection - English</td>\n      <td>1242</td>\n      <td>WB -BDS Language selection - English</td>\n      <td>10646</td>\n      <td>1</td>\n      <td>33300</td>\n      <td>Migori</td>\n      <td>Female</td>\n      <td>300 - 399</td>\n      <td>C2</td>\n    </tr>\n    <tr>\n      <th>4</th>\n      <td>254791862950</td>\n      <td>2020-11-19</td>\n      <td>2020-11-19</td>\n      <td>85</td>\n      <td>World Bank</td>\n      <td>WB-BDS</td>\n      <td>1111</td>\n      <td>WB -BDS Language selection - English</td>\n      <td>1242</td>\n      <td>WB -BDS Language selection - English</td>\n      <td>10646</td>\n      <td>1</td>\n      <td>33300</td>\n      <td>Nairobi</td>\n      <td>Male</td>\n      <td>&lt; 100</td>\n      <td>C1</td>\n    </tr>\n    <tr>\n      <th>5</th>\n      <td>254728263704</td>\n      <td>2020-11-18</td>\n      <td>2020-11-18</td>\n      <td>1</td>\n      <td>World Bank</td>\n      <td>WB-BDS</td>\n      <td>1111</td>\n      <td>WB -BDS Language selection - English</td>\n      <td>1242</td>\n      <td>WB -BDS Language selection - English</td>\n      <td>10646</td>\n      <td>1</td>\n      <td>33300</td>\n      <td>Nairobi</td>\n      <td>Female</td>\n      <td>&lt; 100</td>\n      <td>C1</td>\n    </tr>\n    <tr>\n      <th>6</th>\n      <td>254743711983</td>\n      <td>2020-11-18</td>\n      <td>2020-11-18</td>\n      <td>26</td>\n      <td>World Bank</td>\n      <td>WB-BDS</td>\n      <td>1111</td>\n      <td>WB -BDS Language selection - English</td>\n      <td>1242</td>\n      <td>WB -BDS Language selection - English</td>\n      <td>10646</td>\n      <td>1</td>\n      <td>33300</td>\n      <td>Kitui</td>\n      <td>Male</td>\n      <td>&lt; 100</td>\n      <td>C3</td>\n    </tr>\n    <tr>\n      <th>7</th>\n      <td>254799432709</td>\n      <td>2020-11-18</td>\n      <td>2020-11-18</td>\n      <td>12</td>\n      <td>World Bank</td>\n      <td>WB-BDS</td>\n      <td>1111</td>\n      <td>WB -BDS Language selection - English</td>\n      <td>1242</td>\n      <td>WB -BDS Language selection - English</td>\n      <td>10646</td>\n      <td>1</td>\n      <td>33300</td>\n      <td>Nairobi</td>\n      <td>Female</td>\n      <td>&lt; 100</td>\n      <td>C1</td>\n    </tr>\n    <tr>\n      <th>8</th>\n      <td>254704275042</td>\n      <td>2020-11-17</td>\n      <td>2020-11-17</td>\n      <td>3</td>\n      <td>World Bank</td>\n      <td>WB-BDS</td>\n      <td>1111</td>\n      <td>WB -BDS Language selection - English</td>\n      <td>1242</td>\n      <td>WB -BDS Language selection - English</td>\n      <td>10646</td>\n      <td>1</td>\n      <td>33300</td>\n      <td>Nairobi</td>\n      <td>Female</td>\n      <td>&lt; 100</td>\n      <td>C1</td>\n    </tr>\n    <tr>\n      <th>9</th>\n      <td>254795308211</td>\n      <td>2020-11-17</td>\n      <td>2020-11-20</td>\n      <td>373</td>\n      <td>World Bank</td>\n      <td>WB-BDS</td>\n      <td>1111</td>\n      <td>WB -BDS Language selection - English</td>\n      <td>1242</td>\n      <td>WB -BDS Language selection - English</td>\n      <td>10646</td>\n      <td>1</td>\n      <td>33300</td>\n      <td>Nakuru</td>\n      <td>Female</td>\n      <td>300 - 399</td>\n      <td>C1</td>\n    </tr>\n    <tr>\n      <th>10</th>\n      <td>254795545431</td>\n      <td>2020-11-17</td>\n      <td>2020-11-24</td>\n      <td>204</td>\n      <td>World Bank</td>\n      <td>WB-BDS</td>\n      <td>1111</td>\n      <td>WB -BDS Language selection - English</td>\n      <td>1242</td>\n      <td>WB -BDS Language selection - English</td>\n      <td>10646</td>\n      <td>1</td>\n      <td>33300</td>\n      <td>Turkana</td>\n      <td>Female</td>\n      <td>200 - 299</td>\n      <td>C2</td>\n    </tr>\n    <tr>\n      <th>11</th>\n      <td>254702327504</td>\n      <td>2020-11-16</td>\n      <td>2020-11-17</td>\n      <td>32</td>\n      <td>World Bank</td>\n      <td>WB-BDS</td>\n      <td>1111</td>\n      <td>WB -BDS Language selection - English</td>\n      <td>1242</td>\n      <td>WB -BDS Language selection - English</td>\n      <td>10646</td>\n      <td>1</td>\n      <td>33300</td>\n      <td>Migori</td>\n      <td>Male</td>\n      <td>&lt; 100</td>\n      <td>C2</td>\n    </tr>\n    <tr>\n      <th>12</th>\n      <td>254703549175</td>\n      <td>2020-11-16</td>\n      <td>2020-11-16</td>\n      <td>4</td>\n      <td>World Bank</td>\n      <td>WB-BDS</td>\n      <td>1111</td>\n      <td>WB -BDS Language selection - English</td>\n      <td>1242</td>\n      <td>WB -BDS Language selection - English</td>\n      <td>10646</td>\n      <td>1</td>\n      <td>33300</td>\n      <td>Nyandarua</td>\n      <td>Female</td>\n      <td>&lt; 100</td>\n      <td>C3</td>\n    </tr>\n    <tr>\n      <th>13</th>\n      <td>254720599312</td>\n      <td>2020-11-16</td>\n      <td>2020-11-16</td>\n      <td>3</td>\n      <td>World Bank</td>\n      <td>WB-BDS</td>\n      <td>1111</td>\n      <td>WB -BDS Language selection - English</td>\n      <td>1242</td>\n      <td>WB -BDS Language selection - English</td>\n      <td>10646</td>\n      <td>1</td>\n      <td>33300</td>\n      <td>Migori</td>\n      <td>Male</td>\n      <td>&lt; 100</td>\n      <td>C2</td>\n    </tr>\n    <tr>\n      <th>14</th>\n      <td>254758597667</td>\n      <td>2020-11-16</td>\n      <td>2020-11-16</td>\n      <td>106</td>\n      <td>World Bank</td>\n      <td>WB-BDS</td>\n      <td>1111</td>\n      <td>WB -BDS Language selection - English</td>\n      <td>1242</td>\n      <td>WB -BDS Language selection - English</td>\n      <td>10646</td>\n      <td>1</td>\n      <td>33300</td>\n      <td>Migori</td>\n      <td>Female</td>\n      <td>100 - 199</td>\n      <td>C2</td>\n    </tr>\n    <tr>\n      <th>...</th>\n      <td>...</td>\n      <td>...</td>\n      <td>...</td>\n      <td>...</td>\n      <td>...</td>\n      <td>...</td>\n      <td>...</td>\n      <td>...</td>\n      <td>...</td>\n      <td>...</td>\n      <td>...</td>\n      <td>...</td>\n      <td>...</td>\n      <td>...</td>\n      <td>...</td>\n      <td>...</td>\n      <td>...</td>\n    </tr>\n    <tr>\n      <th>5154</th>\n      <td>254799633731</td>\n      <td>2020-07-22</td>\n      <td>2020-11-14</td>\n      <td>460</td>\n      <td>World Bank</td>\n      <td>WB-BDS</td>\n      <td>1111</td>\n      <td>WB -BDS Language selection - English</td>\n      <td>1242</td>\n      <td>WB -BDS Language selection - English</td>\n      <td>10646</td>\n      <td>1</td>\n      <td>33300</td>\n      <td>Migori</td>\n      <td>Female</td>\n      <td>400 - 499</td>\n      <td>C2</td>\n    </tr>\n    <tr>\n      <th>5155</th>\n      <td>254799639485</td>\n      <td>2020-07-22</td>\n      <td>2020-11-15</td>\n      <td>417</td>\n      <td>World Bank</td>\n      <td>WB-BDS</td>\n      <td>1111</td>\n      <td>WB -BDS Language selection - English</td>\n      <td>1242</td>\n      <td>WB -BDS Language selection - English</td>\n      <td>10646</td>\n      <td>1</td>\n      <td>33300</td>\n      <td>Mombasa</td>\n      <td>Male</td>\n      <td>400 - 499</td>\n      <td>C1</td>\n    </tr>\n    <tr>\n      <th>5156</th>\n      <td>254799659651</td>\n      <td>2020-07-22</td>\n      <td>2020-08-20</td>\n      <td>194</td>\n      <td>World Bank</td>\n      <td>WB-BDS</td>\n      <td>1111</td>\n      <td>WB -BDS Language selection - English</td>\n      <td>1242</td>\n      <td>WB -BDS Language selection - English</td>\n      <td>10646</td>\n      <td>1</td>\n      <td>33300</td>\n      <td>Kisumu</td>\n      <td>Male</td>\n      <td>100 - 199</td>\n      <td>C1</td>\n    </tr>\n    <tr>\n      <th>5157</th>\n      <td>254799661102</td>\n      <td>2020-07-22</td>\n      <td>2020-08-10</td>\n      <td>129</td>\n      <td>World Bank</td>\n      <td>WB-BDS</td>\n      <td>1111</td>\n      <td>WB -BDS Language selection - English</td>\n      <td>1242</td>\n      <td>WB -BDS Language selection - English</td>\n      <td>10646</td>\n      <td>1</td>\n      <td>33300</td>\n      <td>Kisumu</td>\n      <td>Female</td>\n      <td>100 - 199</td>\n      <td>C1</td>\n    </tr>\n    <tr>\n      <th>5158</th>\n      <td>254799736546</td>\n      <td>2020-07-22</td>\n      <td>2020-11-16</td>\n      <td>1234</td>\n      <td>World Bank</td>\n      <td>WB-BDS</td>\n      <td>1111</td>\n      <td>WB -BDS Language selection - English</td>\n      <td>1242</td>\n      <td>WB -BDS Language selection - English</td>\n      <td>10646</td>\n      <td>1</td>\n      <td>33300</td>\n      <td>Kakamega</td>\n      <td>Female</td>\n      <td>&gt; 500</td>\n      <td>C2</td>\n    </tr>\n    <tr>\n      <th>5159</th>\n      <td>254799769016</td>\n      <td>2020-07-22</td>\n      <td>2020-11-23</td>\n      <td>242</td>\n      <td>World Bank</td>\n      <td>WB-BDS</td>\n      <td>1111</td>\n      <td>WB -BDS Language selection - English</td>\n      <td>1242</td>\n      <td>WB -BDS Language selection - English</td>\n      <td>10646</td>\n      <td>1</td>\n      <td>33300</td>\n      <td>Nyandarua</td>\n      <td>Female</td>\n      <td>200 - 299</td>\n      <td>C3</td>\n    </tr>\n    <tr>\n      <th>5160</th>\n      <td>254799784017</td>\n      <td>2020-07-22</td>\n      <td>2020-11-22</td>\n      <td>110</td>\n      <td>World Bank</td>\n      <td>WB-BDS</td>\n      <td>1111</td>\n      <td>WB -BDS Language selection - English</td>\n      <td>1242</td>\n      <td>WB -BDS Language selection - English</td>\n      <td>10646</td>\n      <td>1</td>\n      <td>33300</td>\n      <td>Kiambu</td>\n      <td>Male</td>\n      <td>100 - 199</td>\n      <td>C3</td>\n    </tr>\n    <tr>\n      <th>5161</th>\n      <td>254799789615</td>\n      <td>2020-07-22</td>\n      <td>2020-08-15</td>\n      <td>414</td>\n      <td>World Bank</td>\n      <td>WB-BDS</td>\n      <td>1111</td>\n      <td>WB -BDS Language selection - English</td>\n      <td>1242</td>\n      <td>WB -BDS Language selection - English</td>\n      <td>10646</td>\n      <td>1</td>\n      <td>33300</td>\n      <td>Migori</td>\n      <td>Male</td>\n      <td>400 - 499</td>\n      <td>C2</td>\n    </tr>\n    <tr>\n      <th>5162</th>\n      <td>254799794088</td>\n      <td>2020-07-22</td>\n      <td>2020-11-16</td>\n      <td>373</td>\n      <td>World Bank</td>\n      <td>WB-BDS</td>\n      <td>1111</td>\n      <td>WB -BDS Language selection - English</td>\n      <td>1242</td>\n      <td>WB -BDS Language selection - English</td>\n      <td>10646</td>\n      <td>1</td>\n      <td>33300</td>\n      <td>Kitui</td>\n      <td>Male</td>\n      <td>300 - 399</td>\n      <td>C3</td>\n    </tr>\n    <tr>\n      <th>5163</th>\n      <td>254799805494</td>\n      <td>2020-07-22</td>\n      <td>2020-07-26</td>\n      <td>448</td>\n      <td>World Bank</td>\n      <td>WB-BDS</td>\n      <td>1111</td>\n      <td>WB -BDS Language selection - English</td>\n      <td>1242</td>\n      <td>WB -BDS Language selection - English</td>\n      <td>10646</td>\n      <td>1</td>\n      <td>33300</td>\n      <td>Machakos</td>\n      <td>Female</td>\n      <td>400 - 499</td>\n      <td>C3</td>\n    </tr>\n    <tr>\n      <th>5164</th>\n      <td>254799908967</td>\n      <td>2020-07-22</td>\n      <td>2020-10-06</td>\n      <td>1103</td>\n      <td>World Bank</td>\n      <td>WB-BDS</td>\n      <td>1111</td>\n      <td>WB -BDS Language selection - English</td>\n      <td>1242</td>\n      <td>WB -BDS Language selection - English</td>\n      <td>10646</td>\n      <td>1</td>\n      <td>33300</td>\n      <td>Migori</td>\n      <td>Male</td>\n      <td>&gt; 500</td>\n      <td>C2</td>\n    </tr>\n    <tr>\n      <th>5165</th>\n      <td>254799948577</td>\n      <td>2020-07-22</td>\n      <td>2020-11-13</td>\n      <td>6</td>\n      <td>World Bank</td>\n      <td>WB-BDS</td>\n      <td>1111</td>\n      <td>WB -BDS Language selection - English</td>\n      <td>1242</td>\n      <td>WB -BDS Language selection - English</td>\n      <td>10646</td>\n      <td>1</td>\n      <td>33300</td>\n      <td>Nyandarua</td>\n      <td>Female</td>\n      <td>&lt; 100</td>\n      <td>C3</td>\n    </tr>\n    <tr>\n      <th>5166</th>\n      <td>254799958850</td>\n      <td>2020-07-22</td>\n      <td>2020-11-14</td>\n      <td>61</td>\n      <td>World Bank</td>\n      <td>WB-BDS</td>\n      <td>1111</td>\n      <td>WB -BDS Language selection - English</td>\n      <td>1242</td>\n      <td>WB -BDS Language selection - English</td>\n      <td>10646</td>\n      <td>1</td>\n      <td>33300</td>\n      <td>Nakuru</td>\n      <td>Male</td>\n      <td>&lt; 100</td>\n      <td>C1</td>\n    </tr>\n    <tr>\n      <th>5167</th>\n      <td>254799963155</td>\n      <td>2020-07-22</td>\n      <td>2020-11-10</td>\n      <td>374</td>\n      <td>World Bank</td>\n      <td>WB-BDS</td>\n      <td>1111</td>\n      <td>WB -BDS Language selection - English</td>\n      <td>1242</td>\n      <td>WB -BDS Language selection - English</td>\n      <td>10646</td>\n      <td>1</td>\n      <td>33300</td>\n      <td>Nakuru</td>\n      <td>Female</td>\n      <td>300 - 399</td>\n      <td>C1</td>\n    </tr>\n    <tr>\n      <th>5168</th>\n      <td>254799974696</td>\n      <td>2020-07-22</td>\n      <td>2020-10-04</td>\n      <td>26</td>\n      <td>World Bank</td>\n      <td>WB-BDS</td>\n      <td>1111</td>\n      <td>WB -BDS Language selection - English</td>\n      <td>1242</td>\n      <td>WB -BDS Language selection - English</td>\n      <td>10646</td>\n      <td>1</td>\n      <td>33300</td>\n      <td>Kiambu</td>\n      <td>Male</td>\n      <td>&lt; 100</td>\n      <td>C3</td>\n    </tr>\n  </tbody>\n</table>\n<p>5169 rows × 17 columns</p>\n</div>"
     },
     "metadata": {},
     "execution_count": 13
    }
   ],
   "source": [
    "# merging to have a dataset with interactions and county and gender\n",
    "wbd_interactions = pd.merge(learner_analytics,wb_data2, left_on='phone_number',right_on='phone',how='left')\n",
    "wbd_interactions_CG = wbd_interactions[['phone_number', 'first_day_accessed','last_day_accessed', 'num_interactions', 'partner_name', 'project_name','program_id', 'program_name', 'variation_id', 'variation_name','package_id', 'message_type', 'sender','county', 'gender']]\n",
    "#Adding the interactions bands to wbd_interaction_CG table\n",
    "bins = [0,100,200,300,400,500,10000]\n",
    "labels = ['< 100', '100 - 199', '200 - 299', '300 - 399', '400 - 499', ' > 500']\n",
    "wbd_interactions_CG['int_bands'] = pd.cut(x = wbd_interactions_CG['num_interactions'],bins = bins,labels=labels)\n",
    "#Adding clusters\n",
    "wbd_interactions_CG['cluster'] = wbd_interactions_CG['county'].map(dict_cluster)\n",
    "# Display\n",
    "wbd_interactions_CG"
   ]
  },
  {
   "source": [
    "## Merging day,time and county, gender and cluster"
   ],
   "cell_type": "markdown",
   "metadata": {}
  },
  {
   "cell_type": "code",
   "execution_count": 15,
   "metadata": {},
   "outputs": [
    {
     "output_type": "stream",
     "name": "stdout",
     "text": [
      "<class 'pandas.core.frame.DataFrame'>\nInt64Index: 5169 entries, 0 to 5168\nData columns (total 11 columns):\n #   Column           Non-Null Count  Dtype  \n---  ------           --------------  -----  \n 0   learner_id       5169 non-null   int64  \n 1   phone_number     5169 non-null   int64  \n 2   days_accessed    5169 non-null   int64  \n 3   months_accessed  5169 non-null   int64  \n 4   mode_day         5169 non-null   object \n 5   mode_hour        5169 non-null   int64  \n 6   time_interval    5169 non-null   object \n 7   county           5139 non-null   object \n 8   gender           5139 non-null   object \n 9   phone            5139 non-null   float64\n 10  cluster          5139 non-null   object \ndtypes: float64(1), int64(5), object(5)\nmemory usage: 484.6+ KB\n"
     ]
    }
   ],
   "source": [
    "# merging dataset to have day and time with county\n",
    "wbd_behavioral = pd.merge(behavioral_analytics,wb_data2, left_on='phone_number',right_on='phone',how='left')\n",
    "#Adding clusters\n",
    "wbd_behavioral['cluster'] = wbd_behavioral['county'].map(dict_cluster)\n",
    "wbd_behavioral.info()"
   ]
  },
  {
   "source": [
    "## Merging invites with County and Gender"
   ],
   "cell_type": "markdown",
   "metadata": {}
  },
  {
   "cell_type": "code",
   "execution_count": 16,
   "metadata": {},
   "outputs": [
    {
     "output_type": "stream",
     "name": "stdout",
     "text": [
      "<class 'pandas.core.frame.DataFrame'>\nInt64Index: 6492 entries, 0 to 6491\nData columns (total 5 columns):\n #   Column         Non-Null Count  Dtype  \n---  ------         --------------  -----  \n 0   Phone_Numbers  6492 non-null   int64  \n 1   county         6458 non-null   object \n 2   gender         6458 non-null   object \n 3   phone          6458 non-null   float64\n 4   cluster        6458 non-null   object \ndtypes: float64(1), int64(1), object(3)\nmemory usage: 304.3+ KB\n"
     ]
    },
    {
     "output_type": "execute_result",
     "data": {
      "text/plain": [
       "   Phone_Numbers   county  gender         phone cluster\n",
       "0   254716377808  Mombasa  Female  2.547164e+11      C1\n",
       "1   254759653919  Mombasa  Female  2.547597e+11      C1"
      ],
      "text/html": "<div>\n<style scoped>\n    .dataframe tbody tr th:only-of-type {\n        vertical-align: middle;\n    }\n\n    .dataframe tbody tr th {\n        vertical-align: top;\n    }\n\n    .dataframe thead th {\n        text-align: right;\n    }\n</style>\n<table border=\"1\" class=\"dataframe\">\n  <thead>\n    <tr style=\"text-align: right;\">\n      <th></th>\n      <th>Phone_Numbers</th>\n      <th>county</th>\n      <th>gender</th>\n      <th>phone</th>\n      <th>cluster</th>\n    </tr>\n  </thead>\n  <tbody>\n    <tr>\n      <th>0</th>\n      <td>254716377808</td>\n      <td>Mombasa</td>\n      <td>Female</td>\n      <td>2.547164e+11</td>\n      <td>C1</td>\n    </tr>\n    <tr>\n      <th>1</th>\n      <td>254759653919</td>\n      <td>Mombasa</td>\n      <td>Female</td>\n      <td>2.547597e+11</td>\n      <td>C1</td>\n    </tr>\n  </tbody>\n</table>\n</div>"
     },
     "metadata": {},
     "execution_count": 16
    }
   ],
   "source": [
    "wbd_invites = pd.merge(invites,wb_data2,left_on='Phone_Numbers',right_on='phone',how = 'left')\n",
    "wbd_invites['cluster'] = wbd_invites['county'].map(dict_cluster)\n",
    "wbd_invites.info()\n",
    "wbd_invites.head(2)"
   ]
  },
  {
   "source": [
    "## Merging full interactions with County Gender and Cluster"
   ],
   "cell_type": "markdown",
   "metadata": {}
  },
  {
   "cell_type": "code",
   "execution_count": 17,
   "metadata": {},
   "outputs": [
    {
     "output_type": "execute_result",
     "data": {
      "text/plain": [
       "5169"
      ]
     },
     "metadata": {},
     "execution_count": 17
    }
   ],
   "source": [
    "wbd_int_CG = pd.merge(wbd_int,wb_data2, left_on='phone_number',right_on='phone',how='left')\n",
    "#Adding clusters\n",
    "#wbd_int_CG['cluster'] = wbd_int_CG['county'].map(dict_cluster)\n",
    "wbd_int_CG.phone_number.nunique()"
   ]
  },
  {
   "cell_type": "code",
   "execution_count": 135,
   "metadata": {},
   "outputs": [
    {
     "output_type": "execute_result",
     "data": {
      "text/plain": [
       "5139"
      ]
     },
     "metadata": {},
     "execution_count": 135
    }
   ],
   "source": [
    "wbd_int_CG1 = pd.merge(wbd_int,wb_data2, left_on='phone_number',right_on='phone',how='right')\n",
    "#Adding clusters\n",
    "#wbd_int_CG['cluster'] = wbd_int_CG['county'].map(dict_cluster)\n",
    "wbd_int_CG1.phone_number.nunique()"
   ]
  },
  {
   "cell_type": "code",
   "execution_count": 114,
   "metadata": {},
   "outputs": [],
   "source": [
    "## Creating learner level data.\n",
    "wbd_int_learner_level = wbd_int.groupby('phone_number').message_out.count().reset_index()\n",
    "labels = ['< 100', '100 - 199', '200 - 299', '300 - 399', '400 - 499', ' > 500']\n",
    "wbd_int_learner_level['int_bands'] = pd.cut(x = wbd_int_learner_level['message_out'],bins = bins,labels=labels)"
   ]
  },
  {
   "cell_type": "code",
   "execution_count": 115,
   "metadata": {},
   "outputs": [
    {
     "output_type": "execute_result",
     "data": {
      "text/plain": [
       "   phone_number  message_out int_bands\n",
       "0  254700012380            3     < 100\n",
       "1  254700013985          525     > 500"
      ],
      "text/html": "<div>\n<style scoped>\n    .dataframe tbody tr th:only-of-type {\n        vertical-align: middle;\n    }\n\n    .dataframe tbody tr th {\n        vertical-align: top;\n    }\n\n    .dataframe thead th {\n        text-align: right;\n    }\n</style>\n<table border=\"1\" class=\"dataframe\">\n  <thead>\n    <tr style=\"text-align: right;\">\n      <th></th>\n      <th>phone_number</th>\n      <th>message_out</th>\n      <th>int_bands</th>\n    </tr>\n  </thead>\n  <tbody>\n    <tr>\n      <th>0</th>\n      <td>254700012380</td>\n      <td>3</td>\n      <td>&lt; 100</td>\n    </tr>\n    <tr>\n      <th>1</th>\n      <td>254700013985</td>\n      <td>525</td>\n      <td>&gt; 500</td>\n    </tr>\n  </tbody>\n</table>\n</div>"
     },
     "metadata": {},
     "execution_count": 115
    }
   ],
   "source": [
    "wbd_int_learner_level.head(2)"
   ]
  },
  {
   "cell_type": "code",
   "execution_count": 117,
   "metadata": {},
   "outputs": [
    {
     "output_type": "execute_result",
     "data": {
      "text/plain": [
       "   int_bands  phone_number\n",
       "0      < 100          1377\n",
       "1  100 - 199           486\n",
       "2  200 - 299           267\n",
       "3  300 - 399           903\n",
       "4  400 - 499          1114\n",
       "5      > 500          1022"
      ],
      "text/html": "<div>\n<style scoped>\n    .dataframe tbody tr th:only-of-type {\n        vertical-align: middle;\n    }\n\n    .dataframe tbody tr th {\n        vertical-align: top;\n    }\n\n    .dataframe thead th {\n        text-align: right;\n    }\n</style>\n<table border=\"1\" class=\"dataframe\">\n  <thead>\n    <tr style=\"text-align: right;\">\n      <th></th>\n      <th>int_bands</th>\n      <th>phone_number</th>\n    </tr>\n  </thead>\n  <tbody>\n    <tr>\n      <th>0</th>\n      <td>&lt; 100</td>\n      <td>1377</td>\n    </tr>\n    <tr>\n      <th>1</th>\n      <td>100 - 199</td>\n      <td>486</td>\n    </tr>\n    <tr>\n      <th>2</th>\n      <td>200 - 299</td>\n      <td>267</td>\n    </tr>\n    <tr>\n      <th>3</th>\n      <td>300 - 399</td>\n      <td>903</td>\n    </tr>\n    <tr>\n      <th>4</th>\n      <td>400 - 499</td>\n      <td>1114</td>\n    </tr>\n    <tr>\n      <th>5</th>\n      <td>&gt; 500</td>\n      <td>1022</td>\n    </tr>\n  </tbody>\n</table>\n</div>"
     },
     "metadata": {},
     "execution_count": 117
    }
   ],
   "source": [
    "wbd_int_learner_level.groupby('int_bands').phone_number.count().reset_index()"
   ]
  },
  {
   "source": [
    "# CODE NEEDED"
   ],
   "cell_type": "markdown",
   "metadata": {}
  },
  {
   "cell_type": "code",
   "execution_count": 18,
   "metadata": {},
   "outputs": [],
   "source": [
    "# Creating interaction bands\n",
    "#bins = [0,100,200,300,400,500]\n",
    "#labels = ['< 100', '100 - 199', '200 - 299', '300 - 399', '400 - 499', ' > 500']\n",
    "#wbd_int['int_bands'] = pd.cut(x = wbd_int['num_interactions'],bins = bins)"
   ]
  },
  {
   "cell_type": "code",
   "execution_count": 19,
   "metadata": {},
   "outputs": [],
   "source": [
    "#values = {'county': 'N/a', 'gender': 'N/a', 'cluster': 'N/a'}\n",
    "#df_complete.fillna(value=values,inplace = True)"
   ]
  },
  {
   "source": [
    "># Invite Breakdown"
   ],
   "cell_type": "markdown",
   "metadata": {}
  },
  {
   "cell_type": "code",
   "execution_count": 20,
   "metadata": {},
   "outputs": [
    {
     "output_type": "execute_result",
     "data": {
      "text/plain": [
       "     county cluster  Phone_Numbers\n",
       "0   Bungoma      C2            342\n",
       "1  Kakamega      C2            569"
      ],
      "text/html": "<div>\n<style scoped>\n    .dataframe tbody tr th:only-of-type {\n        vertical-align: middle;\n    }\n\n    .dataframe tbody tr th {\n        vertical-align: top;\n    }\n\n    .dataframe thead th {\n        text-align: right;\n    }\n</style>\n<table border=\"1\" class=\"dataframe\">\n  <thead>\n    <tr style=\"text-align: right;\">\n      <th></th>\n      <th>county</th>\n      <th>cluster</th>\n      <th>Phone_Numbers</th>\n    </tr>\n  </thead>\n  <tbody>\n    <tr>\n      <th>0</th>\n      <td>Bungoma</td>\n      <td>C2</td>\n      <td>342</td>\n    </tr>\n    <tr>\n      <th>1</th>\n      <td>Kakamega</td>\n      <td>C2</td>\n      <td>569</td>\n    </tr>\n  </tbody>\n</table>\n</div>"
     },
     "metadata": {},
     "execution_count": 20
    }
   ],
   "source": [
    "wbd_invites.groupby(['county','cluster'])['Phone_Numbers'].nunique().reset_index().head(2)"
   ]
  },
  {
   "cell_type": "code",
   "execution_count": 21,
   "metadata": {},
   "outputs": [
    {
     "output_type": "execute_result",
     "data": {
      "text/plain": [
       "gender     county  Female  Male\n",
       "0         Bungoma     170   172\n",
       "1        Kakamega     282   287\n",
       "2          Kiambu     300   332\n",
       "3          Kilifi     179   220\n",
       "4           Kisii     196   219\n",
       "5          Kisumu     183   181\n",
       "6           Kitui     217   217\n",
       "7           Kwale      87    83\n",
       "8        Machakos     130   131\n",
       "9          Migori     193   219\n",
       "10        Mombasa     160   186\n",
       "11        Nairobi     420   446\n",
       "12         Nakuru     276   305\n",
       "13      Nyandarua     151   159\n",
       "14        Turkana     161   196"
      ],
      "text/html": "<div>\n<style scoped>\n    .dataframe tbody tr th:only-of-type {\n        vertical-align: middle;\n    }\n\n    .dataframe tbody tr th {\n        vertical-align: top;\n    }\n\n    .dataframe thead th {\n        text-align: right;\n    }\n</style>\n<table border=\"1\" class=\"dataframe\">\n  <thead>\n    <tr style=\"text-align: right;\">\n      <th>gender</th>\n      <th>county</th>\n      <th>Female</th>\n      <th>Male</th>\n    </tr>\n  </thead>\n  <tbody>\n    <tr>\n      <th>0</th>\n      <td>Bungoma</td>\n      <td>170</td>\n      <td>172</td>\n    </tr>\n    <tr>\n      <th>1</th>\n      <td>Kakamega</td>\n      <td>282</td>\n      <td>287</td>\n    </tr>\n    <tr>\n      <th>2</th>\n      <td>Kiambu</td>\n      <td>300</td>\n      <td>332</td>\n    </tr>\n    <tr>\n      <th>3</th>\n      <td>Kilifi</td>\n      <td>179</td>\n      <td>220</td>\n    </tr>\n    <tr>\n      <th>4</th>\n      <td>Kisii</td>\n      <td>196</td>\n      <td>219</td>\n    </tr>\n    <tr>\n      <th>5</th>\n      <td>Kisumu</td>\n      <td>183</td>\n      <td>181</td>\n    </tr>\n    <tr>\n      <th>6</th>\n      <td>Kitui</td>\n      <td>217</td>\n      <td>217</td>\n    </tr>\n    <tr>\n      <th>7</th>\n      <td>Kwale</td>\n      <td>87</td>\n      <td>83</td>\n    </tr>\n    <tr>\n      <th>8</th>\n      <td>Machakos</td>\n      <td>130</td>\n      <td>131</td>\n    </tr>\n    <tr>\n      <th>9</th>\n      <td>Migori</td>\n      <td>193</td>\n      <td>219</td>\n    </tr>\n    <tr>\n      <th>10</th>\n      <td>Mombasa</td>\n      <td>160</td>\n      <td>186</td>\n    </tr>\n    <tr>\n      <th>11</th>\n      <td>Nairobi</td>\n      <td>420</td>\n      <td>446</td>\n    </tr>\n    <tr>\n      <th>12</th>\n      <td>Nakuru</td>\n      <td>276</td>\n      <td>305</td>\n    </tr>\n    <tr>\n      <th>13</th>\n      <td>Nyandarua</td>\n      <td>151</td>\n      <td>159</td>\n    </tr>\n    <tr>\n      <th>14</th>\n      <td>Turkana</td>\n      <td>161</td>\n      <td>196</td>\n    </tr>\n  </tbody>\n</table>\n</div>"
     },
     "metadata": {},
     "execution_count": 21
    }
   ],
   "source": [
    "# Percentage gender interactions by clusters\n",
    "wbd_invites.groupby(['county','gender'])['Phone_Numbers'].nunique().unstack().reset_index()"
   ]
  },
  {
   "source": [
    "># SUBSET NON CONVERTERS"
   ],
   "cell_type": "markdown",
   "metadata": {}
  },
  {
   "cell_type": "code",
   "execution_count": 22,
   "metadata": {},
   "outputs": [
    {
     "output_type": "stream",
     "name": "stdout",
     "text": [
      "True     5157\nFalse      12\nName: phone_number, dtype: int64\nTrue     5157\nFalse    1335\nName: Phone_Numbers, dtype: int64\n"
     ]
    }
   ],
   "source": [
    "# checking for non learners\n",
    "print(wbd_behavioral['phone_number'].isin(wbd_invites['Phone_Numbers']).value_counts())\n",
    "print(wbd_invites['Phone_Numbers'].isin(wbd_behavioral['phone_number']).value_counts())"
   ]
  },
  {
   "cell_type": "code",
   "execution_count": 23,
   "metadata": {},
   "outputs": [
    {
     "output_type": "stream",
     "name": "stdout",
     "text": [
      "<class 'pandas.core.frame.DataFrame'>\nInt64Index: 6458 entries, 0 to 6477\nData columns (total 5 columns):\n #   Column         Non-Null Count  Dtype  \n---  ------         --------------  -----  \n 0   Phone_Numbers  6458 non-null   int64  \n 1   county         6458 non-null   object \n 2   gender         6458 non-null   object \n 3   phone          6458 non-null   float64\n 4   cluster        6458 non-null   object \ndtypes: float64(1), int64(1), object(3)\nmemory usage: 302.7+ KB\nNone\n"
     ]
    },
    {
     "output_type": "execute_result",
     "data": {
      "text/plain": [
       "   Phone_Numbers   county  gender         phone cluster\n",
       "0   254716377808  Mombasa  Female  2.547164e+11      C1\n",
       "1   254759653919  Mombasa  Female  2.547597e+11      C1"
      ],
      "text/html": "<div>\n<style scoped>\n    .dataframe tbody tr th:only-of-type {\n        vertical-align: middle;\n    }\n\n    .dataframe tbody tr th {\n        vertical-align: top;\n    }\n\n    .dataframe thead th {\n        text-align: right;\n    }\n</style>\n<table border=\"1\" class=\"dataframe\">\n  <thead>\n    <tr style=\"text-align: right;\">\n      <th></th>\n      <th>Phone_Numbers</th>\n      <th>county</th>\n      <th>gender</th>\n      <th>phone</th>\n      <th>cluster</th>\n    </tr>\n  </thead>\n  <tbody>\n    <tr>\n      <th>0</th>\n      <td>254716377808</td>\n      <td>Mombasa</td>\n      <td>Female</td>\n      <td>2.547164e+11</td>\n      <td>C1</td>\n    </tr>\n    <tr>\n      <th>1</th>\n      <td>254759653919</td>\n      <td>Mombasa</td>\n      <td>Female</td>\n      <td>2.547597e+11</td>\n      <td>C1</td>\n    </tr>\n  </tbody>\n</table>\n</div>"
     },
     "metadata": {},
     "execution_count": 23
    }
   ],
   "source": [
    "# checking for non learners with demographics data\n",
    "invites_cg = wbd_invites[wbd_invites['gender'].notnull()]\n",
    "print(invites_cg.info())\n",
    "#invites_cg = invites_cg[['Phone_Numbers']]\n",
    "invites_cg.head(2)"
   ]
  },
  {
   "cell_type": "code",
   "execution_count": 24,
   "metadata": {},
   "outputs": [
    {
     "output_type": "stream",
     "name": "stdout",
     "text": [
      "<class 'pandas.core.frame.DataFrame'>\nInt64Index: 5139 entries, 0 to 5168\nData columns (total 2 columns):\n #   Column            Non-Null Count  Dtype\n---  ------            --------------  -----\n 0   phone_number      5139 non-null   int64\n 1   num_interactions  5139 non-null   int64\ndtypes: int64(2)\nmemory usage: 120.4 KB\nNone\n"
     ]
    },
    {
     "output_type": "execute_result",
     "data": {
      "text/plain": [
       "   phone_number  num_interactions\n",
       "0  254791229014               132\n",
       "1  254743452507                23"
      ],
      "text/html": "<div>\n<style scoped>\n    .dataframe tbody tr th:only-of-type {\n        vertical-align: middle;\n    }\n\n    .dataframe tbody tr th {\n        vertical-align: top;\n    }\n\n    .dataframe thead th {\n        text-align: right;\n    }\n</style>\n<table border=\"1\" class=\"dataframe\">\n  <thead>\n    <tr style=\"text-align: right;\">\n      <th></th>\n      <th>phone_number</th>\n      <th>num_interactions</th>\n    </tr>\n  </thead>\n  <tbody>\n    <tr>\n      <th>0</th>\n      <td>254791229014</td>\n      <td>132</td>\n    </tr>\n    <tr>\n      <th>1</th>\n      <td>254743452507</td>\n      <td>23</td>\n    </tr>\n  </tbody>\n</table>\n</div>"
     },
     "metadata": {},
     "execution_count": 24
    }
   ],
   "source": [
    "learners_cg = wbd_interactions_CG[wbd_interactions_CG['gender'].notnull()]\n",
    "learners_cg = learners_cg[['phone_number','num_interactions']]\n",
    "print(learners_cg.info())\n",
    "learners_cg.head(2)"
   ]
  },
  {
   "cell_type": "code",
   "execution_count": 25,
   "metadata": {},
   "outputs": [],
   "source": [
    "# Merging the dataset to get the non learners with demo\n",
    "non_learners_cg = pd.merge(invites_cg,learners_cg,left_on='Phone_Numbers',right_on='phone_number',how='left')\n",
    "non_learners_cg2 = non_learners_cg[non_learners_cg['num_interactions'].isnull()]"
   ]
  },
  {
   "cell_type": "code",
   "execution_count": 26,
   "metadata": {},
   "outputs": [
    {
     "output_type": "execute_result",
     "data": {
      "text/plain": [
       "gender\n",
       "Female    657\n",
       "Male      662\n",
       "Name: Phone_Numbers, dtype: int64"
      ]
     },
     "metadata": {},
     "execution_count": 26
    }
   ],
   "source": [
    "non_learners_cg2.groupby('gender')['Phone_Numbers'].nunique()"
   ]
  },
  {
   "cell_type": "code",
   "execution_count": 27,
   "metadata": {},
   "outputs": [
    {
     "output_type": "execute_result",
     "data": {
      "text/plain": [
       "cluster\n",
       "C1    521\n",
       "C2    371\n",
       "C3    427\n",
       "Name: Phone_Numbers, dtype: int64"
      ]
     },
     "metadata": {},
     "execution_count": 27
    }
   ],
   "source": [
    "non_learners_cg2.groupby('cluster')['Phone_Numbers'].nunique()"
   ]
  },
  {
   "source": [
    "># Language Preference"
   ],
   "cell_type": "markdown",
   "metadata": {}
  },
  {
   "cell_type": "code",
   "execution_count": 29,
   "metadata": {},
   "outputs": [],
   "source": [
    "wbd_int_lang = wbd_int[wbd_int.program_code == 'BDS']\n",
    "#wbd_int_lang.groupby(['user_response']).phone_number.nunique().to_csv()"
   ]
  },
  {
   "cell_type": "code",
   "execution_count": 133,
   "metadata": {},
   "outputs": [
    {
     "output_type": "execute_result",
     "data": {
      "text/plain": [
       "['BDSACK',\n",
       " 'BDSFBK',\n",
       " 'BDSRGK',\n",
       " 'BDSBRK',\n",
       " 'BDSMIK',\n",
       " 'BDSOQK',\n",
       " 'BDSFNK',\n",
       " 'BDSAPK',\n",
       " 'BDSPMK',\n",
       " 'BDSDMK',\n",
       " 'BDSCCK',\n",
       " 'BDSCPK',\n",
       " 'BDSMSK',\n",
       " 'BDSBIK',\n",
       " 'BDSBMK',\n",
       " 'BDSENK']"
      ]
     },
     "metadata": {},
     "execution_count": 133
    }
   ],
   "source": [
    "codes = pd.DataFrame(list_code,columns = ['code'])\n",
    "codes['Kisw'] = codes.code.apply(lambda x : True if 'K' in x else False)\n",
    "codes.head(2)\n",
    "\n",
    "kisw_codes = codes[codes.Kisw == True]\n",
    "all_kisw_codes = list(kisw_codes['code'])\n",
    "eng_codes = codes[codes.Kisw == False]\n",
    "all_eng_codes = list(eng_codes['code'])\n",
    "all_kisw_codes"
   ]
  },
  {
   "cell_type": "code",
   "execution_count": 31,
   "metadata": {},
   "outputs": [
    {
     "output_type": "execute_result",
     "data": {
      "text/plain": [
       "      Unnamed: 0  learner_id  phone_number  partner_id partner_name  \\\n",
       "1562        1563     1492512  254700068751          82   World Bank   \n",
       "1563        1564     1492512  254700068751          82   World Bank   \n",
       "\n",
       "     project_name  program_id program_code                   program_name  \\\n",
       "1562       WB-BDS        1566       BDSACK  Kupitia Mpango wa Utekelezaji   \n",
       "1563       WB-BDS        1566       BDSACK  Kupitia Mpango wa Utekelezaji   \n",
       "\n",
       "      variation_id variation_code                 variation_name  package_id  \\\n",
       "1562          1697         BDSACK  Kupitia Mpango wa Utekelezaji       11558   \n",
       "1563          1697         BDSACK  Kupitia Mpango wa Utekelezaji       11557   \n",
       "\n",
       "      message_type  object_id                              message_out  \\\n",
       "1562             1     102860  Asante kwa maoni yako! Sasa, jibu 2 ...   \n",
       "1563             1     102859  Ni nini tena ulitaka kujifunza katik...   \n",
       "\n",
       "                                   message_in sender  outbox_id  \\\n",
       "1562  Kwa Sasa nimeridhika na mafunzo haya...  33300   35531118   \n",
       "1563                                        1  33300   35530960   \n",
       "\n",
       "               created_at  inbox_id                            user_response  \\\n",
       "1562  2020-11-20 18:49:48  35728717                                        2   \n",
       "1563  2020-11-20 18:47:54  35728551  Kwa Sasa nimeridhika na mafunzo haya...   \n",
       "\n",
       "      digits county gender         phone  \n",
       "1562      12  Kitui   Male  2.547001e+11  \n",
       "1563      12  Kitui   Male  2.547001e+11  "
      ],
      "text/html": "<div>\n<style scoped>\n    .dataframe tbody tr th:only-of-type {\n        vertical-align: middle;\n    }\n\n    .dataframe tbody tr th {\n        vertical-align: top;\n    }\n\n    .dataframe thead th {\n        text-align: right;\n    }\n</style>\n<table border=\"1\" class=\"dataframe\">\n  <thead>\n    <tr style=\"text-align: right;\">\n      <th></th>\n      <th>Unnamed: 0</th>\n      <th>learner_id</th>\n      <th>phone_number</th>\n      <th>partner_id</th>\n      <th>partner_name</th>\n      <th>project_name</th>\n      <th>program_id</th>\n      <th>program_code</th>\n      <th>program_name</th>\n      <th>variation_id</th>\n      <th>variation_code</th>\n      <th>variation_name</th>\n      <th>package_id</th>\n      <th>message_type</th>\n      <th>object_id</th>\n      <th>message_out</th>\n      <th>message_in</th>\n      <th>sender</th>\n      <th>outbox_id</th>\n      <th>created_at</th>\n      <th>inbox_id</th>\n      <th>user_response</th>\n      <th>digits</th>\n      <th>county</th>\n      <th>gender</th>\n      <th>phone</th>\n    </tr>\n  </thead>\n  <tbody>\n    <tr>\n      <th>1562</th>\n      <td>1563</td>\n      <td>1492512</td>\n      <td>254700068751</td>\n      <td>82</td>\n      <td>World Bank</td>\n      <td>WB-BDS</td>\n      <td>1566</td>\n      <td>BDSACK</td>\n      <td>Kupitia Mpango wa Utekelezaji</td>\n      <td>1697</td>\n      <td>BDSACK</td>\n      <td>Kupitia Mpango wa Utekelezaji</td>\n      <td>11558</td>\n      <td>1</td>\n      <td>102860</td>\n      <td>Asante kwa maoni yako! Sasa, jibu 2 ...</td>\n      <td>Kwa Sasa nimeridhika na mafunzo haya...</td>\n      <td>33300</td>\n      <td>35531118</td>\n      <td>2020-11-20 18:49:48</td>\n      <td>35728717</td>\n      <td>2</td>\n      <td>12</td>\n      <td>Kitui</td>\n      <td>Male</td>\n      <td>2.547001e+11</td>\n    </tr>\n    <tr>\n      <th>1563</th>\n      <td>1564</td>\n      <td>1492512</td>\n      <td>254700068751</td>\n      <td>82</td>\n      <td>World Bank</td>\n      <td>WB-BDS</td>\n      <td>1566</td>\n      <td>BDSACK</td>\n      <td>Kupitia Mpango wa Utekelezaji</td>\n      <td>1697</td>\n      <td>BDSACK</td>\n      <td>Kupitia Mpango wa Utekelezaji</td>\n      <td>11557</td>\n      <td>1</td>\n      <td>102859</td>\n      <td>Ni nini tena ulitaka kujifunza katik...</td>\n      <td>1</td>\n      <td>33300</td>\n      <td>35530960</td>\n      <td>2020-11-20 18:47:54</td>\n      <td>35728551</td>\n      <td>Kwa Sasa nimeridhika na mafunzo haya...</td>\n      <td>12</td>\n      <td>Kitui</td>\n      <td>Male</td>\n      <td>2.547001e+11</td>\n    </tr>\n  </tbody>\n</table>\n</div>"
     },
     "metadata": {},
     "execution_count": 31
    }
   ],
   "source": [
    "wbd_int_kisw = []\n",
    "for x in all_kisw_codes:\n",
    "    kisw = wbd_int_CG[wbd_int_CG['program_code'] == x]\n",
    "    wbd_int_kisw.append(kisw)\n",
    "\n",
    "wbd_int_kisw = pd.concat(wbd_int_kisw)\n",
    "wbd_int_kisw.head(2)"
   ]
  },
  {
   "cell_type": "code",
   "execution_count": 32,
   "metadata": {},
   "outputs": [
    {
     "output_type": "execute_result",
     "data": {
      "text/plain": [
       "array(['BDSAC', 'BDSFB', 'BDSPM', 'BDSDM', 'BDSCC', 'BDSCP', 'BDSBR',\n",
       "       'BDSMI', 'BDSOQ', 'BDSAP', 'BDSMS', 'BDSFN', 'BDSRG', 'BDSBM',\n",
       "       'BDSBI', 'BDSEN'], dtype=object)"
      ]
     },
     "metadata": {},
     "execution_count": 32
    }
   ],
   "source": [
    "wbd_int_eng = []\n",
    "for x in all_eng_codes:\n",
    "    eng = wbd_int_CG[wbd_int_CG['program_code'] == x]\n",
    "    wbd_int_eng.append(eng)\n",
    "\n",
    "wbd_int_eng = pd.concat(wbd_int_eng)\n",
    "wbd_int_eng.program_code.unique()"
   ]
  },
  {
   "source": [
    "># Completed the Training set"
   ],
   "cell_type": "markdown",
   "metadata": {}
  },
  {
   "cell_type": "code",
   "execution_count": 102,
   "metadata": {},
   "outputs": [],
   "source": [
    "wbd_intFullTrain = []\n",
    "def complete_training(df,list_full):\n",
    "    for x in list_full:\n",
    "        full_train = df[df['program_code'] == x]\n",
    "        wbd_intFullTrain.append(full_train)\n",
    "        \n",
    "    return pd.concat(wbd_intFullTrain)"
   ]
  },
  {
   "cell_type": "code",
   "execution_count": 103,
   "metadata": {},
   "outputs": [],
   "source": [
    "df_fullTrain = complete_training(wbd_int,['BDSAC','BDSACK'])"
   ]
  },
  {
   "cell_type": "code",
   "execution_count": 104,
   "metadata": {},
   "outputs": [
    {
     "output_type": "execute_result",
     "data": {
      "text/plain": [
       "     Unnamed: 0  learner_id  phone_number  partner_id partner_name  \\\n",
       "104         105     1493543  254700013985          82   World Bank   \n",
       "105         106     1493543  254700013985          82   World Bank   \n",
       "\n",
       "    project_name  program_id program_code           program_name  \\\n",
       "104       WB-BDS        1106        BDSAC  Review of Action plan   \n",
       "105       WB-BDS        1106        BDSAC  Review of Action plan   \n",
       "\n",
       "     variation_id variation_code         variation_name  package_id  \\\n",
       "104          1237          BDSAC  Review of Action plan       10642   \n",
       "105          1237          BDSAC  Review of Action plan       10623   \n",
       "\n",
       "     message_type  object_id                              message_out  \\\n",
       "104             1      91854  Thanks for your feedback! Now, reply...   \n",
       "105             1     103050  What else did you want to learn in t...   \n",
       "\n",
       "                       message_in sender  outbox_id           created_at  \\\n",
       "104  To avoid failure in business  33300   31098343  2020-07-27 15:35:38   \n",
       "105                             1  33300   31098165  2020-07-27 15:34:14   \n",
       "\n",
       "     inbox_id                 user_response  digits  \n",
       "104  31406215                             2      12  \n",
       "105  31406030  To avoid failure in business      12  "
      ],
      "text/html": "<div>\n<style scoped>\n    .dataframe tbody tr th:only-of-type {\n        vertical-align: middle;\n    }\n\n    .dataframe tbody tr th {\n        vertical-align: top;\n    }\n\n    .dataframe thead th {\n        text-align: right;\n    }\n</style>\n<table border=\"1\" class=\"dataframe\">\n  <thead>\n    <tr style=\"text-align: right;\">\n      <th></th>\n      <th>Unnamed: 0</th>\n      <th>learner_id</th>\n      <th>phone_number</th>\n      <th>partner_id</th>\n      <th>partner_name</th>\n      <th>project_name</th>\n      <th>program_id</th>\n      <th>program_code</th>\n      <th>program_name</th>\n      <th>variation_id</th>\n      <th>variation_code</th>\n      <th>variation_name</th>\n      <th>package_id</th>\n      <th>message_type</th>\n      <th>object_id</th>\n      <th>message_out</th>\n      <th>message_in</th>\n      <th>sender</th>\n      <th>outbox_id</th>\n      <th>created_at</th>\n      <th>inbox_id</th>\n      <th>user_response</th>\n      <th>digits</th>\n    </tr>\n  </thead>\n  <tbody>\n    <tr>\n      <th>104</th>\n      <td>105</td>\n      <td>1493543</td>\n      <td>254700013985</td>\n      <td>82</td>\n      <td>World Bank</td>\n      <td>WB-BDS</td>\n      <td>1106</td>\n      <td>BDSAC</td>\n      <td>Review of Action plan</td>\n      <td>1237</td>\n      <td>BDSAC</td>\n      <td>Review of Action plan</td>\n      <td>10642</td>\n      <td>1</td>\n      <td>91854</td>\n      <td>Thanks for your feedback! Now, reply...</td>\n      <td>To avoid failure in business</td>\n      <td>33300</td>\n      <td>31098343</td>\n      <td>2020-07-27 15:35:38</td>\n      <td>31406215</td>\n      <td>2</td>\n      <td>12</td>\n    </tr>\n    <tr>\n      <th>105</th>\n      <td>106</td>\n      <td>1493543</td>\n      <td>254700013985</td>\n      <td>82</td>\n      <td>World Bank</td>\n      <td>WB-BDS</td>\n      <td>1106</td>\n      <td>BDSAC</td>\n      <td>Review of Action plan</td>\n      <td>1237</td>\n      <td>BDSAC</td>\n      <td>Review of Action plan</td>\n      <td>10623</td>\n      <td>1</td>\n      <td>103050</td>\n      <td>What else did you want to learn in t...</td>\n      <td>1</td>\n      <td>33300</td>\n      <td>31098165</td>\n      <td>2020-07-27 15:34:14</td>\n      <td>31406030</td>\n      <td>To avoid failure in business</td>\n      <td>12</td>\n    </tr>\n  </tbody>\n</table>\n</div>"
     },
     "metadata": {},
     "execution_count": 104
    }
   ],
   "source": [
    "df_fullTrain.head(2)"
   ]
  },
  {
   "cell_type": "code",
   "execution_count": 105,
   "metadata": {},
   "outputs": [
    {
     "output_type": "execute_result",
     "data": {
      "text/plain": [
       "array(['Thanks for your feedback! Now, reply 2 take the quiz and earn a certificate or reply 1 to choose another lesson.\\n1. Main menu\\n2. Certificate',\n",
       "       'What else did you want to learn in this course? Reply with 1-3 sentences.',\n",
       "       'How satisfied are you with this course? Reply with a number:\\n1. Very satisfied\\n2. A little satisfied\\n3. Not so satisfied\\n4. Not at all satisfied',\n",
       "       'Here is a link to the Action Plan outline. Please note that this may use some of your data bundle.https://go.aws/2TuhZB7 Reply A to continue',\n",
       "       'Make sure to fill in your action plan and take the necessary steps in turning your dreams into a reality! Reply A to continue',\n",
       "       'Here is a link to the BMC outline. Please note that this may use some of your data bundle.https://bit.ly/31pGKTR Reply A to continue',\n",
       "       'Good job. Managing your income will help you avoid getting into debt, you will build wealth, and become financially independent.\\nReply A to continue',\n",
       "       '(10/10) 7. Are you managing your finances? If you can manage your money well, you will be able to grow as a business by saving and investing.\\n1. Yes\\n2. No',\n",
       "       'Great. What business records are you keeping or will you keep? Here is a link if you want help formatting your records. https://go.aws/3gfOKMc\\nReply A to continue',\n",
       "       '(9/10) 7. Records track of all the money coming in and out of your business. Examples are receipts and cashbooks. Will you keep business records?\\n1. Yes\\n2. No',\n",
       "       'Great! Always make sure that your costs or expenses are not more than your income.\\nReply A to continue',\n",
       "       '(8/10) Do your prices cover your costs and make you a profit?\\n1. Yes\\n2. No',\n",
       "       'Great! Make sure that you set prices that will make you a profit.\\nReply A to continue',\n",
       "       '(7/10) To set prices for your products or services, you need to set the profit you want to make. Have you set your prices?\\n1. Yes\\n2. No',\n",
       "       'Great. It is important to identify all your business costs which include startup costs, direct costs, and indirect costs.\\nReply A to continue',\n",
       "       '(6/10) 6. Have you costed your product? This involves calculating the startup, direct, and indirect costs of running your business. \\n1. Yes\\n2. No',\n",
       "       'Good! Make sure you are taking good care of your customers in order to retain them. They will in turn tell others about your business.\\nReply A to continue',\n",
       "       '(5/10) 5. Do you have a strategy on how you will take care of your customers?\\n1. Yes\\n2. No',\n",
       "       'Great! Know your customers, competition, and delivery methods. Use the best marketing strategies and a digital platform that works for you.\\nReply A to continue',\n",
       "       '(4/10) 4. To get potential customers to know about your products and services, you need to do marketing. Have you started marketing?\\n1. Yes\\n2. No',\n",
       "       'Great! Now that you have the money you need, you can now start getting resources to set up your business.\\nReply A to continue',\n",
       "       '(3/10) 3. An entrepreneur can get startup capital from microfinance institutions or NGOs. Have you sourced for funds?\\n1. Yes\\n2. No',\n",
       "       'Good job! You are on your way to opening the doors of your business.\\nReply A to continue',\n",
       "       '(2/10) 2. For a business to run, it must be registered and meet all legal requirements. Is your business registered?\\n1. Yes\\n2. No',\n",
       "       'Great! Adopting and improving on these behaviors will set you on the path of success. Without them, you cannot successfully run a business.\\nReply A to continue',\n",
       "       '(1/10) 1. Have you identified the behaviours of successful entrepreneurs you need to adopt or improve?\\n1. Yes\\n2. No',\n",
       "       'To ensure you have acquired skills to run your business, look back at what you learned. Answer and reflect on the questions that follow. Reply A to continue',\n",
       "       'Lesson 15 of 15: Like Ann and Kim, you can start and run a successful business or learn how to improve your business. Reply A to continue',\n",
       "       \"Think about who you'll source funds from and the steps you will take in sourcing for funds. Make sure you start sourcing.\\nReply A to continue\",\n",
       "       \"Registering is critical. Think of the steps you'll take to register your business for it to meet legal requirements and when you'll do this.\\nReply A to continue\",\n",
       "       'You need to identify your customers, competition, and delivery methods. What marketing strategies will you use? Which social media platform will work for you?\\nReply A to continue',\n",
       "       'Time to get started! Make sure you consider your startup, direct, and indirect costs when costing your product.\\nReply A to continue',\n",
       "       'Customers are the blood of every business. Ensure you take good care of them because without them, you cannot run a successful business.\\nReply A to continue',\n",
       "       'Think about the behaviors you need to be a successful business owner. What will you do to improve your skills and by when will you do so?\\nReply A to continue',\n",
       "       'Before you set prices, ensure that you have calculated all business costs.\\nReply A to continue',\n",
       "       'Sorry, please reply with A to continue.',\n",
       "       'Think of how you will manage debtors and creditors. Create a monthly or weekly budget and develop a savings and investment plan.\\nReply A to continue',\n",
       "       'Keep an eye on your expenses to make sure you are not spending more than you are making.\\nReply A to continue',\n",
       "       'Please reply with a number.\\nThanks for your feedback! Now, reply 2 take the quiz and earn a certificate or reply 1 to choose another lesson.\\n1. Main menu\\n2. Certificate',\n",
       "       \"Hi, I'm Arifu. I don't recognize your entry. Send the word BDS to 33300 to access the content.\",\n",
       "       'Here is a link to the Action Plan outline. Please note that this may use some of your data bundle.https://go.aws/2TuhZB7 Continue',\n",
       "       'Make sure to fill in your action plan and take the necessary steps in turning your dreams into a reality! Continue',\n",
       "       'Here is a link to the BMC outline. Please note that this may use some of your data bundle.https://bit.ly/31pGKTR Continue',\n",
       "       'Good job. Managing your income will help you avoid getting into debt, you will build wealth, and become financially independent.\\nContinue',\n",
       "       'Great. What business records are you keeping or will you keep? Here is a link if you want help formatting your records. https://go.aws/3gfOKMc\\nContinue',\n",
       "       'Great! Always make sure that your costs or expenses are not more than your income.\\nContinue',\n",
       "       'Great! Make sure that you set prices that will make you a profit.\\nContinue',\n",
       "       'Great. It is important to identify all your business costs which include startup costs, direct costs, and indirect costs.\\nContinue',\n",
       "       'Good! Make sure you are taking good care of your customers in order to retain them. They will in turn tell others about your business.\\nContinue',\n",
       "       'Great! Know your customers, competition, and delivery methods. Use the best marketing strategies and a digital platform that works for you.\\nContinue',\n",
       "       \"Think about who you'll source funds from and the steps you will take in sourcing for funds. Make sure you start sourcing.\\nContinue\",\n",
       "       \"Registering is critical. Think of the steps you'll take to register your business for it to meet legal requirements and when you'll do this.\\nContinue\",\n",
       "       'Great! Adopting and improving on these behaviors will set you on the path of success. Without them, you cannot successfully run a business.\\nContinue',\n",
       "       'To ensure you have acquired skills to run your business, look back at what you learned. Answer and reflect on the questions that follow. Continue',\n",
       "       'Lesson 15 of 15: Like Ann and Kim, you can start and run a successful business or learn how to improve your business. Continue',\n",
       "       'Keep an eye on your expenses to make sure you are not spending more than you are making.\\nContinue',\n",
       "       'Before you set prices, ensure that you have calculated all business costs.\\nContinue',\n",
       "       'You need to identify your customers, competition, and delivery methods. What marketing strategies will you use? Which social media platform will work for you?\\nContinue',\n",
       "       'Asante kwa maoni yako! Sasa, jibu 2 kufanya zoezi na kupata cheti au jibu 1 kuchagua somo lingine.\\n1. Menyu kuu\\n2. Cheti',\n",
       "       'Ni nini tena ulitaka kujifunza katika kosi hii? Jibu kwa sentensi 1-3. ',\n",
       "       'Je, umeridhika na kosi hii kwa kiasi gani? Jibu kwa nambari:\\n1. Nimeridhika sana\\n2. Nimeridhika kidogo\\n3. Sijaridhika\\n4. Sijaridhika hata kidogo',\n",
       "       'Hiki ni kiungo cha muhtasari wa Mpango wa Kitendo. Tafadhali kumbuka kuwa hii huenda ikatumia baadhi ya vifurushi vyako. https://go.aws/2TuhZB7 Jibu A kuendelea',\n",
       "       'Hakikisha umekamilisha mfano wa biashara yako na uchukue hatua muhimu kugeuza ndoto zako kuwa ukweli! Jibu A kuendelea',\n",
       "       'Hiki ni kiungo cha muhtasari wa BMC. Tafadhali kumbuka kuwa hii huenda ikatumia baadhi ya vifurushi vyako. https://go.aws/2z5YPe5 Jibu A kuendelea',\n",
       "       'Je, umekamilisha mfano wa biashara yako?\\n1. Ndiyo\\n2. La',\n",
       "       '(10/10) 7. Je, unadhibiti pesa zako? Iwapo uanweza kudhibiti pesa zako vizuri, utaweza kukua kama biashara kwa kuweka akiba na kuwekeza.\\n1. Ndiyo\\n2. La',\n",
       "       'Hiki ni kiungo cha muhtasari wa rekodi za biashara. (Hii huenda ikatumia baadhi ya vifurushi vyako.  https://go.aws/3gfOKMc Jibu A kuendelea',\n",
       "       '(9/10) 7. Rekodi hufuatilia pesa zote zinazoingia na kutoka kwa biashara. Mifano ni risiti na vitabu vya pesa. Je, utaweka rekodi za biashara?\\n1. Ndiyo\\n2. La',\n",
       "       '(8/10) Je, bei zako zinashughulikia gharama zako na kukuletea faida?\\n1. Ndiyo\\n2. La',\n",
       "       '(7/10) Kuweka bei za bidhaa au huduma zako, unahitaji kuweka faida unayotaka kupata. Je, umeweka faida zako?\\n1. Ndiyo\\n2. La',\n",
       "       '(6/10) 6. Je, umewekea bidhaa gharama? Hii inahusu kupiga hesabu ya pesa za biashara, gharama za moja kwa moja na nyingine za kuendesha biashara.\\n1. Ndiyo\\n2. La',\n",
       "       '(5/10) 5. Je una mkakati wa namna utatunza wateja wako?\\n1. Ndiyo\\n2. La',\n",
       "       '(4/10) 4. Ili kupata wateja wenye uwezo wa kununua kujua kuhusu bidhaa na huduma zako, unahitaji kufanya uuzaji. Umeanza uuzaji?\\n1. Ndiyo\\n2. La',\n",
       "       '(3/10) 3. Mjasiriamali anaweza kupata pesa ya kuanzisha biashara kutoka kwa taasisi za mikopo midogo au NGO. Je, umetafuta pesa?\\n1. Ndiyo\\n2. La',\n",
       "       '(2/10) 2. Ili biashara kufanya, lazima isajiliwe na inatimiza mahitaji yote ya kisheria. Je, biashara yako imesajiliwa?\\n1. Ndiyo\\n2. La',\n",
       "       '(1/10) 1. Je, umetambua tabia za wajasiriamali waliofanikiwa unazohitaji kuchukua au kuboresha.?\\n1. Ndiyo\\n2. La',\n",
       "       'Kuhakikisha umepata ujuzi wa kuendesha biashara yako, tafakari ulichojifunza. Jibu na uakisi maswali yanayofuata. Jibu A kuendelea',\n",
       "       'Somo 15 la 15: Kama Ann na Kim, unaweza kuanza na kuendesha biashara yenye mafanikio au kuboresha biashara yako. Jibu A kuendelea',\n",
       "       'Hakikisha unatumia mfano wa biashara yako kufanya maamuzi yako na kila la kheri kwa biashara yako mpya!\\nJibu A kuendelea',\n",
       "       'Kazi nzuri! Kudhibiti mapato yako kutakusaidia kuepuka kuingia kwenye deni, utajenga mali, na kuwa huru kifedha.\\nJibu A kuendelea',\n",
       "       'Vyema! Kila mara hakikisha kuwa gharama au matumizi yako hayajashinda mapato yako.\\nJibu A kuendelea',\n",
       "       'Vyema! Hakikisha umeweka bei zitakazokuletea faida.\\nJibu A kuendelea',\n",
       "       'Vyema. Ni muhimu kutambua gharama zako zote za biashara zinazojumuisha gharama za kuanzisha, za moja kwa moja na zisizo za moja kwa moja.\\nJibu A kuendelea',\n",
       "       'Vizuri! Hakikisha unawajali vizuri wateja wako vizuri sana ili kuwadhibiti. Kisha watawaambia wengine kuhusu biashara yako.\\nJibu A kuendelea',\n",
       "       'Vyema! Wajue wateja wako, ushindani, na mbinu za uwasilishaji. Tumia mikakati bora ya uuzaji na jukwaa la kidijitali linalokufanyia.\\nJibu A kuendelea',\n",
       "       'Vyema! Sasa kuwa una pesa unayohitaji, sasa unaweza kuanza kupata rasilimali kuanzisha biashara yako.\\nJibu A kuendelea',\n",
       "       'Kusajili ni muhimu. Fikiria kuhusu hatua utakazochukua kusajili biashara yako ili itimize mahitaji ya kisheria na wakati wa kufanya hii.\\nJibu A kuendelea',\n",
       "       'Vyema! Kuchukua au kuboresha tabia hizi kutakuweka kwa njia ya mafanikio. Bila hizo, huwezi kuendesha biashara kwa mafanikio.\\nJibu A kuendelea',\n",
       "       'Kabla ya kuweka bei, hakikisha umepiga hesabu ya gharama zote za biashara.\\nJibu A kuendelea',\n",
       "       'Unahitaji kutambua wako, ushindani, na mbinu za uwasilishaji. Utatumia mikakati ipi ya uuzaji? Utatumia jukwaa lipi la mtandao wa kijamii?\\nJibu A kuendelea',\n",
       "       'Fikiria kuhusu tabia unazohitaji ili kuwa mmiliki wa biashara aliyefanikiwa. Utafanya nini kuboresha ujuzi wako na utafanya hivyo kufika lini?\\nJibu A kuendelea',\n",
       "       'Fikiria utakavyowadhibiti wawiwa na wawia. Unda bajeti ya kila wiki au mwezi na uunde mpango wa kuweka akiba na kuwekeza.\\nJibu A kuendelea',\n",
       "       'Fuatilia matumizi yako kuhakikisha kuwa hutumii pesa zaidi ya unazotengeneza.\\nJibu A kuendelea',\n",
       "       'Wakati wa kuanza! Hakikisha umezingatia pesa ya kuanzisha biashara na gharama zako zote unapowekea bidhaa yako gharama.\\nJibu A kuendelea',\n",
       "       'Wateja ni damu ya kila biashara. Hakikisha unawatunza vizuri kwa sababu bila wao, huwezi kuendesha biashara yenye mafanikio.\\nJibu A kuendelea',\n",
       "       'Fikiria utatafuta pesa wapi na ni hatua zipi utakazochukua kutafuta pesa. Hakikisha umeanza kutafuta.\\nJibu A kuendelea',\n",
       "       'Kazi nzuri! Unaelekea kufungua milango ya biashara yako.\\nJibu A kuendelea',\n",
       "       'Hakikisha umejaza mfano wa biashara yako kwani ndiyo mwongozo wa kupanga biashara yako.\\nJibu A kuendelea',\n",
       "       'Jibu na numbari.\\nAsante kwa maoni yako! Sasa, jibu 2 kufanya zoezi na kupata cheti au jibu 1 kuchagua somo lingine.\\n1. Menyu kuu\\n2. Cheti'],\n",
       "      dtype=object)"
      ]
     },
     "metadata": {},
     "execution_count": 105
    }
   ],
   "source": [
    "df_fullTrain.message_out.unique()"
   ]
  },
  {
   "cell_type": "code",
   "execution_count": 106,
   "metadata": {},
   "outputs": [
    {
     "output_type": "execute_result",
     "data": {
      "text/plain": [
       "2945"
      ]
     },
     "metadata": {},
     "execution_count": 106
    }
   ],
   "source": [
    "df_fullTrain_comp = df_fullTrain[(df_fullTrain.message_out == '(10/10) 7. Are you managing your finances? If you can manage your money well, you will be able to grow as a business by saving and investing.\\n1. Yes\\n2. No') | (df_fullTrain.message_out == '(10/10) 7. Je, unadhibiti pesa zako? Iwapo uanweza kudhibiti pesa zako vizuri, utaweza kukua kama biashara kwa kuweka akiba na kuwekeza.\\n1. Ndiyo\\n2. La')]\n",
    "df_fullTrain_comp.learner_id.nunique()"
   ]
  },
  {
   "cell_type": "code",
   "execution_count": 121,
   "metadata": {},
   "outputs": [
    {
     "output_type": "stream",
     "name": "stdout",
     "text": [
      "False    2945\ndtype: int64\n"
     ]
    },
    {
     "output_type": "execute_result",
     "data": {
      "text/plain": [
       "   phone_number    county  gender         phone cluster\n",
       "0  254700013985    Kisumu    Male  2.547000e+11      C1\n",
       "1  254700066571  Kakamega  Female  2.547001e+11      C2"
      ],
      "text/html": "<div>\n<style scoped>\n    .dataframe tbody tr th:only-of-type {\n        vertical-align: middle;\n    }\n\n    .dataframe tbody tr th {\n        vertical-align: top;\n    }\n\n    .dataframe thead th {\n        text-align: right;\n    }\n</style>\n<table border=\"1\" class=\"dataframe\">\n  <thead>\n    <tr style=\"text-align: right;\">\n      <th></th>\n      <th>phone_number</th>\n      <th>county</th>\n      <th>gender</th>\n      <th>phone</th>\n      <th>cluster</th>\n    </tr>\n  </thead>\n  <tbody>\n    <tr>\n      <th>0</th>\n      <td>254700013985</td>\n      <td>Kisumu</td>\n      <td>Male</td>\n      <td>2.547000e+11</td>\n      <td>C1</td>\n    </tr>\n    <tr>\n      <th>1</th>\n      <td>254700066571</td>\n      <td>Kakamega</td>\n      <td>Female</td>\n      <td>2.547001e+11</td>\n      <td>C2</td>\n    </tr>\n  </tbody>\n</table>\n</div>"
     },
     "metadata": {},
     "execution_count": 121
    }
   ],
   "source": [
    "learners_FullTrain_list = df_fullTrain_comp.phone_number.unique()\n",
    "fullTrain_learners = pd.DataFrame(learners_FullTrain_list)\n",
    "print(fullTrain_learners.duplicated().value_counts())\n",
    "fullTrain_learners.columns = ['phone_number']\n",
    "# merge to get COunty and Gender\n",
    "fullTrain_learners_CG = pd.merge(fullTrain_learners,wb_data2, left_on='phone_number',right_on='phone',how='left')\n",
    "fullTrain_learners_CG['cluster'] = fullTrain_learners_CG['county'].map(dict_cluster)\n",
    "fullTrain_learners_CG.head(2)"
   ]
  },
  {
   "cell_type": "code",
   "execution_count": 124,
   "metadata": {},
   "outputs": [
    {
     "output_type": "execute_result",
     "data": {
      "text/plain": [
       "  cluster  phone_number\n",
       "0      C1           855\n",
       "1      C2          1123\n",
       "2      C3           958"
      ],
      "text/html": "<div>\n<style scoped>\n    .dataframe tbody tr th:only-of-type {\n        vertical-align: middle;\n    }\n\n    .dataframe tbody tr th {\n        vertical-align: top;\n    }\n\n    .dataframe thead th {\n        text-align: right;\n    }\n</style>\n<table border=\"1\" class=\"dataframe\">\n  <thead>\n    <tr style=\"text-align: right;\">\n      <th></th>\n      <th>cluster</th>\n      <th>phone_number</th>\n    </tr>\n  </thead>\n  <tbody>\n    <tr>\n      <th>0</th>\n      <td>C1</td>\n      <td>855</td>\n    </tr>\n    <tr>\n      <th>1</th>\n      <td>C2</td>\n      <td>1123</td>\n    </tr>\n    <tr>\n      <th>2</th>\n      <td>C3</td>\n      <td>958</td>\n    </tr>\n  </tbody>\n</table>\n</div>"
     },
     "metadata": {},
     "execution_count": 124
    }
   ],
   "source": [
    "fullTrain_learners_CG.groupby('cluster').phone_number.count().reset_index()"
   ]
  },
  {
   "cell_type": "code",
   "execution_count": 125,
   "metadata": {},
   "outputs": [
    {
     "output_type": "execute_result",
     "data": {
      "text/plain": [
       "      phone_number first_day_accessed last_day_accessed  num_interactions  \\\n",
       "0     254700013985         2020-07-22        2020-09-16               525   \n",
       "1     254700066571         2020-07-22        2020-09-18               837   \n",
       "2     254700068918         2020-07-22        2020-09-29               765   \n",
       "3     254700072539         2020-07-25        2020-07-27               448   \n",
       "4     254700089065         2020-07-22        2020-10-24               982   \n",
       "5     254700103927         2020-07-23        2020-07-24               500   \n",
       "6     254700117102         2020-07-23        2020-07-29               448   \n",
       "7     254700125444         2020-08-04        2020-11-23               756   \n",
       "8     254700130851         2020-07-25        2020-08-06               405   \n",
       "9     254700150644         2020-08-19        2020-10-23               376   \n",
       "10    254700177091         2020-07-23        2020-08-20               390   \n",
       "11    254700185824         2020-07-23        2020-09-22               904   \n",
       "12    254700192005         2020-07-22        2020-11-23               378   \n",
       "13    254700220991         2020-07-22        2020-09-22               418   \n",
       "14    254700228967         2020-07-23        2020-07-30               418   \n",
       "...            ...                ...               ...               ...   \n",
       "2930  254798820685         2020-07-23        2020-10-23               378   \n",
       "2931  254798827198         2020-07-22        2020-10-23               831   \n",
       "2932  254798835701         2020-07-24        2020-11-13               765   \n",
       "2933  254798920103         2020-07-22        2020-11-15               725   \n",
       "2934  254798947428         2020-07-22        2020-11-01               399   \n",
       "2935  254798961669         2020-07-22        2020-11-17              1094   \n",
       "2936  254799106871         2020-07-22        2020-11-14              2681   \n",
       "2937  254799205874         2020-07-22        2020-11-18               417   \n",
       "2938  254799353113         2020-07-22        2020-10-24               685   \n",
       "2939  254799425903         2020-07-22        2020-11-14               606   \n",
       "2940  254799487567         2020-08-19        2020-11-21              1561   \n",
       "2941  254799589521         2020-07-22        2020-11-24              1021   \n",
       "2942  254799770056         2020-08-19        2020-11-06               728   \n",
       "2943  254799786476         2020-08-19        2020-11-13               414   \n",
       "2944  254799794088         2020-07-22        2020-11-16               373   \n",
       "\n",
       "     partner_name project_name  program_id  \\\n",
       "0      World Bank       WB-BDS        1111   \n",
       "1      World Bank       WB-BDS        1111   \n",
       "2      World Bank       WB-BDS        1111   \n",
       "3      World Bank       WB-BDS        1111   \n",
       "4      World Bank       WB-BDS        1111   \n",
       "5      World Bank       WB-BDS        1111   \n",
       "6      World Bank       WB-BDS        1111   \n",
       "7      World Bank       WB-BDS        1111   \n",
       "8      World Bank       WB-BDS        1111   \n",
       "9      World Bank       WB-BDS        1111   \n",
       "10     World Bank       WB-BDS        1111   \n",
       "11     World Bank       WB-BDS        1111   \n",
       "12     World Bank       WB-BDS        1111   \n",
       "13     World Bank       WB-BDS        1111   \n",
       "14     World Bank       WB-BDS        1111   \n",
       "...           ...          ...         ...   \n",
       "2930   World Bank       WB-BDS        1111   \n",
       "2931   World Bank       WB-BDS        1111   \n",
       "2932   World Bank       WB-BDS        1111   \n",
       "2933   World Bank       WB-BDS        1111   \n",
       "2934   World Bank       WB-BDS        1111   \n",
       "2935   World Bank       WB-BDS        1111   \n",
       "2936   World Bank       WB-BDS        1111   \n",
       "2937   World Bank       WB-BDS        1111   \n",
       "2938   World Bank       WB-BDS        1111   \n",
       "2939   World Bank       WB-BDS        1111   \n",
       "2940   World Bank       WB-BDS        1111   \n",
       "2941   World Bank       WB-BDS        1111   \n",
       "2942   World Bank       WB-BDS        1111   \n",
       "2943   World Bank       WB-BDS        1111   \n",
       "2944   World Bank       WB-BDS        1111   \n",
       "\n",
       "                              program_name  variation_id  \\\n",
       "0     WB -BDS Language selection - English          1242   \n",
       "1     WB -BDS Language selection - English          1242   \n",
       "2     WB -BDS Language selection - English          1242   \n",
       "3     WB -BDS Language selection - English          1242   \n",
       "4     WB -BDS Language selection - English          1242   \n",
       "5     WB -BDS Language selection - English          1242   \n",
       "6     WB -BDS Language selection - English          1242   \n",
       "7     WB -BDS Language selection - English          1242   \n",
       "8     WB -BDS Language selection - English          1242   \n",
       "9     WB -BDS Language selection - English          1242   \n",
       "10    WB -BDS Language selection - English          1242   \n",
       "11    WB -BDS Language selection - English          1242   \n",
       "12    WB -BDS Language selection - English          1242   \n",
       "13    WB -BDS Language selection - English          1242   \n",
       "14    WB -BDS Language selection - English          1242   \n",
       "...                                    ...           ...   \n",
       "2930  WB -BDS Language selection - English          1242   \n",
       "2931  WB -BDS Language selection - English          1242   \n",
       "2932  WB -BDS Language selection - English          1242   \n",
       "2933  WB -BDS Language selection - English          1242   \n",
       "2934  WB -BDS Language selection - English          1242   \n",
       "2935  WB -BDS Language selection - English          1242   \n",
       "2936  WB -BDS Language selection - English          1242   \n",
       "2937  WB -BDS Language selection - English          1242   \n",
       "2938  WB -BDS Language selection - English          1242   \n",
       "2939  WB -BDS Language selection - English          1242   \n",
       "2940  WB -BDS Language selection - English          1242   \n",
       "2941  WB -BDS Language selection - English          1242   \n",
       "2942  WB -BDS Language selection - English          1242   \n",
       "2943  WB -BDS Language selection - English          1242   \n",
       "2944  WB -BDS Language selection - English          1242   \n",
       "\n",
       "                            variation_name  package_id  message_type sender  \\\n",
       "0     WB -BDS Language selection - English       10646             1  33300   \n",
       "1     WB -BDS Language selection - English       10646             1  33300   \n",
       "2     WB -BDS Language selection - English       10646             1  33300   \n",
       "3     WB -BDS Language selection - English       10646             1  33300   \n",
       "4     WB -BDS Language selection - English       10646             1  33300   \n",
       "5     WB -BDS Language selection - English       10646             1  33300   \n",
       "6     WB -BDS Language selection - English       10646             1  33300   \n",
       "7     WB -BDS Language selection - English       10646             1  33300   \n",
       "8     WB -BDS Language selection - English       10646             1  33300   \n",
       "9     WB -BDS Language selection - English       10646             1  33300   \n",
       "10    WB -BDS Language selection - English       10646             1  33300   \n",
       "11    WB -BDS Language selection - English       10646             1  33300   \n",
       "12    WB -BDS Language selection - English       10646             1  33300   \n",
       "13    WB -BDS Language selection - English       10646             1  33300   \n",
       "14    WB -BDS Language selection - English       10646             1  33300   \n",
       "...                                    ...         ...           ...    ...   \n",
       "2930  WB -BDS Language selection - English       10646             1  33300   \n",
       "2931  WB -BDS Language selection - English       10646             1  33300   \n",
       "2932  WB -BDS Language selection - English       10646             1  33300   \n",
       "2933  WB -BDS Language selection - English       10646             1  33300   \n",
       "2934  WB -BDS Language selection - English       10646             1  33300   \n",
       "2935  WB -BDS Language selection - English       10646             1  33300   \n",
       "2936  WB -BDS Language selection - English       10646             1  33300   \n",
       "2937  WB -BDS Language selection - English       10646             1  33300   \n",
       "2938  WB -BDS Language selection - English       10646             1  33300   \n",
       "2939  WB -BDS Language selection - English       10646             1  33300   \n",
       "2940  WB -BDS Language selection - English       10646             1  33300   \n",
       "2941  WB -BDS Language selection - English       10646             1  33300   \n",
       "2942  WB -BDS Language selection - English       10646             1  33300   \n",
       "2943  WB -BDS Language selection - English       10646             1  33300   \n",
       "2944  WB -BDS Language selection - English       10646             1  33300   \n",
       "\n",
       "         county  gender  int_bands cluster  \n",
       "0        Kisumu    Male      > 500      C1  \n",
       "1      Kakamega  Female      > 500      C2  \n",
       "2       Mombasa  Female      > 500      C1  \n",
       "3       Nairobi    Male  400 - 499      C1  \n",
       "4        Kiambu    Male      > 500      C3  \n",
       "5       Turkana    Male  400 - 499      C2  \n",
       "6      Kakamega    Male  400 - 499      C2  \n",
       "7       Bungoma  Female      > 500      C2  \n",
       "8       Bungoma    Male  400 - 499      C2  \n",
       "9       Nairobi  Female  300 - 399      C1  \n",
       "10        Kisii    Male  300 - 399      C2  \n",
       "11       Migori    Male      > 500      C2  \n",
       "12    Nyandarua    Male  300 - 399      C3  \n",
       "13      Turkana    Male  400 - 499      C2  \n",
       "14      Nairobi    Male  400 - 499      C1  \n",
       "...         ...     ...        ...     ...  \n",
       "2930     Kisumu  Female  300 - 399      C1  \n",
       "2931   Machakos    Male      > 500      C3  \n",
       "2932   Kakamega    Male      > 500      C2  \n",
       "2933     Kilifi  Female      > 500      C3  \n",
       "2934    Turkana  Female  300 - 399      C2  \n",
       "2935     Kilifi  Female      > 500      C3  \n",
       "2936      Kisii    Male      > 500      C2  \n",
       "2937  Nyandarua  Female  400 - 499      C3  \n",
       "2938      Kitui    Male      > 500      C3  \n",
       "2939      Kitui  Female      > 500      C3  \n",
       "2940   Kakamega  Female      > 500      C2  \n",
       "2941    Nairobi  Female      > 500      C1  \n",
       "2942    Bungoma  Female      > 500      C2  \n",
       "2943     Kilifi  Female  400 - 499      C3  \n",
       "2944      Kitui    Male  300 - 399      C3  \n",
       "\n",
       "[2945 rows x 17 columns]"
      ],
      "text/html": "<div>\n<style scoped>\n    .dataframe tbody tr th:only-of-type {\n        vertical-align: middle;\n    }\n\n    .dataframe tbody tr th {\n        vertical-align: top;\n    }\n\n    .dataframe thead th {\n        text-align: right;\n    }\n</style>\n<table border=\"1\" class=\"dataframe\">\n  <thead>\n    <tr style=\"text-align: right;\">\n      <th></th>\n      <th>phone_number</th>\n      <th>first_day_accessed</th>\n      <th>last_day_accessed</th>\n      <th>num_interactions</th>\n      <th>partner_name</th>\n      <th>project_name</th>\n      <th>program_id</th>\n      <th>program_name</th>\n      <th>variation_id</th>\n      <th>variation_name</th>\n      <th>package_id</th>\n      <th>message_type</th>\n      <th>sender</th>\n      <th>county</th>\n      <th>gender</th>\n      <th>int_bands</th>\n      <th>cluster</th>\n    </tr>\n  </thead>\n  <tbody>\n    <tr>\n      <th>0</th>\n      <td>254700013985</td>\n      <td>2020-07-22</td>\n      <td>2020-09-16</td>\n      <td>525</td>\n      <td>World Bank</td>\n      <td>WB-BDS</td>\n      <td>1111</td>\n      <td>WB -BDS Language selection - English</td>\n      <td>1242</td>\n      <td>WB -BDS Language selection - English</td>\n      <td>10646</td>\n      <td>1</td>\n      <td>33300</td>\n      <td>Kisumu</td>\n      <td>Male</td>\n      <td>&gt; 500</td>\n      <td>C1</td>\n    </tr>\n    <tr>\n      <th>1</th>\n      <td>254700066571</td>\n      <td>2020-07-22</td>\n      <td>2020-09-18</td>\n      <td>837</td>\n      <td>World Bank</td>\n      <td>WB-BDS</td>\n      <td>1111</td>\n      <td>WB -BDS Language selection - English</td>\n      <td>1242</td>\n      <td>WB -BDS Language selection - English</td>\n      <td>10646</td>\n      <td>1</td>\n      <td>33300</td>\n      <td>Kakamega</td>\n      <td>Female</td>\n      <td>&gt; 500</td>\n      <td>C2</td>\n    </tr>\n    <tr>\n      <th>2</th>\n      <td>254700068918</td>\n      <td>2020-07-22</td>\n      <td>2020-09-29</td>\n      <td>765</td>\n      <td>World Bank</td>\n      <td>WB-BDS</td>\n      <td>1111</td>\n      <td>WB -BDS Language selection - English</td>\n      <td>1242</td>\n      <td>WB -BDS Language selection - English</td>\n      <td>10646</td>\n      <td>1</td>\n      <td>33300</td>\n      <td>Mombasa</td>\n      <td>Female</td>\n      <td>&gt; 500</td>\n      <td>C1</td>\n    </tr>\n    <tr>\n      <th>3</th>\n      <td>254700072539</td>\n      <td>2020-07-25</td>\n      <td>2020-07-27</td>\n      <td>448</td>\n      <td>World Bank</td>\n      <td>WB-BDS</td>\n      <td>1111</td>\n      <td>WB -BDS Language selection - English</td>\n      <td>1242</td>\n      <td>WB -BDS Language selection - English</td>\n      <td>10646</td>\n      <td>1</td>\n      <td>33300</td>\n      <td>Nairobi</td>\n      <td>Male</td>\n      <td>400 - 499</td>\n      <td>C1</td>\n    </tr>\n    <tr>\n      <th>4</th>\n      <td>254700089065</td>\n      <td>2020-07-22</td>\n      <td>2020-10-24</td>\n      <td>982</td>\n      <td>World Bank</td>\n      <td>WB-BDS</td>\n      <td>1111</td>\n      <td>WB -BDS Language selection - English</td>\n      <td>1242</td>\n      <td>WB -BDS Language selection - English</td>\n      <td>10646</td>\n      <td>1</td>\n      <td>33300</td>\n      <td>Kiambu</td>\n      <td>Male</td>\n      <td>&gt; 500</td>\n      <td>C3</td>\n    </tr>\n    <tr>\n      <th>5</th>\n      <td>254700103927</td>\n      <td>2020-07-23</td>\n      <td>2020-07-24</td>\n      <td>500</td>\n      <td>World Bank</td>\n      <td>WB-BDS</td>\n      <td>1111</td>\n      <td>WB -BDS Language selection - English</td>\n      <td>1242</td>\n      <td>WB -BDS Language selection - English</td>\n      <td>10646</td>\n      <td>1</td>\n      <td>33300</td>\n      <td>Turkana</td>\n      <td>Male</td>\n      <td>400 - 499</td>\n      <td>C2</td>\n    </tr>\n    <tr>\n      <th>6</th>\n      <td>254700117102</td>\n      <td>2020-07-23</td>\n      <td>2020-07-29</td>\n      <td>448</td>\n      <td>World Bank</td>\n      <td>WB-BDS</td>\n      <td>1111</td>\n      <td>WB -BDS Language selection - English</td>\n      <td>1242</td>\n      <td>WB -BDS Language selection - English</td>\n      <td>10646</td>\n      <td>1</td>\n      <td>33300</td>\n      <td>Kakamega</td>\n      <td>Male</td>\n      <td>400 - 499</td>\n      <td>C2</td>\n    </tr>\n    <tr>\n      <th>7</th>\n      <td>254700125444</td>\n      <td>2020-08-04</td>\n      <td>2020-11-23</td>\n      <td>756</td>\n      <td>World Bank</td>\n      <td>WB-BDS</td>\n      <td>1111</td>\n      <td>WB -BDS Language selection - English</td>\n      <td>1242</td>\n      <td>WB -BDS Language selection - English</td>\n      <td>10646</td>\n      <td>1</td>\n      <td>33300</td>\n      <td>Bungoma</td>\n      <td>Female</td>\n      <td>&gt; 500</td>\n      <td>C2</td>\n    </tr>\n    <tr>\n      <th>8</th>\n      <td>254700130851</td>\n      <td>2020-07-25</td>\n      <td>2020-08-06</td>\n      <td>405</td>\n      <td>World Bank</td>\n      <td>WB-BDS</td>\n      <td>1111</td>\n      <td>WB -BDS Language selection - English</td>\n      <td>1242</td>\n      <td>WB -BDS Language selection - English</td>\n      <td>10646</td>\n      <td>1</td>\n      <td>33300</td>\n      <td>Bungoma</td>\n      <td>Male</td>\n      <td>400 - 499</td>\n      <td>C2</td>\n    </tr>\n    <tr>\n      <th>9</th>\n      <td>254700150644</td>\n      <td>2020-08-19</td>\n      <td>2020-10-23</td>\n      <td>376</td>\n      <td>World Bank</td>\n      <td>WB-BDS</td>\n      <td>1111</td>\n      <td>WB -BDS Language selection - English</td>\n      <td>1242</td>\n      <td>WB -BDS Language selection - English</td>\n      <td>10646</td>\n      <td>1</td>\n      <td>33300</td>\n      <td>Nairobi</td>\n      <td>Female</td>\n      <td>300 - 399</td>\n      <td>C1</td>\n    </tr>\n    <tr>\n      <th>10</th>\n      <td>254700177091</td>\n      <td>2020-07-23</td>\n      <td>2020-08-20</td>\n      <td>390</td>\n      <td>World Bank</td>\n      <td>WB-BDS</td>\n      <td>1111</td>\n      <td>WB -BDS Language selection - English</td>\n      <td>1242</td>\n      <td>WB -BDS Language selection - English</td>\n      <td>10646</td>\n      <td>1</td>\n      <td>33300</td>\n      <td>Kisii</td>\n      <td>Male</td>\n      <td>300 - 399</td>\n      <td>C2</td>\n    </tr>\n    <tr>\n      <th>11</th>\n      <td>254700185824</td>\n      <td>2020-07-23</td>\n      <td>2020-09-22</td>\n      <td>904</td>\n      <td>World Bank</td>\n      <td>WB-BDS</td>\n      <td>1111</td>\n      <td>WB -BDS Language selection - English</td>\n      <td>1242</td>\n      <td>WB -BDS Language selection - English</td>\n      <td>10646</td>\n      <td>1</td>\n      <td>33300</td>\n      <td>Migori</td>\n      <td>Male</td>\n      <td>&gt; 500</td>\n      <td>C2</td>\n    </tr>\n    <tr>\n      <th>12</th>\n      <td>254700192005</td>\n      <td>2020-07-22</td>\n      <td>2020-11-23</td>\n      <td>378</td>\n      <td>World Bank</td>\n      <td>WB-BDS</td>\n      <td>1111</td>\n      <td>WB -BDS Language selection - English</td>\n      <td>1242</td>\n      <td>WB -BDS Language selection - English</td>\n      <td>10646</td>\n      <td>1</td>\n      <td>33300</td>\n      <td>Nyandarua</td>\n      <td>Male</td>\n      <td>300 - 399</td>\n      <td>C3</td>\n    </tr>\n    <tr>\n      <th>13</th>\n      <td>254700220991</td>\n      <td>2020-07-22</td>\n      <td>2020-09-22</td>\n      <td>418</td>\n      <td>World Bank</td>\n      <td>WB-BDS</td>\n      <td>1111</td>\n      <td>WB -BDS Language selection - English</td>\n      <td>1242</td>\n      <td>WB -BDS Language selection - English</td>\n      <td>10646</td>\n      <td>1</td>\n      <td>33300</td>\n      <td>Turkana</td>\n      <td>Male</td>\n      <td>400 - 499</td>\n      <td>C2</td>\n    </tr>\n    <tr>\n      <th>14</th>\n      <td>254700228967</td>\n      <td>2020-07-23</td>\n      <td>2020-07-30</td>\n      <td>418</td>\n      <td>World Bank</td>\n      <td>WB-BDS</td>\n      <td>1111</td>\n      <td>WB -BDS Language selection - English</td>\n      <td>1242</td>\n      <td>WB -BDS Language selection - English</td>\n      <td>10646</td>\n      <td>1</td>\n      <td>33300</td>\n      <td>Nairobi</td>\n      <td>Male</td>\n      <td>400 - 499</td>\n      <td>C1</td>\n    </tr>\n    <tr>\n      <th>...</th>\n      <td>...</td>\n      <td>...</td>\n      <td>...</td>\n      <td>...</td>\n      <td>...</td>\n      <td>...</td>\n      <td>...</td>\n      <td>...</td>\n      <td>...</td>\n      <td>...</td>\n      <td>...</td>\n      <td>...</td>\n      <td>...</td>\n      <td>...</td>\n      <td>...</td>\n      <td>...</td>\n      <td>...</td>\n    </tr>\n    <tr>\n      <th>2930</th>\n      <td>254798820685</td>\n      <td>2020-07-23</td>\n      <td>2020-10-23</td>\n      <td>378</td>\n      <td>World Bank</td>\n      <td>WB-BDS</td>\n      <td>1111</td>\n      <td>WB -BDS Language selection - English</td>\n      <td>1242</td>\n      <td>WB -BDS Language selection - English</td>\n      <td>10646</td>\n      <td>1</td>\n      <td>33300</td>\n      <td>Kisumu</td>\n      <td>Female</td>\n      <td>300 - 399</td>\n      <td>C1</td>\n    </tr>\n    <tr>\n      <th>2931</th>\n      <td>254798827198</td>\n      <td>2020-07-22</td>\n      <td>2020-10-23</td>\n      <td>831</td>\n      <td>World Bank</td>\n      <td>WB-BDS</td>\n      <td>1111</td>\n      <td>WB -BDS Language selection - English</td>\n      <td>1242</td>\n      <td>WB -BDS Language selection - English</td>\n      <td>10646</td>\n      <td>1</td>\n      <td>33300</td>\n      <td>Machakos</td>\n      <td>Male</td>\n      <td>&gt; 500</td>\n      <td>C3</td>\n    </tr>\n    <tr>\n      <th>2932</th>\n      <td>254798835701</td>\n      <td>2020-07-24</td>\n      <td>2020-11-13</td>\n      <td>765</td>\n      <td>World Bank</td>\n      <td>WB-BDS</td>\n      <td>1111</td>\n      <td>WB -BDS Language selection - English</td>\n      <td>1242</td>\n      <td>WB -BDS Language selection - English</td>\n      <td>10646</td>\n      <td>1</td>\n      <td>33300</td>\n      <td>Kakamega</td>\n      <td>Male</td>\n      <td>&gt; 500</td>\n      <td>C2</td>\n    </tr>\n    <tr>\n      <th>2933</th>\n      <td>254798920103</td>\n      <td>2020-07-22</td>\n      <td>2020-11-15</td>\n      <td>725</td>\n      <td>World Bank</td>\n      <td>WB-BDS</td>\n      <td>1111</td>\n      <td>WB -BDS Language selection - English</td>\n      <td>1242</td>\n      <td>WB -BDS Language selection - English</td>\n      <td>10646</td>\n      <td>1</td>\n      <td>33300</td>\n      <td>Kilifi</td>\n      <td>Female</td>\n      <td>&gt; 500</td>\n      <td>C3</td>\n    </tr>\n    <tr>\n      <th>2934</th>\n      <td>254798947428</td>\n      <td>2020-07-22</td>\n      <td>2020-11-01</td>\n      <td>399</td>\n      <td>World Bank</td>\n      <td>WB-BDS</td>\n      <td>1111</td>\n      <td>WB -BDS Language selection - English</td>\n      <td>1242</td>\n      <td>WB -BDS Language selection - English</td>\n      <td>10646</td>\n      <td>1</td>\n      <td>33300</td>\n      <td>Turkana</td>\n      <td>Female</td>\n      <td>300 - 399</td>\n      <td>C2</td>\n    </tr>\n    <tr>\n      <th>2935</th>\n      <td>254798961669</td>\n      <td>2020-07-22</td>\n      <td>2020-11-17</td>\n      <td>1094</td>\n      <td>World Bank</td>\n      <td>WB-BDS</td>\n      <td>1111</td>\n      <td>WB -BDS Language selection - English</td>\n      <td>1242</td>\n      <td>WB -BDS Language selection - English</td>\n      <td>10646</td>\n      <td>1</td>\n      <td>33300</td>\n      <td>Kilifi</td>\n      <td>Female</td>\n      <td>&gt; 500</td>\n      <td>C3</td>\n    </tr>\n    <tr>\n      <th>2936</th>\n      <td>254799106871</td>\n      <td>2020-07-22</td>\n      <td>2020-11-14</td>\n      <td>2681</td>\n      <td>World Bank</td>\n      <td>WB-BDS</td>\n      <td>1111</td>\n      <td>WB -BDS Language selection - English</td>\n      <td>1242</td>\n      <td>WB -BDS Language selection - English</td>\n      <td>10646</td>\n      <td>1</td>\n      <td>33300</td>\n      <td>Kisii</td>\n      <td>Male</td>\n      <td>&gt; 500</td>\n      <td>C2</td>\n    </tr>\n    <tr>\n      <th>2937</th>\n      <td>254799205874</td>\n      <td>2020-07-22</td>\n      <td>2020-11-18</td>\n      <td>417</td>\n      <td>World Bank</td>\n      <td>WB-BDS</td>\n      <td>1111</td>\n      <td>WB -BDS Language selection - English</td>\n      <td>1242</td>\n      <td>WB -BDS Language selection - English</td>\n      <td>10646</td>\n      <td>1</td>\n      <td>33300</td>\n      <td>Nyandarua</td>\n      <td>Female</td>\n      <td>400 - 499</td>\n      <td>C3</td>\n    </tr>\n    <tr>\n      <th>2938</th>\n      <td>254799353113</td>\n      <td>2020-07-22</td>\n      <td>2020-10-24</td>\n      <td>685</td>\n      <td>World Bank</td>\n      <td>WB-BDS</td>\n      <td>1111</td>\n      <td>WB -BDS Language selection - English</td>\n      <td>1242</td>\n      <td>WB -BDS Language selection - English</td>\n      <td>10646</td>\n      <td>1</td>\n      <td>33300</td>\n      <td>Kitui</td>\n      <td>Male</td>\n      <td>&gt; 500</td>\n      <td>C3</td>\n    </tr>\n    <tr>\n      <th>2939</th>\n      <td>254799425903</td>\n      <td>2020-07-22</td>\n      <td>2020-11-14</td>\n      <td>606</td>\n      <td>World Bank</td>\n      <td>WB-BDS</td>\n      <td>1111</td>\n      <td>WB -BDS Language selection - English</td>\n      <td>1242</td>\n      <td>WB -BDS Language selection - English</td>\n      <td>10646</td>\n      <td>1</td>\n      <td>33300</td>\n      <td>Kitui</td>\n      <td>Female</td>\n      <td>&gt; 500</td>\n      <td>C3</td>\n    </tr>\n    <tr>\n      <th>2940</th>\n      <td>254799487567</td>\n      <td>2020-08-19</td>\n      <td>2020-11-21</td>\n      <td>1561</td>\n      <td>World Bank</td>\n      <td>WB-BDS</td>\n      <td>1111</td>\n      <td>WB -BDS Language selection - English</td>\n      <td>1242</td>\n      <td>WB -BDS Language selection - English</td>\n      <td>10646</td>\n      <td>1</td>\n      <td>33300</td>\n      <td>Kakamega</td>\n      <td>Female</td>\n      <td>&gt; 500</td>\n      <td>C2</td>\n    </tr>\n    <tr>\n      <th>2941</th>\n      <td>254799589521</td>\n      <td>2020-07-22</td>\n      <td>2020-11-24</td>\n      <td>1021</td>\n      <td>World Bank</td>\n      <td>WB-BDS</td>\n      <td>1111</td>\n      <td>WB -BDS Language selection - English</td>\n      <td>1242</td>\n      <td>WB -BDS Language selection - English</td>\n      <td>10646</td>\n      <td>1</td>\n      <td>33300</td>\n      <td>Nairobi</td>\n      <td>Female</td>\n      <td>&gt; 500</td>\n      <td>C1</td>\n    </tr>\n    <tr>\n      <th>2942</th>\n      <td>254799770056</td>\n      <td>2020-08-19</td>\n      <td>2020-11-06</td>\n      <td>728</td>\n      <td>World Bank</td>\n      <td>WB-BDS</td>\n      <td>1111</td>\n      <td>WB -BDS Language selection - English</td>\n      <td>1242</td>\n      <td>WB -BDS Language selection - English</td>\n      <td>10646</td>\n      <td>1</td>\n      <td>33300</td>\n      <td>Bungoma</td>\n      <td>Female</td>\n      <td>&gt; 500</td>\n      <td>C2</td>\n    </tr>\n    <tr>\n      <th>2943</th>\n      <td>254799786476</td>\n      <td>2020-08-19</td>\n      <td>2020-11-13</td>\n      <td>414</td>\n      <td>World Bank</td>\n      <td>WB-BDS</td>\n      <td>1111</td>\n      <td>WB -BDS Language selection - English</td>\n      <td>1242</td>\n      <td>WB -BDS Language selection - English</td>\n      <td>10646</td>\n      <td>1</td>\n      <td>33300</td>\n      <td>Kilifi</td>\n      <td>Female</td>\n      <td>400 - 499</td>\n      <td>C3</td>\n    </tr>\n    <tr>\n      <th>2944</th>\n      <td>254799794088</td>\n      <td>2020-07-22</td>\n      <td>2020-11-16</td>\n      <td>373</td>\n      <td>World Bank</td>\n      <td>WB-BDS</td>\n      <td>1111</td>\n      <td>WB -BDS Language selection - English</td>\n      <td>1242</td>\n      <td>WB -BDS Language selection - English</td>\n      <td>10646</td>\n      <td>1</td>\n      <td>33300</td>\n      <td>Kitui</td>\n      <td>Male</td>\n      <td>300 - 399</td>\n      <td>C3</td>\n    </tr>\n  </tbody>\n</table>\n<p>2945 rows × 17 columns</p>\n</div>"
     },
     "metadata": {},
     "execution_count": 125
    }
   ],
   "source": [
    "#fullTrain_learners = df_fullTrain_comp[['learner_id','phone_number']]\n",
    "fullTrain_learners_int = pd.merge(fullTrain_learners,wbd_interactions_CG,left_on='phone_number',right_on ='phone_number',how = 'left')"
   ]
  },
  {
   "cell_type": "code",
   "execution_count": 130,
   "metadata": {},
   "outputs": [
    {
     "output_type": "execute_result",
     "data": {
      "text/plain": [
       "      phone_number first_day_accessed last_day_accessed  num_interactions  \\\n",
       "2273  254799260550         2020-07-22        2020-07-23               340   \n",
       "2417  254705623530         2020-08-19        2020-11-14               356   \n",
       "2821  254790259937         2020-07-23        2020-11-16               361   \n",
       "2842  254791949244         2020-08-19        2020-11-24               361   \n",
       "2379  254703766922         2020-07-23        2020-11-16               362   \n",
       "161   254702418346         2020-07-22        2020-11-21               362   \n",
       "1117  254718805285         2020-11-19        2020-11-23               362   \n",
       "875   254714788036         2020-11-13        2020-11-23               363   \n",
       "1197  254720125798         2020-08-22        2020-10-27               363   \n",
       "1772  254746682627         2020-09-22        2020-09-26               364   \n",
       "134   254702104050         2020-10-16        2020-11-13               366   \n",
       "2493  254708969999         2020-08-19        2020-11-24               366   \n",
       "700   254711364756         2020-09-24        2020-09-25               366   \n",
       "1661  254742069939         2020-09-26        2020-09-28               366   \n",
       "1601  254740841899         2020-08-19        2020-11-15               366   \n",
       "...            ...                ...               ...               ...   \n",
       "1555  254729570532         2020-07-22        2020-08-23               400   \n",
       "1836  254758025432         2020-07-22        2020-08-24               400   \n",
       "2283  254799524823         2020-07-23        2020-08-14               400   \n",
       "44    254700677714         2020-07-24        2020-09-30               400   \n",
       "577   254708069282         2020-07-23        2020-08-04               400   \n",
       "1392  254725841531         2020-07-22        2020-08-05               400   \n",
       "2668  254725866454         2020-07-22        2020-11-12               400   \n",
       "1360  254724926505         2020-07-23        2020-09-22               400   \n",
       "2182  254797291327         2020-07-23        2020-08-05               400   \n",
       "1104  254718613845         2020-08-19        2020-09-08               400   \n",
       "1992  254791813110         2020-07-23        2020-07-29               400   \n",
       "436   254706518745         2020-07-22        2020-08-31               400   \n",
       "2045  254792685692         2020-07-22        2020-11-18               400   \n",
       "1858  254758936113         2020-07-22        2020-08-20               400   \n",
       "2146  254796437056         2020-07-23        2020-11-18               400   \n",
       "\n",
       "     partner_name project_name  program_id  \\\n",
       "2273   World Bank       WB-BDS        1094   \n",
       "2417   World Bank       WB-BDS        1111   \n",
       "2821   World Bank       WB-BDS        1111   \n",
       "2842   World Bank       WB-BDS        1111   \n",
       "2379   World Bank       WB-BDS        1111   \n",
       "161    World Bank       WB-BDS        1111   \n",
       "1117   World Bank       WB-BDS        1111   \n",
       "875    World Bank       WB-BDS        1111   \n",
       "1197   World Bank       WB-BDS        1111   \n",
       "1772   World Bank       WB-BDS        1111   \n",
       "134    World Bank       WB-BDS        1111   \n",
       "2493   World Bank       WB-BDS        1111   \n",
       "700    World Bank       WB-BDS        1111   \n",
       "1661   World Bank       WB-BDS        1111   \n",
       "1601   World Bank       WB-BDS        1111   \n",
       "...           ...          ...         ...   \n",
       "1555   World Bank       WB-BDS        1111   \n",
       "1836   World Bank       WB-BDS        1111   \n",
       "2283   World Bank       WB-BDS        1111   \n",
       "44     World Bank       WB-BDS        1111   \n",
       "577    World Bank       WB-BDS        1111   \n",
       "1392   World Bank       WB-BDS        1111   \n",
       "2668   World Bank       WB-BDS        1111   \n",
       "1360   World Bank       WB-BDS        1111   \n",
       "2182   World Bank       WB-BDS        1111   \n",
       "1104   World Bank       WB-BDS        1111   \n",
       "1992   World Bank       WB-BDS        1111   \n",
       "436    World Bank       WB-BDS        1111   \n",
       "2045   World Bank       WB-BDS        1111   \n",
       "1858   World Bank       WB-BDS        1111   \n",
       "2146   World Bank       WB-BDS        1111   \n",
       "\n",
       "                              program_name  variation_id  \\\n",
       "2273                           Action plan          1225   \n",
       "2417  WB -BDS Language selection - English          1242   \n",
       "2821  WB -BDS Language selection - English          1242   \n",
       "2842  WB -BDS Language selection - English          1242   \n",
       "2379  WB -BDS Language selection - English          1242   \n",
       "161   WB -BDS Language selection - English          1242   \n",
       "1117  WB -BDS Language selection - English          1242   \n",
       "875   WB -BDS Language selection - English          1242   \n",
       "1197  WB -BDS Language selection - English          1242   \n",
       "1772  WB -BDS Language selection - English          1242   \n",
       "134   WB -BDS Language selection - English          1242   \n",
       "2493  WB -BDS Language selection - English          1242   \n",
       "700   WB -BDS Language selection - English          1242   \n",
       "1661  WB -BDS Language selection - English          1242   \n",
       "1601  WB -BDS Language selection - English          1242   \n",
       "...                                    ...           ...   \n",
       "1555  WB -BDS Language selection - English          1242   \n",
       "1836  WB -BDS Language selection - English          1242   \n",
       "2283  WB -BDS Language selection - English          1242   \n",
       "44    WB -BDS Language selection - English          1242   \n",
       "577   WB -BDS Language selection - English          1242   \n",
       "1392  WB -BDS Language selection - English          1242   \n",
       "2668  WB -BDS Language selection - English          1242   \n",
       "1360  WB -BDS Language selection - English          1242   \n",
       "2182  WB -BDS Language selection - English          1242   \n",
       "1104  WB -BDS Language selection - English          1242   \n",
       "1992  WB -BDS Language selection - English          1242   \n",
       "436   WB -BDS Language selection - English          1242   \n",
       "2045  WB -BDS Language selection - English          1242   \n",
       "1858  WB -BDS Language selection - English          1242   \n",
       "2146  WB -BDS Language selection - English          1242   \n",
       "\n",
       "                            variation_name  package_id  message_type sender  \\\n",
       "2273                           Action plan       10611             1  22744   \n",
       "2417  WB -BDS Language selection - English       10646             1  33300   \n",
       "2821  WB -BDS Language selection - English       10646             1  33300   \n",
       "2842  WB -BDS Language selection - English       10646             1  33300   \n",
       "2379  WB -BDS Language selection - English       10646             1  33300   \n",
       "161   WB -BDS Language selection - English       10646             1  33300   \n",
       "1117  WB -BDS Language selection - English       10646             1  33300   \n",
       "875   WB -BDS Language selection - English       10646             1  33300   \n",
       "1197  WB -BDS Language selection - English       10646             1  33300   \n",
       "1772  WB -BDS Language selection - English       10646             1  33300   \n",
       "134   WB -BDS Language selection - English       10646             1  33300   \n",
       "2493  WB -BDS Language selection - English       10646             1  33300   \n",
       "700   WB -BDS Language selection - English       10646             1  33300   \n",
       "1661  WB -BDS Language selection - English       10646             1  33300   \n",
       "1601  WB -BDS Language selection - English       10646             1  33300   \n",
       "...                                    ...         ...           ...    ...   \n",
       "1555  WB -BDS Language selection - English       10646             1  33300   \n",
       "1836  WB -BDS Language selection - English       10646             1  33300   \n",
       "2283  WB -BDS Language selection - English       10646             1  33300   \n",
       "44    WB -BDS Language selection - English       10646             1  33300   \n",
       "577   WB -BDS Language selection - English       10646             1  33300   \n",
       "1392  WB -BDS Language selection - English       10646             1  33300   \n",
       "2668  WB -BDS Language selection - English       10646             1  33300   \n",
       "1360  WB -BDS Language selection - English       10646             1  33300   \n",
       "2182  WB -BDS Language selection - English       10646             1  33300   \n",
       "1104  WB -BDS Language selection - English       10646             1  33300   \n",
       "1992  WB -BDS Language selection - English       10646             1  33300   \n",
       "436   WB -BDS Language selection - English       10646             1  33300   \n",
       "2045  WB -BDS Language selection - English       10646             1  33300   \n",
       "1858  WB -BDS Language selection - English       10646             1  33300   \n",
       "2146  WB -BDS Language selection - English       10646             1  33300   \n",
       "\n",
       "         county  gender  int_bands cluster  \n",
       "2273        NaN     NaN  300 - 399     NaN  \n",
       "2417    Bungoma    Male  300 - 399      C2  \n",
       "2821   Machakos    Male  300 - 399      C3  \n",
       "2842    Mombasa  Female  300 - 399      C1  \n",
       "2379     Kilifi  Female  300 - 399      C3  \n",
       "161      Kilifi    Male  300 - 399      C3  \n",
       "1117     Migori  Female  300 - 399      C2  \n",
       "875     Mombasa  Female  300 - 399      C1  \n",
       "1197      Kitui    Male  300 - 399      C3  \n",
       "1772    Nairobi  Female  300 - 399      C1  \n",
       "134    Kakamega  Female  300 - 399      C2  \n",
       "2493   Machakos  Female  300 - 399      C3  \n",
       "700      Nakuru    Male  300 - 399      C1  \n",
       "1661  Nyandarua    Male  300 - 399      C3  \n",
       "1601  Nyandarua    Male  300 - 399      C3  \n",
       "...         ...     ...        ...     ...  \n",
       "1555     Kiambu  Female  300 - 399      C3  \n",
       "1836     Kiambu  Female  300 - 399      C3  \n",
       "2283      Kisii  Female  300 - 399      C2  \n",
       "44       Nakuru    Male  300 - 399      C1  \n",
       "577     Mombasa    Male  300 - 399      C1  \n",
       "1392    Bungoma  Female  300 - 399      C2  \n",
       "2668    Nairobi  Female  300 - 399      C1  \n",
       "1360   Kakamega  Female  300 - 399      C2  \n",
       "2182    Nairobi    Male  300 - 399      C1  \n",
       "1104     Nakuru  Female  300 - 399      C1  \n",
       "1992   Machakos  Female  300 - 399      C3  \n",
       "436      Migori    Male  300 - 399      C2  \n",
       "2045    Nairobi    Male  300 - 399      C1  \n",
       "1858     Migori    Male  300 - 399      C2  \n",
       "2146    Nairobi  Female  300 - 399      C1  \n",
       "\n",
       "[814 rows x 17 columns]"
      ],
      "text/html": "<div>\n<style scoped>\n    .dataframe tbody tr th:only-of-type {\n        vertical-align: middle;\n    }\n\n    .dataframe tbody tr th {\n        vertical-align: top;\n    }\n\n    .dataframe thead th {\n        text-align: right;\n    }\n</style>\n<table border=\"1\" class=\"dataframe\">\n  <thead>\n    <tr style=\"text-align: right;\">\n      <th></th>\n      <th>phone_number</th>\n      <th>first_day_accessed</th>\n      <th>last_day_accessed</th>\n      <th>num_interactions</th>\n      <th>partner_name</th>\n      <th>project_name</th>\n      <th>program_id</th>\n      <th>program_name</th>\n      <th>variation_id</th>\n      <th>variation_name</th>\n      <th>package_id</th>\n      <th>message_type</th>\n      <th>sender</th>\n      <th>county</th>\n      <th>gender</th>\n      <th>int_bands</th>\n      <th>cluster</th>\n    </tr>\n  </thead>\n  <tbody>\n    <tr>\n      <th>2273</th>\n      <td>254799260550</td>\n      <td>2020-07-22</td>\n      <td>2020-07-23</td>\n      <td>340</td>\n      <td>World Bank</td>\n      <td>WB-BDS</td>\n      <td>1094</td>\n      <td>Action plan</td>\n      <td>1225</td>\n      <td>Action plan</td>\n      <td>10611</td>\n      <td>1</td>\n      <td>22744</td>\n      <td>NaN</td>\n      <td>NaN</td>\n      <td>300 - 399</td>\n      <td>NaN</td>\n    </tr>\n    <tr>\n      <th>2417</th>\n      <td>254705623530</td>\n      <td>2020-08-19</td>\n      <td>2020-11-14</td>\n      <td>356</td>\n      <td>World Bank</td>\n      <td>WB-BDS</td>\n      <td>1111</td>\n      <td>WB -BDS Language selection - English</td>\n      <td>1242</td>\n      <td>WB -BDS Language selection - English</td>\n      <td>10646</td>\n      <td>1</td>\n      <td>33300</td>\n      <td>Bungoma</td>\n      <td>Male</td>\n      <td>300 - 399</td>\n      <td>C2</td>\n    </tr>\n    <tr>\n      <th>2821</th>\n      <td>254790259937</td>\n      <td>2020-07-23</td>\n      <td>2020-11-16</td>\n      <td>361</td>\n      <td>World Bank</td>\n      <td>WB-BDS</td>\n      <td>1111</td>\n      <td>WB -BDS Language selection - English</td>\n      <td>1242</td>\n      <td>WB -BDS Language selection - English</td>\n      <td>10646</td>\n      <td>1</td>\n      <td>33300</td>\n      <td>Machakos</td>\n      <td>Male</td>\n      <td>300 - 399</td>\n      <td>C3</td>\n    </tr>\n    <tr>\n      <th>2842</th>\n      <td>254791949244</td>\n      <td>2020-08-19</td>\n      <td>2020-11-24</td>\n      <td>361</td>\n      <td>World Bank</td>\n      <td>WB-BDS</td>\n      <td>1111</td>\n      <td>WB -BDS Language selection - English</td>\n      <td>1242</td>\n      <td>WB -BDS Language selection - English</td>\n      <td>10646</td>\n      <td>1</td>\n      <td>33300</td>\n      <td>Mombasa</td>\n      <td>Female</td>\n      <td>300 - 399</td>\n      <td>C1</td>\n    </tr>\n    <tr>\n      <th>2379</th>\n      <td>254703766922</td>\n      <td>2020-07-23</td>\n      <td>2020-11-16</td>\n      <td>362</td>\n      <td>World Bank</td>\n      <td>WB-BDS</td>\n      <td>1111</td>\n      <td>WB -BDS Language selection - English</td>\n      <td>1242</td>\n      <td>WB -BDS Language selection - English</td>\n      <td>10646</td>\n      <td>1</td>\n      <td>33300</td>\n      <td>Kilifi</td>\n      <td>Female</td>\n      <td>300 - 399</td>\n      <td>C3</td>\n    </tr>\n    <tr>\n      <th>161</th>\n      <td>254702418346</td>\n      <td>2020-07-22</td>\n      <td>2020-11-21</td>\n      <td>362</td>\n      <td>World Bank</td>\n      <td>WB-BDS</td>\n      <td>1111</td>\n      <td>WB -BDS Language selection - English</td>\n      <td>1242</td>\n      <td>WB -BDS Language selection - English</td>\n      <td>10646</td>\n      <td>1</td>\n      <td>33300</td>\n      <td>Kilifi</td>\n      <td>Male</td>\n      <td>300 - 399</td>\n      <td>C3</td>\n    </tr>\n    <tr>\n      <th>1117</th>\n      <td>254718805285</td>\n      <td>2020-11-19</td>\n      <td>2020-11-23</td>\n      <td>362</td>\n      <td>World Bank</td>\n      <td>WB-BDS</td>\n      <td>1111</td>\n      <td>WB -BDS Language selection - English</td>\n      <td>1242</td>\n      <td>WB -BDS Language selection - English</td>\n      <td>10646</td>\n      <td>1</td>\n      <td>33300</td>\n      <td>Migori</td>\n      <td>Female</td>\n      <td>300 - 399</td>\n      <td>C2</td>\n    </tr>\n    <tr>\n      <th>875</th>\n      <td>254714788036</td>\n      <td>2020-11-13</td>\n      <td>2020-11-23</td>\n      <td>363</td>\n      <td>World Bank</td>\n      <td>WB-BDS</td>\n      <td>1111</td>\n      <td>WB -BDS Language selection - English</td>\n      <td>1242</td>\n      <td>WB -BDS Language selection - English</td>\n      <td>10646</td>\n      <td>1</td>\n      <td>33300</td>\n      <td>Mombasa</td>\n      <td>Female</td>\n      <td>300 - 399</td>\n      <td>C1</td>\n    </tr>\n    <tr>\n      <th>1197</th>\n      <td>254720125798</td>\n      <td>2020-08-22</td>\n      <td>2020-10-27</td>\n      <td>363</td>\n      <td>World Bank</td>\n      <td>WB-BDS</td>\n      <td>1111</td>\n      <td>WB -BDS Language selection - English</td>\n      <td>1242</td>\n      <td>WB -BDS Language selection - English</td>\n      <td>10646</td>\n      <td>1</td>\n      <td>33300</td>\n      <td>Kitui</td>\n      <td>Male</td>\n      <td>300 - 399</td>\n      <td>C3</td>\n    </tr>\n    <tr>\n      <th>1772</th>\n      <td>254746682627</td>\n      <td>2020-09-22</td>\n      <td>2020-09-26</td>\n      <td>364</td>\n      <td>World Bank</td>\n      <td>WB-BDS</td>\n      <td>1111</td>\n      <td>WB -BDS Language selection - English</td>\n      <td>1242</td>\n      <td>WB -BDS Language selection - English</td>\n      <td>10646</td>\n      <td>1</td>\n      <td>33300</td>\n      <td>Nairobi</td>\n      <td>Female</td>\n      <td>300 - 399</td>\n      <td>C1</td>\n    </tr>\n    <tr>\n      <th>134</th>\n      <td>254702104050</td>\n      <td>2020-10-16</td>\n      <td>2020-11-13</td>\n      <td>366</td>\n      <td>World Bank</td>\n      <td>WB-BDS</td>\n      <td>1111</td>\n      <td>WB -BDS Language selection - English</td>\n      <td>1242</td>\n      <td>WB -BDS Language selection - English</td>\n      <td>10646</td>\n      <td>1</td>\n      <td>33300</td>\n      <td>Kakamega</td>\n      <td>Female</td>\n      <td>300 - 399</td>\n      <td>C2</td>\n    </tr>\n    <tr>\n      <th>2493</th>\n      <td>254708969999</td>\n      <td>2020-08-19</td>\n      <td>2020-11-24</td>\n      <td>366</td>\n      <td>World Bank</td>\n      <td>WB-BDS</td>\n      <td>1111</td>\n      <td>WB -BDS Language selection - English</td>\n      <td>1242</td>\n      <td>WB -BDS Language selection - English</td>\n      <td>10646</td>\n      <td>1</td>\n      <td>33300</td>\n      <td>Machakos</td>\n      <td>Female</td>\n      <td>300 - 399</td>\n      <td>C3</td>\n    </tr>\n    <tr>\n      <th>700</th>\n      <td>254711364756</td>\n      <td>2020-09-24</td>\n      <td>2020-09-25</td>\n      <td>366</td>\n      <td>World Bank</td>\n      <td>WB-BDS</td>\n      <td>1111</td>\n      <td>WB -BDS Language selection - English</td>\n      <td>1242</td>\n      <td>WB -BDS Language selection - English</td>\n      <td>10646</td>\n      <td>1</td>\n      <td>33300</td>\n      <td>Nakuru</td>\n      <td>Male</td>\n      <td>300 - 399</td>\n      <td>C1</td>\n    </tr>\n    <tr>\n      <th>1661</th>\n      <td>254742069939</td>\n      <td>2020-09-26</td>\n      <td>2020-09-28</td>\n      <td>366</td>\n      <td>World Bank</td>\n      <td>WB-BDS</td>\n      <td>1111</td>\n      <td>WB -BDS Language selection - English</td>\n      <td>1242</td>\n      <td>WB -BDS Language selection - English</td>\n      <td>10646</td>\n      <td>1</td>\n      <td>33300</td>\n      <td>Nyandarua</td>\n      <td>Male</td>\n      <td>300 - 399</td>\n      <td>C3</td>\n    </tr>\n    <tr>\n      <th>1601</th>\n      <td>254740841899</td>\n      <td>2020-08-19</td>\n      <td>2020-11-15</td>\n      <td>366</td>\n      <td>World Bank</td>\n      <td>WB-BDS</td>\n      <td>1111</td>\n      <td>WB -BDS Language selection - English</td>\n      <td>1242</td>\n      <td>WB -BDS Language selection - English</td>\n      <td>10646</td>\n      <td>1</td>\n      <td>33300</td>\n      <td>Nyandarua</td>\n      <td>Male</td>\n      <td>300 - 399</td>\n      <td>C3</td>\n    </tr>\n    <tr>\n      <th>...</th>\n      <td>...</td>\n      <td>...</td>\n      <td>...</td>\n      <td>...</td>\n      <td>...</td>\n      <td>...</td>\n      <td>...</td>\n      <td>...</td>\n      <td>...</td>\n      <td>...</td>\n      <td>...</td>\n      <td>...</td>\n      <td>...</td>\n      <td>...</td>\n      <td>...</td>\n      <td>...</td>\n      <td>...</td>\n    </tr>\n    <tr>\n      <th>1555</th>\n      <td>254729570532</td>\n      <td>2020-07-22</td>\n      <td>2020-08-23</td>\n      <td>400</td>\n      <td>World Bank</td>\n      <td>WB-BDS</td>\n      <td>1111</td>\n      <td>WB -BDS Language selection - English</td>\n      <td>1242</td>\n      <td>WB -BDS Language selection - English</td>\n      <td>10646</td>\n      <td>1</td>\n      <td>33300</td>\n      <td>Kiambu</td>\n      <td>Female</td>\n      <td>300 - 399</td>\n      <td>C3</td>\n    </tr>\n    <tr>\n      <th>1836</th>\n      <td>254758025432</td>\n      <td>2020-07-22</td>\n      <td>2020-08-24</td>\n      <td>400</td>\n      <td>World Bank</td>\n      <td>WB-BDS</td>\n      <td>1111</td>\n      <td>WB -BDS Language selection - English</td>\n      <td>1242</td>\n      <td>WB -BDS Language selection - English</td>\n      <td>10646</td>\n      <td>1</td>\n      <td>33300</td>\n      <td>Kiambu</td>\n      <td>Female</td>\n      <td>300 - 399</td>\n      <td>C3</td>\n    </tr>\n    <tr>\n      <th>2283</th>\n      <td>254799524823</td>\n      <td>2020-07-23</td>\n      <td>2020-08-14</td>\n      <td>400</td>\n      <td>World Bank</td>\n      <td>WB-BDS</td>\n      <td>1111</td>\n      <td>WB -BDS Language selection - English</td>\n      <td>1242</td>\n      <td>WB -BDS Language selection - English</td>\n      <td>10646</td>\n      <td>1</td>\n      <td>33300</td>\n      <td>Kisii</td>\n      <td>Female</td>\n      <td>300 - 399</td>\n      <td>C2</td>\n    </tr>\n    <tr>\n      <th>44</th>\n      <td>254700677714</td>\n      <td>2020-07-24</td>\n      <td>2020-09-30</td>\n      <td>400</td>\n      <td>World Bank</td>\n      <td>WB-BDS</td>\n      <td>1111</td>\n      <td>WB -BDS Language selection - English</td>\n      <td>1242</td>\n      <td>WB -BDS Language selection - English</td>\n      <td>10646</td>\n      <td>1</td>\n      <td>33300</td>\n      <td>Nakuru</td>\n      <td>Male</td>\n      <td>300 - 399</td>\n      <td>C1</td>\n    </tr>\n    <tr>\n      <th>577</th>\n      <td>254708069282</td>\n      <td>2020-07-23</td>\n      <td>2020-08-04</td>\n      <td>400</td>\n      <td>World Bank</td>\n      <td>WB-BDS</td>\n      <td>1111</td>\n      <td>WB -BDS Language selection - English</td>\n      <td>1242</td>\n      <td>WB -BDS Language selection - English</td>\n      <td>10646</td>\n      <td>1</td>\n      <td>33300</td>\n      <td>Mombasa</td>\n      <td>Male</td>\n      <td>300 - 399</td>\n      <td>C1</td>\n    </tr>\n    <tr>\n      <th>1392</th>\n      <td>254725841531</td>\n      <td>2020-07-22</td>\n      <td>2020-08-05</td>\n      <td>400</td>\n      <td>World Bank</td>\n      <td>WB-BDS</td>\n      <td>1111</td>\n      <td>WB -BDS Language selection - English</td>\n      <td>1242</td>\n      <td>WB -BDS Language selection - English</td>\n      <td>10646</td>\n      <td>1</td>\n      <td>33300</td>\n      <td>Bungoma</td>\n      <td>Female</td>\n      <td>300 - 399</td>\n      <td>C2</td>\n    </tr>\n    <tr>\n      <th>2668</th>\n      <td>254725866454</td>\n      <td>2020-07-22</td>\n      <td>2020-11-12</td>\n      <td>400</td>\n      <td>World Bank</td>\n      <td>WB-BDS</td>\n      <td>1111</td>\n      <td>WB -BDS Language selection - English</td>\n      <td>1242</td>\n      <td>WB -BDS Language selection - English</td>\n      <td>10646</td>\n      <td>1</td>\n      <td>33300</td>\n      <td>Nairobi</td>\n      <td>Female</td>\n      <td>300 - 399</td>\n      <td>C1</td>\n    </tr>\n    <tr>\n      <th>1360</th>\n      <td>254724926505</td>\n      <td>2020-07-23</td>\n      <td>2020-09-22</td>\n      <td>400</td>\n      <td>World Bank</td>\n      <td>WB-BDS</td>\n      <td>1111</td>\n      <td>WB -BDS Language selection - English</td>\n      <td>1242</td>\n      <td>WB -BDS Language selection - English</td>\n      <td>10646</td>\n      <td>1</td>\n      <td>33300</td>\n      <td>Kakamega</td>\n      <td>Female</td>\n      <td>300 - 399</td>\n      <td>C2</td>\n    </tr>\n    <tr>\n      <th>2182</th>\n      <td>254797291327</td>\n      <td>2020-07-23</td>\n      <td>2020-08-05</td>\n      <td>400</td>\n      <td>World Bank</td>\n      <td>WB-BDS</td>\n      <td>1111</td>\n      <td>WB -BDS Language selection - English</td>\n      <td>1242</td>\n      <td>WB -BDS Language selection - English</td>\n      <td>10646</td>\n      <td>1</td>\n      <td>33300</td>\n      <td>Nairobi</td>\n      <td>Male</td>\n      <td>300 - 399</td>\n      <td>C1</td>\n    </tr>\n    <tr>\n      <th>1104</th>\n      <td>254718613845</td>\n      <td>2020-08-19</td>\n      <td>2020-09-08</td>\n      <td>400</td>\n      <td>World Bank</td>\n      <td>WB-BDS</td>\n      <td>1111</td>\n      <td>WB -BDS Language selection - English</td>\n      <td>1242</td>\n      <td>WB -BDS Language selection - English</td>\n      <td>10646</td>\n      <td>1</td>\n      <td>33300</td>\n      <td>Nakuru</td>\n      <td>Female</td>\n      <td>300 - 399</td>\n      <td>C1</td>\n    </tr>\n    <tr>\n      <th>1992</th>\n      <td>254791813110</td>\n      <td>2020-07-23</td>\n      <td>2020-07-29</td>\n      <td>400</td>\n      <td>World Bank</td>\n      <td>WB-BDS</td>\n      <td>1111</td>\n      <td>WB -BDS Language selection - English</td>\n      <td>1242</td>\n      <td>WB -BDS Language selection - English</td>\n      <td>10646</td>\n      <td>1</td>\n      <td>33300</td>\n      <td>Machakos</td>\n      <td>Female</td>\n      <td>300 - 399</td>\n      <td>C3</td>\n    </tr>\n    <tr>\n      <th>436</th>\n      <td>254706518745</td>\n      <td>2020-07-22</td>\n      <td>2020-08-31</td>\n      <td>400</td>\n      <td>World Bank</td>\n      <td>WB-BDS</td>\n      <td>1111</td>\n      <td>WB -BDS Language selection - English</td>\n      <td>1242</td>\n      <td>WB -BDS Language selection - English</td>\n      <td>10646</td>\n      <td>1</td>\n      <td>33300</td>\n      <td>Migori</td>\n      <td>Male</td>\n      <td>300 - 399</td>\n      <td>C2</td>\n    </tr>\n    <tr>\n      <th>2045</th>\n      <td>254792685692</td>\n      <td>2020-07-22</td>\n      <td>2020-11-18</td>\n      <td>400</td>\n      <td>World Bank</td>\n      <td>WB-BDS</td>\n      <td>1111</td>\n      <td>WB -BDS Language selection - English</td>\n      <td>1242</td>\n      <td>WB -BDS Language selection - English</td>\n      <td>10646</td>\n      <td>1</td>\n      <td>33300</td>\n      <td>Nairobi</td>\n      <td>Male</td>\n      <td>300 - 399</td>\n      <td>C1</td>\n    </tr>\n    <tr>\n      <th>1858</th>\n      <td>254758936113</td>\n      <td>2020-07-22</td>\n      <td>2020-08-20</td>\n      <td>400</td>\n      <td>World Bank</td>\n      <td>WB-BDS</td>\n      <td>1111</td>\n      <td>WB -BDS Language selection - English</td>\n      <td>1242</td>\n      <td>WB -BDS Language selection - English</td>\n      <td>10646</td>\n      <td>1</td>\n      <td>33300</td>\n      <td>Migori</td>\n      <td>Male</td>\n      <td>300 - 399</td>\n      <td>C2</td>\n    </tr>\n    <tr>\n      <th>2146</th>\n      <td>254796437056</td>\n      <td>2020-07-23</td>\n      <td>2020-11-18</td>\n      <td>400</td>\n      <td>World Bank</td>\n      <td>WB-BDS</td>\n      <td>1111</td>\n      <td>WB -BDS Language selection - English</td>\n      <td>1242</td>\n      <td>WB -BDS Language selection - English</td>\n      <td>10646</td>\n      <td>1</td>\n      <td>33300</td>\n      <td>Nairobi</td>\n      <td>Female</td>\n      <td>300 - 399</td>\n      <td>C1</td>\n    </tr>\n  </tbody>\n</table>\n<p>814 rows × 17 columns</p>\n</div>"
     },
     "metadata": {},
     "execution_count": 130
    }
   ],
   "source": [
    "fullTrain_learners_int[fullTrain_learners_int.num_interactions <= 400].sort_values(by = ['num_interactions'])"
   ]
  },
  {
   "cell_type": "code",
   "execution_count": 126,
   "metadata": {},
   "outputs": [
    {
     "output_type": "execute_result",
     "data": {
      "text/plain": [
       "340"
      ]
     },
     "metadata": {},
     "execution_count": 126
    }
   ],
   "source": [
    "fullTrain_learners_int.num_interactions.min()"
   ]
  },
  {
   "cell_type": "code",
   "execution_count": 109,
   "metadata": {},
   "outputs": [
    {
     "output_type": "execute_result",
     "data": {
      "text/plain": [
       "int_bands\n",
       "< 100           0\n",
       "100 - 199       0\n",
       "200 - 299       0\n",
       "300 - 399     814\n",
       "400 - 499    1110\n",
       " > 500       1021\n",
       "Name: phone_number, dtype: int64"
      ]
     },
     "metadata": {},
     "execution_count": 109
    }
   ],
   "source": [
    "fullTrain_learners_int.groupby('int_bands').phone_number.count()"
   ]
  },
  {
   "source": [
    ">### General"
   ],
   "cell_type": "markdown",
   "metadata": {}
  },
  {
   "source": [
    ">### Gender"
   ],
   "cell_type": "markdown",
   "metadata": {}
  },
  {
   "cell_type": "code",
   "execution_count": 33,
   "metadata": {},
   "outputs": [
    {
     "output_type": "execute_result",
     "data": {
      "text/plain": [
       "gender\n",
       "Female    683\n",
       "Male      609\n",
       "Name: phone_number, dtype: int64"
      ]
     },
     "metadata": {},
     "execution_count": 33
    }
   ],
   "source": [
    "wbd_int_kisw.groupby(['gender']).phone_number.nunique()"
   ]
  },
  {
   "cell_type": "code",
   "execution_count": 34,
   "metadata": {},
   "outputs": [
    {
     "output_type": "execute_result",
     "data": {
      "text/plain": [
       "gender\n",
       "Female    1838\n",
       "Male      2150\n",
       "Name: phone_number, dtype: int64"
      ]
     },
     "metadata": {},
     "execution_count": 34
    }
   ],
   "source": [
    "wbd_int_eng.groupby(['gender']).phone_number.nunique()"
   ]
  },
  {
   "source": [
    ">### Cluster"
   ],
   "cell_type": "markdown",
   "metadata": {}
  },
  {
   "cell_type": "code",
   "execution_count": 93,
   "metadata": {},
   "outputs": [
    {
     "output_type": "execute_result",
     "data": {
      "text/plain": [
       "cluster\n",
       "C1    357\n",
       "C2    507\n",
       "C3    428\n",
       "Name: phone_number, dtype: int64"
      ]
     },
     "metadata": {},
     "execution_count": 93
    }
   ],
   "source": [
    "wbd_int_kisw.groupby(['cluster']).phone_number.nunique()"
   ]
  },
  {
   "source": [
    "# Interaction Level - High Level"
   ],
   "cell_type": "markdown",
   "metadata": {}
  },
  {
   "source": [
    ">## % Engagement by Category"
   ],
   "cell_type": "markdown",
   "metadata": {}
  },
  {
   "cell_type": "code",
   "execution_count": 35,
   "metadata": {},
   "outputs": [],
   "source": [
    "#defined function to get for each category\n",
    "def get_category(s):\n",
    "    df = wbd_interactions_CG.groupby([s]).phone_number.nunique().reset_index()\n",
    "    df.rename(columns={\"phone_number\": \"No_of_learners\"},inplace = True)\n",
    "    df['Percentage'] = df['No_of_learners'] / df['No_of_learners'].sum() * 100\n",
    "    return df"
   ]
  },
  {
   "cell_type": "code",
   "execution_count": 36,
   "metadata": {},
   "outputs": [],
   "source": [
    "def get_category_county(s):\n",
    "    df = wbd_interactions_CG.groupby([s]).phone_number.nunique().reset_index()\n",
    "    df.rename(columns={\"phone_number\": \"No_of_learners\"},inplace = True)\n",
    "    df['Percentage'] = df['No_of_learners'] / df['No_of_learners'].sum() * 100\n",
    "    df['cluster'] = df['county'].map(dict_cluster)\n",
    "    df.sort_values(by = ['cluster', 'Percentage'])\n",
    "    return df"
   ]
  },
  {
   "cell_type": "code",
   "execution_count": 37,
   "metadata": {},
   "outputs": [
    {
     "output_type": "execute_result",
     "data": {
      "text/plain": [
       "   gender  No_of_learners  Percentage\n",
       "0  Female            2448   47.635727\n",
       "1    Male            2691   52.364273"
      ],
      "text/html": "<div>\n<style scoped>\n    .dataframe tbody tr th:only-of-type {\n        vertical-align: middle;\n    }\n\n    .dataframe tbody tr th {\n        vertical-align: top;\n    }\n\n    .dataframe thead th {\n        text-align: right;\n    }\n</style>\n<table border=\"1\" class=\"dataframe\">\n  <thead>\n    <tr style=\"text-align: right;\">\n      <th></th>\n      <th>gender</th>\n      <th>No_of_learners</th>\n      <th>Percentage</th>\n    </tr>\n  </thead>\n  <tbody>\n    <tr>\n      <th>0</th>\n      <td>Female</td>\n      <td>2448</td>\n      <td>47.635727</td>\n    </tr>\n    <tr>\n      <th>1</th>\n      <td>Male</td>\n      <td>2691</td>\n      <td>52.364273</td>\n    </tr>\n  </tbody>\n</table>\n</div>"
     },
     "metadata": {},
     "execution_count": 37
    }
   ],
   "source": [
    "get_category('gender')"
   ]
  },
  {
   "cell_type": "code",
   "execution_count": 38,
   "metadata": {},
   "outputs": [
    {
     "output_type": "execute_result",
     "data": {
      "text/plain": [
       "       county  No_of_learners  Percentage cluster\n",
       "0     Bungoma             275    5.351236      C2\n",
       "1    Kakamega             486    9.457093      C2\n",
       "2      Kiambu             520   10.118700      C3\n",
       "3      Kilifi             296    5.759875      C3\n",
       "4       Kisii             304    5.915548      C2\n",
       "5      Kisumu             294    5.720957      C1\n",
       "6       Kitui             362    7.044172      C3\n",
       "7       Kwale             137    2.665888      C1\n",
       "8    Machakos             203    3.950185      C3\n",
       "9      Migori             363    7.063631      C2\n",
       "10    Mombasa             251    4.884219      C1\n",
       "11    Nairobi             670   13.037556      C1\n",
       "12     Nakuru             454    8.834404      C1\n",
       "13  Nyandarua             228    4.436661      C3\n",
       "14    Turkana             296    5.759875      C2"
      ],
      "text/html": "<div>\n<style scoped>\n    .dataframe tbody tr th:only-of-type {\n        vertical-align: middle;\n    }\n\n    .dataframe tbody tr th {\n        vertical-align: top;\n    }\n\n    .dataframe thead th {\n        text-align: right;\n    }\n</style>\n<table border=\"1\" class=\"dataframe\">\n  <thead>\n    <tr style=\"text-align: right;\">\n      <th></th>\n      <th>county</th>\n      <th>No_of_learners</th>\n      <th>Percentage</th>\n      <th>cluster</th>\n    </tr>\n  </thead>\n  <tbody>\n    <tr>\n      <th>0</th>\n      <td>Bungoma</td>\n      <td>275</td>\n      <td>5.351236</td>\n      <td>C2</td>\n    </tr>\n    <tr>\n      <th>1</th>\n      <td>Kakamega</td>\n      <td>486</td>\n      <td>9.457093</td>\n      <td>C2</td>\n    </tr>\n    <tr>\n      <th>2</th>\n      <td>Kiambu</td>\n      <td>520</td>\n      <td>10.118700</td>\n      <td>C3</td>\n    </tr>\n    <tr>\n      <th>3</th>\n      <td>Kilifi</td>\n      <td>296</td>\n      <td>5.759875</td>\n      <td>C3</td>\n    </tr>\n    <tr>\n      <th>4</th>\n      <td>Kisii</td>\n      <td>304</td>\n      <td>5.915548</td>\n      <td>C2</td>\n    </tr>\n    <tr>\n      <th>5</th>\n      <td>Kisumu</td>\n      <td>294</td>\n      <td>5.720957</td>\n      <td>C1</td>\n    </tr>\n    <tr>\n      <th>6</th>\n      <td>Kitui</td>\n      <td>362</td>\n      <td>7.044172</td>\n      <td>C3</td>\n    </tr>\n    <tr>\n      <th>7</th>\n      <td>Kwale</td>\n      <td>137</td>\n      <td>2.665888</td>\n      <td>C1</td>\n    </tr>\n    <tr>\n      <th>8</th>\n      <td>Machakos</td>\n      <td>203</td>\n      <td>3.950185</td>\n      <td>C3</td>\n    </tr>\n    <tr>\n      <th>9</th>\n      <td>Migori</td>\n      <td>363</td>\n      <td>7.063631</td>\n      <td>C2</td>\n    </tr>\n    <tr>\n      <th>10</th>\n      <td>Mombasa</td>\n      <td>251</td>\n      <td>4.884219</td>\n      <td>C1</td>\n    </tr>\n    <tr>\n      <th>11</th>\n      <td>Nairobi</td>\n      <td>670</td>\n      <td>13.037556</td>\n      <td>C1</td>\n    </tr>\n    <tr>\n      <th>12</th>\n      <td>Nakuru</td>\n      <td>454</td>\n      <td>8.834404</td>\n      <td>C1</td>\n    </tr>\n    <tr>\n      <th>13</th>\n      <td>Nyandarua</td>\n      <td>228</td>\n      <td>4.436661</td>\n      <td>C3</td>\n    </tr>\n    <tr>\n      <th>14</th>\n      <td>Turkana</td>\n      <td>296</td>\n      <td>5.759875</td>\n      <td>C2</td>\n    </tr>\n  </tbody>\n</table>\n</div>"
     },
     "metadata": {},
     "execution_count": 38
    }
   ],
   "source": [
    "get_category_county('county')"
   ]
  },
  {
   "source": [
    ">## Learners by Interaction Bands"
   ],
   "cell_type": "markdown",
   "metadata": {}
  },
  {
   "cell_type": "code",
   "execution_count": 39,
   "metadata": {},
   "outputs": [
    {
     "output_type": "execute_result",
     "data": {
      "text/plain": [
       "cluster  gender          C1          C2          C3\n",
       "0        Female  308.888889  477.057457  389.068692\n",
       "1          Male  292.326902  447.777042  382.825117"
      ],
      "text/html": "<div>\n<style scoped>\n    .dataframe tbody tr th:only-of-type {\n        vertical-align: middle;\n    }\n\n    .dataframe tbody tr th {\n        vertical-align: top;\n    }\n\n    .dataframe thead th {\n        text-align: right;\n    }\n</style>\n<table border=\"1\" class=\"dataframe\">\n  <thead>\n    <tr style=\"text-align: right;\">\n      <th>cluster</th>\n      <th>gender</th>\n      <th>C1</th>\n      <th>C2</th>\n      <th>C3</th>\n    </tr>\n  </thead>\n  <tbody>\n    <tr>\n      <th>0</th>\n      <td>Female</td>\n      <td>308.888889</td>\n      <td>477.057457</td>\n      <td>389.068692</td>\n    </tr>\n    <tr>\n      <th>1</th>\n      <td>Male</td>\n      <td>292.326902</td>\n      <td>447.777042</td>\n      <td>382.825117</td>\n    </tr>\n  </tbody>\n</table>\n</div>"
     },
     "metadata": {},
     "execution_count": 39
    }
   ],
   "source": [
    "wbd_interactions_CG.groupby(['gender','cluster']).num_interactions.mean().unstack().reset_index()"
   ]
  },
  {
   "cell_type": "code",
   "execution_count": 40,
   "metadata": {},
   "outputs": [
    {
     "output_type": "execute_result",
     "data": {
      "text/plain": [
       "gender     county      Female        Male\n",
       "0         Bungoma  573.613139  446.673913\n",
       "1        Kakamega  506.836910  457.308300\n",
       "2          Kiambu  328.429167  312.314286\n",
       "3          Kilifi  427.150794  476.970588\n",
       "4           Kisii  396.465753  395.018987\n",
       "5          Kisumu  336.762238  342.225166\n",
       "6           Kitui  477.994536  429.273743\n",
       "7           Kwale  329.830986  288.090909\n",
       "8        Machakos  403.930000  340.067961\n",
       "9          Migori  408.093023  407.429319\n",
       "10        Mombasa  281.024793  261.269231\n",
       "11        Nairobi  295.551084  277.242075\n",
       "12         Nakuru  319.153488  300.765690\n",
       "13      Nyandarua  314.953704  381.391667\n",
       "14        Turkana  503.684615  530.807229"
      ],
      "text/html": "<div>\n<style scoped>\n    .dataframe tbody tr th:only-of-type {\n        vertical-align: middle;\n    }\n\n    .dataframe tbody tr th {\n        vertical-align: top;\n    }\n\n    .dataframe thead th {\n        text-align: right;\n    }\n</style>\n<table border=\"1\" class=\"dataframe\">\n  <thead>\n    <tr style=\"text-align: right;\">\n      <th>gender</th>\n      <th>county</th>\n      <th>Female</th>\n      <th>Male</th>\n    </tr>\n  </thead>\n  <tbody>\n    <tr>\n      <th>0</th>\n      <td>Bungoma</td>\n      <td>573.613139</td>\n      <td>446.673913</td>\n    </tr>\n    <tr>\n      <th>1</th>\n      <td>Kakamega</td>\n      <td>506.836910</td>\n      <td>457.308300</td>\n    </tr>\n    <tr>\n      <th>2</th>\n      <td>Kiambu</td>\n      <td>328.429167</td>\n      <td>312.314286</td>\n    </tr>\n    <tr>\n      <th>3</th>\n      <td>Kilifi</td>\n      <td>427.150794</td>\n      <td>476.970588</td>\n    </tr>\n    <tr>\n      <th>4</th>\n      <td>Kisii</td>\n      <td>396.465753</td>\n      <td>395.018987</td>\n    </tr>\n    <tr>\n      <th>5</th>\n      <td>Kisumu</td>\n      <td>336.762238</td>\n      <td>342.225166</td>\n    </tr>\n    <tr>\n      <th>6</th>\n      <td>Kitui</td>\n      <td>477.994536</td>\n      <td>429.273743</td>\n    </tr>\n    <tr>\n      <th>7</th>\n      <td>Kwale</td>\n      <td>329.830986</td>\n      <td>288.090909</td>\n    </tr>\n    <tr>\n      <th>8</th>\n      <td>Machakos</td>\n      <td>403.930000</td>\n      <td>340.067961</td>\n    </tr>\n    <tr>\n      <th>9</th>\n      <td>Migori</td>\n      <td>408.093023</td>\n      <td>407.429319</td>\n    </tr>\n    <tr>\n      <th>10</th>\n      <td>Mombasa</td>\n      <td>281.024793</td>\n      <td>261.269231</td>\n    </tr>\n    <tr>\n      <th>11</th>\n      <td>Nairobi</td>\n      <td>295.551084</td>\n      <td>277.242075</td>\n    </tr>\n    <tr>\n      <th>12</th>\n      <td>Nakuru</td>\n      <td>319.153488</td>\n      <td>300.765690</td>\n    </tr>\n    <tr>\n      <th>13</th>\n      <td>Nyandarua</td>\n      <td>314.953704</td>\n      <td>381.391667</td>\n    </tr>\n    <tr>\n      <th>14</th>\n      <td>Turkana</td>\n      <td>503.684615</td>\n      <td>530.807229</td>\n    </tr>\n  </tbody>\n</table>\n</div>"
     },
     "metadata": {},
     "execution_count": 40
    }
   ],
   "source": [
    "wbd_interactions_CG.groupby(['county','gender']).num_interactions.mean().unstack().reset_index()"
   ]
  },
  {
   "cell_type": "code",
   "execution_count": 41,
   "metadata": {},
   "outputs": [
    {
     "output_type": "execute_result",
     "data": {
      "text/plain": [
       "       county  num_interactions\n",
       "0     Bungoma        509.912727\n",
       "1    Kakamega        481.053498\n",
       "2      Kiambu        319.751923\n",
       "3      Kilifi        455.763514\n",
       "4       Kisii        395.713816\n",
       "5      Kisumu        339.568027\n",
       "6       Kitui        453.903315\n",
       "7       Kwale        309.722628\n",
       "8    Machakos        371.527094\n",
       "9      Migori        407.743802\n",
       "10    Mombasa        270.792829\n",
       "11    Nairobi        286.068657\n",
       "12     Nakuru        309.473568\n",
       "13  Nyandarua        349.921053\n",
       "14    Turkana        518.895270"
      ],
      "text/html": "<div>\n<style scoped>\n    .dataframe tbody tr th:only-of-type {\n        vertical-align: middle;\n    }\n\n    .dataframe tbody tr th {\n        vertical-align: top;\n    }\n\n    .dataframe thead th {\n        text-align: right;\n    }\n</style>\n<table border=\"1\" class=\"dataframe\">\n  <thead>\n    <tr style=\"text-align: right;\">\n      <th></th>\n      <th>county</th>\n      <th>num_interactions</th>\n    </tr>\n  </thead>\n  <tbody>\n    <tr>\n      <th>0</th>\n      <td>Bungoma</td>\n      <td>509.912727</td>\n    </tr>\n    <tr>\n      <th>1</th>\n      <td>Kakamega</td>\n      <td>481.053498</td>\n    </tr>\n    <tr>\n      <th>2</th>\n      <td>Kiambu</td>\n      <td>319.751923</td>\n    </tr>\n    <tr>\n      <th>3</th>\n      <td>Kilifi</td>\n      <td>455.763514</td>\n    </tr>\n    <tr>\n      <th>4</th>\n      <td>Kisii</td>\n      <td>395.713816</td>\n    </tr>\n    <tr>\n      <th>5</th>\n      <td>Kisumu</td>\n      <td>339.568027</td>\n    </tr>\n    <tr>\n      <th>6</th>\n      <td>Kitui</td>\n      <td>453.903315</td>\n    </tr>\n    <tr>\n      <th>7</th>\n      <td>Kwale</td>\n      <td>309.722628</td>\n    </tr>\n    <tr>\n      <th>8</th>\n      <td>Machakos</td>\n      <td>371.527094</td>\n    </tr>\n    <tr>\n      <th>9</th>\n      <td>Migori</td>\n      <td>407.743802</td>\n    </tr>\n    <tr>\n      <th>10</th>\n      <td>Mombasa</td>\n      <td>270.792829</td>\n    </tr>\n    <tr>\n      <th>11</th>\n      <td>Nairobi</td>\n      <td>286.068657</td>\n    </tr>\n    <tr>\n      <th>12</th>\n      <td>Nakuru</td>\n      <td>309.473568</td>\n    </tr>\n    <tr>\n      <th>13</th>\n      <td>Nyandarua</td>\n      <td>349.921053</td>\n    </tr>\n    <tr>\n      <th>14</th>\n      <td>Turkana</td>\n      <td>518.895270</td>\n    </tr>\n  </tbody>\n</table>\n</div>"
     },
     "metadata": {},
     "execution_count": 41
    }
   ],
   "source": [
    "wbd_interactions_CG.groupby(['county']).num_interactions.mean().reset_index()"
   ]
  },
  {
   "source": [
    "### Mean Interactions"
   ],
   "cell_type": "markdown",
   "metadata": {}
  },
  {
   "cell_type": "code",
   "execution_count": 42,
   "metadata": {},
   "outputs": [
    {
     "output_type": "execute_result",
     "data": {
      "text/plain": [
       "380.29812342812926"
      ]
     },
     "metadata": {},
     "execution_count": 42
    }
   ],
   "source": [
    "wbd_interactions_CG.num_interactions.mean()"
   ]
  },
  {
   "cell_type": "code",
   "execution_count": 14,
   "metadata": {},
   "outputs": [
    {
     "output_type": "execute_result",
     "data": {
      "text/plain": [
       "5064"
      ]
     },
     "metadata": {},
     "execution_count": 14
    }
   ],
   "source": [
    "wbd_interactions_CG[wbd_interactions_CG.gender == 'Female'].num_interactions.max()"
   ]
  },
  {
   "cell_type": "code",
   "execution_count": 15,
   "metadata": {},
   "outputs": [
    {
     "output_type": "execute_result",
     "data": {
      "text/plain": [
       "5175"
      ]
     },
     "metadata": {},
     "execution_count": 15
    }
   ],
   "source": [
    "wbd_interactions_CG[wbd_interactions_CG.gender == 'Male'].num_interactions.max()"
   ]
  },
  {
   "cell_type": "code",
   "execution_count": 45,
   "metadata": {},
   "outputs": [
    {
     "output_type": "execute_result",
     "data": {
      "text/plain": [
       "373.3162393162393"
      ]
     },
     "metadata": {},
     "execution_count": 45
    }
   ],
   "source": [
    "wbd_interactions_CG[wbd_interactions_CG.gender == 'Male'].num_interactions.mean()"
   ]
  },
  {
   "cell_type": "code",
   "execution_count": 46,
   "metadata": {},
   "outputs": [
    {
     "output_type": "execute_result",
     "data": {
      "text/plain": [
       "385.7625854568055"
      ]
     },
     "metadata": {},
     "execution_count": 46
    }
   ],
   "source": [
    "wbd_interactions_CG[wbd_interactions_CG.cluster == 'C3'].num_interactions.mean()"
   ]
  },
  {
   "source": [
    "### Median Interactions"
   ],
   "cell_type": "markdown",
   "metadata": {}
  },
  {
   "cell_type": "code",
   "execution_count": 47,
   "metadata": {},
   "outputs": [
    {
     "output_type": "execute_result",
     "data": {
      "text/plain": [
       "380.0"
      ]
     },
     "metadata": {},
     "execution_count": 47
    }
   ],
   "source": [
    "wbd_interactions_CG.num_interactions.median()"
   ]
  },
  {
   "cell_type": "code",
   "execution_count": null,
   "metadata": {},
   "outputs": [],
   "source": [
    "wbd_interactions_CG[wbd_interactions_CG.gender == 'Female'].num_interactions.median()"
   ]
  },
  {
   "cell_type": "code",
   "execution_count": 48,
   "metadata": {},
   "outputs": [
    {
     "output_type": "execute_result",
     "data": {
      "text/plain": [
       "379.0"
      ]
     },
     "metadata": {},
     "execution_count": 48
    }
   ],
   "source": [
    "wbd_interactions_CG[wbd_interactions_CG.gender == 'Female'].num_interactions.median()"
   ]
  },
  {
   "cell_type": "code",
   "execution_count": 49,
   "metadata": {},
   "outputs": [
    {
     "output_type": "execute_result",
     "data": {
      "text/plain": [
       "381.0"
      ]
     },
     "metadata": {},
     "execution_count": 49
    }
   ],
   "source": [
    "wbd_interactions_CG[wbd_interactions_CG.gender == 'Male'].num_interactions.median()"
   ]
  },
  {
   "cell_type": "code",
   "execution_count": 50,
   "metadata": {},
   "outputs": [
    {
     "output_type": "execute_result",
     "data": {
      "text/plain": [
       "383.0"
      ]
     },
     "metadata": {},
     "execution_count": 50
    }
   ],
   "source": [
    "wbd_interactions_CG[wbd_interactions_CG.cluster == 'C3'].num_interactions.median()"
   ]
  },
  {
   "source": [
    "## Calculations"
   ],
   "cell_type": "markdown",
   "metadata": {}
  },
  {
   "cell_type": "code",
   "execution_count": 51,
   "metadata": {},
   "outputs": [],
   "source": [
    "def get_bands_category(s):\n",
    "    df = wbd_interactions_CG.groupby([s]).phone_number.nunique().reset_index()\n",
    "    df.rename(columns={\"phone_number\": \"No_of_learners\"},inplace = True)\n",
    "    df['Percentage'] = df['No_of_learners'] / df['No_of_learners'].sum() * 100\n",
    "    return df"
   ]
  },
  {
   "cell_type": "code",
   "execution_count": 52,
   "metadata": {},
   "outputs": [
    {
     "output_type": "execute_result",
     "data": {
      "text/plain": [
       "   int_bands  No_of_learners  Percentage\n",
       "0      < 100            1377   26.639582\n",
       "1  100 - 199             486    9.402205\n",
       "2  200 - 299             267    5.165409\n",
       "3  300 - 399             903   17.469530\n",
       "4  400 - 499            1114   21.551557\n",
       "5      > 500            1022   19.771716"
      ],
      "text/html": "<div>\n<style scoped>\n    .dataframe tbody tr th:only-of-type {\n        vertical-align: middle;\n    }\n\n    .dataframe tbody tr th {\n        vertical-align: top;\n    }\n\n    .dataframe thead th {\n        text-align: right;\n    }\n</style>\n<table border=\"1\" class=\"dataframe\">\n  <thead>\n    <tr style=\"text-align: right;\">\n      <th></th>\n      <th>int_bands</th>\n      <th>No_of_learners</th>\n      <th>Percentage</th>\n    </tr>\n  </thead>\n  <tbody>\n    <tr>\n      <th>0</th>\n      <td>&lt; 100</td>\n      <td>1377</td>\n      <td>26.639582</td>\n    </tr>\n    <tr>\n      <th>1</th>\n      <td>100 - 199</td>\n      <td>486</td>\n      <td>9.402205</td>\n    </tr>\n    <tr>\n      <th>2</th>\n      <td>200 - 299</td>\n      <td>267</td>\n      <td>5.165409</td>\n    </tr>\n    <tr>\n      <th>3</th>\n      <td>300 - 399</td>\n      <td>903</td>\n      <td>17.469530</td>\n    </tr>\n    <tr>\n      <th>4</th>\n      <td>400 - 499</td>\n      <td>1114</td>\n      <td>21.551557</td>\n    </tr>\n    <tr>\n      <th>5</th>\n      <td>&gt; 500</td>\n      <td>1022</td>\n      <td>19.771716</td>\n    </tr>\n  </tbody>\n</table>\n</div>"
     },
     "metadata": {},
     "execution_count": 52
    }
   ],
   "source": [
    "get_bands_category('int_bands')"
   ]
  },
  {
   "cell_type": "code",
   "execution_count": 219,
   "metadata": {},
   "outputs": [
    {
     "output_type": "execute_result",
     "data": {
      "text/plain": [
       "gender  int_bands  Female  Male\n",
       "0           < 100     645   717\n",
       "1       100 - 199     247   233\n",
       "2       200 - 299     130   137\n",
       "3       300 - 399     427   474\n",
       "4       400 - 499     477   635\n",
       "5           > 500     522   495"
      ],
      "text/html": "<div>\n<style scoped>\n    .dataframe tbody tr th:only-of-type {\n        vertical-align: middle;\n    }\n\n    .dataframe tbody tr th {\n        vertical-align: top;\n    }\n\n    .dataframe thead th {\n        text-align: right;\n    }\n</style>\n<table border=\"1\" class=\"dataframe\">\n  <thead>\n    <tr style=\"text-align: right;\">\n      <th>gender</th>\n      <th>int_bands</th>\n      <th>Female</th>\n      <th>Male</th>\n    </tr>\n  </thead>\n  <tbody>\n    <tr>\n      <th>0</th>\n      <td>&lt; 100</td>\n      <td>645</td>\n      <td>717</td>\n    </tr>\n    <tr>\n      <th>1</th>\n      <td>100 - 199</td>\n      <td>247</td>\n      <td>233</td>\n    </tr>\n    <tr>\n      <th>2</th>\n      <td>200 - 299</td>\n      <td>130</td>\n      <td>137</td>\n    </tr>\n    <tr>\n      <th>3</th>\n      <td>300 - 399</td>\n      <td>427</td>\n      <td>474</td>\n    </tr>\n    <tr>\n      <th>4</th>\n      <td>400 - 499</td>\n      <td>477</td>\n      <td>635</td>\n    </tr>\n    <tr>\n      <th>5</th>\n      <td>&gt; 500</td>\n      <td>522</td>\n      <td>495</td>\n    </tr>\n  </tbody>\n</table>\n</div>"
     },
     "metadata": {},
     "execution_count": 219
    }
   ],
   "source": [
    "wbd_interactions_CG.groupby(['int_bands','gender']).phone_number.nunique().unstack().reset_index()"
   ]
  },
  {
   "cell_type": "code",
   "execution_count": 220,
   "metadata": {},
   "outputs": [
    {
     "output_type": "execute_result",
     "data": {
      "text/plain": [
       "cluster  int_bands   C1   C2   C3\n",
       "0            < 100  637  327  398\n",
       "1        100 - 199  199  138  143\n",
       "2        200 - 299   82   98   87\n",
       "3        300 - 399  329  291  281\n",
       "4        400 - 499  320  411  381\n",
       "5            > 500  239  459  319"
      ],
      "text/html": "<div>\n<style scoped>\n    .dataframe tbody tr th:only-of-type {\n        vertical-align: middle;\n    }\n\n    .dataframe tbody tr th {\n        vertical-align: top;\n    }\n\n    .dataframe thead th {\n        text-align: right;\n    }\n</style>\n<table border=\"1\" class=\"dataframe\">\n  <thead>\n    <tr style=\"text-align: right;\">\n      <th>cluster</th>\n      <th>int_bands</th>\n      <th>C1</th>\n      <th>C2</th>\n      <th>C3</th>\n    </tr>\n  </thead>\n  <tbody>\n    <tr>\n      <th>0</th>\n      <td>&lt; 100</td>\n      <td>637</td>\n      <td>327</td>\n      <td>398</td>\n    </tr>\n    <tr>\n      <th>1</th>\n      <td>100 - 199</td>\n      <td>199</td>\n      <td>138</td>\n      <td>143</td>\n    </tr>\n    <tr>\n      <th>2</th>\n      <td>200 - 299</td>\n      <td>82</td>\n      <td>98</td>\n      <td>87</td>\n    </tr>\n    <tr>\n      <th>3</th>\n      <td>300 - 399</td>\n      <td>329</td>\n      <td>291</td>\n      <td>281</td>\n    </tr>\n    <tr>\n      <th>4</th>\n      <td>400 - 499</td>\n      <td>320</td>\n      <td>411</td>\n      <td>381</td>\n    </tr>\n    <tr>\n      <th>5</th>\n      <td>&gt; 500</td>\n      <td>239</td>\n      <td>459</td>\n      <td>319</td>\n    </tr>\n  </tbody>\n</table>\n</div>"
     },
     "metadata": {},
     "execution_count": 220
    }
   ],
   "source": [
    "wbd_interactions_CG.groupby(['int_bands','cluster']).phone_number.nunique().unstack().reset_index()"
   ]
  },
  {
   "source": [
    ">## Learners by Day and Time"
   ],
   "cell_type": "markdown",
   "metadata": {}
  },
  {
   "cell_type": "code",
   "execution_count": 221,
   "metadata": {},
   "outputs": [
    {
     "output_type": "execute_result",
     "data": {
      "text/plain": [
       "time_interval   mode_day  Afternoon  Early Morning  Evening  Morning  Night\n",
       "0                 Friday        174             22      398      245    221\n",
       "1                 Monday         86              8       98       74     84\n",
       "2               Saturday        115             35      241      192    159\n",
       "3                 Sunday         56             17      124       85     82\n",
       "4               Thursday        200             81      433      336    262\n",
       "5                Tuesday         58             13      263       84    108\n",
       "6              Wednesday         77             14      401      114    209"
      ],
      "text/html": "<div>\n<style scoped>\n    .dataframe tbody tr th:only-of-type {\n        vertical-align: middle;\n    }\n\n    .dataframe tbody tr th {\n        vertical-align: top;\n    }\n\n    .dataframe thead th {\n        text-align: right;\n    }\n</style>\n<table border=\"1\" class=\"dataframe\">\n  <thead>\n    <tr style=\"text-align: right;\">\n      <th>time_interval</th>\n      <th>mode_day</th>\n      <th>Afternoon</th>\n      <th>Early Morning</th>\n      <th>Evening</th>\n      <th>Morning</th>\n      <th>Night</th>\n    </tr>\n  </thead>\n  <tbody>\n    <tr>\n      <th>0</th>\n      <td>Friday</td>\n      <td>174</td>\n      <td>22</td>\n      <td>398</td>\n      <td>245</td>\n      <td>221</td>\n    </tr>\n    <tr>\n      <th>1</th>\n      <td>Monday</td>\n      <td>86</td>\n      <td>8</td>\n      <td>98</td>\n      <td>74</td>\n      <td>84</td>\n    </tr>\n    <tr>\n      <th>2</th>\n      <td>Saturday</td>\n      <td>115</td>\n      <td>35</td>\n      <td>241</td>\n      <td>192</td>\n      <td>159</td>\n    </tr>\n    <tr>\n      <th>3</th>\n      <td>Sunday</td>\n      <td>56</td>\n      <td>17</td>\n      <td>124</td>\n      <td>85</td>\n      <td>82</td>\n    </tr>\n    <tr>\n      <th>4</th>\n      <td>Thursday</td>\n      <td>200</td>\n      <td>81</td>\n      <td>433</td>\n      <td>336</td>\n      <td>262</td>\n    </tr>\n    <tr>\n      <th>5</th>\n      <td>Tuesday</td>\n      <td>58</td>\n      <td>13</td>\n      <td>263</td>\n      <td>84</td>\n      <td>108</td>\n    </tr>\n    <tr>\n      <th>6</th>\n      <td>Wednesday</td>\n      <td>77</td>\n      <td>14</td>\n      <td>401</td>\n      <td>114</td>\n      <td>209</td>\n    </tr>\n  </tbody>\n</table>\n</div>"
     },
     "metadata": {},
     "execution_count": 221
    }
   ],
   "source": [
    "wbd_behavioral.groupby(['mode_day','time_interval']).phone_number.nunique().unstack().reset_index()"
   ]
  },
  {
   "cell_type": "code",
   "execution_count": null,
   "metadata": {},
   "outputs": [],
   "source": [
    "# Gender"
   ]
  },
  {
   "cell_type": "code",
   "execution_count": 225,
   "metadata": {},
   "outputs": [
    {
     "output_type": "execute_result",
     "data": {
      "text/plain": [
       "time_interval   mode_day  Afternoon  Early Morning  Evening  Morning  Night\n",
       "0                 Friday         86             11      208      136    126\n",
       "1                 Monday         36              5       52       39     51\n",
       "2               Saturday         58             23      104      116     79\n",
       "3                 Sunday         30              9       55       53     42\n",
       "4               Thursday         98             49      232      179    145\n",
       "5                Tuesday         34              5      130       47     46\n",
       "6              Wednesday         37              8      200       51    111"
      ],
      "text/html": "<div>\n<style scoped>\n    .dataframe tbody tr th:only-of-type {\n        vertical-align: middle;\n    }\n\n    .dataframe tbody tr th {\n        vertical-align: top;\n    }\n\n    .dataframe thead th {\n        text-align: right;\n    }\n</style>\n<table border=\"1\" class=\"dataframe\">\n  <thead>\n    <tr style=\"text-align: right;\">\n      <th>time_interval</th>\n      <th>mode_day</th>\n      <th>Afternoon</th>\n      <th>Early Morning</th>\n      <th>Evening</th>\n      <th>Morning</th>\n      <th>Night</th>\n    </tr>\n  </thead>\n  <tbody>\n    <tr>\n      <th>0</th>\n      <td>Friday</td>\n      <td>86</td>\n      <td>11</td>\n      <td>208</td>\n      <td>136</td>\n      <td>126</td>\n    </tr>\n    <tr>\n      <th>1</th>\n      <td>Monday</td>\n      <td>36</td>\n      <td>5</td>\n      <td>52</td>\n      <td>39</td>\n      <td>51</td>\n    </tr>\n    <tr>\n      <th>2</th>\n      <td>Saturday</td>\n      <td>58</td>\n      <td>23</td>\n      <td>104</td>\n      <td>116</td>\n      <td>79</td>\n    </tr>\n    <tr>\n      <th>3</th>\n      <td>Sunday</td>\n      <td>30</td>\n      <td>9</td>\n      <td>55</td>\n      <td>53</td>\n      <td>42</td>\n    </tr>\n    <tr>\n      <th>4</th>\n      <td>Thursday</td>\n      <td>98</td>\n      <td>49</td>\n      <td>232</td>\n      <td>179</td>\n      <td>145</td>\n    </tr>\n    <tr>\n      <th>5</th>\n      <td>Tuesday</td>\n      <td>34</td>\n      <td>5</td>\n      <td>130</td>\n      <td>47</td>\n      <td>46</td>\n    </tr>\n    <tr>\n      <th>6</th>\n      <td>Wednesday</td>\n      <td>37</td>\n      <td>8</td>\n      <td>200</td>\n      <td>51</td>\n      <td>111</td>\n    </tr>\n  </tbody>\n</table>\n</div>"
     },
     "metadata": {},
     "execution_count": 225
    }
   ],
   "source": [
    "wbd_behavioral[wbd_behavioral.gender == 'Male'].groupby(['mode_day','time_interval']).phone_number.nunique().unstack().reset_index()"
   ]
  },
  {
   "cell_type": "code",
   "execution_count": null,
   "metadata": {},
   "outputs": [],
   "source": [
    "# CLUSTER"
   ]
  },
  {
   "cell_type": "code",
   "execution_count": 228,
   "metadata": {},
   "outputs": [
    {
     "output_type": "execute_result",
     "data": {
      "text/plain": [
       "time_interval   mode_day  Afternoon  Early Morning  Evening  Morning  Night\n",
       "0                 Friday         52              5      124       79     71\n",
       "1                 Monday         15              5       35       26     33\n",
       "2               Saturday         37             14       62       67     53\n",
       "3                 Sunday         19              6       45       34     28\n",
       "4               Thursday         61             21      141       81     75\n",
       "5                Tuesday         25              6       82       26     32\n",
       "6              Wednesday         22              6      124       46     51"
      ],
      "text/html": "<div>\n<style scoped>\n    .dataframe tbody tr th:only-of-type {\n        vertical-align: middle;\n    }\n\n    .dataframe tbody tr th {\n        vertical-align: top;\n    }\n\n    .dataframe thead th {\n        text-align: right;\n    }\n</style>\n<table border=\"1\" class=\"dataframe\">\n  <thead>\n    <tr style=\"text-align: right;\">\n      <th>time_interval</th>\n      <th>mode_day</th>\n      <th>Afternoon</th>\n      <th>Early Morning</th>\n      <th>Evening</th>\n      <th>Morning</th>\n      <th>Night</th>\n    </tr>\n  </thead>\n  <tbody>\n    <tr>\n      <th>0</th>\n      <td>Friday</td>\n      <td>52</td>\n      <td>5</td>\n      <td>124</td>\n      <td>79</td>\n      <td>71</td>\n    </tr>\n    <tr>\n      <th>1</th>\n      <td>Monday</td>\n      <td>15</td>\n      <td>5</td>\n      <td>35</td>\n      <td>26</td>\n      <td>33</td>\n    </tr>\n    <tr>\n      <th>2</th>\n      <td>Saturday</td>\n      <td>37</td>\n      <td>14</td>\n      <td>62</td>\n      <td>67</td>\n      <td>53</td>\n    </tr>\n    <tr>\n      <th>3</th>\n      <td>Sunday</td>\n      <td>19</td>\n      <td>6</td>\n      <td>45</td>\n      <td>34</td>\n      <td>28</td>\n    </tr>\n    <tr>\n      <th>4</th>\n      <td>Thursday</td>\n      <td>61</td>\n      <td>21</td>\n      <td>141</td>\n      <td>81</td>\n      <td>75</td>\n    </tr>\n    <tr>\n      <th>5</th>\n      <td>Tuesday</td>\n      <td>25</td>\n      <td>6</td>\n      <td>82</td>\n      <td>26</td>\n      <td>32</td>\n    </tr>\n    <tr>\n      <th>6</th>\n      <td>Wednesday</td>\n      <td>22</td>\n      <td>6</td>\n      <td>124</td>\n      <td>46</td>\n      <td>51</td>\n    </tr>\n  </tbody>\n</table>\n</div>"
     },
     "metadata": {},
     "execution_count": 228
    }
   ],
   "source": [
    "wbd_behavioral[wbd_behavioral.cluster == 'C3'].groupby(['mode_day','time_interval']).learner_id.nunique().unstack().reset_index()"
   ]
  },
  {
   "cell_type": "code",
   "execution_count": null,
   "metadata": {},
   "outputs": [],
   "source": [
    "# COUNTY"
   ]
  },
  {
   "cell_type": "code",
   "execution_count": 369,
   "metadata": {},
   "outputs": [
    {
     "output_type": "execute_result",
     "data": {
      "text/plain": [
       "time_interval   mode_day  Early Morning  Morning  Afternoon  Evening  Night\n",
       "0                 Friday            NaN      9.0       10.0     20.0   10.0\n",
       "1                 Monday            1.0      NaN        NaN      4.0    5.0\n",
       "2               Saturday            NaN     15.0        5.0      6.0    4.0\n",
       "3                 Sunday            NaN      NaN        2.0      7.0    2.0\n",
       "4               Thursday            2.0      7.0        6.0     20.0   11.0\n",
       "5                Tuesday            NaN      4.0        4.0     10.0    4.0\n",
       "6              Wednesday            NaN      2.0        6.0     20.0    7.0"
      ],
      "text/html": "<div>\n<style scoped>\n    .dataframe tbody tr th:only-of-type {\n        vertical-align: middle;\n    }\n\n    .dataframe tbody tr th {\n        vertical-align: top;\n    }\n\n    .dataframe thead th {\n        text-align: right;\n    }\n</style>\n<table border=\"1\" class=\"dataframe\">\n  <thead>\n    <tr style=\"text-align: right;\">\n      <th>time_interval</th>\n      <th>mode_day</th>\n      <th>Early Morning</th>\n      <th>Morning</th>\n      <th>Afternoon</th>\n      <th>Evening</th>\n      <th>Night</th>\n    </tr>\n  </thead>\n  <tbody>\n    <tr>\n      <th>0</th>\n      <td>Friday</td>\n      <td>NaN</td>\n      <td>9.0</td>\n      <td>10.0</td>\n      <td>20.0</td>\n      <td>10.0</td>\n    </tr>\n    <tr>\n      <th>1</th>\n      <td>Monday</td>\n      <td>1.0</td>\n      <td>NaN</td>\n      <td>NaN</td>\n      <td>4.0</td>\n      <td>5.0</td>\n    </tr>\n    <tr>\n      <th>2</th>\n      <td>Saturday</td>\n      <td>NaN</td>\n      <td>15.0</td>\n      <td>5.0</td>\n      <td>6.0</td>\n      <td>4.0</td>\n    </tr>\n    <tr>\n      <th>3</th>\n      <td>Sunday</td>\n      <td>NaN</td>\n      <td>NaN</td>\n      <td>2.0</td>\n      <td>7.0</td>\n      <td>2.0</td>\n    </tr>\n    <tr>\n      <th>4</th>\n      <td>Thursday</td>\n      <td>2.0</td>\n      <td>7.0</td>\n      <td>6.0</td>\n      <td>20.0</td>\n      <td>11.0</td>\n    </tr>\n    <tr>\n      <th>5</th>\n      <td>Tuesday</td>\n      <td>NaN</td>\n      <td>4.0</td>\n      <td>4.0</td>\n      <td>10.0</td>\n      <td>4.0</td>\n    </tr>\n    <tr>\n      <th>6</th>\n      <td>Wednesday</td>\n      <td>NaN</td>\n      <td>2.0</td>\n      <td>6.0</td>\n      <td>20.0</td>\n      <td>7.0</td>\n    </tr>\n  </tbody>\n</table>\n</div>"
     },
     "metadata": {},
     "execution_count": 369
    }
   ],
   "source": [
    "wbd_beh_county = wbd_behavioral[wbd_behavioral.county == 'Machakos'].groupby(['mode_day','time_interval']).learner_id.nunique().unstack().reset_index()\n",
    "wbd_beh_county[['mode_day','Early Morning','Morning','Afternoon','Evening','Night']]"
   ]
  },
  {
   "source": [
    ">## Duration"
   ],
   "cell_type": "markdown",
   "metadata": {}
  },
  {
   "cell_type": "code",
   "execution_count": 371,
   "metadata": {},
   "outputs": [
    {
     "output_type": "execute_result",
     "data": {
      "text/plain": [
       "array([1490287, 1493543, 1493697, ..., 1492813, 1494850, 1492046],\n",
       "      dtype=int64)"
      ]
     },
     "metadata": {},
     "execution_count": 371
    }
   ],
   "source": [
    "wbd_int.learner_id.unique(x)"
   ]
  },
  {
   "cell_type": "code",
   "execution_count": 384,
   "metadata": {},
   "outputs": [
    {
     "output_type": "execute_result",
     "data": {
      "text/plain": [
       "         Unnamed: 0  learner_id  phone_number  partner_id partner_name  \\\n",
       "1964437     1964438     1492813  254799981305          82   World Bank   \n",
       "1964438     1964439     1492813  254799981305          82   World Bank   \n",
       "\n",
       "        project_name  program_id program_code  program_name  variation_id  \\\n",
       "1964437       WB-BDS        1099        BDSRG  Registration          1230   \n",
       "1964438       WB-BDS        1099        BDSRG  Registration          1230   \n",
       "\n",
       "         ... message_type object_id  \\\n",
       "1964437  ...            1     91916   \n",
       "1964438  ...            1     91915   \n",
       "\n",
       "                                               message_out   message_in  \\\n",
       "1964437  (5/20) 6. Pay (Ksh 150/-) via MPesa, debit car...  FLIGHT    =   \n",
       "1964438  (4/20) 5. Submit your most preferred name of t...            A   \n",
       "\n",
       "         sender outbox_id           created_at  inbox_id  user_response digits  \n",
       "1964437   33300  35166389  2020-11-13 21:18:46  35379094            NaN     12  \n",
       "1964438   33300  33830805  2020-10-01 14:08:02  34207722    FLIGHT    =     12  \n",
       "\n",
       "[2 rows x 23 columns]"
      ],
      "text/html": "<div>\n<style scoped>\n    .dataframe tbody tr th:only-of-type {\n        vertical-align: middle;\n    }\n\n    .dataframe tbody tr th {\n        vertical-align: top;\n    }\n\n    .dataframe thead th {\n        text-align: right;\n    }\n</style>\n<table border=\"1\" class=\"dataframe\">\n  <thead>\n    <tr style=\"text-align: right;\">\n      <th></th>\n      <th>Unnamed: 0</th>\n      <th>learner_id</th>\n      <th>phone_number</th>\n      <th>partner_id</th>\n      <th>partner_name</th>\n      <th>project_name</th>\n      <th>program_id</th>\n      <th>program_code</th>\n      <th>program_name</th>\n      <th>variation_id</th>\n      <th>...</th>\n      <th>message_type</th>\n      <th>object_id</th>\n      <th>message_out</th>\n      <th>message_in</th>\n      <th>sender</th>\n      <th>outbox_id</th>\n      <th>created_at</th>\n      <th>inbox_id</th>\n      <th>user_response</th>\n      <th>digits</th>\n    </tr>\n  </thead>\n  <tbody>\n    <tr>\n      <th>1964437</th>\n      <td>1964438</td>\n      <td>1492813</td>\n      <td>254799981305</td>\n      <td>82</td>\n      <td>World Bank</td>\n      <td>WB-BDS</td>\n      <td>1099</td>\n      <td>BDSRG</td>\n      <td>Registration</td>\n      <td>1230</td>\n      <td>...</td>\n      <td>1</td>\n      <td>91916</td>\n      <td>(5/20) 6. Pay (Ksh 150/-) via MPesa, debit car...</td>\n      <td>FLIGHT    =</td>\n      <td>33300</td>\n      <td>35166389</td>\n      <td>2020-11-13 21:18:46</td>\n      <td>35379094</td>\n      <td>NaN</td>\n      <td>12</td>\n    </tr>\n    <tr>\n      <th>1964438</th>\n      <td>1964439</td>\n      <td>1492813</td>\n      <td>254799981305</td>\n      <td>82</td>\n      <td>World Bank</td>\n      <td>WB-BDS</td>\n      <td>1099</td>\n      <td>BDSRG</td>\n      <td>Registration</td>\n      <td>1230</td>\n      <td>...</td>\n      <td>1</td>\n      <td>91915</td>\n      <td>(4/20) 5. Submit your most preferred name of t...</td>\n      <td>A</td>\n      <td>33300</td>\n      <td>33830805</td>\n      <td>2020-10-01 14:08:02</td>\n      <td>34207722</td>\n      <td>FLIGHT    =</td>\n      <td>12</td>\n    </tr>\n  </tbody>\n</table>\n<p>2 rows × 23 columns</p>\n</div>"
     },
     "metadata": {},
     "execution_count": 384
    }
   ],
   "source": [
    "wbd_int_test = wbd_int[wbd_int.learner_id == 1492813]\n",
    "wbd_int_test.head(2)"
   ]
  },
  {
   "cell_type": "code",
   "execution_count": 385,
   "metadata": {},
   "outputs": [
    {
     "output_type": "stream",
     "name": "stdout",
     "text": [
      "2020-09-22 16:36:34\n2020-11-13 21:18:46\n"
     ]
    }
   ],
   "source": [
    "print(wbd_int_test.created_at.min())\n",
    "print(wbd_int_test.created_at.max())"
   ]
  },
  {
   "source": [
    "# Data Visualisation"
   ],
   "cell_type": "markdown",
   "metadata": {}
  },
  {
   "cell_type": "code",
   "execution_count": 248,
   "metadata": {},
   "outputs": [],
   "source": [
    "sns.set_context('notebook',font_scale=1.0,rc={\"lines.linewidth\":1.0})\n",
    "sns.set_palette(\"pastel\")\n",
    "sns.set_style(\"ticks\")"
   ]
  },
  {
   "cell_type": "code",
   "execution_count": 263,
   "metadata": {},
   "outputs": [
    {
     "output_type": "display_data",
     "data": {
      "text/plain": "<Figure size 540x360 with 1 Axes>",
      "image/svg+xml": "<?xml version=\"1.0\" encoding=\"utf-8\" standalone=\"no\"?>\r\n<!DOCTYPE svg PUBLIC \"-//W3C//DTD SVG 1.1//EN\"\r\n  \"http://www.w3.org/Graphics/SVG/1.1/DTD/svg11.dtd\">\r\n<!-- Created with matplotlib (https://matplotlib.org/) -->\r\n<svg height=\"353.451016pt\" version=\"1.1\" viewBox=\"0 0 538.606016 353.451016\" width=\"538.606016pt\" xmlns=\"http://www.w3.org/2000/svg\" xmlns:xlink=\"http://www.w3.org/1999/xlink\">\r\n <metadata>\r\n  <rdf:RDF xmlns:cc=\"http://creativecommons.org/ns#\" xmlns:dc=\"http://purl.org/dc/elements/1.1/\" xmlns:rdf=\"http://www.w3.org/1999/02/22-rdf-syntax-ns#\">\r\n   <cc:Work>\r\n    <dc:type rdf:resource=\"http://purl.org/dc/dcmitype/StillImage\"/>\r\n    <dc:date>2020-11-26T03:32:51.391433</dc:date>\r\n    <dc:format>image/svg+xml</dc:format>\r\n    <dc:creator>\r\n     <cc:Agent>\r\n      <dc:title>Matplotlib v3.3.2, https://matplotlib.org/</dc:title>\r\n     </cc:Agent>\r\n    </dc:creator>\r\n   </cc:Work>\r\n  </rdf:RDF>\r\n </metadata>\r\n <defs>\r\n  <style type=\"text/css\">*{stroke-linecap:butt;stroke-linejoin:round;}</style>\r\n </defs>\r\n <g id=\"figure_1\">\r\n  <g id=\"patch_1\">\r\n   <path d=\"M 0 353.451016 \r\nL 538.606016 353.451016 \r\nL 538.606016 0 \r\nL 0 0 \r\nz\r\n\" style=\"fill:#ffffff;\"/>\r\n  </g>\r\n  <g id=\"axes_1\">\r\n   <g id=\"patch_2\">\r\n    <path d=\"M 50.025469 311.716797 \r\nL 522.230469 311.716797 \r\nL 522.230469 11.136797 \r\nL 50.025469 11.136797 \r\nz\r\n\" style=\"fill:#ffffff;\"/>\r\n   </g>\r\n   <g id=\"matplotlib.axis_1\">\r\n    <g id=\"xtick_1\">\r\n     <g id=\"line2d_1\">\r\n      <defs>\r\n       <path d=\"M 0 0 \r\nL 0 6 \r\n\" id=\"mcf9f23886e\" style=\"stroke:#262626;stroke-width:1.25;\"/>\r\n      </defs>\r\n      <g>\r\n       <use style=\"fill:#262626;stroke:#262626;stroke-width:1.25;\" x=\"50.025469\" xlink:href=\"#mcf9f23886e\" y=\"311.716797\"/>\r\n      </g>\r\n     </g>\r\n     <g id=\"text_1\">\r\n      <!-- 0 -->\r\n      <g style=\"fill:#262626;\" transform=\"translate(46.966953 329.090391)scale(0.11 -0.11)\">\r\n       <defs>\r\n        <path d=\"M 4.15625 35.296875 \r\nQ 4.15625 48 6.765625 55.734375 \r\nQ 9.375 63.484375 14.515625 67.671875 \r\nQ 19.671875 71.875 27.484375 71.875 \r\nQ 33.25 71.875 37.59375 69.546875 \r\nQ 41.9375 67.234375 44.765625 62.859375 \r\nQ 47.609375 58.5 49.21875 52.21875 \r\nQ 50.828125 45.953125 50.828125 35.296875 \r\nQ 50.828125 22.703125 48.234375 14.96875 \r\nQ 45.65625 7.234375 40.5 3 \r\nQ 35.359375 -1.21875 27.484375 -1.21875 \r\nQ 17.140625 -1.21875 11.234375 6.203125 \r\nQ 4.15625 15.140625 4.15625 35.296875 \r\nz\r\nM 13.1875 35.296875 \r\nQ 13.1875 17.671875 17.3125 11.828125 \r\nQ 21.4375 6 27.484375 6 \r\nQ 33.546875 6 37.671875 11.859375 \r\nQ 41.796875 17.71875 41.796875 35.296875 \r\nQ 41.796875 52.984375 37.671875 58.78125 \r\nQ 33.546875 64.59375 27.390625 64.59375 \r\nQ 21.34375 64.59375 17.71875 59.46875 \r\nQ 13.1875 52.9375 13.1875 35.296875 \r\nz\r\n\" id=\"ArialMT-48\"/>\r\n       </defs>\r\n       <use xlink:href=\"#ArialMT-48\"/>\r\n      </g>\r\n     </g>\r\n    </g>\r\n    <g id=\"xtick_2\">\r\n     <g id=\"line2d_2\">\r\n      <g>\r\n       <use style=\"fill:#262626;stroke:#262626;stroke-width:1.25;\" x=\"144.466469\" xlink:href=\"#mcf9f23886e\" y=\"311.716797\"/>\r\n      </g>\r\n     </g>\r\n     <g id=\"text_2\">\r\n      <!-- 100 -->\r\n      <g style=\"fill:#262626;\" transform=\"translate(135.290922 329.090391)scale(0.11 -0.11)\">\r\n       <defs>\r\n        <path d=\"M 37.25 0 \r\nL 28.46875 0 \r\nL 28.46875 56 \r\nQ 25.296875 52.984375 20.140625 49.953125 \r\nQ 14.984375 46.921875 10.890625 45.40625 \r\nL 10.890625 53.90625 \r\nQ 18.265625 57.375 23.78125 62.296875 \r\nQ 29.296875 67.234375 31.59375 71.875 \r\nL 37.25 71.875 \r\nz\r\n\" id=\"ArialMT-49\"/>\r\n       </defs>\r\n       <use xlink:href=\"#ArialMT-49\"/>\r\n       <use x=\"55.615234\" xlink:href=\"#ArialMT-48\"/>\r\n       <use x=\"111.230469\" xlink:href=\"#ArialMT-48\"/>\r\n      </g>\r\n     </g>\r\n    </g>\r\n    <g id=\"xtick_3\">\r\n     <g id=\"line2d_3\">\r\n      <g>\r\n       <use style=\"fill:#262626;stroke:#262626;stroke-width:1.25;\" x=\"238.907469\" xlink:href=\"#mcf9f23886e\" y=\"311.716797\"/>\r\n      </g>\r\n     </g>\r\n     <g id=\"text_3\">\r\n      <!-- 200 -->\r\n      <g style=\"fill:#262626;\" transform=\"translate(229.731922 329.090391)scale(0.11 -0.11)\">\r\n       <defs>\r\n        <path d=\"M 50.34375 8.453125 \r\nL 50.34375 0 \r\nL 3.03125 0 \r\nQ 2.9375 3.171875 4.046875 6.109375 \r\nQ 5.859375 10.9375 9.828125 15.625 \r\nQ 13.8125 20.3125 21.34375 26.46875 \r\nQ 33.015625 36.03125 37.109375 41.625 \r\nQ 41.21875 47.21875 41.21875 52.203125 \r\nQ 41.21875 57.421875 37.46875 61 \r\nQ 33.734375 64.59375 27.734375 64.59375 \r\nQ 21.390625 64.59375 17.578125 60.78125 \r\nQ 13.765625 56.984375 13.71875 50.25 \r\nL 4.6875 51.171875 \r\nQ 5.609375 61.28125 11.65625 66.578125 \r\nQ 17.71875 71.875 27.9375 71.875 \r\nQ 38.234375 71.875 44.234375 66.15625 \r\nQ 50.25 60.453125 50.25 52 \r\nQ 50.25 47.703125 48.484375 43.546875 \r\nQ 46.734375 39.40625 42.65625 34.8125 \r\nQ 38.578125 30.21875 29.109375 22.21875 \r\nQ 21.1875 15.578125 18.9375 13.203125 \r\nQ 16.703125 10.84375 15.234375 8.453125 \r\nz\r\n\" id=\"ArialMT-50\"/>\r\n       </defs>\r\n       <use xlink:href=\"#ArialMT-50\"/>\r\n       <use x=\"55.615234\" xlink:href=\"#ArialMT-48\"/>\r\n       <use x=\"111.230469\" xlink:href=\"#ArialMT-48\"/>\r\n      </g>\r\n     </g>\r\n    </g>\r\n    <g id=\"xtick_4\">\r\n     <g id=\"line2d_4\">\r\n      <g>\r\n       <use style=\"fill:#262626;stroke:#262626;stroke-width:1.25;\" x=\"333.348469\" xlink:href=\"#mcf9f23886e\" y=\"311.716797\"/>\r\n      </g>\r\n     </g>\r\n     <g id=\"text_4\">\r\n      <!-- 300 -->\r\n      <g style=\"fill:#262626;\" transform=\"translate(324.172922 329.090391)scale(0.11 -0.11)\">\r\n       <defs>\r\n        <path d=\"M 4.203125 18.890625 \r\nL 12.984375 20.0625 \r\nQ 14.5 12.59375 18.140625 9.296875 \r\nQ 21.78125 6 27 6 \r\nQ 33.203125 6 37.46875 10.296875 \r\nQ 41.75 14.59375 41.75 20.953125 \r\nQ 41.75 27 37.796875 30.921875 \r\nQ 33.84375 34.859375 27.734375 34.859375 \r\nQ 25.25 34.859375 21.53125 33.890625 \r\nL 22.515625 41.609375 \r\nQ 23.390625 41.5 23.921875 41.5 \r\nQ 29.546875 41.5 34.03125 44.421875 \r\nQ 38.53125 47.359375 38.53125 53.46875 \r\nQ 38.53125 58.296875 35.25 61.46875 \r\nQ 31.984375 64.65625 26.8125 64.65625 \r\nQ 21.6875 64.65625 18.265625 61.421875 \r\nQ 14.84375 58.203125 13.875 51.765625 \r\nL 5.078125 53.328125 \r\nQ 6.6875 62.15625 12.390625 67.015625 \r\nQ 18.109375 71.875 26.609375 71.875 \r\nQ 32.46875 71.875 37.390625 69.359375 \r\nQ 42.328125 66.84375 44.9375 62.5 \r\nQ 47.5625 58.15625 47.5625 53.265625 \r\nQ 47.5625 48.640625 45.0625 44.828125 \r\nQ 42.578125 41.015625 37.703125 38.765625 \r\nQ 44.046875 37.3125 47.5625 32.6875 \r\nQ 51.078125 28.078125 51.078125 21.140625 \r\nQ 51.078125 11.765625 44.234375 5.25 \r\nQ 37.40625 -1.265625 26.953125 -1.265625 \r\nQ 17.53125 -1.265625 11.296875 4.34375 \r\nQ 5.078125 9.96875 4.203125 18.890625 \r\nz\r\n\" id=\"ArialMT-51\"/>\r\n       </defs>\r\n       <use xlink:href=\"#ArialMT-51\"/>\r\n       <use x=\"55.615234\" xlink:href=\"#ArialMT-48\"/>\r\n       <use x=\"111.230469\" xlink:href=\"#ArialMT-48\"/>\r\n      </g>\r\n     </g>\r\n    </g>\r\n    <g id=\"xtick_5\">\r\n     <g id=\"line2d_5\">\r\n      <g>\r\n       <use style=\"fill:#262626;stroke:#262626;stroke-width:1.25;\" x=\"427.789469\" xlink:href=\"#mcf9f23886e\" y=\"311.716797\"/>\r\n      </g>\r\n     </g>\r\n     <g id=\"text_5\">\r\n      <!-- 400 -->\r\n      <g style=\"fill:#262626;\" transform=\"translate(418.613922 329.090391)scale(0.11 -0.11)\">\r\n       <defs>\r\n        <path d=\"M 32.328125 0 \r\nL 32.328125 17.140625 \r\nL 1.265625 17.140625 \r\nL 1.265625 25.203125 \r\nL 33.9375 71.578125 \r\nL 41.109375 71.578125 \r\nL 41.109375 25.203125 \r\nL 50.78125 25.203125 \r\nL 50.78125 17.140625 \r\nL 41.109375 17.140625 \r\nL 41.109375 0 \r\nz\r\nM 32.328125 25.203125 \r\nL 32.328125 57.46875 \r\nL 9.90625 25.203125 \r\nz\r\n\" id=\"ArialMT-52\"/>\r\n       </defs>\r\n       <use xlink:href=\"#ArialMT-52\"/>\r\n       <use x=\"55.615234\" xlink:href=\"#ArialMT-48\"/>\r\n       <use x=\"111.230469\" xlink:href=\"#ArialMT-48\"/>\r\n      </g>\r\n     </g>\r\n    </g>\r\n    <g id=\"xtick_6\">\r\n     <g id=\"line2d_6\">\r\n      <g>\r\n       <use style=\"fill:#262626;stroke:#262626;stroke-width:1.25;\" x=\"522.230469\" xlink:href=\"#mcf9f23886e\" y=\"311.716797\"/>\r\n      </g>\r\n     </g>\r\n     <g id=\"text_6\">\r\n      <!-- 500 -->\r\n      <g style=\"fill:#262626;\" transform=\"translate(513.054922 329.090391)scale(0.11 -0.11)\">\r\n       <defs>\r\n        <path d=\"M 4.15625 18.75 \r\nL 13.375 19.53125 \r\nQ 14.40625 12.796875 18.140625 9.390625 \r\nQ 21.875 6 27.15625 6 \r\nQ 33.5 6 37.890625 10.78125 \r\nQ 42.28125 15.578125 42.28125 23.484375 \r\nQ 42.28125 31 38.0625 35.34375 \r\nQ 33.84375 39.703125 27 39.703125 \r\nQ 22.75 39.703125 19.328125 37.765625 \r\nQ 15.921875 35.84375 13.96875 32.765625 \r\nL 5.71875 33.84375 \r\nL 12.640625 70.609375 \r\nL 48.25 70.609375 \r\nL 48.25 62.203125 \r\nL 19.671875 62.203125 \r\nL 15.828125 42.96875 \r\nQ 22.265625 47.46875 29.34375 47.46875 \r\nQ 38.71875 47.46875 45.15625 40.96875 \r\nQ 51.609375 34.46875 51.609375 24.265625 \r\nQ 51.609375 14.546875 45.953125 7.46875 \r\nQ 39.0625 -1.21875 27.15625 -1.21875 \r\nQ 17.390625 -1.21875 11.203125 4.25 \r\nQ 5.03125 9.71875 4.15625 18.75 \r\nz\r\n\" id=\"ArialMT-53\"/>\r\n       </defs>\r\n       <use xlink:href=\"#ArialMT-53\"/>\r\n       <use x=\"55.615234\" xlink:href=\"#ArialMT-48\"/>\r\n       <use x=\"111.230469\" xlink:href=\"#ArialMT-48\"/>\r\n      </g>\r\n     </g>\r\n    </g>\r\n    <g id=\"text_7\">\r\n     <!-- num_interactions -->\r\n     <g style=\"fill:#262626;\" transform=\"translate(240.439844 343.866016)scale(0.12 -0.12)\">\r\n      <defs>\r\n       <path d=\"M 6.59375 0 \r\nL 6.59375 51.859375 \r\nL 14.5 51.859375 \r\nL 14.5 44.484375 \r\nQ 20.21875 53.03125 31 53.03125 \r\nQ 35.6875 53.03125 39.625 51.34375 \r\nQ 43.5625 49.65625 45.515625 46.921875 \r\nQ 47.46875 44.1875 48.25 40.4375 \r\nQ 48.734375 37.984375 48.734375 31.890625 \r\nL 48.734375 0 \r\nL 39.9375 0 \r\nL 39.9375 31.546875 \r\nQ 39.9375 36.921875 38.90625 39.578125 \r\nQ 37.890625 42.234375 35.28125 43.8125 \r\nQ 32.671875 45.40625 29.15625 45.40625 \r\nQ 23.53125 45.40625 19.453125 41.84375 \r\nQ 15.375 38.28125 15.375 28.328125 \r\nL 15.375 0 \r\nz\r\n\" id=\"ArialMT-110\"/>\r\n       <path d=\"M 40.578125 0 \r\nL 40.578125 7.625 \r\nQ 34.515625 -1.171875 24.125 -1.171875 \r\nQ 19.53125 -1.171875 15.546875 0.578125 \r\nQ 11.578125 2.34375 9.640625 5 \r\nQ 7.71875 7.671875 6.9375 11.53125 \r\nQ 6.390625 14.109375 6.390625 19.734375 \r\nL 6.390625 51.859375 \r\nL 15.1875 51.859375 \r\nL 15.1875 23.09375 \r\nQ 15.1875 16.21875 15.71875 13.8125 \r\nQ 16.546875 10.359375 19.234375 8.375 \r\nQ 21.921875 6.390625 25.875 6.390625 \r\nQ 29.828125 6.390625 33.296875 8.421875 \r\nQ 36.765625 10.453125 38.203125 13.9375 \r\nQ 39.65625 17.4375 39.65625 24.078125 \r\nL 39.65625 51.859375 \r\nL 48.4375 51.859375 \r\nL 48.4375 0 \r\nz\r\n\" id=\"ArialMT-117\"/>\r\n       <path d=\"M 6.59375 0 \r\nL 6.59375 51.859375 \r\nL 14.453125 51.859375 \r\nL 14.453125 44.578125 \r\nQ 16.890625 48.390625 20.9375 50.703125 \r\nQ 25 53.03125 30.171875 53.03125 \r\nQ 35.9375 53.03125 39.625 50.640625 \r\nQ 43.3125 48.25 44.828125 43.953125 \r\nQ 50.984375 53.03125 60.84375 53.03125 \r\nQ 68.5625 53.03125 72.703125 48.75 \r\nQ 76.859375 44.484375 76.859375 35.59375 \r\nL 76.859375 0 \r\nL 68.109375 0 \r\nL 68.109375 32.671875 \r\nQ 68.109375 37.9375 67.25 40.25 \r\nQ 66.40625 42.578125 64.15625 43.984375 \r\nQ 61.921875 45.40625 58.890625 45.40625 \r\nQ 53.421875 45.40625 49.796875 41.765625 \r\nQ 46.1875 38.140625 46.1875 30.125 \r\nL 46.1875 0 \r\nL 37.40625 0 \r\nL 37.40625 33.6875 \r\nQ 37.40625 39.546875 35.25 42.46875 \r\nQ 33.109375 45.40625 28.21875 45.40625 \r\nQ 24.515625 45.40625 21.359375 43.453125 \r\nQ 18.21875 41.5 16.796875 37.734375 \r\nQ 15.375 33.984375 15.375 26.90625 \r\nL 15.375 0 \r\nz\r\n\" id=\"ArialMT-109\"/>\r\n       <path d=\"M -1.515625 -19.875 \r\nL -1.515625 -13.53125 \r\nL 56.734375 -13.53125 \r\nL 56.734375 -19.875 \r\nz\r\n\" id=\"ArialMT-95\"/>\r\n       <path d=\"M 6.640625 61.46875 \r\nL 6.640625 71.578125 \r\nL 15.4375 71.578125 \r\nL 15.4375 61.46875 \r\nz\r\nM 6.640625 0 \r\nL 6.640625 51.859375 \r\nL 15.4375 51.859375 \r\nL 15.4375 0 \r\nz\r\n\" id=\"ArialMT-105\"/>\r\n       <path d=\"M 25.78125 7.859375 \r\nL 27.046875 0.09375 \r\nQ 23.34375 -0.6875 20.40625 -0.6875 \r\nQ 15.625 -0.6875 12.984375 0.828125 \r\nQ 10.359375 2.34375 9.28125 4.8125 \r\nQ 8.203125 7.28125 8.203125 15.1875 \r\nL 8.203125 45.015625 \r\nL 1.765625 45.015625 \r\nL 1.765625 51.859375 \r\nL 8.203125 51.859375 \r\nL 8.203125 64.703125 \r\nL 16.9375 69.96875 \r\nL 16.9375 51.859375 \r\nL 25.78125 51.859375 \r\nL 25.78125 45.015625 \r\nL 16.9375 45.015625 \r\nL 16.9375 14.703125 \r\nQ 16.9375 10.9375 17.40625 9.859375 \r\nQ 17.875 8.796875 18.921875 8.15625 \r\nQ 19.96875 7.515625 21.921875 7.515625 \r\nQ 23.390625 7.515625 25.78125 7.859375 \r\nz\r\n\" id=\"ArialMT-116\"/>\r\n       <path d=\"M 42.09375 16.703125 \r\nL 51.171875 15.578125 \r\nQ 49.03125 7.625 43.21875 3.21875 \r\nQ 37.40625 -1.171875 28.375 -1.171875 \r\nQ 17 -1.171875 10.328125 5.828125 \r\nQ 3.65625 12.84375 3.65625 25.484375 \r\nQ 3.65625 38.578125 10.390625 45.796875 \r\nQ 17.140625 53.03125 27.875 53.03125 \r\nQ 38.28125 53.03125 44.875 45.953125 \r\nQ 51.46875 38.875 51.46875 26.03125 \r\nQ 51.46875 25.25 51.421875 23.6875 \r\nL 12.75 23.6875 \r\nQ 13.234375 15.140625 17.578125 10.59375 \r\nQ 21.921875 6.0625 28.421875 6.0625 \r\nQ 33.25 6.0625 36.671875 8.59375 \r\nQ 40.09375 11.140625 42.09375 16.703125 \r\nz\r\nM 13.234375 30.90625 \r\nL 42.1875 30.90625 \r\nQ 41.609375 37.453125 38.875 40.71875 \r\nQ 34.671875 45.796875 27.984375 45.796875 \r\nQ 21.921875 45.796875 17.796875 41.75 \r\nQ 13.671875 37.703125 13.234375 30.90625 \r\nz\r\n\" id=\"ArialMT-101\"/>\r\n       <path d=\"M 6.5 0 \r\nL 6.5 51.859375 \r\nL 14.40625 51.859375 \r\nL 14.40625 44 \r\nQ 17.4375 49.515625 20 51.265625 \r\nQ 22.5625 53.03125 25.640625 53.03125 \r\nQ 30.078125 53.03125 34.671875 50.203125 \r\nL 31.640625 42.046875 \r\nQ 28.421875 43.953125 25.203125 43.953125 \r\nQ 22.3125 43.953125 20.015625 42.21875 \r\nQ 17.71875 40.484375 16.75 37.40625 \r\nQ 15.28125 32.71875 15.28125 27.15625 \r\nL 15.28125 0 \r\nz\r\n\" id=\"ArialMT-114\"/>\r\n       <path d=\"M 40.4375 6.390625 \r\nQ 35.546875 2.25 31.03125 0.53125 \r\nQ 26.515625 -1.171875 21.34375 -1.171875 \r\nQ 12.796875 -1.171875 8.203125 3 \r\nQ 3.609375 7.171875 3.609375 13.671875 \r\nQ 3.609375 17.484375 5.34375 20.625 \r\nQ 7.078125 23.78125 9.890625 25.6875 \r\nQ 12.703125 27.59375 16.21875 28.5625 \r\nQ 18.796875 29.25 24.03125 29.890625 \r\nQ 34.671875 31.15625 39.703125 32.90625 \r\nQ 39.75 34.71875 39.75 35.203125 \r\nQ 39.75 40.578125 37.25 42.78125 \r\nQ 33.890625 45.75 27.25 45.75 \r\nQ 21.046875 45.75 18.09375 43.578125 \r\nQ 15.140625 41.40625 13.71875 35.890625 \r\nL 5.125 37.0625 \r\nQ 6.296875 42.578125 8.984375 45.96875 \r\nQ 11.671875 49.359375 16.75 51.1875 \r\nQ 21.828125 53.03125 28.515625 53.03125 \r\nQ 35.15625 53.03125 39.296875 51.46875 \r\nQ 43.453125 49.90625 45.40625 47.53125 \r\nQ 47.359375 45.171875 48.140625 41.546875 \r\nQ 48.578125 39.3125 48.578125 33.453125 \r\nL 48.578125 21.734375 \r\nQ 48.578125 9.46875 49.140625 6.21875 \r\nQ 49.703125 2.984375 51.375 0 \r\nL 42.1875 0 \r\nQ 40.828125 2.734375 40.4375 6.390625 \r\nz\r\nM 39.703125 26.03125 \r\nQ 34.90625 24.078125 25.34375 22.703125 \r\nQ 19.921875 21.921875 17.671875 20.9375 \r\nQ 15.4375 19.96875 14.203125 18.09375 \r\nQ 12.984375 16.21875 12.984375 13.921875 \r\nQ 12.984375 10.40625 15.640625 8.0625 \r\nQ 18.3125 5.71875 23.4375 5.71875 \r\nQ 28.515625 5.71875 32.46875 7.9375 \r\nQ 36.421875 10.15625 38.28125 14.015625 \r\nQ 39.703125 17 39.703125 22.796875 \r\nz\r\n\" id=\"ArialMT-97\"/>\r\n       <path d=\"M 40.4375 19 \r\nL 49.078125 17.875 \r\nQ 47.65625 8.9375 41.8125 3.875 \r\nQ 35.984375 -1.171875 27.484375 -1.171875 \r\nQ 16.84375 -1.171875 10.375 5.78125 \r\nQ 3.90625 12.75 3.90625 25.734375 \r\nQ 3.90625 34.125 6.6875 40.421875 \r\nQ 9.46875 46.734375 15.15625 49.875 \r\nQ 20.84375 53.03125 27.546875 53.03125 \r\nQ 35.984375 53.03125 41.359375 48.75 \r\nQ 46.734375 44.484375 48.25 36.625 \r\nL 39.703125 35.296875 \r\nQ 38.484375 40.53125 35.375 43.15625 \r\nQ 32.28125 45.796875 27.875 45.796875 \r\nQ 21.234375 45.796875 17.078125 41.03125 \r\nQ 12.9375 36.28125 12.9375 25.984375 \r\nQ 12.9375 15.53125 16.9375 10.796875 \r\nQ 20.953125 6.0625 27.390625 6.0625 \r\nQ 32.5625 6.0625 36.03125 9.234375 \r\nQ 39.5 12.40625 40.4375 19 \r\nz\r\n\" id=\"ArialMT-99\"/>\r\n       <path d=\"M 3.328125 25.921875 \r\nQ 3.328125 40.328125 11.328125 47.265625 \r\nQ 18.015625 53.03125 27.640625 53.03125 \r\nQ 38.328125 53.03125 45.109375 46.015625 \r\nQ 51.90625 39.015625 51.90625 26.65625 \r\nQ 51.90625 16.65625 48.90625 10.90625 \r\nQ 45.90625 5.171875 40.15625 2 \r\nQ 34.421875 -1.171875 27.640625 -1.171875 \r\nQ 16.75 -1.171875 10.03125 5.8125 \r\nQ 3.328125 12.796875 3.328125 25.921875 \r\nz\r\nM 12.359375 25.921875 \r\nQ 12.359375 15.96875 16.703125 11.015625 \r\nQ 21.046875 6.0625 27.640625 6.0625 \r\nQ 34.1875 6.0625 38.53125 11.03125 \r\nQ 42.875 16.015625 42.875 26.21875 \r\nQ 42.875 35.84375 38.5 40.796875 \r\nQ 34.125 45.75 27.640625 45.75 \r\nQ 21.046875 45.75 16.703125 40.8125 \r\nQ 12.359375 35.890625 12.359375 25.921875 \r\nz\r\n\" id=\"ArialMT-111\"/>\r\n       <path d=\"M 3.078125 15.484375 \r\nL 11.765625 16.84375 \r\nQ 12.5 11.625 15.84375 8.84375 \r\nQ 19.1875 6.0625 25.203125 6.0625 \r\nQ 31.25 6.0625 34.171875 8.515625 \r\nQ 37.109375 10.984375 37.109375 14.3125 \r\nQ 37.109375 17.28125 34.515625 19 \r\nQ 32.71875 20.171875 25.53125 21.96875 \r\nQ 15.875 24.421875 12.140625 26.203125 \r\nQ 8.40625 27.984375 6.46875 31.125 \r\nQ 4.546875 34.28125 4.546875 38.09375 \r\nQ 4.546875 41.546875 6.125 44.5 \r\nQ 7.71875 47.46875 10.453125 49.421875 \r\nQ 12.5 50.921875 16.03125 51.96875 \r\nQ 19.578125 53.03125 23.640625 53.03125 \r\nQ 29.734375 53.03125 34.34375 51.265625 \r\nQ 38.96875 49.515625 41.15625 46.5 \r\nQ 43.359375 43.5 44.1875 38.484375 \r\nL 35.59375 37.3125 \r\nQ 35.015625 41.3125 32.203125 43.546875 \r\nQ 29.390625 45.796875 24.265625 45.796875 \r\nQ 18.21875 45.796875 15.625 43.796875 \r\nQ 13.03125 41.796875 13.03125 39.109375 \r\nQ 13.03125 37.40625 14.109375 36.03125 \r\nQ 15.1875 34.625 17.484375 33.6875 \r\nQ 18.796875 33.203125 25.25 31.453125 \r\nQ 34.578125 28.953125 38.25 27.359375 \r\nQ 41.9375 25.78125 44.03125 22.75 \r\nQ 46.140625 19.734375 46.140625 15.234375 \r\nQ 46.140625 10.84375 43.578125 6.953125 \r\nQ 41.015625 3.078125 36.171875 0.953125 \r\nQ 31.34375 -1.171875 25.25 -1.171875 \r\nQ 15.140625 -1.171875 9.84375 3.03125 \r\nQ 4.546875 7.234375 3.078125 15.484375 \r\nz\r\n\" id=\"ArialMT-115\"/>\r\n      </defs>\r\n      <use xlink:href=\"#ArialMT-110\"/>\r\n      <use x=\"55.615234\" xlink:href=\"#ArialMT-117\"/>\r\n      <use x=\"111.230469\" xlink:href=\"#ArialMT-109\"/>\r\n      <use x=\"194.53125\" xlink:href=\"#ArialMT-95\"/>\r\n      <use x=\"250.146484\" xlink:href=\"#ArialMT-105\"/>\r\n      <use x=\"272.363281\" xlink:href=\"#ArialMT-110\"/>\r\n      <use x=\"327.978516\" xlink:href=\"#ArialMT-116\"/>\r\n      <use x=\"355.761719\" xlink:href=\"#ArialMT-101\"/>\r\n      <use x=\"411.376953\" xlink:href=\"#ArialMT-114\"/>\r\n      <use x=\"444.677734\" xlink:href=\"#ArialMT-97\"/>\r\n      <use x=\"500.292969\" xlink:href=\"#ArialMT-99\"/>\r\n      <use x=\"550.292969\" xlink:href=\"#ArialMT-116\"/>\r\n      <use x=\"578.076172\" xlink:href=\"#ArialMT-105\"/>\r\n      <use x=\"600.292969\" xlink:href=\"#ArialMT-111\"/>\r\n      <use x=\"655.908203\" xlink:href=\"#ArialMT-110\"/>\r\n      <use x=\"711.523438\" xlink:href=\"#ArialMT-115\"/>\r\n     </g>\r\n    </g>\r\n   </g>\r\n   <g id=\"matplotlib.axis_2\">\r\n    <g id=\"ytick_1\">\r\n     <g id=\"line2d_7\">\r\n      <defs>\r\n       <path d=\"M 0 0 \r\nL -6 0 \r\n\" id=\"m30bf790b4e\" style=\"stroke:#262626;stroke-width:1.25;\"/>\r\n      </defs>\r\n      <g>\r\n       <use style=\"fill:#262626;stroke:#262626;stroke-width:1.25;\" x=\"50.025469\" xlink:href=\"#m30bf790b4e\" y=\"311.716797\"/>\r\n      </g>\r\n     </g>\r\n     <g id=\"text_8\">\r\n      <!-- 0 -->\r\n      <g style=\"fill:#262626;\" transform=\"translate(34.408438 315.653594)scale(0.11 -0.11)\">\r\n       <use xlink:href=\"#ArialMT-48\"/>\r\n      </g>\r\n     </g>\r\n    </g>\r\n    <g id=\"ytick_2\">\r\n     <g id=\"line2d_8\">\r\n      <g>\r\n       <use style=\"fill:#262626;stroke:#262626;stroke-width:1.25;\" x=\"50.025469\" xlink:href=\"#m30bf790b4e\" y=\"251.600797\"/>\r\n      </g>\r\n     </g>\r\n     <g id=\"text_9\">\r\n      <!-- 100 -->\r\n      <g style=\"fill:#262626;\" transform=\"translate(22.174375 255.537594)scale(0.11 -0.11)\">\r\n       <use xlink:href=\"#ArialMT-49\"/>\r\n       <use x=\"55.615234\" xlink:href=\"#ArialMT-48\"/>\r\n       <use x=\"111.230469\" xlink:href=\"#ArialMT-48\"/>\r\n      </g>\r\n     </g>\r\n    </g>\r\n    <g id=\"ytick_3\">\r\n     <g id=\"line2d_9\">\r\n      <g>\r\n       <use style=\"fill:#262626;stroke:#262626;stroke-width:1.25;\" x=\"50.025469\" xlink:href=\"#m30bf790b4e\" y=\"191.484797\"/>\r\n      </g>\r\n     </g>\r\n     <g id=\"text_10\">\r\n      <!-- 200 -->\r\n      <g style=\"fill:#262626;\" transform=\"translate(22.174375 195.421594)scale(0.11 -0.11)\">\r\n       <use xlink:href=\"#ArialMT-50\"/>\r\n       <use x=\"55.615234\" xlink:href=\"#ArialMT-48\"/>\r\n       <use x=\"111.230469\" xlink:href=\"#ArialMT-48\"/>\r\n      </g>\r\n     </g>\r\n    </g>\r\n    <g id=\"ytick_4\">\r\n     <g id=\"line2d_10\">\r\n      <g>\r\n       <use style=\"fill:#262626;stroke:#262626;stroke-width:1.25;\" x=\"50.025469\" xlink:href=\"#m30bf790b4e\" y=\"131.368797\"/>\r\n      </g>\r\n     </g>\r\n     <g id=\"text_11\">\r\n      <!-- 300 -->\r\n      <g style=\"fill:#262626;\" transform=\"translate(22.174375 135.305594)scale(0.11 -0.11)\">\r\n       <use xlink:href=\"#ArialMT-51\"/>\r\n       <use x=\"55.615234\" xlink:href=\"#ArialMT-48\"/>\r\n       <use x=\"111.230469\" xlink:href=\"#ArialMT-48\"/>\r\n      </g>\r\n     </g>\r\n    </g>\r\n    <g id=\"ytick_5\">\r\n     <g id=\"line2d_11\">\r\n      <g>\r\n       <use style=\"fill:#262626;stroke:#262626;stroke-width:1.25;\" x=\"50.025469\" xlink:href=\"#m30bf790b4e\" y=\"71.252797\"/>\r\n      </g>\r\n     </g>\r\n     <g id=\"text_12\">\r\n      <!-- 400 -->\r\n      <g style=\"fill:#262626;\" transform=\"translate(22.174375 75.189594)scale(0.11 -0.11)\">\r\n       <use xlink:href=\"#ArialMT-52\"/>\r\n       <use x=\"55.615234\" xlink:href=\"#ArialMT-48\"/>\r\n       <use x=\"111.230469\" xlink:href=\"#ArialMT-48\"/>\r\n      </g>\r\n     </g>\r\n    </g>\r\n    <g id=\"ytick_6\">\r\n     <g id=\"line2d_12\">\r\n      <g>\r\n       <use style=\"fill:#262626;stroke:#262626;stroke-width:1.25;\" x=\"50.025469\" xlink:href=\"#m30bf790b4e\" y=\"11.136797\"/>\r\n      </g>\r\n     </g>\r\n     <g id=\"text_13\">\r\n      <!-- 500 -->\r\n      <g style=\"fill:#262626;\" transform=\"translate(22.174375 15.073594)scale(0.11 -0.11)\">\r\n       <use xlink:href=\"#ArialMT-53\"/>\r\n       <use x=\"55.615234\" xlink:href=\"#ArialMT-48\"/>\r\n       <use x=\"111.230469\" xlink:href=\"#ArialMT-48\"/>\r\n      </g>\r\n     </g>\r\n    </g>\r\n    <g id=\"text_14\">\r\n     <!-- Count -->\r\n     <g style=\"fill:#262626;\" transform=\"translate(15.789375 177.436484)rotate(-90)scale(0.12 -0.12)\">\r\n      <defs>\r\n       <path d=\"M 58.796875 25.09375 \r\nL 68.265625 22.703125 \r\nQ 65.28125 11.03125 57.546875 4.90625 \r\nQ 49.8125 -1.21875 38.625 -1.21875 \r\nQ 27.046875 -1.21875 19.796875 3.484375 \r\nQ 12.546875 8.203125 8.765625 17.140625 \r\nQ 4.984375 26.078125 4.984375 36.328125 \r\nQ 4.984375 47.515625 9.25 55.828125 \r\nQ 13.53125 64.15625 21.40625 68.46875 \r\nQ 29.296875 72.796875 38.765625 72.796875 \r\nQ 49.515625 72.796875 56.828125 67.328125 \r\nQ 64.15625 61.859375 67.046875 51.953125 \r\nL 57.71875 49.75 \r\nQ 55.21875 57.5625 50.484375 61.125 \r\nQ 45.75 64.703125 38.578125 64.703125 \r\nQ 30.328125 64.703125 24.78125 60.734375 \r\nQ 19.234375 56.78125 16.984375 50.109375 \r\nQ 14.75 43.453125 14.75 36.375 \r\nQ 14.75 27.25 17.40625 20.4375 \r\nQ 20.0625 13.625 25.671875 10.25 \r\nQ 31.296875 6.890625 37.84375 6.890625 \r\nQ 45.796875 6.890625 51.3125 11.46875 \r\nQ 56.84375 16.0625 58.796875 25.09375 \r\nz\r\n\" id=\"ArialMT-67\"/>\r\n      </defs>\r\n      <use xlink:href=\"#ArialMT-67\"/>\r\n      <use x=\"72.216797\" xlink:href=\"#ArialMT-111\"/>\r\n      <use x=\"127.832031\" xlink:href=\"#ArialMT-117\"/>\r\n      <use x=\"183.447266\" xlink:href=\"#ArialMT-110\"/>\r\n      <use x=\"239.0625\" xlink:href=\"#ArialMT-116\"/>\r\n     </g>\r\n    </g>\r\n   </g>\r\n   <g id=\"PolyCollection_1\">\r\n    <path clip-path=\"url(#pd7d97fb328)\" d=\"M 50.969879 18.951877 \r\nL 50.969879 311.716797 \r\nL 60.742633 311.716797 \r\nL 60.742633 311.716797 \r\nL 70.515388 311.716797 \r\nL 70.515388 311.716797 \r\nL 80.288143 311.716797 \r\nL 80.288143 311.716797 \r\nL 90.060897 311.716797 \r\nL 90.060897 311.716797 \r\nL 99.833652 311.716797 \r\nL 99.833652 311.716797 \r\nL 109.606407 311.716797 \r\nL 109.606407 311.716797 \r\nL 119.379162 311.716797 \r\nL 119.379162 311.716797 \r\nL 129.151916 311.716797 \r\nL 129.151916 311.716797 \r\nL 138.924671 311.716797 \r\nL 138.924671 311.716797 \r\nL 148.697426 311.716797 \r\nL 148.697426 311.716797 \r\nL 158.47018 311.716797 \r\nL 158.47018 311.716797 \r\nL 168.242935 311.716797 \r\nL 168.242935 311.716797 \r\nL 178.01569 311.716797 \r\nL 178.01569 311.716797 \r\nL 187.788444 311.716797 \r\nL 187.788444 311.716797 \r\nL 197.561199 311.716797 \r\nL 197.561199 311.716797 \r\nL 207.333954 311.716797 \r\nL 207.333954 311.716797 \r\nL 217.106708 311.716797 \r\nL 217.106708 311.716797 \r\nL 226.879463 311.716797 \r\nL 226.879463 311.716797 \r\nL 236.652218 311.716797 \r\nL 236.652218 311.716797 \r\nL 246.424972 311.716797 \r\nL 246.424972 311.716797 \r\nL 256.197727 311.716797 \r\nL 256.197727 311.716797 \r\nL 265.970482 311.716797 \r\nL 265.970482 311.716797 \r\nL 275.743236 311.716797 \r\nL 275.743236 311.716797 \r\nL 285.515991 311.716797 \r\nL 285.515991 311.716797 \r\nL 295.288746 311.716797 \r\nL 295.288746 311.716797 \r\nL 305.0615 311.716797 \r\nL 305.0615 311.716797 \r\nL 314.834255 311.716797 \r\nL 314.834255 311.716797 \r\nL 324.60701 311.716797 \r\nL 324.60701 311.716797 \r\nL 334.379764 311.716797 \r\nL 334.379764 311.716797 \r\nL 344.152519 311.716797 \r\nL 344.152519 311.716797 \r\nL 353.925274 311.716797 \r\nL 353.925274 311.716797 \r\nL 363.698029 311.716797 \r\nL 363.698029 311.716797 \r\nL 373.470783 311.716797 \r\nL 373.470783 311.716797 \r\nL 383.243538 311.716797 \r\nL 383.243538 311.716797 \r\nL 393.016293 311.716797 \r\nL 393.016293 311.716797 \r\nL 402.789047 311.716797 \r\nL 402.789047 311.716797 \r\nL 412.561802 311.716797 \r\nL 412.561802 311.716797 \r\nL 422.334557 311.716797 \r\nL 422.334557 311.716797 \r\nL 432.107311 311.716797 \r\nL 432.107311 311.716797 \r\nL 441.880066 311.716797 \r\nL 441.880066 311.716797 \r\nL 451.652821 311.716797 \r\nL 451.652821 311.716797 \r\nL 461.425575 311.716797 \r\nL 461.425575 311.716797 \r\nL 471.19833 311.716797 \r\nL 471.19833 311.716797 \r\nL 480.971085 311.716797 \r\nL 480.971085 311.716797 \r\nL 490.743839 311.716797 \r\nL 490.743839 311.716797 \r\nL 500.516594 311.716797 \r\nL 500.516594 311.716797 \r\nL 510.289349 311.716797 \r\nL 510.289349 311.716797 \r\nL 520.062103 311.716797 \r\nL 520.062103 311.716797 \r\nL 529.834858 311.716797 \r\nL 529.834858 311.716797 \r\nL 539.607613 311.716797 \r\nL 539.607613 311.716797 \r\nL 549.380367 311.716797 \r\nL 549.380367 311.716797 \r\nL 559.153122 311.716797 \r\nL 559.153122 311.716797 \r\nL 568.925877 311.716797 \r\nL 568.925877 311.716797 \r\nL 578.698631 311.716797 \r\nL 578.698631 311.716797 \r\nL 588.471386 311.716797 \r\nL 588.471386 311.716797 \r\nL 598.244141 311.716797 \r\nL 598.244141 311.716797 \r\nL 608.016896 311.716797 \r\nL 608.016896 311.716797 \r\nL 617.78965 311.716797 \r\nL 617.78965 311.716797 \r\nL 627.562405 311.716797 \r\nL 627.562405 311.716797 \r\nL 637.33516 311.716797 \r\nL 637.33516 311.716797 \r\nL 647.107914 311.716797 \r\nL 647.107914 311.716797 \r\nL 656.880669 311.716797 \r\nL 656.880669 311.716797 \r\nL 666.653424 311.716797 \r\nL 666.653424 311.716797 \r\nL 676.426178 311.716797 \r\nL 676.426178 311.716797 \r\nL 686.198933 311.716797 \r\nL 686.198933 311.716797 \r\nL 695.971688 311.716797 \r\nL 695.971688 311.716797 \r\nL 705.744442 311.716797 \r\nL 705.744442 311.716797 \r\nL 715.517197 311.716797 \r\nL 715.517197 311.716797 \r\nL 725.289952 311.716797 \r\nL 725.289952 311.716797 \r\nL 735.062706 311.716797 \r\nL 735.062706 311.716797 \r\nL 744.835461 311.716797 \r\nL 744.835461 311.716797 \r\nL 754.608216 311.716797 \r\nL 754.608216 311.716797 \r\nL 764.38097 311.716797 \r\nL 764.38097 311.716797 \r\nL 774.153725 311.716797 \r\nL 774.153725 311.716797 \r\nL 783.92648 311.716797 \r\nL 783.92648 311.716797 \r\nL 793.699234 311.716797 \r\nL 793.699234 311.716797 \r\nL 803.471989 311.716797 \r\nL 803.471989 311.716797 \r\nL 813.244744 311.716797 \r\nL 813.244744 311.716797 \r\nL 823.017498 311.716797 \r\nL 823.017498 311.716797 \r\nL 832.790253 311.716797 \r\nL 832.790253 311.716797 \r\nL 842.563008 311.716797 \r\nL 842.563008 311.716797 \r\nL 852.335763 311.716797 \r\nL 852.335763 311.716797 \r\nL 862.108517 311.716797 \r\nL 862.108517 311.716797 \r\nL 871.881272 311.716797 \r\nL 871.881272 311.716797 \r\nL 881.654027 311.716797 \r\nL 881.654027 311.716797 \r\nL 891.426781 311.716797 \r\nL 891.426781 311.716797 \r\nL 901.199536 311.716797 \r\nL 901.199536 311.716797 \r\nL 910.972291 311.716797 \r\nL 910.972291 311.716797 \r\nL 920.745045 311.716797 \r\nL 920.745045 311.716797 \r\nL 930.5178 311.716797 \r\nL 930.5178 311.716797 \r\nL 940.290555 311.716797 \r\nL 940.290555 311.716797 \r\nL 950.063309 311.716797 \r\nL 950.063309 311.716797 \r\nL 959.836064 311.716797 \r\nL 959.836064 311.716797 \r\nL 969.608819 311.716797 \r\nL 969.608819 311.716797 \r\nL 979.381573 311.716797 \r\nL 979.381573 311.716797 \r\nL 989.154328 311.716797 \r\nL 989.154328 311.716797 \r\nL 998.927083 311.716797 \r\nL 998.927083 311.716797 \r\nL 1008.699837 311.716797 \r\nL 1008.699837 311.716797 \r\nL 1018.472592 311.716797 \r\nL 1018.472592 311.716797 \r\nL 1028.245347 311.716797 \r\nL 1028.245347 311.716797 \r\nL 1038.018101 311.716797 \r\nL 1038.018101 311.716797 \r\nL 1047.790856 311.716797 \r\nL 1047.790856 311.716797 \r\nL 1057.563611 311.716797 \r\nL 1057.563611 311.716797 \r\nL 1067.336365 311.716797 \r\nL 1067.336365 311.716797 \r\nL 1077.10912 311.716797 \r\nL 1077.10912 311.716797 \r\nL 1086.881875 311.716797 \r\nL 1086.881875 311.716797 \r\nL 1096.65463 311.716797 \r\nL 1096.65463 311.716797 \r\nL 1106.427384 311.716797 \r\nL 1106.427384 311.716797 \r\nL 1116.200139 311.716797 \r\nL 1116.200139 311.716797 \r\nL 1125.972894 311.716797 \r\nL 1125.972894 311.716797 \r\nL 1135.745648 311.716797 \r\nL 1135.745648 311.716797 \r\nL 1145.518403 311.716797 \r\nL 1145.518403 311.716797 \r\nL 1155.291158 311.716797 \r\nL 1155.291158 311.716797 \r\nL 1165.063912 311.716797 \r\nL 1165.063912 311.716797 \r\nL 1174.836667 311.716797 \r\nL 1174.836667 311.716797 \r\nL 1184.609422 311.716797 \r\nL 1184.609422 311.716797 \r\nL 1194.382176 311.716797 \r\nL 1194.382176 311.716797 \r\nL 1204.154931 311.716797 \r\nL 1204.154931 311.716797 \r\nL 1213.927686 311.716797 \r\nL 1213.927686 311.716797 \r\nL 1223.70044 311.716797 \r\nL 1223.70044 311.716797 \r\nL 1233.473195 311.716797 \r\nL 1233.473195 311.716797 \r\nL 1243.24595 311.716797 \r\nL 1243.24595 311.716797 \r\nL 1253.018704 311.716797 \r\nL 1253.018704 311.716797 \r\nL 1262.791459 311.716797 \r\nL 1262.791459 311.716797 \r\nL 1272.564214 311.716797 \r\nL 1272.564214 311.716797 \r\nL 1282.336968 311.716797 \r\nL 1282.336968 311.716797 \r\nL 1292.109723 311.716797 \r\nL 1292.109723 311.716797 \r\nL 1301.882478 311.716797 \r\nL 1301.882478 311.716797 \r\nL 1311.655232 311.716797 \r\nL 1311.655232 311.716797 \r\nL 1321.427987 311.716797 \r\nL 1321.427987 311.716797 \r\nL 1331.200742 311.716797 \r\nL 1331.200742 311.716797 \r\nL 1340.973497 311.716797 \r\nL 1340.973497 311.716797 \r\nL 1350.746251 311.716797 \r\nL 1350.746251 311.716797 \r\nL 1360.519006 311.716797 \r\nL 1360.519006 311.716797 \r\nL 1370.291761 311.716797 \r\nL 1370.291761 311.716797 \r\nL 1380.064515 311.716797 \r\nL 1380.064515 311.716797 \r\nL 1389.83727 311.716797 \r\nL 1389.83727 311.716797 \r\nL 1399.610025 311.716797 \r\nL 1399.610025 311.716797 \r\nL 1409.382779 311.716797 \r\nL 1409.382779 311.716797 \r\nL 1419.155534 311.716797 \r\nL 1419.155534 311.716797 \r\nL 1428.928289 311.716797 \r\nL 1428.928289 311.716797 \r\nL 1438.701043 311.716797 \r\nL 1438.701043 311.716797 \r\nL 1448.473798 311.716797 \r\nL 1448.473798 311.716797 \r\nL 1458.246553 311.716797 \r\nL 1458.246553 311.716797 \r\nL 1468.019307 311.716797 \r\nL 1468.019307 311.716797 \r\nL 1477.792062 311.716797 \r\nL 1477.792062 311.716797 \r\nL 1487.564817 311.716797 \r\nL 1487.564817 311.716797 \r\nL 1497.337571 311.716797 \r\nL 1497.337571 311.716797 \r\nL 1507.110326 311.716797 \r\nL 1507.110326 311.716797 \r\nL 1516.883081 311.716797 \r\nL 1516.883081 311.716797 \r\nL 1526.655835 311.716797 \r\nL 1526.655835 311.716797 \r\nL 1536.42859 311.716797 \r\nL 1536.42859 311.716797 \r\nL 1546.201345 311.716797 \r\nL 1546.201345 311.716797 \r\nL 1555.974099 311.716797 \r\nL 1555.974099 311.716797 \r\nL 1565.746854 311.716797 \r\nL 1565.746854 311.716797 \r\nL 1575.519609 311.716797 \r\nL 1575.519609 311.716797 \r\nL 1585.292364 311.716797 \r\nL 1585.292364 311.716797 \r\nL 1595.065118 311.716797 \r\nL 1595.065118 311.716797 \r\nL 1604.837873 311.716797 \r\nL 1604.837873 311.716797 \r\nL 1614.610628 311.716797 \r\nL 1614.610628 311.716797 \r\nL 1624.383382 311.716797 \r\nL 1624.383382 311.716797 \r\nL 1634.156137 311.716797 \r\nL 1634.156137 311.716797 \r\nL 1643.928892 311.716797 \r\nL 1643.928892 311.716797 \r\nL 1653.701646 311.716797 \r\nL 1653.701646 311.716797 \r\nL 1663.474401 311.716797 \r\nL 1663.474401 311.716797 \r\nL 1673.247156 311.716797 \r\nL 1673.247156 311.716797 \r\nL 1683.01991 311.716797 \r\nL 1683.01991 311.716797 \r\nL 1692.792665 311.716797 \r\nL 1692.792665 311.716797 \r\nL 1702.56542 311.716797 \r\nL 1702.56542 311.716797 \r\nL 1712.338174 311.716797 \r\nL 1712.338174 311.716797 \r\nL 1722.110929 311.716797 \r\nL 1722.110929 311.716797 \r\nL 1731.883684 311.716797 \r\nL 1731.883684 311.716797 \r\nL 1741.656438 311.716797 \r\nL 1741.656438 311.716797 \r\nL 1751.429193 311.716797 \r\nL 1751.429193 311.716797 \r\nL 1761.201948 311.716797 \r\nL 1761.201948 311.716797 \r\nL 1770.974702 311.716797 \r\nL 1770.974702 311.716797 \r\nL 1780.747457 311.716797 \r\nL 1780.747457 311.716797 \r\nL 1790.520212 311.716797 \r\nL 1790.520212 311.716797 \r\nL 1800.292966 311.716797 \r\nL 1800.292966 311.716797 \r\nL 1810.065721 311.716797 \r\nL 1810.065721 311.716797 \r\nL 1819.838476 311.716797 \r\nL 1819.838476 311.716797 \r\nL 1829.611231 311.716797 \r\nL 1829.611231 311.716797 \r\nL 1839.383985 311.716797 \r\nL 1839.383985 311.716797 \r\nL 1849.15674 311.716797 \r\nL 1849.15674 311.716797 \r\nL 1858.929495 311.716797 \r\nL 1858.929495 311.716797 \r\nL 1868.702249 311.716797 \r\nL 1868.702249 311.716797 \r\nL 1878.475004 311.716797 \r\nL 1878.475004 311.716797 \r\nL 1888.247759 311.716797 \r\nL 1888.247759 311.716797 \r\nL 1898.020513 311.716797 \r\nL 1898.020513 311.716797 \r\nL 1907.793268 311.716797 \r\nL 1907.793268 311.716797 \r\nL 1917.566023 311.716797 \r\nL 1917.566023 311.716797 \r\nL 1927.338777 311.716797 \r\nL 1927.338777 311.716797 \r\nL 1937.111532 311.716797 \r\nL 1937.111532 311.716797 \r\nL 1946.884287 311.716797 \r\nL 1946.884287 311.716797 \r\nL 1956.657041 311.716797 \r\nL 1956.657041 311.716797 \r\nL 1966.429796 311.716797 \r\nL 1966.429796 311.716797 \r\nL 1976.202551 311.716797 \r\nL 1976.202551 311.716797 \r\nL 1985.975305 311.716797 \r\nL 1985.975305 311.716797 \r\nL 1995.74806 311.716797 \r\nL 1995.74806 311.716797 \r\nL 2005.520815 311.716797 \r\nL 2005.520815 311.716797 \r\nL 2015.293569 311.716797 \r\nL 2015.293569 311.716797 \r\nL 2025.066324 311.716797 \r\nL 2025.066324 311.716797 \r\nL 2034.839079 311.716797 \r\nL 2034.839079 311.716797 \r\nL 2044.611833 311.716797 \r\nL 2044.611833 311.716797 \r\nL 2054.384588 311.716797 \r\nL 2054.384588 311.716797 \r\nL 2064.157343 311.716797 \r\nL 2064.157343 311.716797 \r\nL 2073.930098 311.716797 \r\nL 2073.930098 311.716797 \r\nL 2083.702852 311.716797 \r\nL 2083.702852 311.716797 \r\nL 2093.475607 311.716797 \r\nL 2093.475607 311.716797 \r\nL 2103.248362 311.716797 \r\nL 2103.248362 311.716797 \r\nL 2113.021116 311.716797 \r\nL 2113.021116 311.716797 \r\nL 2122.793871 311.716797 \r\nL 2122.793871 311.716797 \r\nL 2132.566626 311.716797 \r\nL 2132.566626 311.716797 \r\nL 2142.33938 311.716797 \r\nL 2142.33938 311.716797 \r\nL 2152.112135 311.716797 \r\nL 2152.112135 311.716797 \r\nL 2161.88489 311.716797 \r\nL 2161.88489 311.716797 \r\nL 2171.657644 311.716797 \r\nL 2171.657644 311.716797 \r\nL 2181.430399 311.716797 \r\nL 2181.430399 311.716797 \r\nL 2191.203154 311.716797 \r\nL 2191.203154 311.716797 \r\nL 2200.975908 311.716797 \r\nL 2200.975908 311.716797 \r\nL 2210.748663 311.716797 \r\nL 2210.748663 311.716797 \r\nL 2220.521418 311.716797 \r\nL 2220.521418 311.716797 \r\nL 2230.294172 311.716797 \r\nL 2230.294172 311.716797 \r\nL 2240.066927 311.716797 \r\nL 2240.066927 311.716797 \r\nL 2249.839682 311.716797 \r\nL 2249.839682 311.716797 \r\nL 2259.612436 311.716797 \r\nL 2259.612436 311.716797 \r\nL 2269.385191 311.716797 \r\nL 2269.385191 311.716797 \r\nL 2279.157946 311.716797 \r\nL 2279.157946 311.716797 \r\nL 2288.9307 311.716797 \r\nL 2288.9307 311.716797 \r\nL 2298.703455 311.716797 \r\nL 2298.703455 311.716797 \r\nL 2308.47621 311.716797 \r\nL 2308.47621 311.716797 \r\nL 2318.248965 311.716797 \r\nL 2318.248965 311.716797 \r\nL 2328.021719 311.716797 \r\nL 2328.021719 311.716797 \r\nL 2337.794474 311.716797 \r\nL 2337.794474 311.716797 \r\nL 2347.567229 311.716797 \r\nL 2347.567229 311.716797 \r\nL 2357.339983 311.716797 \r\nL 2357.339983 311.716797 \r\nL 2367.112738 311.716797 \r\nL 2367.112738 311.716797 \r\nL 2376.885493 311.716797 \r\nL 2376.885493 311.716797 \r\nL 2386.658247 311.716797 \r\nL 2386.658247 311.716797 \r\nL 2396.431002 311.716797 \r\nL 2396.431002 311.716797 \r\nL 2406.203757 311.716797 \r\nL 2406.203757 311.716797 \r\nL 2415.976511 311.716797 \r\nL 2415.976511 311.716797 \r\nL 2425.749266 311.716797 \r\nL 2425.749266 311.716797 \r\nL 2435.522021 311.716797 \r\nL 2435.522021 311.716797 \r\nL 2445.294775 311.716797 \r\nL 2445.294775 311.716797 \r\nL 2455.06753 311.716797 \r\nL 2455.06753 311.716797 \r\nL 2464.840285 311.716797 \r\nL 2464.840285 311.716797 \r\nL 2474.613039 311.716797 \r\nL 2474.613039 311.716797 \r\nL 2484.385794 311.716797 \r\nL 2484.385794 311.716797 \r\nL 2494.158549 311.716797 \r\nL 2494.158549 311.716797 \r\nL 2503.931303 311.716797 \r\nL 2503.931303 311.716797 \r\nL 2513.704058 311.716797 \r\nL 2513.704058 311.716797 \r\nL 2523.476813 311.716797 \r\nL 2523.476813 311.716797 \r\nL 2533.249567 311.716797 \r\nL 2533.249567 311.716797 \r\nL 2543.022322 311.716797 \r\nL 2543.022322 311.716797 \r\nL 2552.795077 311.716797 \r\nL 2552.795077 311.716797 \r\nL 2562.567832 311.716797 \r\nL 2562.567832 311.716797 \r\nL 2572.340586 311.716797 \r\nL 2572.340586 311.716797 \r\nL 2582.113341 311.716797 \r\nL 2582.113341 311.716797 \r\nL 2591.886096 311.716797 \r\nL 2591.886096 311.716797 \r\nL 2601.65885 311.716797 \r\nL 2601.65885 311.716797 \r\nL 2611.431605 311.716797 \r\nL 2611.431605 311.716797 \r\nL 2621.20436 311.716797 \r\nL 2621.20436 311.716797 \r\nL 2630.977114 311.716797 \r\nL 2630.977114 311.716797 \r\nL 2640.749869 311.716797 \r\nL 2640.749869 311.716797 \r\nL 2650.522624 311.716797 \r\nL 2650.522624 311.716797 \r\nL 2660.295378 311.716797 \r\nL 2660.295378 311.716797 \r\nL 2670.068133 311.716797 \r\nL 2670.068133 311.716797 \r\nL 2679.840888 311.716797 \r\nL 2679.840888 311.716797 \r\nL 2689.613642 311.716797 \r\nL 2689.613642 311.716797 \r\nL 2699.386397 311.716797 \r\nL 2699.386397 311.716797 \r\nL 2709.159152 311.716797 \r\nL 2709.159152 311.716797 \r\nL 2718.931906 311.716797 \r\nL 2718.931906 311.716797 \r\nL 2728.704661 311.716797 \r\nL 2728.704661 311.716797 \r\nL 2738.477416 311.716797 \r\nL 2738.477416 311.716797 \r\nL 2748.25017 311.716797 \r\nL 2748.25017 311.716797 \r\nL 2758.022925 311.716797 \r\nL 2758.022925 311.716797 \r\nL 2767.79568 311.716797 \r\nL 2767.79568 311.716797 \r\nL 2777.568434 311.716797 \r\nL 2777.568434 311.716797 \r\nL 2787.341189 311.716797 \r\nL 2787.341189 311.716797 \r\nL 2797.113944 311.716797 \r\nL 2797.113944 311.716797 \r\nL 2806.886699 311.716797 \r\nL 2806.886699 311.716797 \r\nL 2816.659453 311.716797 \r\nL 2816.659453 311.716797 \r\nL 2826.432208 311.716797 \r\nL 2826.432208 311.716797 \r\nL 2836.204963 311.716797 \r\nL 2836.204963 311.716797 \r\nL 2845.977717 311.716797 \r\nL 2845.977717 311.716797 \r\nL 2855.750472 311.716797 \r\nL 2855.750472 311.716797 \r\nL 2865.523227 311.716797 \r\nL 2865.523227 311.716797 \r\nL 2875.295981 311.716797 \r\nL 2875.295981 311.716797 \r\nL 2885.068736 311.716797 \r\nL 2885.068736 311.716797 \r\nL 2894.841491 311.716797 \r\nL 2894.841491 311.716797 \r\nL 2904.614245 311.716797 \r\nL 2904.614245 311.716797 \r\nL 2914.387 311.716797 \r\nL 2914.387 311.716797 \r\nL 2924.159755 311.716797 \r\nL 2924.159755 311.716797 \r\nL 2933.932509 311.716797 \r\nL 2933.932509 311.716797 \r\nL 2943.705264 311.716797 \r\nL 2943.705264 311.716797 \r\nL 2953.478019 311.716797 \r\nL 2953.478019 311.716797 \r\nL 2963.250773 311.716797 \r\nL 2963.250773 311.716797 \r\nL 2973.023528 311.716797 \r\nL 2973.023528 311.716797 \r\nL 2982.796283 311.716797 \r\nL 2982.796283 311.716797 \r\nL 2992.569037 311.716797 \r\nL 2992.569037 311.716797 \r\nL 3002.341792 311.716797 \r\nL 3002.341792 311.716797 \r\nL 3012.114547 311.716797 \r\nL 3012.114547 311.716797 \r\nL 3021.887301 311.716797 \r\nL 3021.887301 311.716797 \r\nL 3031.660056 311.716797 \r\nL 3031.660056 311.716797 \r\nL 3041.432811 311.716797 \r\nL 3041.432811 311.716797 \r\nL 3051.205566 311.716797 \r\nL 3051.205566 311.716797 \r\nL 3060.97832 311.716797 \r\nL 3060.97832 311.716797 \r\nL 3070.751075 311.716797 \r\nL 3070.751075 311.716797 \r\nL 3080.52383 311.716797 \r\nL 3080.52383 311.716797 \r\nL 3090.296584 311.716797 \r\nL 3090.296584 311.716797 \r\nL 3100.069339 311.716797 \r\nL 3100.069339 311.716797 \r\nL 3109.842094 311.716797 \r\nL 3109.842094 311.716797 \r\nL 3119.614848 311.716797 \r\nL 3119.614848 311.716797 \r\nL 3129.387603 311.716797 \r\nL 3129.387603 311.716797 \r\nL 3139.160358 311.716797 \r\nL 3139.160358 311.716797 \r\nL 3148.933112 311.716797 \r\nL 3148.933112 311.716797 \r\nL 3158.705867 311.716797 \r\nL 3158.705867 311.716797 \r\nL 3168.478622 311.716797 \r\nL 3168.478622 311.716797 \r\nL 3178.251376 311.716797 \r\nL 3178.251376 311.716797 \r\nL 3188.024131 311.716797 \r\nL 3188.024131 311.716797 \r\nL 3197.796886 311.716797 \r\nL 3197.796886 311.716797 \r\nL 3207.56964 311.716797 \r\nL 3207.56964 311.716797 \r\nL 3217.342395 311.716797 \r\nL 3217.342395 311.716797 \r\nL 3227.11515 311.716797 \r\nL 3227.11515 311.716797 \r\nL 3236.887904 311.716797 \r\nL 3236.887904 311.716797 \r\nL 3246.660659 311.716797 \r\nL 3246.660659 311.716797 \r\nL 3256.433414 311.716797 \r\nL 3256.433414 311.716797 \r\nL 3266.206168 311.716797 \r\nL 3266.206168 311.716797 \r\nL 3275.978923 311.716797 \r\nL 3275.978923 311.716797 \r\nL 3285.751678 311.716797 \r\nL 3285.751678 311.716797 \r\nL 3295.524433 311.716797 \r\nL 3295.524433 311.716797 \r\nL 3305.297187 311.716797 \r\nL 3305.297187 311.716797 \r\nL 3315.069942 311.716797 \r\nL 3315.069942 311.716797 \r\nL 3324.842697 311.716797 \r\nL 3324.842697 311.716797 \r\nL 3334.615451 311.716797 \r\nL 3334.615451 311.716797 \r\nL 3344.388206 311.716797 \r\nL 3344.388206 311.716797 \r\nL 3354.160961 311.716797 \r\nL 3354.160961 311.716797 \r\nL 3363.933715 311.716797 \r\nL 3363.933715 311.716797 \r\nL 3373.70647 311.716797 \r\nL 3373.70647 311.716797 \r\nL 3383.479225 311.716797 \r\nL 3383.479225 311.716797 \r\nL 3393.251979 311.716797 \r\nL 3393.251979 311.716797 \r\nL 3403.024734 311.716797 \r\nL 3403.024734 311.716797 \r\nL 3412.797489 311.716797 \r\nL 3412.797489 311.716797 \r\nL 3422.570243 311.716797 \r\nL 3422.570243 311.716797 \r\nL 3432.342998 311.716797 \r\nL 3432.342998 311.716797 \r\nL 3442.115753 311.716797 \r\nL 3442.115753 311.716797 \r\nL 3451.888507 311.716797 \r\nL 3451.888507 311.716797 \r\nL 3461.661262 311.716797 \r\nL 3461.661262 311.716797 \r\nL 3471.434017 311.716797 \r\nL 3471.434017 311.716797 \r\nL 3481.206771 311.716797 \r\nL 3481.206771 311.716797 \r\nL 3490.979526 311.716797 \r\nL 3490.979526 311.716797 \r\nL 3500.752281 311.716797 \r\nL 3500.752281 311.716797 \r\nL 3510.525035 311.716797 \r\nL 3510.525035 311.716797 \r\nL 3520.29779 311.716797 \r\nL 3520.29779 311.716797 \r\nL 3530.070545 311.716797 \r\nL 3530.070545 311.716797 \r\nL 3539.8433 311.716797 \r\nL 3539.8433 311.716797 \r\nL 3549.616054 311.716797 \r\nL 3549.616054 311.716797 \r\nL 3559.388809 311.716797 \r\nL 3559.388809 311.716797 \r\nL 3569.161564 311.716797 \r\nL 3569.161564 311.716797 \r\nL 3578.934318 311.716797 \r\nL 3578.934318 311.716797 \r\nL 3588.707073 311.716797 \r\nL 3588.707073 311.716797 \r\nL 3598.479828 311.716797 \r\nL 3598.479828 311.716797 \r\nL 3608.252582 311.716797 \r\nL 3608.252582 311.716797 \r\nL 3618.025337 311.716797 \r\nL 3618.025337 311.716797 \r\nL 3627.798092 311.716797 \r\nL 3627.798092 311.716797 \r\nL 3637.570846 311.716797 \r\nL 3637.570846 311.716797 \r\nL 3647.343601 311.716797 \r\nL 3647.343601 311.716797 \r\nL 3657.116356 311.716797 \r\nL 3657.116356 311.716797 \r\nL 3666.88911 311.716797 \r\nL 3666.88911 311.716797 \r\nL 3676.661865 311.716797 \r\nL 3676.661865 311.716797 \r\nL 3686.43462 311.716797 \r\nL 3686.43462 311.716797 \r\nL 3696.207374 311.716797 \r\nL 3696.207374 311.716797 \r\nL 3705.980129 311.716797 \r\nL 3705.980129 311.716797 \r\nL 3715.752884 311.716797 \r\nL 3715.752884 311.716797 \r\nL 3725.525638 311.716797 \r\nL 3725.525638 311.716797 \r\nL 3735.298393 311.716797 \r\nL 3735.298393 311.716797 \r\nL 3745.071148 311.716797 \r\nL 3745.071148 311.716797 \r\nL 3754.843902 311.716797 \r\nL 3754.843902 311.716797 \r\nL 3764.616657 311.716797 \r\nL 3764.616657 311.716797 \r\nL 3774.389412 311.716797 \r\nL 3774.389412 311.716797 \r\nL 3784.162167 311.716797 \r\nL 3784.162167 311.716797 \r\nL 3793.934921 311.716797 \r\nL 3793.934921 311.716797 \r\nL 3803.707676 311.716797 \r\nL 3803.707676 311.716797 \r\nL 3813.480431 311.716797 \r\nL 3813.480431 311.716797 \r\nL 3823.253185 311.716797 \r\nL 3823.253185 311.716797 \r\nL 3833.02594 311.716797 \r\nL 3833.02594 311.716797 \r\nL 3842.798695 311.716797 \r\nL 3842.798695 311.716797 \r\nL 3852.571449 311.716797 \r\nL 3852.571449 311.716797 \r\nL 3862.344204 311.716797 \r\nL 3862.344204 311.716797 \r\nL 3872.116959 311.716797 \r\nL 3872.116959 311.716797 \r\nL 3881.889713 311.716797 \r\nL 3881.889713 311.716797 \r\nL 3891.662468 311.716797 \r\nL 3891.662468 311.716797 \r\nL 3901.435223 311.716797 \r\nL 3901.435223 311.716797 \r\nL 3911.207977 311.716797 \r\nL 3911.207977 311.716797 \r\nL 3920.980732 311.716797 \r\nL 3920.980732 311.716797 \r\nL 3930.753487 311.716797 \r\nL 3930.753487 311.716797 \r\nL 3940.526241 311.716797 \r\nL 3940.526241 311.716797 \r\nL 3950.298996 311.716797 \r\nL 3950.298996 311.716797 \r\nL 3960.071751 311.716797 \r\nL 3960.071751 311.716797 \r\nL 3969.844505 311.716797 \r\nL 3969.844505 311.716797 \r\nL 3979.61726 311.716797 \r\nL 3979.61726 311.716797 \r\nL 3989.390015 311.716797 \r\nL 3989.390015 311.716797 \r\nL 3999.162769 311.716797 \r\nL 3999.162769 311.716797 \r\nL 4008.935524 311.716797 \r\nL 4008.935524 311.716797 \r\nL 4018.708279 311.716797 \r\nL 4018.708279 311.716797 \r\nL 4028.481034 311.716797 \r\nL 4028.481034 311.716797 \r\nL 4038.253788 311.716797 \r\nL 4038.253788 311.716797 \r\nL 4048.026543 311.716797 \r\nL 4048.026543 311.716797 \r\nL 4057.799298 311.716797 \r\nL 4057.799298 311.716797 \r\nL 4067.572052 311.716797 \r\nL 4067.572052 311.716797 \r\nL 4077.344807 311.716797 \r\nL 4077.344807 311.716797 \r\nL 4087.117562 311.716797 \r\nL 4087.117562 311.716797 \r\nL 4096.890316 311.716797 \r\nL 4096.890316 311.716797 \r\nL 4106.663071 311.716797 \r\nL 4106.663071 311.716797 \r\nL 4116.435826 311.716797 \r\nL 4116.435826 311.716797 \r\nL 4126.20858 311.716797 \r\nL 4126.20858 311.716797 \r\nL 4135.981335 311.716797 \r\nL 4135.981335 311.716797 \r\nL 4145.75409 311.716797 \r\nL 4145.75409 311.716797 \r\nL 4155.526844 311.716797 \r\nL 4155.526844 311.716797 \r\nL 4165.299599 311.716797 \r\nL 4165.299599 311.716797 \r\nL 4175.072354 311.716797 \r\nL 4175.072354 311.716797 \r\nL 4184.845108 311.716797 \r\nL 4184.845108 311.716797 \r\nL 4194.617863 311.716797 \r\nL 4194.617863 311.716797 \r\nL 4204.390618 311.716797 \r\nL 4204.390618 311.716797 \r\nL 4214.163372 311.716797 \r\nL 4214.163372 311.716797 \r\nL 4223.936127 311.716797 \r\nL 4223.936127 311.716797 \r\nL 4233.708882 311.716797 \r\nL 4233.708882 311.716797 \r\nL 4243.481636 311.716797 \r\nL 4243.481636 311.716797 \r\nL 4253.254391 311.716797 \r\nL 4253.254391 311.716797 \r\nL 4263.027146 311.716797 \r\nL 4263.027146 311.716797 \r\nL 4272.799901 311.716797 \r\nL 4272.799901 311.716797 \r\nL 4282.572655 311.716797 \r\nL 4282.572655 311.716797 \r\nL 4292.34541 311.716797 \r\nL 4292.34541 311.716797 \r\nL 4302.118165 311.716797 \r\nL 4302.118165 311.716797 \r\nL 4311.890919 311.716797 \r\nL 4311.890919 311.716797 \r\nL 4321.663674 311.716797 \r\nL 4321.663674 311.716797 \r\nL 4331.436429 311.716797 \r\nL 4331.436429 311.716797 \r\nL 4341.209183 311.716797 \r\nL 4341.209183 311.716797 \r\nL 4350.981938 311.716797 \r\nL 4350.981938 311.716797 \r\nL 4360.754693 311.716797 \r\nL 4360.754693 311.716797 \r\nL 4370.527447 311.716797 \r\nL 4370.527447 311.716797 \r\nL 4380.300202 311.716797 \r\nL 4380.300202 311.716797 \r\nL 4390.072957 311.716797 \r\nL 4390.072957 311.716797 \r\nL 4399.845711 311.716797 \r\nL 4399.845711 311.716797 \r\nL 4409.618466 311.716797 \r\nL 4409.618466 311.716797 \r\nL 4419.391221 311.716797 \r\nL 4419.391221 311.716797 \r\nL 4429.163975 311.716797 \r\nL 4429.163975 311.716797 \r\nL 4438.93673 311.716797 \r\nL 4438.93673 311.716797 \r\nL 4448.709485 311.716797 \r\nL 4448.709485 311.716797 \r\nL 4458.482239 311.716797 \r\nL 4458.482239 311.716797 \r\nL 4468.254994 311.716797 \r\nL 4468.254994 311.716797 \r\nL 4478.027749 311.716797 \r\nL 4478.027749 311.716797 \r\nL 4487.800503 311.716797 \r\nL 4487.800503 311.716797 \r\nL 4497.573258 311.716797 \r\nL 4497.573258 311.716797 \r\nL 4507.346013 311.716797 \r\nL 4507.346013 311.716797 \r\nL 4517.118768 311.716797 \r\nL 4517.118768 311.716797 \r\nL 4526.891522 311.716797 \r\nL 4526.891522 311.716797 \r\nL 4536.664277 311.716797 \r\nL 4536.664277 311.716797 \r\nL 4546.437032 311.716797 \r\nL 4546.437032 311.716797 \r\nL 4556.209786 311.716797 \r\nL 4556.209786 311.716797 \r\nL 4565.982541 311.716797 \r\nL 4565.982541 311.716797 \r\nL 4575.755296 311.716797 \r\nL 4575.755296 311.716797 \r\nL 4585.52805 311.716797 \r\nL 4585.52805 311.716797 \r\nL 4595.300805 311.716797 \r\nL 4595.300805 311.716797 \r\nL 4605.07356 311.716797 \r\nL 4605.07356 311.716797 \r\nL 4614.846314 311.716797 \r\nL 4614.846314 311.716797 \r\nL 4624.619069 311.716797 \r\nL 4624.619069 311.716797 \r\nL 4634.391824 311.716797 \r\nL 4634.391824 311.716797 \r\nL 4644.164578 311.716797 \r\nL 4644.164578 311.716797 \r\nL 4653.937333 311.716797 \r\nL 4653.937333 311.716797 \r\nL 4663.710088 311.716797 \r\nL 4663.710088 311.716797 \r\nL 4673.482842 311.716797 \r\nL 4673.482842 311.716797 \r\nL 4683.255597 311.716797 \r\nL 4683.255597 311.716797 \r\nL 4693.028352 311.716797 \r\nL 4693.028352 311.716797 \r\nL 4702.801106 311.716797 \r\nL 4702.801106 311.716797 \r\nL 4712.573861 311.716797 \r\nL 4712.573861 311.716797 \r\nL 4722.346616 311.716797 \r\nL 4722.346616 311.716797 \r\nL 4732.11937 311.716797 \r\nL 4732.11937 311.716797 \r\nL 4741.892125 311.716797 \r\nL 4741.892125 311.716797 \r\nL 4751.66488 311.716797 \r\nL 4751.66488 311.716797 \r\nL 4761.437635 311.716797 \r\nL 4761.437635 311.716797 \r\nL 4771.210389 311.716797 \r\nL 4771.210389 311.716797 \r\nL 4780.983144 311.716797 \r\nL 4780.983144 311.716797 \r\nL 4790.755899 311.716797 \r\nL 4790.755899 311.716797 \r\nL 4800.528653 311.716797 \r\nL 4800.528653 311.716797 \r\nL 4810.301408 311.716797 \r\nL 4810.301408 311.716797 \r\nL 4820.074163 311.716797 \r\nL 4820.074163 311.716797 \r\nL 4829.846917 311.716797 \r\nL 4829.846917 311.716797 \r\nL 4839.619672 311.716797 \r\nL 4839.619672 311.716797 \r\nL 4849.392427 311.716797 \r\nL 4849.392427 311.716797 \r\nL 4859.165181 311.716797 \r\nL 4859.165181 311.716797 \r\nL 4868.937936 311.716797 \r\nL 4868.937936 311.716797 \r\nL 4878.710691 311.716797 \r\nL 4878.710691 311.716797 \r\nL 4888.483445 311.716797 \r\nL 4888.483445 311.716797 \r\nL 4898.2562 311.716797 \r\nL 4898.2562 311.716797 \r\nL 4908.028955 311.716797 \r\nL 4908.028955 311.716797 \r\nL 4917.801709 311.716797 \r\nL 4917.801709 311.716797 \r\nL 4927.574464 311.716797 \r\nL 4927.574464 311.716797 \r\nL 4937.347219 311.716797 \r\nL 4937.347219 311.716797 \r\nL 4937.347219 311.115637 \r\nL 4937.347219 311.115637 \r\nL 4937.347219 311.115637 \r\nL 4927.574464 311.115637 \r\nL 4927.574464 311.716797 \r\nL 4917.801709 311.716797 \r\nL 4917.801709 311.716797 \r\nL 4908.028955 311.716797 \r\nL 4908.028955 311.716797 \r\nL 4898.2562 311.716797 \r\nL 4898.2562 311.716797 \r\nL 4888.483445 311.716797 \r\nL 4888.483445 311.716797 \r\nL 4878.710691 311.716797 \r\nL 4878.710691 311.716797 \r\nL 4868.937936 311.716797 \r\nL 4868.937936 311.716797 \r\nL 4859.165181 311.716797 \r\nL 4859.165181 311.716797 \r\nL 4849.392427 311.716797 \r\nL 4849.392427 311.716797 \r\nL 4839.619672 311.716797 \r\nL 4839.619672 311.115637 \r\nL 4829.846917 311.115637 \r\nL 4829.846917 311.716797 \r\nL 4820.074163 311.716797 \r\nL 4820.074163 311.716797 \r\nL 4810.301408 311.716797 \r\nL 4810.301408 311.716797 \r\nL 4800.528653 311.716797 \r\nL 4800.528653 311.716797 \r\nL 4790.755899 311.716797 \r\nL 4790.755899 311.716797 \r\nL 4780.983144 311.716797 \r\nL 4780.983144 311.716797 \r\nL 4771.210389 311.716797 \r\nL 4771.210389 311.716797 \r\nL 4761.437635 311.716797 \r\nL 4761.437635 311.716797 \r\nL 4751.66488 311.716797 \r\nL 4751.66488 311.716797 \r\nL 4741.892125 311.716797 \r\nL 4741.892125 311.716797 \r\nL 4732.11937 311.716797 \r\nL 4732.11937 311.716797 \r\nL 4722.346616 311.716797 \r\nL 4722.346616 311.716797 \r\nL 4712.573861 311.716797 \r\nL 4712.573861 311.716797 \r\nL 4702.801106 311.716797 \r\nL 4702.801106 311.716797 \r\nL 4693.028352 311.716797 \r\nL 4693.028352 311.716797 \r\nL 4683.255597 311.716797 \r\nL 4683.255597 311.716797 \r\nL 4673.482842 311.716797 \r\nL 4673.482842 311.716797 \r\nL 4663.710088 311.716797 \r\nL 4663.710088 311.716797 \r\nL 4653.937333 311.716797 \r\nL 4653.937333 311.716797 \r\nL 4644.164578 311.716797 \r\nL 4644.164578 311.716797 \r\nL 4634.391824 311.716797 \r\nL 4634.391824 311.716797 \r\nL 4624.619069 311.716797 \r\nL 4624.619069 311.716797 \r\nL 4614.846314 311.716797 \r\nL 4614.846314 311.716797 \r\nL 4605.07356 311.716797 \r\nL 4605.07356 311.716797 \r\nL 4595.300805 311.716797 \r\nL 4595.300805 311.716797 \r\nL 4585.52805 311.716797 \r\nL 4585.52805 311.716797 \r\nL 4575.755296 311.716797 \r\nL 4575.755296 311.716797 \r\nL 4565.982541 311.716797 \r\nL 4565.982541 311.716797 \r\nL 4556.209786 311.716797 \r\nL 4556.209786 311.716797 \r\nL 4546.437032 311.716797 \r\nL 4546.437032 311.716797 \r\nL 4536.664277 311.716797 \r\nL 4536.664277 311.716797 \r\nL 4526.891522 311.716797 \r\nL 4526.891522 311.115637 \r\nL 4517.118768 311.115637 \r\nL 4517.118768 311.716797 \r\nL 4507.346013 311.716797 \r\nL 4507.346013 311.716797 \r\nL 4497.573258 311.716797 \r\nL 4497.573258 311.716797 \r\nL 4487.800503 311.716797 \r\nL 4487.800503 311.716797 \r\nL 4478.027749 311.716797 \r\nL 4478.027749 311.716797 \r\nL 4468.254994 311.716797 \r\nL 4468.254994 311.716797 \r\nL 4458.482239 311.716797 \r\nL 4458.482239 311.716797 \r\nL 4448.709485 311.716797 \r\nL 4448.709485 311.716797 \r\nL 4438.93673 311.716797 \r\nL 4438.93673 311.716797 \r\nL 4429.163975 311.716797 \r\nL 4429.163975 311.716797 \r\nL 4419.391221 311.716797 \r\nL 4419.391221 311.716797 \r\nL 4409.618466 311.716797 \r\nL 4409.618466 311.716797 \r\nL 4399.845711 311.716797 \r\nL 4399.845711 311.716797 \r\nL 4390.072957 311.716797 \r\nL 4390.072957 311.716797 \r\nL 4380.300202 311.716797 \r\nL 4380.300202 311.716797 \r\nL 4370.527447 311.716797 \r\nL 4370.527447 311.716797 \r\nL 4360.754693 311.716797 \r\nL 4360.754693 311.716797 \r\nL 4350.981938 311.716797 \r\nL 4350.981938 311.716797 \r\nL 4341.209183 311.716797 \r\nL 4341.209183 311.716797 \r\nL 4331.436429 311.716797 \r\nL 4331.436429 311.716797 \r\nL 4321.663674 311.716797 \r\nL 4321.663674 311.716797 \r\nL 4311.890919 311.716797 \r\nL 4311.890919 311.716797 \r\nL 4302.118165 311.716797 \r\nL 4302.118165 311.716797 \r\nL 4292.34541 311.716797 \r\nL 4292.34541 311.716797 \r\nL 4282.572655 311.716797 \r\nL 4282.572655 311.716797 \r\nL 4272.799901 311.716797 \r\nL 4272.799901 311.716797 \r\nL 4263.027146 311.716797 \r\nL 4263.027146 311.716797 \r\nL 4253.254391 311.716797 \r\nL 4253.254391 311.716797 \r\nL 4243.481636 311.716797 \r\nL 4243.481636 311.716797 \r\nL 4233.708882 311.716797 \r\nL 4233.708882 311.716797 \r\nL 4223.936127 311.716797 \r\nL 4223.936127 311.716797 \r\nL 4214.163372 311.716797 \r\nL 4214.163372 311.716797 \r\nL 4204.390618 311.716797 \r\nL 4204.390618 311.716797 \r\nL 4194.617863 311.716797 \r\nL 4194.617863 311.716797 \r\nL 4184.845108 311.716797 \r\nL 4184.845108 311.716797 \r\nL 4175.072354 311.716797 \r\nL 4175.072354 311.716797 \r\nL 4165.299599 311.716797 \r\nL 4165.299599 311.716797 \r\nL 4155.526844 311.716797 \r\nL 4155.526844 311.115637 \r\nL 4145.75409 311.115637 \r\nL 4145.75409 311.716797 \r\nL 4135.981335 311.716797 \r\nL 4135.981335 311.716797 \r\nL 4126.20858 311.716797 \r\nL 4126.20858 311.716797 \r\nL 4116.435826 311.716797 \r\nL 4116.435826 311.716797 \r\nL 4106.663071 311.716797 \r\nL 4106.663071 311.716797 \r\nL 4096.890316 311.716797 \r\nL 4096.890316 311.716797 \r\nL 4087.117562 311.716797 \r\nL 4087.117562 311.716797 \r\nL 4077.344807 311.716797 \r\nL 4077.344807 311.716797 \r\nL 4067.572052 311.716797 \r\nL 4067.572052 311.716797 \r\nL 4057.799298 311.716797 \r\nL 4057.799298 311.716797 \r\nL 4048.026543 311.716797 \r\nL 4048.026543 311.716797 \r\nL 4038.253788 311.716797 \r\nL 4038.253788 311.716797 \r\nL 4028.481034 311.716797 \r\nL 4028.481034 311.716797 \r\nL 4018.708279 311.716797 \r\nL 4018.708279 311.716797 \r\nL 4008.935524 311.716797 \r\nL 4008.935524 311.716797 \r\nL 3999.162769 311.716797 \r\nL 3999.162769 311.716797 \r\nL 3989.390015 311.716797 \r\nL 3989.390015 311.716797 \r\nL 3979.61726 311.716797 \r\nL 3979.61726 311.716797 \r\nL 3969.844505 311.716797 \r\nL 3969.844505 311.716797 \r\nL 3960.071751 311.716797 \r\nL 3960.071751 311.716797 \r\nL 3950.298996 311.716797 \r\nL 3950.298996 311.716797 \r\nL 3940.526241 311.716797 \r\nL 3940.526241 311.716797 \r\nL 3930.753487 311.716797 \r\nL 3930.753487 311.716797 \r\nL 3920.980732 311.716797 \r\nL 3920.980732 311.716797 \r\nL 3911.207977 311.716797 \r\nL 3911.207977 311.716797 \r\nL 3901.435223 311.716797 \r\nL 3901.435223 311.716797 \r\nL 3891.662468 311.716797 \r\nL 3891.662468 311.716797 \r\nL 3881.889713 311.716797 \r\nL 3881.889713 311.716797 \r\nL 3872.116959 311.716797 \r\nL 3872.116959 311.716797 \r\nL 3862.344204 311.716797 \r\nL 3862.344204 311.716797 \r\nL 3852.571449 311.716797 \r\nL 3852.571449 311.716797 \r\nL 3842.798695 311.716797 \r\nL 3842.798695 311.716797 \r\nL 3833.02594 311.716797 \r\nL 3833.02594 311.716797 \r\nL 3823.253185 311.716797 \r\nL 3823.253185 311.716797 \r\nL 3813.480431 311.716797 \r\nL 3813.480431 311.716797 \r\nL 3803.707676 311.716797 \r\nL 3803.707676 311.716797 \r\nL 3793.934921 311.716797 \r\nL 3793.934921 311.716797 \r\nL 3784.162167 311.716797 \r\nL 3784.162167 311.716797 \r\nL 3774.389412 311.716797 \r\nL 3774.389412 311.716797 \r\nL 3764.616657 311.716797 \r\nL 3764.616657 311.716797 \r\nL 3754.843902 311.716797 \r\nL 3754.843902 311.716797 \r\nL 3745.071148 311.716797 \r\nL 3745.071148 311.716797 \r\nL 3735.298393 311.716797 \r\nL 3735.298393 311.716797 \r\nL 3725.525638 311.716797 \r\nL 3725.525638 311.716797 \r\nL 3715.752884 311.716797 \r\nL 3715.752884 311.716797 \r\nL 3705.980129 311.716797 \r\nL 3705.980129 311.716797 \r\nL 3696.207374 311.716797 \r\nL 3696.207374 311.716797 \r\nL 3686.43462 311.716797 \r\nL 3686.43462 311.716797 \r\nL 3676.661865 311.716797 \r\nL 3676.661865 311.716797 \r\nL 3666.88911 311.716797 \r\nL 3666.88911 311.716797 \r\nL 3657.116356 311.716797 \r\nL 3657.116356 311.716797 \r\nL 3647.343601 311.716797 \r\nL 3647.343601 311.716797 \r\nL 3637.570846 311.716797 \r\nL 3637.570846 311.716797 \r\nL 3627.798092 311.716797 \r\nL 3627.798092 311.716797 \r\nL 3618.025337 311.716797 \r\nL 3618.025337 311.716797 \r\nL 3608.252582 311.716797 \r\nL 3608.252582 311.716797 \r\nL 3598.479828 311.716797 \r\nL 3598.479828 311.716797 \r\nL 3588.707073 311.716797 \r\nL 3588.707073 311.716797 \r\nL 3578.934318 311.716797 \r\nL 3578.934318 311.716797 \r\nL 3569.161564 311.716797 \r\nL 3569.161564 311.716797 \r\nL 3559.388809 311.716797 \r\nL 3559.388809 311.716797 \r\nL 3549.616054 311.716797 \r\nL 3549.616054 311.716797 \r\nL 3539.8433 311.716797 \r\nL 3539.8433 311.716797 \r\nL 3530.070545 311.716797 \r\nL 3530.070545 311.716797 \r\nL 3520.29779 311.716797 \r\nL 3520.29779 311.716797 \r\nL 3510.525035 311.716797 \r\nL 3510.525035 311.716797 \r\nL 3500.752281 311.716797 \r\nL 3500.752281 311.716797 \r\nL 3490.979526 311.716797 \r\nL 3490.979526 311.716797 \r\nL 3481.206771 311.716797 \r\nL 3481.206771 311.716797 \r\nL 3471.434017 311.716797 \r\nL 3471.434017 311.716797 \r\nL 3461.661262 311.716797 \r\nL 3461.661262 311.716797 \r\nL 3451.888507 311.716797 \r\nL 3451.888507 311.716797 \r\nL 3442.115753 311.716797 \r\nL 3442.115753 311.716797 \r\nL 3432.342998 311.716797 \r\nL 3432.342998 311.716797 \r\nL 3422.570243 311.716797 \r\nL 3422.570243 311.716797 \r\nL 3412.797489 311.716797 \r\nL 3412.797489 311.716797 \r\nL 3403.024734 311.716797 \r\nL 3403.024734 311.716797 \r\nL 3393.251979 311.716797 \r\nL 3393.251979 311.716797 \r\nL 3383.479225 311.716797 \r\nL 3383.479225 311.716797 \r\nL 3373.70647 311.716797 \r\nL 3373.70647 311.716797 \r\nL 3363.933715 311.716797 \r\nL 3363.933715 311.716797 \r\nL 3354.160961 311.716797 \r\nL 3354.160961 311.716797 \r\nL 3344.388206 311.716797 \r\nL 3344.388206 311.716797 \r\nL 3334.615451 311.716797 \r\nL 3334.615451 311.716797 \r\nL 3324.842697 311.716797 \r\nL 3324.842697 311.716797 \r\nL 3315.069942 311.716797 \r\nL 3315.069942 311.115637 \r\nL 3305.297187 311.115637 \r\nL 3305.297187 311.716797 \r\nL 3295.524433 311.716797 \r\nL 3295.524433 311.716797 \r\nL 3285.751678 311.716797 \r\nL 3285.751678 311.716797 \r\nL 3275.978923 311.716797 \r\nL 3275.978923 311.716797 \r\nL 3266.206168 311.716797 \r\nL 3266.206168 311.716797 \r\nL 3256.433414 311.716797 \r\nL 3256.433414 311.716797 \r\nL 3246.660659 311.716797 \r\nL 3246.660659 311.716797 \r\nL 3236.887904 311.716797 \r\nL 3236.887904 311.716797 \r\nL 3227.11515 311.716797 \r\nL 3227.11515 311.716797 \r\nL 3217.342395 311.716797 \r\nL 3217.342395 311.716797 \r\nL 3207.56964 311.716797 \r\nL 3207.56964 311.716797 \r\nL 3197.796886 311.716797 \r\nL 3197.796886 311.716797 \r\nL 3188.024131 311.716797 \r\nL 3188.024131 311.716797 \r\nL 3178.251376 311.716797 \r\nL 3178.251376 311.716797 \r\nL 3168.478622 311.716797 \r\nL 3168.478622 311.716797 \r\nL 3158.705867 311.716797 \r\nL 3158.705867 311.716797 \r\nL 3148.933112 311.716797 \r\nL 3148.933112 311.716797 \r\nL 3139.160358 311.716797 \r\nL 3139.160358 311.716797 \r\nL 3129.387603 311.716797 \r\nL 3129.387603 311.716797 \r\nL 3119.614848 311.716797 \r\nL 3119.614848 311.716797 \r\nL 3109.842094 311.716797 \r\nL 3109.842094 311.716797 \r\nL 3100.069339 311.716797 \r\nL 3100.069339 311.716797 \r\nL 3090.296584 311.716797 \r\nL 3090.296584 311.716797 \r\nL 3080.52383 311.716797 \r\nL 3080.52383 311.716797 \r\nL 3070.751075 311.716797 \r\nL 3070.751075 311.716797 \r\nL 3060.97832 311.716797 \r\nL 3060.97832 311.716797 \r\nL 3051.205566 311.716797 \r\nL 3051.205566 311.716797 \r\nL 3041.432811 311.716797 \r\nL 3041.432811 311.716797 \r\nL 3031.660056 311.716797 \r\nL 3031.660056 311.716797 \r\nL 3021.887301 311.716797 \r\nL 3021.887301 311.716797 \r\nL 3012.114547 311.716797 \r\nL 3012.114547 311.716797 \r\nL 3002.341792 311.716797 \r\nL 3002.341792 311.716797 \r\nL 2992.569037 311.716797 \r\nL 2992.569037 311.716797 \r\nL 2982.796283 311.716797 \r\nL 2982.796283 311.716797 \r\nL 2973.023528 311.716797 \r\nL 2973.023528 311.716797 \r\nL 2963.250773 311.716797 \r\nL 2963.250773 311.716797 \r\nL 2953.478019 311.716797 \r\nL 2953.478019 311.716797 \r\nL 2943.705264 311.716797 \r\nL 2943.705264 311.716797 \r\nL 2933.932509 311.716797 \r\nL 2933.932509 311.716797 \r\nL 2924.159755 311.716797 \r\nL 2924.159755 311.716797 \r\nL 2914.387 311.716797 \r\nL 2914.387 311.115637 \r\nL 2904.614245 311.115637 \r\nL 2904.614245 311.716797 \r\nL 2894.841491 311.716797 \r\nL 2894.841491 311.716797 \r\nL 2885.068736 311.716797 \r\nL 2885.068736 311.716797 \r\nL 2875.295981 311.716797 \r\nL 2875.295981 311.716797 \r\nL 2865.523227 311.716797 \r\nL 2865.523227 311.716797 \r\nL 2855.750472 311.716797 \r\nL 2855.750472 311.716797 \r\nL 2845.977717 311.716797 \r\nL 2845.977717 311.716797 \r\nL 2836.204963 311.716797 \r\nL 2836.204963 311.716797 \r\nL 2826.432208 311.716797 \r\nL 2826.432208 311.716797 \r\nL 2816.659453 311.716797 \r\nL 2816.659453 311.716797 \r\nL 2806.886699 311.716797 \r\nL 2806.886699 311.716797 \r\nL 2797.113944 311.716797 \r\nL 2797.113944 311.716797 \r\nL 2787.341189 311.716797 \r\nL 2787.341189 311.716797 \r\nL 2777.568434 311.716797 \r\nL 2777.568434 311.716797 \r\nL 2767.79568 311.716797 \r\nL 2767.79568 311.716797 \r\nL 2758.022925 311.716797 \r\nL 2758.022925 311.716797 \r\nL 2748.25017 311.716797 \r\nL 2748.25017 311.716797 \r\nL 2738.477416 311.716797 \r\nL 2738.477416 311.716797 \r\nL 2728.704661 311.716797 \r\nL 2728.704661 311.716797 \r\nL 2718.931906 311.716797 \r\nL 2718.931906 311.716797 \r\nL 2709.159152 311.716797 \r\nL 2709.159152 311.716797 \r\nL 2699.386397 311.716797 \r\nL 2699.386397 311.716797 \r\nL 2689.613642 311.716797 \r\nL 2689.613642 311.716797 \r\nL 2679.840888 311.716797 \r\nL 2679.840888 311.716797 \r\nL 2670.068133 311.716797 \r\nL 2670.068133 311.716797 \r\nL 2660.295378 311.716797 \r\nL 2660.295378 311.716797 \r\nL 2650.522624 311.716797 \r\nL 2650.522624 311.716797 \r\nL 2640.749869 311.716797 \r\nL 2640.749869 311.716797 \r\nL 2630.977114 311.716797 \r\nL 2630.977114 311.716797 \r\nL 2621.20436 311.716797 \r\nL 2621.20436 311.716797 \r\nL 2611.431605 311.716797 \r\nL 2611.431605 311.716797 \r\nL 2601.65885 311.716797 \r\nL 2601.65885 311.716797 \r\nL 2591.886096 311.716797 \r\nL 2591.886096 311.716797 \r\nL 2582.113341 311.716797 \r\nL 2582.113341 311.115637 \r\nL 2572.340586 311.115637 \r\nL 2572.340586 311.115637 \r\nL 2562.567832 311.115637 \r\nL 2562.567832 311.115637 \r\nL 2552.795077 311.115637 \r\nL 2552.795077 311.716797 \r\nL 2543.022322 311.716797 \r\nL 2543.022322 311.115637 \r\nL 2533.249567 311.115637 \r\nL 2533.249567 311.716797 \r\nL 2523.476813 311.716797 \r\nL 2523.476813 311.115637 \r\nL 2513.704058 311.115637 \r\nL 2513.704058 311.716797 \r\nL 2503.931303 311.716797 \r\nL 2503.931303 311.716797 \r\nL 2494.158549 311.716797 \r\nL 2494.158549 311.115637 \r\nL 2484.385794 311.115637 \r\nL 2484.385794 311.716797 \r\nL 2474.613039 311.716797 \r\nL 2474.613039 311.115637 \r\nL 2464.840285 311.115637 \r\nL 2464.840285 311.716797 \r\nL 2455.06753 311.716797 \r\nL 2455.06753 311.115637 \r\nL 2445.294775 311.115637 \r\nL 2445.294775 311.716797 \r\nL 2435.522021 311.716797 \r\nL 2435.522021 311.716797 \r\nL 2425.749266 311.716797 \r\nL 2425.749266 311.716797 \r\nL 2415.976511 311.716797 \r\nL 2415.976511 311.716797 \r\nL 2406.203757 311.716797 \r\nL 2406.203757 311.716797 \r\nL 2396.431002 311.716797 \r\nL 2396.431002 311.115637 \r\nL 2386.658247 311.115637 \r\nL 2386.658247 311.716797 \r\nL 2376.885493 311.716797 \r\nL 2376.885493 311.716797 \r\nL 2367.112738 311.716797 \r\nL 2367.112738 310.514477 \r\nL 2357.339983 310.514477 \r\nL 2357.339983 311.716797 \r\nL 2347.567229 311.716797 \r\nL 2347.567229 311.716797 \r\nL 2337.794474 311.716797 \r\nL 2337.794474 311.716797 \r\nL 2328.021719 311.716797 \r\nL 2328.021719 311.716797 \r\nL 2318.248965 311.716797 \r\nL 2318.248965 311.716797 \r\nL 2308.47621 311.716797 \r\nL 2308.47621 311.115637 \r\nL 2298.703455 311.115637 \r\nL 2298.703455 311.716797 \r\nL 2288.9307 311.716797 \r\nL 2288.9307 311.716797 \r\nL 2279.157946 311.716797 \r\nL 2279.157946 311.115637 \r\nL 2269.385191 311.115637 \r\nL 2269.385191 311.716797 \r\nL 2259.612436 311.716797 \r\nL 2259.612436 311.716797 \r\nL 2249.839682 311.716797 \r\nL 2249.839682 311.716797 \r\nL 2240.066927 311.716797 \r\nL 2240.066927 311.115637 \r\nL 2230.294172 311.115637 \r\nL 2230.294172 311.716797 \r\nL 2220.521418 311.716797 \r\nL 2220.521418 311.716797 \r\nL 2210.748663 311.716797 \r\nL 2210.748663 311.716797 \r\nL 2200.975908 311.716797 \r\nL 2200.975908 311.716797 \r\nL 2191.203154 311.716797 \r\nL 2191.203154 311.716797 \r\nL 2181.430399 311.716797 \r\nL 2181.430399 311.716797 \r\nL 2171.657644 311.716797 \r\nL 2171.657644 311.716797 \r\nL 2161.88489 311.716797 \r\nL 2161.88489 311.115637 \r\nL 2152.112135 311.115637 \r\nL 2152.112135 311.716797 \r\nL 2142.33938 311.716797 \r\nL 2142.33938 311.716797 \r\nL 2132.566626 311.716797 \r\nL 2132.566626 311.716797 \r\nL 2122.793871 311.716797 \r\nL 2122.793871 311.115637 \r\nL 2113.021116 311.115637 \r\nL 2113.021116 311.115637 \r\nL 2103.248362 311.115637 \r\nL 2103.248362 310.514477 \r\nL 2093.475607 310.514477 \r\nL 2093.475607 311.716797 \r\nL 2083.702852 311.716797 \r\nL 2083.702852 311.716797 \r\nL 2073.930098 311.716797 \r\nL 2073.930098 311.115637 \r\nL 2064.157343 311.115637 \r\nL 2064.157343 311.716797 \r\nL 2054.384588 311.716797 \r\nL 2054.384588 311.716797 \r\nL 2044.611833 311.716797 \r\nL 2044.611833 311.716797 \r\nL 2034.839079 311.716797 \r\nL 2034.839079 311.115637 \r\nL 2025.066324 311.115637 \r\nL 2025.066324 311.716797 \r\nL 2015.293569 311.716797 \r\nL 2015.293569 310.514477 \r\nL 2005.520815 310.514477 \r\nL 2005.520815 311.115637 \r\nL 1995.74806 311.115637 \r\nL 1995.74806 311.716797 \r\nL 1985.975305 311.716797 \r\nL 1985.975305 311.716797 \r\nL 1976.202551 311.716797 \r\nL 1976.202551 311.716797 \r\nL 1966.429796 311.716797 \r\nL 1966.429796 311.115637 \r\nL 1956.657041 311.115637 \r\nL 1956.657041 311.115637 \r\nL 1946.884287 311.115637 \r\nL 1946.884287 311.115637 \r\nL 1937.111532 311.115637 \r\nL 1937.111532 311.716797 \r\nL 1927.338777 311.716797 \r\nL 1927.338777 311.115637 \r\nL 1917.566023 311.115637 \r\nL 1917.566023 310.514477 \r\nL 1907.793268 310.514477 \r\nL 1907.793268 310.514477 \r\nL 1898.020513 310.514477 \r\nL 1898.020513 311.716797 \r\nL 1888.247759 311.716797 \r\nL 1888.247759 311.115637 \r\nL 1878.475004 311.115637 \r\nL 1878.475004 311.115637 \r\nL 1868.702249 311.115637 \r\nL 1868.702249 311.716797 \r\nL 1858.929495 311.716797 \r\nL 1858.929495 311.716797 \r\nL 1849.15674 311.716797 \r\nL 1849.15674 311.716797 \r\nL 1839.383985 311.716797 \r\nL 1839.383985 311.716797 \r\nL 1829.611231 311.716797 \r\nL 1829.611231 311.115637 \r\nL 1819.838476 311.115637 \r\nL 1819.838476 311.716797 \r\nL 1810.065721 311.716797 \r\nL 1810.065721 311.716797 \r\nL 1800.292966 311.716797 \r\nL 1800.292966 309.913317 \r\nL 1790.520212 309.913317 \r\nL 1790.520212 311.716797 \r\nL 1780.747457 311.716797 \r\nL 1780.747457 311.716797 \r\nL 1770.974702 311.716797 \r\nL 1770.974702 311.716797 \r\nL 1761.201948 311.716797 \r\nL 1761.201948 310.514477 \r\nL 1751.429193 310.514477 \r\nL 1751.429193 309.913317 \r\nL 1741.656438 309.913317 \r\nL 1741.656438 311.716797 \r\nL 1731.883684 311.716797 \r\nL 1731.883684 311.115637 \r\nL 1722.110929 311.115637 \r\nL 1722.110929 311.716797 \r\nL 1712.338174 311.716797 \r\nL 1712.338174 310.514477 \r\nL 1702.56542 310.514477 \r\nL 1702.56542 311.115637 \r\nL 1692.792665 311.115637 \r\nL 1692.792665 311.716797 \r\nL 1683.01991 311.716797 \r\nL 1683.01991 311.115637 \r\nL 1673.247156 311.115637 \r\nL 1673.247156 311.115637 \r\nL 1663.474401 311.115637 \r\nL 1663.474401 311.115637 \r\nL 1653.701646 311.115637 \r\nL 1653.701646 311.115637 \r\nL 1643.928892 311.115637 \r\nL 1643.928892 310.514477 \r\nL 1634.156137 310.514477 \r\nL 1634.156137 311.115637 \r\nL 1624.383382 311.115637 \r\nL 1624.383382 311.716797 \r\nL 1614.610628 311.716797 \r\nL 1614.610628 311.115637 \r\nL 1604.837873 311.115637 \r\nL 1604.837873 310.514477 \r\nL 1595.065118 310.514477 \r\nL 1595.065118 309.913317 \r\nL 1585.292364 309.913317 \r\nL 1585.292364 309.913317 \r\nL 1575.519609 309.913317 \r\nL 1575.519609 311.716797 \r\nL 1565.746854 311.716797 \r\nL 1565.746854 311.716797 \r\nL 1555.974099 311.716797 \r\nL 1555.974099 311.716797 \r\nL 1546.201345 311.716797 \r\nL 1546.201345 310.514477 \r\nL 1536.42859 310.514477 \r\nL 1536.42859 311.716797 \r\nL 1526.655835 311.716797 \r\nL 1526.655835 309.913317 \r\nL 1516.883081 309.913317 \r\nL 1516.883081 309.913317 \r\nL 1507.110326 309.913317 \r\nL 1507.110326 311.115637 \r\nL 1497.337571 311.115637 \r\nL 1497.337571 311.716797 \r\nL 1487.564817 311.716797 \r\nL 1487.564817 309.913317 \r\nL 1477.792062 309.913317 \r\nL 1477.792062 311.716797 \r\nL 1468.019307 311.716797 \r\nL 1468.019307 311.716797 \r\nL 1458.246553 311.716797 \r\nL 1458.246553 310.514477 \r\nL 1448.473798 310.514477 \r\nL 1448.473798 311.115637 \r\nL 1438.701043 311.115637 \r\nL 1438.701043 309.312157 \r\nL 1428.928289 309.312157 \r\nL 1428.928289 309.913317 \r\nL 1419.155534 309.913317 \r\nL 1419.155534 311.115637 \r\nL 1409.382779 311.115637 \r\nL 1409.382779 308.109837 \r\nL 1399.610025 308.109837 \r\nL 1399.610025 311.115637 \r\nL 1389.83727 311.115637 \r\nL 1389.83727 309.312157 \r\nL 1380.064515 309.312157 \r\nL 1380.064515 309.913317 \r\nL 1370.291761 309.913317 \r\nL 1370.291761 310.514477 \r\nL 1360.519006 310.514477 \r\nL 1360.519006 310.514477 \r\nL 1350.746251 310.514477 \r\nL 1350.746251 311.716797 \r\nL 1340.973497 311.716797 \r\nL 1340.973497 309.312157 \r\nL 1331.200742 309.312157 \r\nL 1331.200742 309.913317 \r\nL 1321.427987 309.913317 \r\nL 1321.427987 308.710997 \r\nL 1311.655232 308.710997 \r\nL 1311.655232 311.115637 \r\nL 1301.882478 311.115637 \r\nL 1301.882478 309.913317 \r\nL 1292.109723 309.913317 \r\nL 1292.109723 311.716797 \r\nL 1282.336968 311.716797 \r\nL 1282.336968 308.109837 \r\nL 1272.564214 308.109837 \r\nL 1272.564214 308.710997 \r\nL 1262.791459 308.710997 \r\nL 1262.791459 308.710997 \r\nL 1253.018704 308.710997 \r\nL 1253.018704 309.913317 \r\nL 1243.24595 309.913317 \r\nL 1243.24595 309.913317 \r\nL 1233.473195 309.913317 \r\nL 1233.473195 309.913317 \r\nL 1223.70044 309.913317 \r\nL 1223.70044 308.109837 \r\nL 1213.927686 308.109837 \r\nL 1213.927686 308.710997 \r\nL 1204.154931 308.710997 \r\nL 1204.154931 310.514477 \r\nL 1194.382176 310.514477 \r\nL 1194.382176 309.913317 \r\nL 1184.609422 309.913317 \r\nL 1184.609422 311.716797 \r\nL 1174.836667 311.716797 \r\nL 1174.836667 309.913317 \r\nL 1165.063912 309.913317 \r\nL 1165.063912 308.109837 \r\nL 1155.291158 308.109837 \r\nL 1155.291158 309.312157 \r\nL 1145.518403 309.312157 \r\nL 1145.518403 310.514477 \r\nL 1135.745648 310.514477 \r\nL 1135.745648 307.508677 \r\nL 1125.972894 307.508677 \r\nL 1125.972894 308.710997 \r\nL 1116.200139 308.710997 \r\nL 1116.200139 308.109837 \r\nL 1106.427384 308.109837 \r\nL 1106.427384 309.312157 \r\nL 1096.65463 309.312157 \r\nL 1096.65463 307.508677 \r\nL 1086.881875 307.508677 \r\nL 1086.881875 309.913317 \r\nL 1077.10912 309.913317 \r\nL 1077.10912 308.710997 \r\nL 1067.336365 308.710997 \r\nL 1067.336365 310.514477 \r\nL 1057.563611 310.514477 \r\nL 1057.563611 308.109837 \r\nL 1047.790856 308.109837 \r\nL 1047.790856 307.508677 \r\nL 1038.018101 307.508677 \r\nL 1038.018101 308.109837 \r\nL 1028.245347 308.109837 \r\nL 1028.245347 309.913317 \r\nL 1018.472592 309.913317 \r\nL 1018.472592 308.109837 \r\nL 1008.699837 308.109837 \r\nL 1008.699837 311.115637 \r\nL 998.927083 311.115637 \r\nL 998.927083 308.109837 \r\nL 989.154328 308.109837 \r\nL 989.154328 309.312157 \r\nL 979.381573 309.312157 \r\nL 979.381573 307.508677 \r\nL 969.608819 307.508677 \r\nL 969.608819 309.312157 \r\nL 959.836064 309.312157 \r\nL 959.836064 308.710997 \r\nL 950.063309 308.710997 \r\nL 950.063309 309.913317 \r\nL 940.290555 309.913317 \r\nL 940.290555 309.312157 \r\nL 930.5178 309.312157 \r\nL 930.5178 307.508677 \r\nL 920.745045 307.508677 \r\nL 920.745045 304.502877 \r\nL 910.972291 304.502877 \r\nL 910.972291 302.699397 \r\nL 901.199536 302.699397 \r\nL 901.199536 285.265757 \r\nL 891.426781 285.265757 \r\nL 891.426781 303.901717 \r\nL 881.654027 303.901717 \r\nL 881.654027 305.705197 \r\nL 871.881272 305.705197 \r\nL 871.881272 303.300557 \r\nL 862.108517 303.300557 \r\nL 862.108517 303.901717 \r\nL 852.335763 303.901717 \r\nL 852.335763 303.901717 \r\nL 842.563008 303.901717 \r\nL 842.563008 293.080837 \r\nL 832.790253 293.080837 \r\nL 832.790253 286.468077 \r\nL 823.017498 286.468077 \r\nL 823.017498 304.502877 \r\nL 813.244744 304.502877 \r\nL 813.244744 300.294757 \r\nL 803.471989 300.294757 \r\nL 803.471989 297.890117 \r\nL 793.699234 297.890117 \r\nL 793.699234 302.098237 \r\nL 783.92648 302.098237 \r\nL 783.92648 287.069237 \r\nL 774.153725 287.069237 \r\nL 774.153725 282.861117 \r\nL 764.38097 282.861117 \r\nL 764.38097 278.652997 \r\nL 754.608216 278.652997 \r\nL 754.608216 300.895917 \r\nL 744.835461 300.895917 \r\nL 744.835461 302.098237 \r\nL 735.062706 302.098237 \r\nL 735.062706 297.890117 \r\nL 725.289952 297.890117 \r\nL 725.289952 305.104037 \r\nL 715.517197 305.104037 \r\nL 715.517197 303.300557 \r\nL 705.744442 303.300557 \r\nL 705.744442 300.895917 \r\nL 695.971688 300.895917 \r\nL 695.971688 303.300557 \r\nL 686.198933 303.300557 \r\nL 686.198933 302.699397 \r\nL 676.426178 302.699397 \r\nL 676.426178 302.098237 \r\nL 666.653424 302.098237 \r\nL 666.653424 308.109837 \r\nL 656.880669 308.109837 \r\nL 656.880669 302.699397 \r\nL 647.107914 302.699397 \r\nL 647.107914 304.502877 \r\nL 637.33516 304.502877 \r\nL 637.33516 304.502877 \r\nL 627.562405 304.502877 \r\nL 627.562405 307.508677 \r\nL 617.78965 307.508677 \r\nL 617.78965 307.508677 \r\nL 608.016896 307.508677 \r\nL 608.016896 306.907517 \r\nL 598.244141 306.907517 \r\nL 598.244141 305.705197 \r\nL 588.471386 305.705197 \r\nL 588.471386 306.907517 \r\nL 578.698631 306.907517 \r\nL 578.698631 303.901717 \r\nL 568.925877 303.901717 \r\nL 568.925877 303.300557 \r\nL 559.153122 303.300557 \r\nL 559.153122 305.705197 \r\nL 549.380367 305.705197 \r\nL 549.380367 304.502877 \r\nL 539.607613 304.502877 \r\nL 539.607613 300.294757 \r\nL 529.834858 300.294757 \r\nL 529.834858 297.890117 \r\nL 520.062103 297.890117 \r\nL 520.062103 295.485477 \r\nL 510.289349 295.485477 \r\nL 510.289349 283.462277 \r\nL 500.516594 283.462277 \r\nL 500.516594 270.236757 \r\nL 490.743839 270.236757 \r\nL 490.743839 250.999637 \r\nL 480.971085 250.999637 \r\nL 480.971085 61.634237 \r\nL 471.19833 61.634237 \r\nL 471.19833 275.647197 \r\nL 461.425575 275.647197 \r\nL 461.425575 280.456477 \r\nL 451.652821 280.456477 \r\nL 451.652821 229.959037 \r\nL 441.880066 229.959037 \r\nL 441.880066 232.363677 \r\nL 432.107311 232.363677 \r\nL 432.107311 202.305677 \r\nL 422.334557 202.305677 \r\nL 422.334557 199.299877 \r\nL 412.561802 199.299877 \r\nL 412.561802 41.795957 \r\nL 402.789047 41.795957 \r\nL 402.789047 277.450677 \r\nL 393.016293 277.450677 \r\nL 393.016293 301.497077 \r\nL 383.243538 301.497077 \r\nL 383.243538 300.895917 \r\nL 373.470783 300.895917 \r\nL 373.470783 303.901717 \r\nL 363.698029 303.901717 \r\nL 363.698029 305.104037 \r\nL 353.925274 305.104037 \r\nL 353.925274 299.693597 \r\nL 344.152519 299.693597 \r\nL 344.152519 305.705197 \r\nL 334.379764 305.705197 \r\nL 334.379764 297.890117 \r\nL 324.60701 297.890117 \r\nL 324.60701 300.294757 \r\nL 314.834255 300.294757 \r\nL 314.834255 301.497077 \r\nL 305.0615 301.497077 \r\nL 305.0615 300.895917 \r\nL 295.288746 300.895917 \r\nL 295.288746 294.283157 \r\nL 285.515991 294.283157 \r\nL 285.515991 292.479677 \r\nL 275.743236 292.479677 \r\nL 275.743236 291.277357 \r\nL 265.970482 291.277357 \r\nL 265.970482 290.676197 \r\nL 256.197727 290.676197 \r\nL 256.197727 288.872717 \r\nL 246.424972 288.872717 \r\nL 246.424972 294.884317 \r\nL 236.652218 294.884317 \r\nL 236.652218 292.479677 \r\nL 226.879463 292.479677 \r\nL 226.879463 280.456477 \r\nL 217.106708 280.456477 \r\nL 217.106708 288.872717 \r\nL 207.333954 288.872717 \r\nL 207.333954 285.265757 \r\nL 197.561199 285.265757 \r\nL 197.561199 282.861117 \r\nL 187.788444 282.861117 \r\nL 187.788444 282.259957 \r\nL 178.01569 282.259957 \r\nL 178.01569 280.456477 \r\nL 168.242935 280.456477 \r\nL 168.242935 279.855317 \r\nL 158.47018 279.855317 \r\nL 158.47018 254.005437 \r\nL 148.697426 254.005437 \r\nL 148.697426 282.861117 \r\nL 138.924671 282.861117 \r\nL 138.924671 276.248357 \r\nL 129.151916 276.248357 \r\nL 129.151916 273.843717 \r\nL 119.379162 273.843717 \r\nL 119.379162 287.069237 \r\nL 109.606407 287.069237 \r\nL 109.606407 262.421677 \r\nL 99.833652 262.421677 \r\nL 99.833652 235.970637 \r\nL 90.060897 235.970637 \r\nL 90.060897 257.612397 \r\nL 80.288143 257.612397 \r\nL 80.288143 141.588517 \r\nL 70.515388 141.588517 \r\nL 70.515388 241.381077 \r\nL 60.742633 241.381077 \r\nL 60.742633 18.951877 \r\nL 50.969879 18.951877 \r\nz\r\n\" style=\"fill:#a1c9f4;fill-opacity:0.5;stroke:#a1c9f4;\"/>\r\n   </g>\r\n   <g id=\"patch_3\">\r\n    <path d=\"M 50.025469 311.716797 \r\nL 50.025469 11.136797 \r\n\" style=\"fill:none;stroke:#262626;stroke-linecap:square;stroke-linejoin:miter;stroke-width:1.25;\"/>\r\n   </g>\r\n   <g id=\"patch_4\">\r\n    <path d=\"M 50.025469 311.716797 \r\nL 522.230469 311.716797 \r\n\" style=\"fill:none;stroke:#262626;stroke-linecap:square;stroke-linejoin:miter;stroke-width:1.25;\"/>\r\n   </g>\r\n  </g>\r\n </g>\r\n <defs>\r\n  <clipPath id=\"pd7d97fb328\">\r\n   <rect height=\"300.58\" width=\"472.205\" x=\"50.025469\" y=\"11.136797\"/>\r\n  </clipPath>\r\n </defs>\r\n</svg>\r\n",
      "image/png": "[encoded data removed]"
     },
     "metadata": {}
    }
   ],
   "source": [
    "sns.displot(wbd_interactions_CG, x=\"num_interactions\", alpha = 0.5, bins = 500,element = 'step',multiple=\"stack\",aspect=15/10)\n",
    "plt.axis([0,500,0,500])\n",
    "#g.set_xticks([0,50,100,150,200,250,300,350,400,450,500])\n",
    "plt.show()"
   ]
  },
  {
   "cell_type": "code",
   "execution_count": 282,
   "metadata": {},
   "outputs": [
    {
     "output_type": "display_data",
     "data": {
      "text/plain": "<Figure size 720x504 with 1 Axes>",
      "image/svg+xml": "<?xml version=\"1.0\" encoding=\"utf-8\" standalone=\"no\"?>\r\n<!DOCTYPE svg PUBLIC \"-//W3C//DTD SVG 1.1//EN\"\r\n  \"http://www.w3.org/Graphics/SVG/1.1/DTD/svg11.dtd\">\r\n<!-- Created with matplotlib (https://matplotlib.org/) -->\r\n<svg height=\"444.330469pt\" version=\"1.1\" viewBox=\"0 0 621.3425 444.330469\" width=\"621.3425pt\" xmlns=\"http://www.w3.org/2000/svg\" xmlns:xlink=\"http://www.w3.org/1999/xlink\">\r\n <metadata>\r\n  <rdf:RDF xmlns:cc=\"http://creativecommons.org/ns#\" xmlns:dc=\"http://purl.org/dc/elements/1.1/\" xmlns:rdf=\"http://www.w3.org/1999/02/22-rdf-syntax-ns#\">\r\n   <cc:Work>\r\n    <dc:type rdf:resource=\"http://purl.org/dc/dcmitype/StillImage\"/>\r\n    <dc:date>2020-11-26T03:41:47.556982</dc:date>\r\n    <dc:format>image/svg+xml</dc:format>\r\n    <dc:creator>\r\n     <cc:Agent>\r\n      <dc:title>Matplotlib v3.3.2, https://matplotlib.org/</dc:title>\r\n     </cc:Agent>\r\n    </dc:creator>\r\n   </cc:Work>\r\n  </rdf:RDF>\r\n </metadata>\r\n <defs>\r\n  <style type=\"text/css\">*{stroke-linecap:butt;stroke-linejoin:round;}</style>\r\n </defs>\r\n <g id=\"figure_1\">\r\n  <g id=\"patch_1\">\r\n   <path d=\"M 0 444.330469 \r\nL 621.3425 444.330469 \r\nL 621.3425 0 \r\nL 0 0 \r\nz\r\n\" style=\"fill:#ffffff;\"/>\r\n  </g>\r\n  <g id=\"axes_1\">\r\n   <g id=\"patch_2\">\r\n    <path d=\"M 56.1425 402.309375 \r\nL 614.1425 402.309375 \r\nL 614.1425 21.789375 \r\nL 56.1425 21.789375 \r\nz\r\n\" style=\"fill:#ffffff;\"/>\r\n   </g>\r\n   <g id=\"matplotlib.axis_1\">\r\n    <g id=\"xtick_1\">\r\n     <g id=\"line2d_1\">\r\n      <defs>\r\n       <path d=\"M 0 0 \r\nL 0 6 \r\n\" id=\"mf1ebd915d9\" style=\"stroke:#262626;stroke-width:1.25;\"/>\r\n      </defs>\r\n      <g>\r\n       <use style=\"fill:#262626;stroke:#262626;stroke-width:1.25;\" x=\"56.1425\" xlink:href=\"#mf1ebd915d9\" y=\"402.309375\"/>\r\n      </g>\r\n     </g>\r\n     <g id=\"text_1\">\r\n      <!-- 0 -->\r\n      <g style=\"fill:#262626;\" transform=\"translate(53.083984 419.682969)scale(0.11 -0.11)\">\r\n       <defs>\r\n        <path d=\"M 4.15625 35.296875 \r\nQ 4.15625 48 6.765625 55.734375 \r\nQ 9.375 63.484375 14.515625 67.671875 \r\nQ 19.671875 71.875 27.484375 71.875 \r\nQ 33.25 71.875 37.59375 69.546875 \r\nQ 41.9375 67.234375 44.765625 62.859375 \r\nQ 47.609375 58.5 49.21875 52.21875 \r\nQ 50.828125 45.953125 50.828125 35.296875 \r\nQ 50.828125 22.703125 48.234375 14.96875 \r\nQ 45.65625 7.234375 40.5 3 \r\nQ 35.359375 -1.21875 27.484375 -1.21875 \r\nQ 17.140625 -1.21875 11.234375 6.203125 \r\nQ 4.15625 15.140625 4.15625 35.296875 \r\nz\r\nM 13.1875 35.296875 \r\nQ 13.1875 17.671875 17.3125 11.828125 \r\nQ 21.4375 6 27.484375 6 \r\nQ 33.546875 6 37.671875 11.859375 \r\nQ 41.796875 17.71875 41.796875 35.296875 \r\nQ 41.796875 52.984375 37.671875 58.78125 \r\nQ 33.546875 64.59375 27.390625 64.59375 \r\nQ 21.34375 64.59375 17.71875 59.46875 \r\nQ 13.1875 52.9375 13.1875 35.296875 \r\nz\r\n\" id=\"ArialMT-48\"/>\r\n       </defs>\r\n       <use xlink:href=\"#ArialMT-48\"/>\r\n      </g>\r\n     </g>\r\n    </g>\r\n    <g id=\"xtick_2\">\r\n     <g id=\"line2d_2\">\r\n      <g>\r\n       <use style=\"fill:#262626;stroke:#262626;stroke-width:1.25;\" x=\"130.5425\" xlink:href=\"#mf1ebd915d9\" y=\"402.309375\"/>\r\n      </g>\r\n     </g>\r\n     <g id=\"text_2\">\r\n      <!-- 200 -->\r\n      <g style=\"fill:#262626;\" transform=\"translate(121.366953 419.682969)scale(0.11 -0.11)\">\r\n       <defs>\r\n        <path d=\"M 50.34375 8.453125 \r\nL 50.34375 0 \r\nL 3.03125 0 \r\nQ 2.9375 3.171875 4.046875 6.109375 \r\nQ 5.859375 10.9375 9.828125 15.625 \r\nQ 13.8125 20.3125 21.34375 26.46875 \r\nQ 33.015625 36.03125 37.109375 41.625 \r\nQ 41.21875 47.21875 41.21875 52.203125 \r\nQ 41.21875 57.421875 37.46875 61 \r\nQ 33.734375 64.59375 27.734375 64.59375 \r\nQ 21.390625 64.59375 17.578125 60.78125 \r\nQ 13.765625 56.984375 13.71875 50.25 \r\nL 4.6875 51.171875 \r\nQ 5.609375 61.28125 11.65625 66.578125 \r\nQ 17.71875 71.875 27.9375 71.875 \r\nQ 38.234375 71.875 44.234375 66.15625 \r\nQ 50.25 60.453125 50.25 52 \r\nQ 50.25 47.703125 48.484375 43.546875 \r\nQ 46.734375 39.40625 42.65625 34.8125 \r\nQ 38.578125 30.21875 29.109375 22.21875 \r\nQ 21.1875 15.578125 18.9375 13.203125 \r\nQ 16.703125 10.84375 15.234375 8.453125 \r\nz\r\n\" id=\"ArialMT-50\"/>\r\n       </defs>\r\n       <use xlink:href=\"#ArialMT-50\"/>\r\n       <use x=\"55.615234\" xlink:href=\"#ArialMT-48\"/>\r\n       <use x=\"111.230469\" xlink:href=\"#ArialMT-48\"/>\r\n      </g>\r\n     </g>\r\n    </g>\r\n    <g id=\"xtick_3\">\r\n     <g id=\"line2d_3\">\r\n      <g>\r\n       <use style=\"fill:#262626;stroke:#262626;stroke-width:1.25;\" x=\"204.9425\" xlink:href=\"#mf1ebd915d9\" y=\"402.309375\"/>\r\n      </g>\r\n     </g>\r\n     <g id=\"text_3\">\r\n      <!-- 400 -->\r\n      <g style=\"fill:#262626;\" transform=\"translate(195.766953 419.682969)scale(0.11 -0.11)\">\r\n       <defs>\r\n        <path d=\"M 32.328125 0 \r\nL 32.328125 17.140625 \r\nL 1.265625 17.140625 \r\nL 1.265625 25.203125 \r\nL 33.9375 71.578125 \r\nL 41.109375 71.578125 \r\nL 41.109375 25.203125 \r\nL 50.78125 25.203125 \r\nL 50.78125 17.140625 \r\nL 41.109375 17.140625 \r\nL 41.109375 0 \r\nz\r\nM 32.328125 25.203125 \r\nL 32.328125 57.46875 \r\nL 9.90625 25.203125 \r\nz\r\n\" id=\"ArialMT-52\"/>\r\n       </defs>\r\n       <use xlink:href=\"#ArialMT-52\"/>\r\n       <use x=\"55.615234\" xlink:href=\"#ArialMT-48\"/>\r\n       <use x=\"111.230469\" xlink:href=\"#ArialMT-48\"/>\r\n      </g>\r\n     </g>\r\n    </g>\r\n    <g id=\"xtick_4\">\r\n     <g id=\"line2d_4\">\r\n      <g>\r\n       <use style=\"fill:#262626;stroke:#262626;stroke-width:1.25;\" x=\"279.3425\" xlink:href=\"#mf1ebd915d9\" y=\"402.309375\"/>\r\n      </g>\r\n     </g>\r\n     <g id=\"text_4\">\r\n      <!-- 600 -->\r\n      <g style=\"fill:#262626;\" transform=\"translate(270.166953 419.682969)scale(0.11 -0.11)\">\r\n       <defs>\r\n        <path d=\"M 49.75 54.046875 \r\nL 41.015625 53.375 \r\nQ 39.84375 58.546875 37.703125 60.890625 \r\nQ 34.125 64.65625 28.90625 64.65625 \r\nQ 24.703125 64.65625 21.53125 62.3125 \r\nQ 17.390625 59.28125 14.984375 53.46875 \r\nQ 12.59375 47.65625 12.5 36.921875 \r\nQ 15.671875 41.75 20.265625 44.09375 \r\nQ 24.859375 46.4375 29.890625 46.4375 \r\nQ 38.671875 46.4375 44.84375 39.96875 \r\nQ 51.03125 33.5 51.03125 23.25 \r\nQ 51.03125 16.5 48.125 10.71875 \r\nQ 45.21875 4.9375 40.140625 1.859375 \r\nQ 35.0625 -1.21875 28.609375 -1.21875 \r\nQ 17.625 -1.21875 10.6875 6.859375 \r\nQ 3.765625 14.9375 3.765625 33.5 \r\nQ 3.765625 54.25 11.421875 63.671875 \r\nQ 18.109375 71.875 29.4375 71.875 \r\nQ 37.890625 71.875 43.28125 67.140625 \r\nQ 48.6875 62.40625 49.75 54.046875 \r\nz\r\nM 13.875 23.1875 \r\nQ 13.875 18.65625 15.796875 14.5 \r\nQ 17.71875 10.359375 21.1875 8.171875 \r\nQ 24.65625 6 28.46875 6 \r\nQ 34.03125 6 38.03125 10.484375 \r\nQ 42.046875 14.984375 42.046875 22.703125 \r\nQ 42.046875 30.125 38.078125 34.390625 \r\nQ 34.125 38.671875 28.125 38.671875 \r\nQ 22.171875 38.671875 18.015625 34.390625 \r\nQ 13.875 30.125 13.875 23.1875 \r\nz\r\n\" id=\"ArialMT-54\"/>\r\n       </defs>\r\n       <use xlink:href=\"#ArialMT-54\"/>\r\n       <use x=\"55.615234\" xlink:href=\"#ArialMT-48\"/>\r\n       <use x=\"111.230469\" xlink:href=\"#ArialMT-48\"/>\r\n      </g>\r\n     </g>\r\n    </g>\r\n    <g id=\"xtick_5\">\r\n     <g id=\"line2d_5\">\r\n      <g>\r\n       <use style=\"fill:#262626;stroke:#262626;stroke-width:1.25;\" x=\"353.7425\" xlink:href=\"#mf1ebd915d9\" y=\"402.309375\"/>\r\n      </g>\r\n     </g>\r\n     <g id=\"text_5\">\r\n      <!-- 800 -->\r\n      <g style=\"fill:#262626;\" transform=\"translate(344.566953 419.682969)scale(0.11 -0.11)\">\r\n       <defs>\r\n        <path d=\"M 17.671875 38.8125 \r\nQ 12.203125 40.828125 9.5625 44.53125 \r\nQ 6.9375 48.25 6.9375 53.421875 \r\nQ 6.9375 61.234375 12.546875 66.546875 \r\nQ 18.171875 71.875 27.484375 71.875 \r\nQ 36.859375 71.875 42.578125 66.421875 \r\nQ 48.296875 60.984375 48.296875 53.171875 \r\nQ 48.296875 48.1875 45.671875 44.5 \r\nQ 43.0625 40.828125 37.75 38.8125 \r\nQ 44.34375 36.671875 47.78125 31.875 \r\nQ 51.21875 27.09375 51.21875 20.453125 \r\nQ 51.21875 11.28125 44.71875 5.03125 \r\nQ 38.234375 -1.21875 27.640625 -1.21875 \r\nQ 17.046875 -1.21875 10.546875 5.046875 \r\nQ 4.046875 11.328125 4.046875 20.703125 \r\nQ 4.046875 27.6875 7.59375 32.390625 \r\nQ 11.140625 37.109375 17.671875 38.8125 \r\nz\r\nM 15.921875 53.71875 \r\nQ 15.921875 48.640625 19.1875 45.40625 \r\nQ 22.46875 42.1875 27.6875 42.1875 \r\nQ 32.765625 42.1875 36.015625 45.375 \r\nQ 39.265625 48.578125 39.265625 53.21875 \r\nQ 39.265625 58.0625 35.90625 61.359375 \r\nQ 32.5625 64.65625 27.59375 64.65625 \r\nQ 22.5625 64.65625 19.234375 61.421875 \r\nQ 15.921875 58.203125 15.921875 53.71875 \r\nz\r\nM 13.09375 20.65625 \r\nQ 13.09375 16.890625 14.875 13.375 \r\nQ 16.65625 9.859375 20.171875 7.921875 \r\nQ 23.6875 6 27.734375 6 \r\nQ 34.03125 6 38.125 10.046875 \r\nQ 42.234375 14.109375 42.234375 20.359375 \r\nQ 42.234375 26.703125 38.015625 30.859375 \r\nQ 33.796875 35.015625 27.4375 35.015625 \r\nQ 21.234375 35.015625 17.15625 30.90625 \r\nQ 13.09375 26.8125 13.09375 20.65625 \r\nz\r\n\" id=\"ArialMT-56\"/>\r\n       </defs>\r\n       <use xlink:href=\"#ArialMT-56\"/>\r\n       <use x=\"55.615234\" xlink:href=\"#ArialMT-48\"/>\r\n       <use x=\"111.230469\" xlink:href=\"#ArialMT-48\"/>\r\n      </g>\r\n     </g>\r\n    </g>\r\n    <g id=\"xtick_6\">\r\n     <g id=\"line2d_6\">\r\n      <g>\r\n       <use style=\"fill:#262626;stroke:#262626;stroke-width:1.25;\" x=\"428.1425\" xlink:href=\"#mf1ebd915d9\" y=\"402.309375\"/>\r\n      </g>\r\n     </g>\r\n     <g id=\"text_6\">\r\n      <!-- 1000 -->\r\n      <g style=\"fill:#262626;\" transform=\"translate(415.908437 419.682969)scale(0.11 -0.11)\">\r\n       <defs>\r\n        <path d=\"M 37.25 0 \r\nL 28.46875 0 \r\nL 28.46875 56 \r\nQ 25.296875 52.984375 20.140625 49.953125 \r\nQ 14.984375 46.921875 10.890625 45.40625 \r\nL 10.890625 53.90625 \r\nQ 18.265625 57.375 23.78125 62.296875 \r\nQ 29.296875 67.234375 31.59375 71.875 \r\nL 37.25 71.875 \r\nz\r\n\" id=\"ArialMT-49\"/>\r\n       </defs>\r\n       <use xlink:href=\"#ArialMT-49\"/>\r\n       <use x=\"55.615234\" xlink:href=\"#ArialMT-48\"/>\r\n       <use x=\"111.230469\" xlink:href=\"#ArialMT-48\"/>\r\n       <use x=\"166.845703\" xlink:href=\"#ArialMT-48\"/>\r\n      </g>\r\n     </g>\r\n    </g>\r\n    <g id=\"xtick_7\">\r\n     <g id=\"line2d_7\">\r\n      <g>\r\n       <use style=\"fill:#262626;stroke:#262626;stroke-width:1.25;\" x=\"502.5425\" xlink:href=\"#mf1ebd915d9\" y=\"402.309375\"/>\r\n      </g>\r\n     </g>\r\n     <g id=\"text_7\">\r\n      <!-- 1200 -->\r\n      <g style=\"fill:#262626;\" transform=\"translate(490.308437 419.682969)scale(0.11 -0.11)\">\r\n       <use xlink:href=\"#ArialMT-49\"/>\r\n       <use x=\"55.615234\" xlink:href=\"#ArialMT-50\"/>\r\n       <use x=\"111.230469\" xlink:href=\"#ArialMT-48\"/>\r\n       <use x=\"166.845703\" xlink:href=\"#ArialMT-48\"/>\r\n      </g>\r\n     </g>\r\n    </g>\r\n    <g id=\"xtick_8\">\r\n     <g id=\"line2d_8\">\r\n      <g>\r\n       <use style=\"fill:#262626;stroke:#262626;stroke-width:1.25;\" x=\"576.9425\" xlink:href=\"#mf1ebd915d9\" y=\"402.309375\"/>\r\n      </g>\r\n     </g>\r\n     <g id=\"text_8\">\r\n      <!-- 1400 -->\r\n      <g style=\"fill:#262626;\" transform=\"translate(564.708437 419.682969)scale(0.11 -0.11)\">\r\n       <use xlink:href=\"#ArialMT-49\"/>\r\n       <use x=\"55.615234\" xlink:href=\"#ArialMT-52\"/>\r\n       <use x=\"111.230469\" xlink:href=\"#ArialMT-48\"/>\r\n       <use x=\"166.845703\" xlink:href=\"#ArialMT-48\"/>\r\n      </g>\r\n     </g>\r\n    </g>\r\n    <g id=\"text_9\">\r\n     <!-- Number of Messages -->\r\n     <g style=\"fill:#262626;\" transform=\"translate(278.122813 434.604844)scale(0.12 -0.12)\">\r\n      <defs>\r\n       <path d=\"M 7.625 0 \r\nL 7.625 71.578125 \r\nL 17.328125 71.578125 \r\nL 54.9375 15.375 \r\nL 54.9375 71.578125 \r\nL 64.015625 71.578125 \r\nL 64.015625 0 \r\nL 54.296875 0 \r\nL 16.703125 56.25 \r\nL 16.703125 0 \r\nz\r\n\" id=\"ArialMT-78\"/>\r\n       <path d=\"M 40.578125 0 \r\nL 40.578125 7.625 \r\nQ 34.515625 -1.171875 24.125 -1.171875 \r\nQ 19.53125 -1.171875 15.546875 0.578125 \r\nQ 11.578125 2.34375 9.640625 5 \r\nQ 7.71875 7.671875 6.9375 11.53125 \r\nQ 6.390625 14.109375 6.390625 19.734375 \r\nL 6.390625 51.859375 \r\nL 15.1875 51.859375 \r\nL 15.1875 23.09375 \r\nQ 15.1875 16.21875 15.71875 13.8125 \r\nQ 16.546875 10.359375 19.234375 8.375 \r\nQ 21.921875 6.390625 25.875 6.390625 \r\nQ 29.828125 6.390625 33.296875 8.421875 \r\nQ 36.765625 10.453125 38.203125 13.9375 \r\nQ 39.65625 17.4375 39.65625 24.078125 \r\nL 39.65625 51.859375 \r\nL 48.4375 51.859375 \r\nL 48.4375 0 \r\nz\r\n\" id=\"ArialMT-117\"/>\r\n       <path d=\"M 6.59375 0 \r\nL 6.59375 51.859375 \r\nL 14.453125 51.859375 \r\nL 14.453125 44.578125 \r\nQ 16.890625 48.390625 20.9375 50.703125 \r\nQ 25 53.03125 30.171875 53.03125 \r\nQ 35.9375 53.03125 39.625 50.640625 \r\nQ 43.3125 48.25 44.828125 43.953125 \r\nQ 50.984375 53.03125 60.84375 53.03125 \r\nQ 68.5625 53.03125 72.703125 48.75 \r\nQ 76.859375 44.484375 76.859375 35.59375 \r\nL 76.859375 0 \r\nL 68.109375 0 \r\nL 68.109375 32.671875 \r\nQ 68.109375 37.9375 67.25 40.25 \r\nQ 66.40625 42.578125 64.15625 43.984375 \r\nQ 61.921875 45.40625 58.890625 45.40625 \r\nQ 53.421875 45.40625 49.796875 41.765625 \r\nQ 46.1875 38.140625 46.1875 30.125 \r\nL 46.1875 0 \r\nL 37.40625 0 \r\nL 37.40625 33.6875 \r\nQ 37.40625 39.546875 35.25 42.46875 \r\nQ 33.109375 45.40625 28.21875 45.40625 \r\nQ 24.515625 45.40625 21.359375 43.453125 \r\nQ 18.21875 41.5 16.796875 37.734375 \r\nQ 15.375 33.984375 15.375 26.90625 \r\nL 15.375 0 \r\nz\r\n\" id=\"ArialMT-109\"/>\r\n       <path d=\"M 14.703125 0 \r\nL 6.546875 0 \r\nL 6.546875 71.578125 \r\nL 15.328125 71.578125 \r\nL 15.328125 46.046875 \r\nQ 20.90625 53.03125 29.546875 53.03125 \r\nQ 34.328125 53.03125 38.59375 51.09375 \r\nQ 42.875 49.171875 45.625 45.671875 \r\nQ 48.390625 42.1875 49.953125 37.25 \r\nQ 51.515625 32.328125 51.515625 26.703125 \r\nQ 51.515625 13.375 44.921875 6.09375 \r\nQ 38.328125 -1.171875 29.109375 -1.171875 \r\nQ 19.921875 -1.171875 14.703125 6.5 \r\nz\r\nM 14.59375 26.3125 \r\nQ 14.59375 17 17.140625 12.84375 \r\nQ 21.296875 6.0625 28.375 6.0625 \r\nQ 34.125 6.0625 38.328125 11.0625 \r\nQ 42.53125 16.0625 42.53125 25.984375 \r\nQ 42.53125 36.140625 38.5 40.96875 \r\nQ 34.46875 45.796875 28.765625 45.796875 \r\nQ 23 45.796875 18.796875 40.796875 \r\nQ 14.59375 35.796875 14.59375 26.3125 \r\nz\r\n\" id=\"ArialMT-98\"/>\r\n       <path d=\"M 42.09375 16.703125 \r\nL 51.171875 15.578125 \r\nQ 49.03125 7.625 43.21875 3.21875 \r\nQ 37.40625 -1.171875 28.375 -1.171875 \r\nQ 17 -1.171875 10.328125 5.828125 \r\nQ 3.65625 12.84375 3.65625 25.484375 \r\nQ 3.65625 38.578125 10.390625 45.796875 \r\nQ 17.140625 53.03125 27.875 53.03125 \r\nQ 38.28125 53.03125 44.875 45.953125 \r\nQ 51.46875 38.875 51.46875 26.03125 \r\nQ 51.46875 25.25 51.421875 23.6875 \r\nL 12.75 23.6875 \r\nQ 13.234375 15.140625 17.578125 10.59375 \r\nQ 21.921875 6.0625 28.421875 6.0625 \r\nQ 33.25 6.0625 36.671875 8.59375 \r\nQ 40.09375 11.140625 42.09375 16.703125 \r\nz\r\nM 13.234375 30.90625 \r\nL 42.1875 30.90625 \r\nQ 41.609375 37.453125 38.875 40.71875 \r\nQ 34.671875 45.796875 27.984375 45.796875 \r\nQ 21.921875 45.796875 17.796875 41.75 \r\nQ 13.671875 37.703125 13.234375 30.90625 \r\nz\r\n\" id=\"ArialMT-101\"/>\r\n       <path d=\"M 6.5 0 \r\nL 6.5 51.859375 \r\nL 14.40625 51.859375 \r\nL 14.40625 44 \r\nQ 17.4375 49.515625 20 51.265625 \r\nQ 22.5625 53.03125 25.640625 53.03125 \r\nQ 30.078125 53.03125 34.671875 50.203125 \r\nL 31.640625 42.046875 \r\nQ 28.421875 43.953125 25.203125 43.953125 \r\nQ 22.3125 43.953125 20.015625 42.21875 \r\nQ 17.71875 40.484375 16.75 37.40625 \r\nQ 15.28125 32.71875 15.28125 27.15625 \r\nL 15.28125 0 \r\nz\r\n\" id=\"ArialMT-114\"/>\r\n       <path id=\"ArialMT-32\"/>\r\n       <path d=\"M 3.328125 25.921875 \r\nQ 3.328125 40.328125 11.328125 47.265625 \r\nQ 18.015625 53.03125 27.640625 53.03125 \r\nQ 38.328125 53.03125 45.109375 46.015625 \r\nQ 51.90625 39.015625 51.90625 26.65625 \r\nQ 51.90625 16.65625 48.90625 10.90625 \r\nQ 45.90625 5.171875 40.15625 2 \r\nQ 34.421875 -1.171875 27.640625 -1.171875 \r\nQ 16.75 -1.171875 10.03125 5.8125 \r\nQ 3.328125 12.796875 3.328125 25.921875 \r\nz\r\nM 12.359375 25.921875 \r\nQ 12.359375 15.96875 16.703125 11.015625 \r\nQ 21.046875 6.0625 27.640625 6.0625 \r\nQ 34.1875 6.0625 38.53125 11.03125 \r\nQ 42.875 16.015625 42.875 26.21875 \r\nQ 42.875 35.84375 38.5 40.796875 \r\nQ 34.125 45.75 27.640625 45.75 \r\nQ 21.046875 45.75 16.703125 40.8125 \r\nQ 12.359375 35.890625 12.359375 25.921875 \r\nz\r\n\" id=\"ArialMT-111\"/>\r\n       <path d=\"M 8.6875 0 \r\nL 8.6875 45.015625 \r\nL 0.921875 45.015625 \r\nL 0.921875 51.859375 \r\nL 8.6875 51.859375 \r\nL 8.6875 57.375 \r\nQ 8.6875 62.59375 9.625 65.140625 \r\nQ 10.890625 68.5625 14.078125 70.671875 \r\nQ 17.28125 72.796875 23.046875 72.796875 \r\nQ 26.765625 72.796875 31.25 71.921875 \r\nL 29.9375 64.265625 \r\nQ 27.203125 64.75 24.75 64.75 \r\nQ 20.75 64.75 19.09375 63.03125 \r\nQ 17.4375 61.328125 17.4375 56.640625 \r\nL 17.4375 51.859375 \r\nL 27.546875 51.859375 \r\nL 27.546875 45.015625 \r\nL 17.4375 45.015625 \r\nL 17.4375 0 \r\nz\r\n\" id=\"ArialMT-102\"/>\r\n       <path d=\"M 7.421875 0 \r\nL 7.421875 71.578125 \r\nL 21.6875 71.578125 \r\nL 38.625 20.90625 \r\nQ 40.96875 13.8125 42.046875 10.296875 \r\nQ 43.265625 14.203125 45.84375 21.78125 \r\nL 62.984375 71.578125 \r\nL 75.734375 71.578125 \r\nL 75.734375 0 \r\nL 66.609375 0 \r\nL 66.609375 59.90625 \r\nL 45.796875 0 \r\nL 37.25 0 \r\nL 16.546875 60.9375 \r\nL 16.546875 0 \r\nz\r\n\" id=\"ArialMT-77\"/>\r\n       <path d=\"M 3.078125 15.484375 \r\nL 11.765625 16.84375 \r\nQ 12.5 11.625 15.84375 8.84375 \r\nQ 19.1875 6.0625 25.203125 6.0625 \r\nQ 31.25 6.0625 34.171875 8.515625 \r\nQ 37.109375 10.984375 37.109375 14.3125 \r\nQ 37.109375 17.28125 34.515625 19 \r\nQ 32.71875 20.171875 25.53125 21.96875 \r\nQ 15.875 24.421875 12.140625 26.203125 \r\nQ 8.40625 27.984375 6.46875 31.125 \r\nQ 4.546875 34.28125 4.546875 38.09375 \r\nQ 4.546875 41.546875 6.125 44.5 \r\nQ 7.71875 47.46875 10.453125 49.421875 \r\nQ 12.5 50.921875 16.03125 51.96875 \r\nQ 19.578125 53.03125 23.640625 53.03125 \r\nQ 29.734375 53.03125 34.34375 51.265625 \r\nQ 38.96875 49.515625 41.15625 46.5 \r\nQ 43.359375 43.5 44.1875 38.484375 \r\nL 35.59375 37.3125 \r\nQ 35.015625 41.3125 32.203125 43.546875 \r\nQ 29.390625 45.796875 24.265625 45.796875 \r\nQ 18.21875 45.796875 15.625 43.796875 \r\nQ 13.03125 41.796875 13.03125 39.109375 \r\nQ 13.03125 37.40625 14.109375 36.03125 \r\nQ 15.1875 34.625 17.484375 33.6875 \r\nQ 18.796875 33.203125 25.25 31.453125 \r\nQ 34.578125 28.953125 38.25 27.359375 \r\nQ 41.9375 25.78125 44.03125 22.75 \r\nQ 46.140625 19.734375 46.140625 15.234375 \r\nQ 46.140625 10.84375 43.578125 6.953125 \r\nQ 41.015625 3.078125 36.171875 0.953125 \r\nQ 31.34375 -1.171875 25.25 -1.171875 \r\nQ 15.140625 -1.171875 9.84375 3.03125 \r\nQ 4.546875 7.234375 3.078125 15.484375 \r\nz\r\n\" id=\"ArialMT-115\"/>\r\n       <path d=\"M 40.4375 6.390625 \r\nQ 35.546875 2.25 31.03125 0.53125 \r\nQ 26.515625 -1.171875 21.34375 -1.171875 \r\nQ 12.796875 -1.171875 8.203125 3 \r\nQ 3.609375 7.171875 3.609375 13.671875 \r\nQ 3.609375 17.484375 5.34375 20.625 \r\nQ 7.078125 23.78125 9.890625 25.6875 \r\nQ 12.703125 27.59375 16.21875 28.5625 \r\nQ 18.796875 29.25 24.03125 29.890625 \r\nQ 34.671875 31.15625 39.703125 32.90625 \r\nQ 39.75 34.71875 39.75 35.203125 \r\nQ 39.75 40.578125 37.25 42.78125 \r\nQ 33.890625 45.75 27.25 45.75 \r\nQ 21.046875 45.75 18.09375 43.578125 \r\nQ 15.140625 41.40625 13.71875 35.890625 \r\nL 5.125 37.0625 \r\nQ 6.296875 42.578125 8.984375 45.96875 \r\nQ 11.671875 49.359375 16.75 51.1875 \r\nQ 21.828125 53.03125 28.515625 53.03125 \r\nQ 35.15625 53.03125 39.296875 51.46875 \r\nQ 43.453125 49.90625 45.40625 47.53125 \r\nQ 47.359375 45.171875 48.140625 41.546875 \r\nQ 48.578125 39.3125 48.578125 33.453125 \r\nL 48.578125 21.734375 \r\nQ 48.578125 9.46875 49.140625 6.21875 \r\nQ 49.703125 2.984375 51.375 0 \r\nL 42.1875 0 \r\nQ 40.828125 2.734375 40.4375 6.390625 \r\nz\r\nM 39.703125 26.03125 \r\nQ 34.90625 24.078125 25.34375 22.703125 \r\nQ 19.921875 21.921875 17.671875 20.9375 \r\nQ 15.4375 19.96875 14.203125 18.09375 \r\nQ 12.984375 16.21875 12.984375 13.921875 \r\nQ 12.984375 10.40625 15.640625 8.0625 \r\nQ 18.3125 5.71875 23.4375 5.71875 \r\nQ 28.515625 5.71875 32.46875 7.9375 \r\nQ 36.421875 10.15625 38.28125 14.015625 \r\nQ 39.703125 17 39.703125 22.796875 \r\nz\r\n\" id=\"ArialMT-97\"/>\r\n       <path d=\"M 4.984375 -4.296875 \r\nL 13.53125 -5.5625 \r\nQ 14.0625 -9.515625 16.5 -11.328125 \r\nQ 19.78125 -13.765625 25.4375 -13.765625 \r\nQ 31.546875 -13.765625 34.859375 -11.328125 \r\nQ 38.1875 -8.890625 39.359375 -4.5 \r\nQ 40.046875 -1.8125 39.984375 6.78125 \r\nQ 34.234375 0 25.640625 0 \r\nQ 14.9375 0 9.078125 7.71875 \r\nQ 3.21875 15.4375 3.21875 26.21875 \r\nQ 3.21875 33.640625 5.90625 39.90625 \r\nQ 8.59375 46.1875 13.6875 49.609375 \r\nQ 18.796875 53.03125 25.6875 53.03125 \r\nQ 34.859375 53.03125 40.828125 45.609375 \r\nL 40.828125 51.859375 \r\nL 48.921875 51.859375 \r\nL 48.921875 7.03125 \r\nQ 48.921875 -5.078125 46.453125 -10.125 \r\nQ 44 -15.1875 38.640625 -18.109375 \r\nQ 33.296875 -21.046875 25.484375 -21.046875 \r\nQ 16.21875 -21.046875 10.5 -16.875 \r\nQ 4.78125 -12.703125 4.984375 -4.296875 \r\nz\r\nM 12.25 26.859375 \r\nQ 12.25 16.65625 16.296875 11.96875 \r\nQ 20.359375 7.28125 26.46875 7.28125 \r\nQ 32.515625 7.28125 36.609375 11.9375 \r\nQ 40.71875 16.609375 40.71875 26.5625 \r\nQ 40.71875 36.078125 36.5 40.90625 \r\nQ 32.28125 45.75 26.3125 45.75 \r\nQ 20.453125 45.75 16.34375 40.984375 \r\nQ 12.25 36.234375 12.25 26.859375 \r\nz\r\n\" id=\"ArialMT-103\"/>\r\n      </defs>\r\n      <use xlink:href=\"#ArialMT-78\"/>\r\n      <use x=\"72.216797\" xlink:href=\"#ArialMT-117\"/>\r\n      <use x=\"127.832031\" xlink:href=\"#ArialMT-109\"/>\r\n      <use x=\"211.132812\" xlink:href=\"#ArialMT-98\"/>\r\n      <use x=\"266.748047\" xlink:href=\"#ArialMT-101\"/>\r\n      <use x=\"322.363281\" xlink:href=\"#ArialMT-114\"/>\r\n      <use x=\"355.664062\" xlink:href=\"#ArialMT-32\"/>\r\n      <use x=\"383.447266\" xlink:href=\"#ArialMT-111\"/>\r\n      <use x=\"439.0625\" xlink:href=\"#ArialMT-102\"/>\r\n      <use x=\"466.845703\" xlink:href=\"#ArialMT-32\"/>\r\n      <use x=\"494.628906\" xlink:href=\"#ArialMT-77\"/>\r\n      <use x=\"577.929688\" xlink:href=\"#ArialMT-101\"/>\r\n      <use x=\"633.544922\" xlink:href=\"#ArialMT-115\"/>\r\n      <use x=\"683.544922\" xlink:href=\"#ArialMT-115\"/>\r\n      <use x=\"733.544922\" xlink:href=\"#ArialMT-97\"/>\r\n      <use x=\"789.160156\" xlink:href=\"#ArialMT-103\"/>\r\n      <use x=\"844.775391\" xlink:href=\"#ArialMT-101\"/>\r\n      <use x=\"900.390625\" xlink:href=\"#ArialMT-115\"/>\r\n     </g>\r\n    </g>\r\n   </g>\r\n   <g id=\"matplotlib.axis_2\">\r\n    <g id=\"ytick_1\">\r\n     <g id=\"line2d_9\">\r\n      <defs>\r\n       <path d=\"M 0 0 \r\nL -6 0 \r\n\" id=\"m9f21ef8068\" style=\"stroke:#262626;stroke-width:1.25;\"/>\r\n      </defs>\r\n      <g>\r\n       <use style=\"fill:#262626;stroke:#262626;stroke-width:1.25;\" x=\"56.1425\" xlink:href=\"#m9f21ef8068\" y=\"402.309375\"/>\r\n      </g>\r\n     </g>\r\n     <g id=\"text_10\">\r\n      <!-- 0 -->\r\n      <g style=\"fill:#262626;\" transform=\"translate(40.525469 406.246172)scale(0.11 -0.11)\">\r\n       <use xlink:href=\"#ArialMT-48\"/>\r\n      </g>\r\n     </g>\r\n    </g>\r\n    <g id=\"ytick_2\">\r\n     <g id=\"line2d_10\">\r\n      <g>\r\n       <use style=\"fill:#262626;stroke:#262626;stroke-width:1.25;\" x=\"56.1425\" xlink:href=\"#m9f21ef8068\" y=\"338.889375\"/>\r\n      </g>\r\n     </g>\r\n     <g id=\"text_11\">\r\n      <!-- 200 -->\r\n      <g style=\"fill:#262626;\" transform=\"translate(28.291406 342.826172)scale(0.11 -0.11)\">\r\n       <use xlink:href=\"#ArialMT-50\"/>\r\n       <use x=\"55.615234\" xlink:href=\"#ArialMT-48\"/>\r\n       <use x=\"111.230469\" xlink:href=\"#ArialMT-48\"/>\r\n      </g>\r\n     </g>\r\n    </g>\r\n    <g id=\"ytick_3\">\r\n     <g id=\"line2d_11\">\r\n      <g>\r\n       <use style=\"fill:#262626;stroke:#262626;stroke-width:1.25;\" x=\"56.1425\" xlink:href=\"#m9f21ef8068\" y=\"275.469375\"/>\r\n      </g>\r\n     </g>\r\n     <g id=\"text_12\">\r\n      <!-- 400 -->\r\n      <g style=\"fill:#262626;\" transform=\"translate(28.291406 279.406172)scale(0.11 -0.11)\">\r\n       <use xlink:href=\"#ArialMT-52\"/>\r\n       <use x=\"55.615234\" xlink:href=\"#ArialMT-48\"/>\r\n       <use x=\"111.230469\" xlink:href=\"#ArialMT-48\"/>\r\n      </g>\r\n     </g>\r\n    </g>\r\n    <g id=\"ytick_4\">\r\n     <g id=\"line2d_12\">\r\n      <g>\r\n       <use style=\"fill:#262626;stroke:#262626;stroke-width:1.25;\" x=\"56.1425\" xlink:href=\"#m9f21ef8068\" y=\"212.049375\"/>\r\n      </g>\r\n     </g>\r\n     <g id=\"text_13\">\r\n      <!-- 600 -->\r\n      <g style=\"fill:#262626;\" transform=\"translate(28.291406 215.986172)scale(0.11 -0.11)\">\r\n       <use xlink:href=\"#ArialMT-54\"/>\r\n       <use x=\"55.615234\" xlink:href=\"#ArialMT-48\"/>\r\n       <use x=\"111.230469\" xlink:href=\"#ArialMT-48\"/>\r\n      </g>\r\n     </g>\r\n    </g>\r\n    <g id=\"ytick_5\">\r\n     <g id=\"line2d_13\">\r\n      <g>\r\n       <use style=\"fill:#262626;stroke:#262626;stroke-width:1.25;\" x=\"56.1425\" xlink:href=\"#m9f21ef8068\" y=\"148.629375\"/>\r\n      </g>\r\n     </g>\r\n     <g id=\"text_14\">\r\n      <!-- 800 -->\r\n      <g style=\"fill:#262626;\" transform=\"translate(28.291406 152.566172)scale(0.11 -0.11)\">\r\n       <use xlink:href=\"#ArialMT-56\"/>\r\n       <use x=\"55.615234\" xlink:href=\"#ArialMT-48\"/>\r\n       <use x=\"111.230469\" xlink:href=\"#ArialMT-48\"/>\r\n      </g>\r\n     </g>\r\n    </g>\r\n    <g id=\"ytick_6\">\r\n     <g id=\"line2d_14\">\r\n      <g>\r\n       <use style=\"fill:#262626;stroke:#262626;stroke-width:1.25;\" x=\"56.1425\" xlink:href=\"#m9f21ef8068\" y=\"85.209375\"/>\r\n      </g>\r\n     </g>\r\n     <g id=\"text_15\">\r\n      <!-- 1000 -->\r\n      <g style=\"fill:#262626;\" transform=\"translate(22.174375 89.146172)scale(0.11 -0.11)\">\r\n       <use xlink:href=\"#ArialMT-49\"/>\r\n       <use x=\"55.615234\" xlink:href=\"#ArialMT-48\"/>\r\n       <use x=\"111.230469\" xlink:href=\"#ArialMT-48\"/>\r\n       <use x=\"166.845703\" xlink:href=\"#ArialMT-48\"/>\r\n      </g>\r\n     </g>\r\n    </g>\r\n    <g id=\"ytick_7\">\r\n     <g id=\"line2d_15\">\r\n      <g>\r\n       <use style=\"fill:#262626;stroke:#262626;stroke-width:1.25;\" x=\"56.1425\" xlink:href=\"#m9f21ef8068\" y=\"21.789375\"/>\r\n      </g>\r\n     </g>\r\n     <g id=\"text_16\">\r\n      <!-- 1200 -->\r\n      <g style=\"fill:#262626;\" transform=\"translate(22.174375 25.726172)scale(0.11 -0.11)\">\r\n       <use xlink:href=\"#ArialMT-49\"/>\r\n       <use x=\"55.615234\" xlink:href=\"#ArialMT-50\"/>\r\n       <use x=\"111.230469\" xlink:href=\"#ArialMT-48\"/>\r\n       <use x=\"166.845703\" xlink:href=\"#ArialMT-48\"/>\r\n      </g>\r\n     </g>\r\n    </g>\r\n    <g id=\"text_17\">\r\n     <!-- No of Learners -->\r\n     <g style=\"fill:#262626;\" transform=\"translate(15.789375 251.734687)rotate(-90)scale(0.12 -0.12)\">\r\n      <defs>\r\n       <path d=\"M 7.328125 0 \r\nL 7.328125 71.578125 \r\nL 16.796875 71.578125 \r\nL 16.796875 8.453125 \r\nL 52.046875 8.453125 \r\nL 52.046875 0 \r\nz\r\n\" id=\"ArialMT-76\"/>\r\n       <path d=\"M 6.59375 0 \r\nL 6.59375 51.859375 \r\nL 14.5 51.859375 \r\nL 14.5 44.484375 \r\nQ 20.21875 53.03125 31 53.03125 \r\nQ 35.6875 53.03125 39.625 51.34375 \r\nQ 43.5625 49.65625 45.515625 46.921875 \r\nQ 47.46875 44.1875 48.25 40.4375 \r\nQ 48.734375 37.984375 48.734375 31.890625 \r\nL 48.734375 0 \r\nL 39.9375 0 \r\nL 39.9375 31.546875 \r\nQ 39.9375 36.921875 38.90625 39.578125 \r\nQ 37.890625 42.234375 35.28125 43.8125 \r\nQ 32.671875 45.40625 29.15625 45.40625 \r\nQ 23.53125 45.40625 19.453125 41.84375 \r\nQ 15.375 38.28125 15.375 28.328125 \r\nL 15.375 0 \r\nz\r\n\" id=\"ArialMT-110\"/>\r\n      </defs>\r\n      <use xlink:href=\"#ArialMT-78\"/>\r\n      <use x=\"72.216797\" xlink:href=\"#ArialMT-111\"/>\r\n      <use x=\"127.832031\" xlink:href=\"#ArialMT-32\"/>\r\n      <use x=\"155.615234\" xlink:href=\"#ArialMT-111\"/>\r\n      <use x=\"211.230469\" xlink:href=\"#ArialMT-102\"/>\r\n      <use x=\"239.013672\" xlink:href=\"#ArialMT-32\"/>\r\n      <use x=\"266.796875\" xlink:href=\"#ArialMT-76\"/>\r\n      <use x=\"322.412109\" xlink:href=\"#ArialMT-101\"/>\r\n      <use x=\"378.027344\" xlink:href=\"#ArialMT-97\"/>\r\n      <use x=\"433.642578\" xlink:href=\"#ArialMT-114\"/>\r\n      <use x=\"466.943359\" xlink:href=\"#ArialMT-110\"/>\r\n      <use x=\"522.558594\" xlink:href=\"#ArialMT-101\"/>\r\n      <use x=\"578.173828\" xlink:href=\"#ArialMT-114\"/>\r\n      <use x=\"611.474609\" xlink:href=\"#ArialMT-115\"/>\r\n     </g>\r\n    </g>\r\n   </g>\r\n   <g id=\"patch_3\">\r\n    <path clip-path=\"url(#pa7c50c1d3b)\" d=\"M 56.5145 402.309375 \r\nL 75.76178 402.309375 \r\nL 75.76178 52.548075 \r\nL 56.5145 52.548075 \r\nz\r\n\" style=\"fill:#a1c9f4;stroke:#ffffff;stroke-linejoin:miter;\"/>\r\n   </g>\r\n   <g id=\"patch_4\">\r\n    <path clip-path=\"url(#pa7c50c1d3b)\" d=\"M 75.76178 402.309375 \r\nL 95.00906 402.309375 \r\nL 95.00906 309.399075 \r\nL 75.76178 309.399075 \r\nz\r\n\" style=\"fill:#a1c9f4;stroke:#ffffff;stroke-linejoin:miter;\"/>\r\n   </g>\r\n   <g id=\"patch_5\">\r\n    <path clip-path=\"url(#pa7c50c1d3b)\" d=\"M 95.00906 402.309375 \r\nL 114.25634 402.309375 \r\nL 114.25634 307.813575 \r\nL 95.00906 307.813575 \r\nz\r\n\" style=\"fill:#a1c9f4;stroke:#ffffff;stroke-linejoin:miter;\"/>\r\n   </g>\r\n   <g id=\"patch_6\">\r\n    <path clip-path=\"url(#pa7c50c1d3b)\" d=\"M 114.25634 402.309375 \r\nL 133.50362 402.309375 \r\nL 133.50362 340.791975 \r\nL 114.25634 340.791975 \r\nz\r\n\" style=\"fill:#a1c9f4;stroke:#ffffff;stroke-linejoin:miter;\"/>\r\n   </g>\r\n   <g id=\"patch_7\">\r\n    <path clip-path=\"url(#pa7c50c1d3b)\" d=\"M 133.50362 402.309375 \r\nL 152.7509 402.309375 \r\nL 152.7509 349.036575 \r\nL 133.50362 349.036575 \r\nz\r\n\" style=\"fill:#a1c9f4;stroke:#ffffff;stroke-linejoin:miter;\"/>\r\n   </g>\r\n   <g id=\"patch_8\">\r\n    <path clip-path=\"url(#pa7c50c1d3b)\" d=\"M 152.7509 402.309375 \r\nL 171.99818 402.309375 \r\nL 171.99818 374.721675 \r\nL 152.7509 374.721675 \r\nz\r\n\" style=\"fill:#a1c9f4;stroke:#ffffff;stroke-linejoin:miter;\"/>\r\n   </g>\r\n   <g id=\"patch_9\">\r\n    <path clip-path=\"url(#pa7c50c1d3b)\" d=\"M 171.99818 402.309375 \r\nL 191.24546 402.309375 \r\nL 191.24546 377.258475 \r\nL 171.99818 377.258475 \r\nz\r\n\" style=\"fill:#a1c9f4;stroke:#ffffff;stroke-linejoin:miter;\"/>\r\n   </g>\r\n   <g id=\"patch_10\">\r\n    <path clip-path=\"url(#pa7c50c1d3b)\" d=\"M 191.24546 402.309375 \r\nL 210.49274 402.309375 \r\nL 210.49274 82.989675 \r\nL 191.24546 82.989675 \r\nz\r\n\" style=\"fill:#a1c9f4;stroke:#ffffff;stroke-linejoin:miter;\"/>\r\n   </g>\r\n   <g id=\"patch_11\">\r\n    <path clip-path=\"url(#pa7c50c1d3b)\" d=\"M 210.49274 402.309375 \r\nL 229.74002 402.309375 \r\nL 229.74002 159.727875 \r\nL 210.49274 159.727875 \r\nz\r\n\" style=\"fill:#a1c9f4;stroke:#ffffff;stroke-linejoin:miter;\"/>\r\n   </g>\r\n   <g id=\"patch_12\">\r\n    <path clip-path=\"url(#pa7c50c1d3b)\" d=\"M 229.74002 402.309375 \r\nL 248.9873 402.309375 \r\nL 248.9873 343.645875 \r\nL 229.74002 343.645875 \r\nz\r\n\" style=\"fill:#a1c9f4;stroke:#ffffff;stroke-linejoin:miter;\"/>\r\n   </g>\r\n   <g id=\"patch_13\">\r\n    <path clip-path=\"url(#pa7c50c1d3b)\" d=\"M 248.9873 402.309375 \r\nL 268.23458 402.309375 \r\nL 268.23458 384.234675 \r\nL 248.9873 384.234675 \r\nz\r\n\" style=\"fill:#a1c9f4;stroke:#ffffff;stroke-linejoin:miter;\"/>\r\n   </g>\r\n   <g id=\"patch_14\">\r\n    <path clip-path=\"url(#pa7c50c1d3b)\" d=\"M 268.23458 402.309375 \r\nL 287.48186 402.309375 \r\nL 287.48186 388.356975 \r\nL 268.23458 388.356975 \r\nz\r\n\" style=\"fill:#a1c9f4;stroke:#ffffff;stroke-linejoin:miter;\"/>\r\n   </g>\r\n   <g id=\"patch_15\">\r\n    <path clip-path=\"url(#pa7c50c1d3b)\" d=\"M 287.48186 402.309375 \r\nL 306.72914 402.309375 \r\nL 306.72914 382.014975 \r\nL 287.48186 382.014975 \r\nz\r\n\" style=\"fill:#a1c9f4;stroke:#ffffff;stroke-linejoin:miter;\"/>\r\n   </g>\r\n   <g id=\"patch_16\">\r\n    <path clip-path=\"url(#pa7c50c1d3b)\" d=\"M 306.72914 402.309375 \r\nL 325.97642 402.309375 \r\nL 325.97642 376.941375 \r\nL 306.72914 376.941375 \r\nz\r\n\" style=\"fill:#a1c9f4;stroke:#ffffff;stroke-linejoin:miter;\"/>\r\n   </g>\r\n   <g id=\"patch_17\">\r\n    <path clip-path=\"url(#pa7c50c1d3b)\" d=\"M 325.97642 402.309375 \r\nL 345.2237 402.309375 \r\nL 345.2237 345.865575 \r\nL 325.97642 345.865575 \r\nz\r\n\" style=\"fill:#a1c9f4;stroke:#ffffff;stroke-linejoin:miter;\"/>\r\n   </g>\r\n   <g id=\"patch_18\">\r\n    <path clip-path=\"url(#pa7c50c1d3b)\" d=\"M 345.2237 402.309375 \r\nL 364.47098 402.309375 \r\nL 364.47098 366.794175 \r\nL 345.2237 366.794175 \r\nz\r\n\" style=\"fill:#a1c9f4;stroke:#ffffff;stroke-linejoin:miter;\"/>\r\n   </g>\r\n   <g id=\"patch_19\">\r\n    <path clip-path=\"url(#pa7c50c1d3b)\" d=\"M 364.47098 402.309375 \r\nL 383.71826 402.309375 \r\nL 383.71826 376.624275 \r\nL 364.47098 376.624275 \r\nz\r\n\" style=\"fill:#a1c9f4;stroke:#ffffff;stroke-linejoin:miter;\"/>\r\n   </g>\r\n   <g id=\"patch_20\">\r\n    <path clip-path=\"url(#pa7c50c1d3b)\" d=\"M 383.71826 402.309375 \r\nL 402.96554 402.309375 \r\nL 402.96554 373.453275 \r\nL 383.71826 373.453275 \r\nz\r\n\" style=\"fill:#a1c9f4;stroke:#ffffff;stroke-linejoin:miter;\"/>\r\n   </g>\r\n   <g id=\"patch_21\">\r\n    <path clip-path=\"url(#pa7c50c1d3b)\" d=\"M 402.96554 402.309375 \r\nL 422.21282 402.309375 \r\nL 422.21282 395.016075 \r\nL 402.96554 395.016075 \r\nz\r\n\" style=\"fill:#a1c9f4;stroke:#ffffff;stroke-linejoin:miter;\"/>\r\n   </g>\r\n   <g id=\"patch_22\">\r\n    <path clip-path=\"url(#pa7c50c1d3b)\" d=\"M 422.21282 402.309375 \r\nL 441.4601 402.309375 \r\nL 441.4601 395.967375 \r\nL 422.21282 395.967375 \r\nz\r\n\" style=\"fill:#a1c9f4;stroke:#ffffff;stroke-linejoin:miter;\"/>\r\n   </g>\r\n   <g id=\"patch_23\">\r\n    <path clip-path=\"url(#pa7c50c1d3b)\" d=\"M 441.4601 402.309375 \r\nL 460.70738 402.309375 \r\nL 460.70738 394.064775 \r\nL 441.4601 394.064775 \r\nz\r\n\" style=\"fill:#a1c9f4;stroke:#ffffff;stroke-linejoin:miter;\"/>\r\n   </g>\r\n   <g id=\"patch_24\">\r\n    <path clip-path=\"url(#pa7c50c1d3b)\" d=\"M 460.70738 402.309375 \r\nL 479.95466 402.309375 \r\nL 479.95466 394.381875 \r\nL 460.70738 394.381875 \r\nz\r\n\" style=\"fill:#a1c9f4;stroke:#ffffff;stroke-linejoin:miter;\"/>\r\n   </g>\r\n   <g id=\"patch_25\">\r\n    <path clip-path=\"url(#pa7c50c1d3b)\" d=\"M 479.95466 402.309375 \r\nL 499.20194 402.309375 \r\nL 499.20194 395.333175 \r\nL 479.95466 395.333175 \r\nz\r\n\" style=\"fill:#a1c9f4;stroke:#ffffff;stroke-linejoin:miter;\"/>\r\n   </g>\r\n   <g id=\"patch_26\">\r\n    <path clip-path=\"url(#pa7c50c1d3b)\" d=\"M 499.20194 402.309375 \r\nL 518.44922 402.309375 \r\nL 518.44922 397.235775 \r\nL 499.20194 397.235775 \r\nz\r\n\" style=\"fill:#a1c9f4;stroke:#ffffff;stroke-linejoin:miter;\"/>\r\n   </g>\r\n   <g id=\"patch_27\">\r\n    <path clip-path=\"url(#pa7c50c1d3b)\" d=\"M 518.44922 402.309375 \r\nL 537.6965 402.309375 \r\nL 537.6965 396.284475 \r\nL 518.44922 396.284475 \r\nz\r\n\" style=\"fill:#a1c9f4;stroke:#ffffff;stroke-linejoin:miter;\"/>\r\n   </g>\r\n   <g id=\"patch_28\">\r\n    <path clip-path=\"url(#pa7c50c1d3b)\" d=\"M 537.6965 402.309375 \r\nL 556.94378 402.309375 \r\nL 556.94378 397.552875 \r\nL 537.6965 397.552875 \r\nz\r\n\" style=\"fill:#a1c9f4;stroke:#ffffff;stroke-linejoin:miter;\"/>\r\n   </g>\r\n   <g id=\"patch_29\">\r\n    <path clip-path=\"url(#pa7c50c1d3b)\" d=\"M 556.94378 402.309375 \r\nL 576.19106 402.309375 \r\nL 576.19106 398.821275 \r\nL 556.94378 398.821275 \r\nz\r\n\" style=\"fill:#a1c9f4;stroke:#ffffff;stroke-linejoin:miter;\"/>\r\n   </g>\r\n   <g id=\"patch_30\">\r\n    <path clip-path=\"url(#pa7c50c1d3b)\" d=\"M 576.19106 402.309375 \r\nL 595.43834 402.309375 \r\nL 595.43834 397.552875 \r\nL 576.19106 397.552875 \r\nz\r\n\" style=\"fill:#a1c9f4;stroke:#ffffff;stroke-linejoin:miter;\"/>\r\n   </g>\r\n   <g id=\"patch_31\">\r\n    <path clip-path=\"url(#pa7c50c1d3b)\" d=\"M 595.43834 402.309375 \r\nL 614.68562 402.309375 \r\nL 614.68562 399.138375 \r\nL 595.43834 399.138375 \r\nz\r\n\" style=\"fill:#a1c9f4;stroke:#ffffff;stroke-linejoin:miter;\"/>\r\n   </g>\r\n   <g id=\"patch_32\">\r\n    <path clip-path=\"url(#pa7c50c1d3b)\" d=\"M 614.68562 402.309375 \r\nL 633.9329 402.309375 \r\nL 633.9329 400.089675 \r\nL 614.68562 400.089675 \r\nz\r\n\" style=\"fill:#a1c9f4;stroke:#ffffff;stroke-linejoin:miter;\"/>\r\n   </g>\r\n   <g id=\"patch_33\">\r\n    <path clip-path=\"url(#pa7c50c1d3b)\" d=\"M 633.9329 402.309375 \r\nL 653.18018 402.309375 \r\nL 653.18018 400.723875 \r\nL 633.9329 400.723875 \r\nz\r\n\" style=\"fill:#a1c9f4;stroke:#ffffff;stroke-linejoin:miter;\"/>\r\n   </g>\r\n   <g id=\"patch_34\">\r\n    <path clip-path=\"url(#pa7c50c1d3b)\" d=\"M 653.18018 402.309375 \r\nL 672.42746 402.309375 \r\nL 672.42746 399.455475 \r\nL 653.18018 399.455475 \r\nz\r\n\" style=\"fill:#a1c9f4;stroke:#ffffff;stroke-linejoin:miter;\"/>\r\n   </g>\r\n   <g id=\"patch_35\">\r\n    <path clip-path=\"url(#pa7c50c1d3b)\" d=\"M 672.42746 402.309375 \r\nL 691.67474 402.309375 \r\nL 691.67474 400.723875 \r\nL 672.42746 400.723875 \r\nz\r\n\" style=\"fill:#a1c9f4;stroke:#ffffff;stroke-linejoin:miter;\"/>\r\n   </g>\r\n   <g id=\"patch_36\">\r\n    <path clip-path=\"url(#pa7c50c1d3b)\" d=\"M 691.67474 402.309375 \r\nL 710.92202 402.309375 \r\nL 710.92202 400.723875 \r\nL 691.67474 400.723875 \r\nz\r\n\" style=\"fill:#a1c9f4;stroke:#ffffff;stroke-linejoin:miter;\"/>\r\n   </g>\r\n   <g id=\"patch_37\">\r\n    <path clip-path=\"url(#pa7c50c1d3b)\" d=\"M 710.92202 402.309375 \r\nL 730.1693 402.309375 \r\nL 730.1693 400.406775 \r\nL 710.92202 400.406775 \r\nz\r\n\" style=\"fill:#a1c9f4;stroke:#ffffff;stroke-linejoin:miter;\"/>\r\n   </g>\r\n   <g id=\"patch_38\">\r\n    <path clip-path=\"url(#pa7c50c1d3b)\" d=\"M 730.1693 402.309375 \r\nL 749.41658 402.309375 \r\nL 749.41658 401.358075 \r\nL 730.1693 401.358075 \r\nz\r\n\" style=\"fill:#a1c9f4;stroke:#ffffff;stroke-linejoin:miter;\"/>\r\n   </g>\r\n   <g id=\"patch_39\">\r\n    <path clip-path=\"url(#pa7c50c1d3b)\" d=\"M 749.41658 402.309375 \r\nL 768.66386 402.309375 \r\nL 768.66386 401.992275 \r\nL 749.41658 401.992275 \r\nz\r\n\" style=\"fill:#a1c9f4;stroke:#ffffff;stroke-linejoin:miter;\"/>\r\n   </g>\r\n   <g id=\"patch_40\">\r\n    <path clip-path=\"url(#pa7c50c1d3b)\" d=\"M 768.66386 402.309375 \r\nL 787.91114 402.309375 \r\nL 787.91114 401.040975 \r\nL 768.66386 401.040975 \r\nz\r\n\" style=\"fill:#a1c9f4;stroke:#ffffff;stroke-linejoin:miter;\"/>\r\n   </g>\r\n   <g id=\"patch_41\">\r\n    <path clip-path=\"url(#pa7c50c1d3b)\" d=\"M 787.91114 402.309375 \r\nL 807.15842 402.309375 \r\nL 807.15842 400.723875 \r\nL 787.91114 400.723875 \r\nz\r\n\" style=\"fill:#a1c9f4;stroke:#ffffff;stroke-linejoin:miter;\"/>\r\n   </g>\r\n   <g id=\"patch_42\">\r\n    <path clip-path=\"url(#pa7c50c1d3b)\" d=\"M 807.15842 402.309375 \r\nL 826.4057 402.309375 \r\nL 826.4057 401.675175 \r\nL 807.15842 401.675175 \r\nz\r\n\" style=\"fill:#a1c9f4;stroke:#ffffff;stroke-linejoin:miter;\"/>\r\n   </g>\r\n   <g id=\"patch_43\">\r\n    <path clip-path=\"url(#pa7c50c1d3b)\" d=\"M 826.4057 402.309375 \r\nL 845.65298 402.309375 \r\nL 845.65298 401.358075 \r\nL 826.4057 401.358075 \r\nz\r\n\" style=\"fill:#a1c9f4;stroke:#ffffff;stroke-linejoin:miter;\"/>\r\n   </g>\r\n   <g id=\"patch_44\">\r\n    <path clip-path=\"url(#pa7c50c1d3b)\" d=\"M 845.65298 402.309375 \r\nL 864.90026 402.309375 \r\nL 864.90026 401.358075 \r\nL 845.65298 401.358075 \r\nz\r\n\" style=\"fill:#a1c9f4;stroke:#ffffff;stroke-linejoin:miter;\"/>\r\n   </g>\r\n   <g id=\"patch_45\">\r\n    <path clip-path=\"url(#pa7c50c1d3b)\" d=\"M 864.90026 402.309375 \r\nL 884.14754 402.309375 \r\nL 884.14754 401.675175 \r\nL 864.90026 401.675175 \r\nz\r\n\" style=\"fill:#a1c9f4;stroke:#ffffff;stroke-linejoin:miter;\"/>\r\n   </g>\r\n   <g id=\"patch_46\">\r\n    <path clip-path=\"url(#pa7c50c1d3b)\" d=\"M 884.14754 402.309375 \r\nL 903.39482 402.309375 \r\nL 903.39482 401.992275 \r\nL 884.14754 401.992275 \r\nz\r\n\" style=\"fill:#a1c9f4;stroke:#ffffff;stroke-linejoin:miter;\"/>\r\n   </g>\r\n   <g id=\"patch_47\">\r\n    <path clip-path=\"url(#pa7c50c1d3b)\" d=\"M 903.39482 402.309375 \r\nL 922.6421 402.309375 \r\nL 922.6421 401.992275 \r\nL 903.39482 401.992275 \r\nz\r\n\" style=\"fill:#a1c9f4;stroke:#ffffff;stroke-linejoin:miter;\"/>\r\n   </g>\r\n   <g id=\"patch_48\">\r\n    <path clip-path=\"url(#pa7c50c1d3b)\" d=\"M 922.6421 402.309375 \r\nL 941.88938 402.309375 \r\nL 941.88938 401.992275 \r\nL 922.6421 401.992275 \r\nz\r\n\" style=\"fill:#a1c9f4;stroke:#ffffff;stroke-linejoin:miter;\"/>\r\n   </g>\r\n   <g id=\"patch_49\">\r\n    <path clip-path=\"url(#pa7c50c1d3b)\" d=\"M 941.88938 402.309375 \r\nL 961.13666 402.309375 \r\nL 961.13666 401.992275 \r\nL 941.88938 401.992275 \r\nz\r\n\" style=\"fill:#a1c9f4;stroke:#ffffff;stroke-linejoin:miter;\"/>\r\n   </g>\r\n   <g id=\"patch_50\">\r\n    <path clip-path=\"url(#pa7c50c1d3b)\" d=\"M 961.13666 402.309375 \r\nL 980.38394 402.309375 \r\nL 980.38394 401.358075 \r\nL 961.13666 401.358075 \r\nz\r\n\" style=\"fill:#a1c9f4;stroke:#ffffff;stroke-linejoin:miter;\"/>\r\n   </g>\r\n   <g id=\"patch_51\">\r\n    <path clip-path=\"url(#pa7c50c1d3b)\" d=\"M 980.38394 402.309375 \r\nL 999.63122 402.309375 \r\nL 999.63122 402.309375 \r\nL 980.38394 402.309375 \r\nz\r\n\" style=\"fill:#a1c9f4;stroke:#ffffff;stroke-linejoin:miter;\"/>\r\n   </g>\r\n   <g id=\"patch_52\">\r\n    <path clip-path=\"url(#pa7c50c1d3b)\" d=\"M 999.63122 402.309375 \r\nL 1018.8785 402.309375 \r\nL 1018.8785 401.358075 \r\nL 999.63122 401.358075 \r\nz\r\n\" style=\"fill:#a1c9f4;stroke:#ffffff;stroke-linejoin:miter;\"/>\r\n   </g>\r\n   <g id=\"patch_53\">\r\n    <path clip-path=\"url(#pa7c50c1d3b)\" d=\"M 1018.8785 402.309375 \r\nL 1038.12578 402.309375 \r\nL 1038.12578 401.675175 \r\nL 1018.8785 401.675175 \r\nz\r\n\" style=\"fill:#a1c9f4;stroke:#ffffff;stroke-linejoin:miter;\"/>\r\n   </g>\r\n   <g id=\"patch_54\">\r\n    <path clip-path=\"url(#pa7c50c1d3b)\" d=\"M 1038.12578 402.309375 \r\nL 1057.37306 402.309375 \r\nL 1057.37306 401.358075 \r\nL 1038.12578 401.358075 \r\nz\r\n\" style=\"fill:#a1c9f4;stroke:#ffffff;stroke-linejoin:miter;\"/>\r\n   </g>\r\n   <g id=\"patch_55\">\r\n    <path clip-path=\"url(#pa7c50c1d3b)\" d=\"M 1057.37306 402.309375 \r\nL 1076.62034 402.309375 \r\nL 1076.62034 402.309375 \r\nL 1057.37306 402.309375 \r\nz\r\n\" style=\"fill:#a1c9f4;stroke:#ffffff;stroke-linejoin:miter;\"/>\r\n   </g>\r\n   <g id=\"patch_56\">\r\n    <path clip-path=\"url(#pa7c50c1d3b)\" d=\"M 1076.62034 402.309375 \r\nL 1095.86762 402.309375 \r\nL 1095.86762 402.309375 \r\nL 1076.62034 402.309375 \r\nz\r\n\" style=\"fill:#a1c9f4;stroke:#ffffff;stroke-linejoin:miter;\"/>\r\n   </g>\r\n   <g id=\"patch_57\">\r\n    <path clip-path=\"url(#pa7c50c1d3b)\" d=\"M 1095.86762 402.309375 \r\nL 1115.1149 402.309375 \r\nL 1115.1149 402.309375 \r\nL 1095.86762 402.309375 \r\nz\r\n\" style=\"fill:#a1c9f4;stroke:#ffffff;stroke-linejoin:miter;\"/>\r\n   </g>\r\n   <g id=\"patch_58\">\r\n    <path clip-path=\"url(#pa7c50c1d3b)\" d=\"M 1115.1149 402.309375 \r\nL 1134.36218 402.309375 \r\nL 1134.36218 402.309375 \r\nL 1115.1149 402.309375 \r\nz\r\n\" style=\"fill:#a1c9f4;stroke:#ffffff;stroke-linejoin:miter;\"/>\r\n   </g>\r\n   <g id=\"patch_59\">\r\n    <path clip-path=\"url(#pa7c50c1d3b)\" d=\"M 1134.36218 402.309375 \r\nL 1153.60946 402.309375 \r\nL 1153.60946 402.309375 \r\nL 1134.36218 402.309375 \r\nz\r\n\" style=\"fill:#a1c9f4;stroke:#ffffff;stroke-linejoin:miter;\"/>\r\n   </g>\r\n   <g id=\"patch_60\">\r\n    <path clip-path=\"url(#pa7c50c1d3b)\" d=\"M 1153.60946 402.309375 \r\nL 1172.85674 402.309375 \r\nL 1172.85674 402.309375 \r\nL 1153.60946 402.309375 \r\nz\r\n\" style=\"fill:#a1c9f4;stroke:#ffffff;stroke-linejoin:miter;\"/>\r\n   </g>\r\n   <g id=\"patch_61\">\r\n    <path clip-path=\"url(#pa7c50c1d3b)\" d=\"M 1172.85674 402.309375 \r\nL 1192.10402 402.309375 \r\nL 1192.10402 401.992275 \r\nL 1172.85674 401.992275 \r\nz\r\n\" style=\"fill:#a1c9f4;stroke:#ffffff;stroke-linejoin:miter;\"/>\r\n   </g>\r\n   <g id=\"patch_62\">\r\n    <path clip-path=\"url(#pa7c50c1d3b)\" d=\"M 1192.10402 402.309375 \r\nL 1211.3513 402.309375 \r\nL 1211.3513 402.309375 \r\nL 1192.10402 402.309375 \r\nz\r\n\" style=\"fill:#a1c9f4;stroke:#ffffff;stroke-linejoin:miter;\"/>\r\n   </g>\r\n   <g id=\"patch_63\">\r\n    <path clip-path=\"url(#pa7c50c1d3b)\" d=\"M 1211.3513 402.309375 \r\nL 1230.59858 402.309375 \r\nL 1230.59858 402.309375 \r\nL 1211.3513 402.309375 \r\nz\r\n\" style=\"fill:#a1c9f4;stroke:#ffffff;stroke-linejoin:miter;\"/>\r\n   </g>\r\n   <g id=\"patch_64\">\r\n    <path clip-path=\"url(#pa7c50c1d3b)\" d=\"M 1230.59858 402.309375 \r\nL 1249.84586 402.309375 \r\nL 1249.84586 402.309375 \r\nL 1230.59858 402.309375 \r\nz\r\n\" style=\"fill:#a1c9f4;stroke:#ffffff;stroke-linejoin:miter;\"/>\r\n   </g>\r\n   <g id=\"patch_65\">\r\n    <path clip-path=\"url(#pa7c50c1d3b)\" d=\"M 1249.84586 402.309375 \r\nL 1269.09314 402.309375 \r\nL 1269.09314 402.309375 \r\nL 1249.84586 402.309375 \r\nz\r\n\" style=\"fill:#a1c9f4;stroke:#ffffff;stroke-linejoin:miter;\"/>\r\n   </g>\r\n   <g id=\"patch_66\">\r\n    <path clip-path=\"url(#pa7c50c1d3b)\" d=\"M 1269.09314 402.309375 \r\nL 1288.34042 402.309375 \r\nL 1288.34042 402.309375 \r\nL 1269.09314 402.309375 \r\nz\r\n\" style=\"fill:#a1c9f4;stroke:#ffffff;stroke-linejoin:miter;\"/>\r\n   </g>\r\n   <g id=\"patch_67\">\r\n    <path clip-path=\"url(#pa7c50c1d3b)\" d=\"M 1288.34042 402.309375 \r\nL 1307.5877 402.309375 \r\nL 1307.5877 402.309375 \r\nL 1288.34042 402.309375 \r\nz\r\n\" style=\"fill:#a1c9f4;stroke:#ffffff;stroke-linejoin:miter;\"/>\r\n   </g>\r\n   <g id=\"patch_68\">\r\n    <path clip-path=\"url(#pa7c50c1d3b)\" d=\"M 1307.5877 402.309375 \r\nL 1326.83498 402.309375 \r\nL 1326.83498 402.309375 \r\nL 1307.5877 402.309375 \r\nz\r\n\" style=\"fill:#a1c9f4;stroke:#ffffff;stroke-linejoin:miter;\"/>\r\n   </g>\r\n   <g id=\"patch_69\">\r\n    <path clip-path=\"url(#pa7c50c1d3b)\" d=\"M 1326.83498 402.309375 \r\nL 1346.08226 402.309375 \r\nL 1346.08226 401.992275 \r\nL 1326.83498 401.992275 \r\nz\r\n\" style=\"fill:#a1c9f4;stroke:#ffffff;stroke-linejoin:miter;\"/>\r\n   </g>\r\n   <g id=\"patch_70\">\r\n    <path clip-path=\"url(#pa7c50c1d3b)\" d=\"M 1346.08226 402.309375 \r\nL 1365.32954 402.309375 \r\nL 1365.32954 402.309375 \r\nL 1346.08226 402.309375 \r\nz\r\n\" style=\"fill:#a1c9f4;stroke:#ffffff;stroke-linejoin:miter;\"/>\r\n   </g>\r\n   <g id=\"patch_71\">\r\n    <path clip-path=\"url(#pa7c50c1d3b)\" d=\"M 1365.32954 402.309375 \r\nL 1384.57682 402.309375 \r\nL 1384.57682 402.309375 \r\nL 1365.32954 402.309375 \r\nz\r\n\" style=\"fill:#a1c9f4;stroke:#ffffff;stroke-linejoin:miter;\"/>\r\n   </g>\r\n   <g id=\"patch_72\">\r\n    <path clip-path=\"url(#pa7c50c1d3b)\" d=\"M 1384.57682 402.309375 \r\nL 1403.8241 402.309375 \r\nL 1403.8241 402.309375 \r\nL 1384.57682 402.309375 \r\nz\r\n\" style=\"fill:#a1c9f4;stroke:#ffffff;stroke-linejoin:miter;\"/>\r\n   </g>\r\n   <g id=\"patch_73\">\r\n    <path clip-path=\"url(#pa7c50c1d3b)\" d=\"M 1403.8241 402.309375 \r\nL 1423.07138 402.309375 \r\nL 1423.07138 402.309375 \r\nL 1403.8241 402.309375 \r\nz\r\n\" style=\"fill:#a1c9f4;stroke:#ffffff;stroke-linejoin:miter;\"/>\r\n   </g>\r\n   <g id=\"patch_74\">\r\n    <path clip-path=\"url(#pa7c50c1d3b)\" d=\"M 1423.07138 402.309375 \r\nL 1442.31866 402.309375 \r\nL 1442.31866 402.309375 \r\nL 1423.07138 402.309375 \r\nz\r\n\" style=\"fill:#a1c9f4;stroke:#ffffff;stroke-linejoin:miter;\"/>\r\n   </g>\r\n   <g id=\"patch_75\">\r\n    <path clip-path=\"url(#pa7c50c1d3b)\" d=\"M 1442.31866 402.309375 \r\nL 1461.56594 402.309375 \r\nL 1461.56594 402.309375 \r\nL 1442.31866 402.309375 \r\nz\r\n\" style=\"fill:#a1c9f4;stroke:#ffffff;stroke-linejoin:miter;\"/>\r\n   </g>\r\n   <g id=\"patch_76\">\r\n    <path clip-path=\"url(#pa7c50c1d3b)\" d=\"M 1461.56594 402.309375 \r\nL 1480.81322 402.309375 \r\nL 1480.81322 402.309375 \r\nL 1461.56594 402.309375 \r\nz\r\n\" style=\"fill:#a1c9f4;stroke:#ffffff;stroke-linejoin:miter;\"/>\r\n   </g>\r\n   <g id=\"patch_77\">\r\n    <path clip-path=\"url(#pa7c50c1d3b)\" d=\"M 1480.81322 402.309375 \r\nL 1500.0605 402.309375 \r\nL 1500.0605 402.309375 \r\nL 1480.81322 402.309375 \r\nz\r\n\" style=\"fill:#a1c9f4;stroke:#ffffff;stroke-linejoin:miter;\"/>\r\n   </g>\r\n   <g id=\"patch_78\">\r\n    <path clip-path=\"url(#pa7c50c1d3b)\" d=\"M 1500.0605 402.309375 \r\nL 1519.30778 402.309375 \r\nL 1519.30778 402.309375 \r\nL 1500.0605 402.309375 \r\nz\r\n\" style=\"fill:#a1c9f4;stroke:#ffffff;stroke-linejoin:miter;\"/>\r\n   </g>\r\n   <g id=\"patch_79\">\r\n    <path clip-path=\"url(#pa7c50c1d3b)\" d=\"M 1519.30778 402.309375 \r\nL 1538.55506 402.309375 \r\nL 1538.55506 402.309375 \r\nL 1519.30778 402.309375 \r\nz\r\n\" style=\"fill:#a1c9f4;stroke:#ffffff;stroke-linejoin:miter;\"/>\r\n   </g>\r\n   <g id=\"patch_80\">\r\n    <path clip-path=\"url(#pa7c50c1d3b)\" d=\"M 1538.55506 402.309375 \r\nL 1557.80234 402.309375 \r\nL 1557.80234 402.309375 \r\nL 1538.55506 402.309375 \r\nz\r\n\" style=\"fill:#a1c9f4;stroke:#ffffff;stroke-linejoin:miter;\"/>\r\n   </g>\r\n   <g id=\"patch_81\">\r\n    <path clip-path=\"url(#pa7c50c1d3b)\" d=\"M 1557.80234 402.309375 \r\nL 1577.04962 402.309375 \r\nL 1577.04962 402.309375 \r\nL 1557.80234 402.309375 \r\nz\r\n\" style=\"fill:#a1c9f4;stroke:#ffffff;stroke-linejoin:miter;\"/>\r\n   </g>\r\n   <g id=\"patch_82\">\r\n    <path clip-path=\"url(#pa7c50c1d3b)\" d=\"M 1577.04962 402.309375 \r\nL 1596.2969 402.309375 \r\nL 1596.2969 402.309375 \r\nL 1577.04962 402.309375 \r\nz\r\n\" style=\"fill:#a1c9f4;stroke:#ffffff;stroke-linejoin:miter;\"/>\r\n   </g>\r\n   <g id=\"patch_83\">\r\n    <path clip-path=\"url(#pa7c50c1d3b)\" d=\"M 1596.2969 402.309375 \r\nL 1615.54418 402.309375 \r\nL 1615.54418 402.309375 \r\nL 1596.2969 402.309375 \r\nz\r\n\" style=\"fill:#a1c9f4;stroke:#ffffff;stroke-linejoin:miter;\"/>\r\n   </g>\r\n   <g id=\"patch_84\">\r\n    <path clip-path=\"url(#pa7c50c1d3b)\" d=\"M 1615.54418 402.309375 \r\nL 1634.79146 402.309375 \r\nL 1634.79146 402.309375 \r\nL 1615.54418 402.309375 \r\nz\r\n\" style=\"fill:#a1c9f4;stroke:#ffffff;stroke-linejoin:miter;\"/>\r\n   </g>\r\n   <g id=\"patch_85\">\r\n    <path clip-path=\"url(#pa7c50c1d3b)\" d=\"M 1634.79146 402.309375 \r\nL 1654.03874 402.309375 \r\nL 1654.03874 402.309375 \r\nL 1634.79146 402.309375 \r\nz\r\n\" style=\"fill:#a1c9f4;stroke:#ffffff;stroke-linejoin:miter;\"/>\r\n   </g>\r\n   <g id=\"patch_86\">\r\n    <path clip-path=\"url(#pa7c50c1d3b)\" d=\"M 1654.03874 402.309375 \r\nL 1673.28602 402.309375 \r\nL 1673.28602 401.992275 \r\nL 1654.03874 401.992275 \r\nz\r\n\" style=\"fill:#a1c9f4;stroke:#ffffff;stroke-linejoin:miter;\"/>\r\n   </g>\r\n   <g id=\"patch_87\">\r\n    <path clip-path=\"url(#pa7c50c1d3b)\" d=\"M 1673.28602 402.309375 \r\nL 1692.5333 402.309375 \r\nL 1692.5333 402.309375 \r\nL 1673.28602 402.309375 \r\nz\r\n\" style=\"fill:#a1c9f4;stroke:#ffffff;stroke-linejoin:miter;\"/>\r\n   </g>\r\n   <g id=\"patch_88\">\r\n    <path clip-path=\"url(#pa7c50c1d3b)\" d=\"M 1692.5333 402.309375 \r\nL 1711.78058 402.309375 \r\nL 1711.78058 402.309375 \r\nL 1692.5333 402.309375 \r\nz\r\n\" style=\"fill:#a1c9f4;stroke:#ffffff;stroke-linejoin:miter;\"/>\r\n   </g>\r\n   <g id=\"patch_89\">\r\n    <path clip-path=\"url(#pa7c50c1d3b)\" d=\"M 1711.78058 402.309375 \r\nL 1731.02786 402.309375 \r\nL 1731.02786 402.309375 \r\nL 1711.78058 402.309375 \r\nz\r\n\" style=\"fill:#a1c9f4;stroke:#ffffff;stroke-linejoin:miter;\"/>\r\n   </g>\r\n   <g id=\"patch_90\">\r\n    <path clip-path=\"url(#pa7c50c1d3b)\" d=\"M 1731.02786 402.309375 \r\nL 1750.27514 402.309375 \r\nL 1750.27514 402.309375 \r\nL 1731.02786 402.309375 \r\nz\r\n\" style=\"fill:#a1c9f4;stroke:#ffffff;stroke-linejoin:miter;\"/>\r\n   </g>\r\n   <g id=\"patch_91\">\r\n    <path clip-path=\"url(#pa7c50c1d3b)\" d=\"M 1750.27514 402.309375 \r\nL 1769.52242 402.309375 \r\nL 1769.52242 402.309375 \r\nL 1750.27514 402.309375 \r\nz\r\n\" style=\"fill:#a1c9f4;stroke:#ffffff;stroke-linejoin:miter;\"/>\r\n   </g>\r\n   <g id=\"patch_92\">\r\n    <path clip-path=\"url(#pa7c50c1d3b)\" d=\"M 1769.52242 402.309375 \r\nL 1788.7697 402.309375 \r\nL 1788.7697 402.309375 \r\nL 1769.52242 402.309375 \r\nz\r\n\" style=\"fill:#a1c9f4;stroke:#ffffff;stroke-linejoin:miter;\"/>\r\n   </g>\r\n   <g id=\"patch_93\">\r\n    <path clip-path=\"url(#pa7c50c1d3b)\" d=\"M 1788.7697 402.309375 \r\nL 1808.01698 402.309375 \r\nL 1808.01698 402.309375 \r\nL 1788.7697 402.309375 \r\nz\r\n\" style=\"fill:#a1c9f4;stroke:#ffffff;stroke-linejoin:miter;\"/>\r\n   </g>\r\n   <g id=\"patch_94\">\r\n    <path clip-path=\"url(#pa7c50c1d3b)\" d=\"M 1808.01698 402.309375 \r\nL 1827.26426 402.309375 \r\nL 1827.26426 401.992275 \r\nL 1808.01698 401.992275 \r\nz\r\n\" style=\"fill:#a1c9f4;stroke:#ffffff;stroke-linejoin:miter;\"/>\r\n   </g>\r\n   <g id=\"patch_95\">\r\n    <path clip-path=\"url(#pa7c50c1d3b)\" d=\"M 1827.26426 402.309375 \r\nL 1846.51154 402.309375 \r\nL 1846.51154 402.309375 \r\nL 1827.26426 402.309375 \r\nz\r\n\" style=\"fill:#a1c9f4;stroke:#ffffff;stroke-linejoin:miter;\"/>\r\n   </g>\r\n   <g id=\"patch_96\">\r\n    <path clip-path=\"url(#pa7c50c1d3b)\" d=\"M 1846.51154 402.309375 \r\nL 1865.75882 402.309375 \r\nL 1865.75882 402.309375 \r\nL 1846.51154 402.309375 \r\nz\r\n\" style=\"fill:#a1c9f4;stroke:#ffffff;stroke-linejoin:miter;\"/>\r\n   </g>\r\n   <g id=\"patch_97\">\r\n    <path clip-path=\"url(#pa7c50c1d3b)\" d=\"M 1865.75882 402.309375 \r\nL 1885.0061 402.309375 \r\nL 1885.0061 402.309375 \r\nL 1865.75882 402.309375 \r\nz\r\n\" style=\"fill:#a1c9f4;stroke:#ffffff;stroke-linejoin:miter;\"/>\r\n   </g>\r\n   <g id=\"patch_98\">\r\n    <path clip-path=\"url(#pa7c50c1d3b)\" d=\"M 1885.0061 402.309375 \r\nL 1904.25338 402.309375 \r\nL 1904.25338 402.309375 \r\nL 1885.0061 402.309375 \r\nz\r\n\" style=\"fill:#a1c9f4;stroke:#ffffff;stroke-linejoin:miter;\"/>\r\n   </g>\r\n   <g id=\"patch_99\">\r\n    <path clip-path=\"url(#pa7c50c1d3b)\" d=\"M 1904.25338 402.309375 \r\nL 1923.50066 402.309375 \r\nL 1923.50066 402.309375 \r\nL 1904.25338 402.309375 \r\nz\r\n\" style=\"fill:#a1c9f4;stroke:#ffffff;stroke-linejoin:miter;\"/>\r\n   </g>\r\n   <g id=\"patch_100\">\r\n    <path clip-path=\"url(#pa7c50c1d3b)\" d=\"M 1923.50066 402.309375 \r\nL 1942.74794 402.309375 \r\nL 1942.74794 401.992275 \r\nL 1923.50066 401.992275 \r\nz\r\n\" style=\"fill:#a1c9f4;stroke:#ffffff;stroke-linejoin:miter;\"/>\r\n   </g>\r\n   <g id=\"patch_101\">\r\n    <path clip-path=\"url(#pa7c50c1d3b)\" d=\"M 1942.74794 402.309375 \r\nL 1961.99522 402.309375 \r\nL 1961.99522 402.309375 \r\nL 1942.74794 402.309375 \r\nz\r\n\" style=\"fill:#a1c9f4;stroke:#ffffff;stroke-linejoin:miter;\"/>\r\n   </g>\r\n   <g id=\"patch_102\">\r\n    <path clip-path=\"url(#pa7c50c1d3b)\" d=\"M 1961.99522 402.309375 \r\nL 1981.2425 402.309375 \r\nL 1981.2425 401.992275 \r\nL 1961.99522 401.992275 \r\nz\r\n\" style=\"fill:#a1c9f4;stroke:#ffffff;stroke-linejoin:miter;\"/>\r\n   </g>\r\n   <g id=\"patch_103\">\r\n    <path d=\"M 56.1425 402.309375 \r\nL 56.1425 21.789375 \r\n\" style=\"fill:none;stroke:#262626;stroke-linecap:square;stroke-linejoin:miter;stroke-width:1.25;\"/>\r\n   </g>\r\n   <g id=\"patch_104\">\r\n    <path d=\"M 614.1425 402.309375 \r\nL 614.1425 21.789375 \r\n\" style=\"fill:none;stroke:#262626;stroke-linecap:square;stroke-linejoin:miter;stroke-width:1.25;\"/>\r\n   </g>\r\n   <g id=\"patch_105\">\r\n    <path d=\"M 56.1425 402.309375 \r\nL 614.1425 402.309375 \r\n\" style=\"fill:none;stroke:#262626;stroke-linecap:square;stroke-linejoin:miter;stroke-width:1.25;\"/>\r\n   </g>\r\n   <g id=\"patch_106\">\r\n    <path d=\"M 56.1425 21.789375 \r\nL 614.1425 21.789375 \r\n\" style=\"fill:none;stroke:#262626;stroke-linecap:square;stroke-linejoin:miter;stroke-width:1.25;\"/>\r\n   </g>\r\n   <g id=\"text_18\">\r\n    <!-- Learner Interactions Distribution -->\r\n    <g style=\"fill:#262626;\" transform=\"translate(250.105625 15.789375)scale(0.12 -0.12)\">\r\n     <defs>\r\n      <path d=\"M 9.328125 0 \r\nL 9.328125 71.578125 \r\nL 18.796875 71.578125 \r\nL 18.796875 0 \r\nz\r\n\" id=\"ArialMT-73\"/>\r\n      <path d=\"M 25.78125 7.859375 \r\nL 27.046875 0.09375 \r\nQ 23.34375 -0.6875 20.40625 -0.6875 \r\nQ 15.625 -0.6875 12.984375 0.828125 \r\nQ 10.359375 2.34375 9.28125 4.8125 \r\nQ 8.203125 7.28125 8.203125 15.1875 \r\nL 8.203125 45.015625 \r\nL 1.765625 45.015625 \r\nL 1.765625 51.859375 \r\nL 8.203125 51.859375 \r\nL 8.203125 64.703125 \r\nL 16.9375 69.96875 \r\nL 16.9375 51.859375 \r\nL 25.78125 51.859375 \r\nL 25.78125 45.015625 \r\nL 16.9375 45.015625 \r\nL 16.9375 14.703125 \r\nQ 16.9375 10.9375 17.40625 9.859375 \r\nQ 17.875 8.796875 18.921875 8.15625 \r\nQ 19.96875 7.515625 21.921875 7.515625 \r\nQ 23.390625 7.515625 25.78125 7.859375 \r\nz\r\n\" id=\"ArialMT-116\"/>\r\n      <path d=\"M 40.4375 19 \r\nL 49.078125 17.875 \r\nQ 47.65625 8.9375 41.8125 3.875 \r\nQ 35.984375 -1.171875 27.484375 -1.171875 \r\nQ 16.84375 -1.171875 10.375 5.78125 \r\nQ 3.90625 12.75 3.90625 25.734375 \r\nQ 3.90625 34.125 6.6875 40.421875 \r\nQ 9.46875 46.734375 15.15625 49.875 \r\nQ 20.84375 53.03125 27.546875 53.03125 \r\nQ 35.984375 53.03125 41.359375 48.75 \r\nQ 46.734375 44.484375 48.25 36.625 \r\nL 39.703125 35.296875 \r\nQ 38.484375 40.53125 35.375 43.15625 \r\nQ 32.28125 45.796875 27.875 45.796875 \r\nQ 21.234375 45.796875 17.078125 41.03125 \r\nQ 12.9375 36.28125 12.9375 25.984375 \r\nQ 12.9375 15.53125 16.9375 10.796875 \r\nQ 20.953125 6.0625 27.390625 6.0625 \r\nQ 32.5625 6.0625 36.03125 9.234375 \r\nQ 39.5 12.40625 40.4375 19 \r\nz\r\n\" id=\"ArialMT-99\"/>\r\n      <path d=\"M 6.640625 61.46875 \r\nL 6.640625 71.578125 \r\nL 15.4375 71.578125 \r\nL 15.4375 61.46875 \r\nz\r\nM 6.640625 0 \r\nL 6.640625 51.859375 \r\nL 15.4375 51.859375 \r\nL 15.4375 0 \r\nz\r\n\" id=\"ArialMT-105\"/>\r\n      <path d=\"M 7.71875 0 \r\nL 7.71875 71.578125 \r\nL 32.375 71.578125 \r\nQ 40.71875 71.578125 45.125 70.5625 \r\nQ 51.265625 69.140625 55.609375 65.4375 \r\nQ 61.28125 60.640625 64.078125 53.1875 \r\nQ 66.890625 45.75 66.890625 36.1875 \r\nQ 66.890625 28.03125 64.984375 21.734375 \r\nQ 63.09375 15.4375 60.109375 11.296875 \r\nQ 57.125 7.171875 53.578125 4.796875 \r\nQ 50.046875 2.4375 45.046875 1.21875 \r\nQ 40.046875 0 33.546875 0 \r\nz\r\nM 17.1875 8.453125 \r\nL 32.46875 8.453125 \r\nQ 39.546875 8.453125 43.578125 9.765625 \r\nQ 47.609375 11.078125 50 13.484375 \r\nQ 53.375 16.84375 55.25 22.53125 \r\nQ 57.125 28.21875 57.125 36.328125 \r\nQ 57.125 47.5625 53.4375 53.59375 \r\nQ 49.75 59.625 44.484375 61.671875 \r\nQ 40.671875 63.140625 32.234375 63.140625 \r\nL 17.1875 63.140625 \r\nz\r\n\" id=\"ArialMT-68\"/>\r\n     </defs>\r\n     <use xlink:href=\"#ArialMT-76\"/>\r\n     <use x=\"55.615234\" xlink:href=\"#ArialMT-101\"/>\r\n     <use x=\"111.230469\" xlink:href=\"#ArialMT-97\"/>\r\n     <use x=\"166.845703\" xlink:href=\"#ArialMT-114\"/>\r\n     <use x=\"200.146484\" xlink:href=\"#ArialMT-110\"/>\r\n     <use x=\"255.761719\" xlink:href=\"#ArialMT-101\"/>\r\n     <use x=\"311.376953\" xlink:href=\"#ArialMT-114\"/>\r\n     <use x=\"344.677734\" xlink:href=\"#ArialMT-32\"/>\r\n     <use x=\"372.460938\" xlink:href=\"#ArialMT-73\"/>\r\n     <use x=\"400.244141\" xlink:href=\"#ArialMT-110\"/>\r\n     <use x=\"455.859375\" xlink:href=\"#ArialMT-116\"/>\r\n     <use x=\"483.642578\" xlink:href=\"#ArialMT-101\"/>\r\n     <use x=\"539.257812\" xlink:href=\"#ArialMT-114\"/>\r\n     <use x=\"572.558594\" xlink:href=\"#ArialMT-97\"/>\r\n     <use x=\"628.173828\" xlink:href=\"#ArialMT-99\"/>\r\n     <use x=\"678.173828\" xlink:href=\"#ArialMT-116\"/>\r\n     <use x=\"705.957031\" xlink:href=\"#ArialMT-105\"/>\r\n     <use x=\"728.173828\" xlink:href=\"#ArialMT-111\"/>\r\n     <use x=\"783.789062\" xlink:href=\"#ArialMT-110\"/>\r\n     <use x=\"839.404297\" xlink:href=\"#ArialMT-115\"/>\r\n     <use x=\"889.404297\" xlink:href=\"#ArialMT-32\"/>\r\n     <use x=\"917.1875\" xlink:href=\"#ArialMT-68\"/>\r\n     <use x=\"989.404297\" xlink:href=\"#ArialMT-105\"/>\r\n     <use x=\"1011.621094\" xlink:href=\"#ArialMT-115\"/>\r\n     <use x=\"1061.621094\" xlink:href=\"#ArialMT-116\"/>\r\n     <use x=\"1089.404297\" xlink:href=\"#ArialMT-114\"/>\r\n     <use x=\"1122.705078\" xlink:href=\"#ArialMT-105\"/>\r\n     <use x=\"1144.921875\" xlink:href=\"#ArialMT-98\"/>\r\n     <use x=\"1200.537109\" xlink:href=\"#ArialMT-117\"/>\r\n     <use x=\"1256.152344\" xlink:href=\"#ArialMT-116\"/>\r\n     <use x=\"1283.935547\" xlink:href=\"#ArialMT-105\"/>\r\n     <use x=\"1306.152344\" xlink:href=\"#ArialMT-111\"/>\r\n     <use x=\"1361.767578\" xlink:href=\"#ArialMT-110\"/>\r\n    </g>\r\n   </g>\r\n  </g>\r\n </g>\r\n <defs>\r\n  <clipPath id=\"pa7c50c1d3b\">\r\n   <rect height=\"380.52\" width=\"558\" x=\"56.1425\" y=\"21.789375\"/>\r\n  </clipPath>\r\n </defs>\r\n</svg>\r\n",
      "image/png": "[encoded data removed]"
     },
     "metadata": {}
    }
   ],
   "source": [
    "fig = plt.figure(figsize=(10,7))\n",
    "ax = plt.subplot()\n",
    "plt.hist(wbd_interactions_CG.num_interactions,bins=100)\n",
    "plt.title('Learner Interactions Distribution')\n",
    "plt.xlabel('Number of Messages')\n",
    "plt.ylabel('No of Learners')\n",
    "plt.axis([0,1500,0,1200])\n",
    "#ax.set_xticks(list(range(0,2000,100)))\n",
    "plt.show()"
   ]
  },
  {
   "cell_type": "code",
   "execution_count": 285,
   "metadata": {},
   "outputs": [],
   "source": [
    "fig.savefig('plot.png',dpi=1080)"
   ]
  },
  {
   "cell_type": "code",
   "execution_count": null,
   "metadata": {},
   "outputs": [],
   "source": []
  }
 ]
}