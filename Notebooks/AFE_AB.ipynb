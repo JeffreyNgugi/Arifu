{
 "metadata": {
  "language_info": {
   "codemirror_mode": {
    "name": "ipython",
    "version": 3
   },
   "file_extension": ".py",
   "mimetype": "text/x-python",
   "name": "python",
   "nbconvert_exporter": "python",
   "pygments_lexer": "ipython3",
   "version": "3.8.5-final"
  },
  "orig_nbformat": 2,
  "kernelspec": {
   "name": "python3",
   "display_name": "Python 3",
   "language": "python"
  }
 },
 "nbformat": 4,
 "nbformat_minor": 2,
 "cells": [
  {
   "cell_type": "code",
   "execution_count": 2,
   "metadata": {},
   "outputs": [],
   "source": [
    "#Needed Libraries\n",
    "import pandas as pd\n",
    "import pymysql\n",
    "import numpy as np\n",
    "from IPython.display import display"
   ]
  },
  {
   "cell_type": "code",
   "execution_count": 41,
   "metadata": {},
   "outputs": [],
   "source": [
    "#setting viewing options for dataframe outputs\n",
    "pd.set_option('display.max_columns', 500)\n",
    "pd.set_option('max_colwidth',400)\n",
    "pd.set_option('display.max_rows', 600)\n",
    "pd.set_option('display.min_rows', 300)"
   ]
  },
  {
   "source": [
    "### Database Connection"
   ],
   "cell_type": "markdown",
   "metadata": {}
  },
  {
   "cell_type": "code",
   "execution_count": 3,
   "metadata": {},
   "outputs": [],
   "source": [
    "# Database Connection\n",
    "# Credentials have been xx'd out for privacy purposes\n",
    "db = pymysql.connect(host = 'xx',user = 'xx',password='xx',port = 3306,database = 'arifu_live')\n",
    "cursor = db.cursor()"
   ]
  },
  {
   "cell_type": "code",
   "execution_count": 4,
   "metadata": {},
   "outputs": [
    {
     "output_type": "execute_result",
     "data": {
      "text/plain": [
       "27"
      ]
     },
     "metadata": {},
     "execution_count": 4
    }
   ],
   "source": [
    "# Test Connection\n",
    "cursor.execute('SHOW DATABASES')"
   ]
  },
  {
   "source": [
    "### Pulling and Reading Datasets"
   ],
   "cell_type": "markdown",
   "metadata": {}
  },
  {
   "cell_type": "code",
   "execution_count": 5,
   "metadata": {},
   "outputs": [
    {
     "output_type": "execute_result",
     "data": {
      "text/plain": [
       "9655"
      ]
     },
     "metadata": {},
     "execution_count": 5
    }
   ],
   "source": [
    "# pulling learner_level\n",
    "analytics_learner_query = '''SELECT * from analytics_learner_lvl_81'''\n",
    "analytics_learner = pd.read_sql(analytics_learner_query,db)\n",
    "#analytics_learner.to_csv('analytics_learner_81.csv')\n",
    "analytics_learner.phone_number.nunique()"
   ]
  },
  {
   "cell_type": "code",
   "execution_count": 6,
   "metadata": {},
   "outputs": [
    {
     "output_type": "execute_result",
     "data": {
      "text/plain": [
       "9957"
      ]
     },
     "metadata": {},
     "execution_count": 6
    }
   ],
   "source": [
    "# pulling interactions dataset\n",
    "query = '''SELECT smsoutbox.id AS outbox_id, smsinbox.id AS inbox_id, smsoutbox.learner_id, learners.phone_number, projects.partner_id, partners.name AS partner_name, projects.id AS project_id, projects.project_name, program_variations.program_id, programs.program_code, programs.program_name, packages.variation_id, program_variations.variation_code, program_variations.variation_name, smsoutbox.package_id, smsoutbox.message_type, smsoutbox.object_id, smsoutbox.message_out, smsinbox.message_in, smsoutbox.sender, smsinbox.created_at FROM smsinbox LEFT JOIN smsoutbox ON smsoutbox.link_id = smsinbox.id LEFT JOIN learners ON smsoutbox.learner_id = learners.learner_id LEFT JOIN objects ON objects.id = smsoutbox.object_id LEFT JOIN packages ON packages.id = smsoutbox.package_id LEFT JOIN program_variations ON packages.variation_id = program_variations.id LEFT JOIN programs ON programs.id = program_variations.program_id LEFT JOIN projects ON programs.project_id = projects.id LEFT JOIN partners ON projects.partner_id = partners.id WHERE smsinbox.created_at >= \"2020-07-18 00:00:00\" and projects.project_name = \"Google\"'''\n",
    "google_int = pd.read_sql(query, db)\n",
    "google_int.learner_id.nunique()"
   ]
  },
  {
   "cell_type": "code",
   "execution_count": 7,
   "metadata": {},
   "outputs": [
    {
     "output_type": "execute_result",
     "data": {
      "text/plain": [
       "  program_code  start    end\n",
       "0         GAFE    NaN    NaN\n",
       "1        GSAVE  (1/8)  (8/8)"
      ],
      "text/html": "<div>\n<style scoped>\n    .dataframe tbody tr th:only-of-type {\n        vertical-align: middle;\n    }\n\n    .dataframe tbody tr th {\n        vertical-align: top;\n    }\n\n    .dataframe thead th {\n        text-align: right;\n    }\n</style>\n<table border=\"1\" class=\"dataframe\">\n  <thead>\n    <tr style=\"text-align: right;\">\n      <th></th>\n      <th>program_code</th>\n      <th>start</th>\n      <th>end</th>\n    </tr>\n  </thead>\n  <tbody>\n    <tr>\n      <th>0</th>\n      <td>GAFE</td>\n      <td>NaN</td>\n      <td>NaN</td>\n    </tr>\n    <tr>\n      <th>1</th>\n      <td>GSAVE</td>\n      <td>(1/8)</td>\n      <td>(8/8)</td>\n    </tr>\n  </tbody>\n</table>\n</div>"
     },
     "metadata": {},
     "execution_count": 7
    }
   ],
   "source": [
    "# Reading AFE Codes\n",
    "AFE_codes_mb = pd.read_excel('AFE_codes.xlsx',sheet_name= 'menu_based')\n",
    "AFE_codes_ln_seq = pd.read_excel('AFE_codes.xlsx',sheet_name= 'LN_sequential')\n",
    "AFE_codes_ln_nonseq = pd.read_excel('AFE_codes.xlsx',sheet_name= 'LN_grouped')\n",
    "AFE_codes_mb.head(2)"
   ]
  },
  {
   "cell_type": "code",
   "execution_count": 8,
   "metadata": {},
   "outputs": [],
   "source": [
    "# Reading profile data\n",
    "profile_int = pd.read_excel('Data/Profile Data 2020 11 11.xlsx')"
   ]
  },
  {
   "cell_type": "code",
   "execution_count": 9,
   "metadata": {},
   "outputs": [],
   "source": [
    "# Pulling Knowledge Scores\n",
    "knowledge_query = '''select * from analytics_knowledge_score_user_level where partner_id = 81'''\n",
    "knowledge_score = pd.read_sql(knowledge_query,db)"
   ]
  },
  {
   "cell_type": "code",
   "execution_count": 10,
   "metadata": {},
   "outputs": [],
   "source": [
    "# Certification rates\n",
    "certificate_query = '''select id,learner_id,learner,program,partner from certificate_data  where partner = \"GOOGLE\"'''\n",
    "certificate_data = pd.read_sql(certificate_query,db)"
   ]
  },
  {
   "cell_type": "code",
   "execution_count": 11,
   "metadata": {},
   "outputs": [],
   "source": [
    "# Reading Cleaned Profile data that was generated \n",
    "profile_cleaned = pd.read_excel('profiles.xlsx',sheet_name = 'age_gender')\n",
    "profile_cleaned['phone_number'] = profile_cleaned['phone_number'].astype(str)"
   ]
  },
  {
   "cell_type": "code",
   "execution_count": 12,
   "metadata": {},
   "outputs": [],
   "source": [
    "# Num interactions\n",
    "df_num_int = google_int.groupby('phone_number').message_out.count().reset_index()\n",
    "df_num_int.rename(columns = {\"phone_number\": \"phone_number\", \"message_out\": \"num_interactions\"},inplace = True)"
   ]
  },
  {
   "cell_type": "code",
   "execution_count": 13,
   "metadata": {},
   "outputs": [],
   "source": [
    "# Platform\n",
    "platform = google_int.groupby(['phone_number','sender']).learner_id.nunique().reset_index()\n",
    "platform.drop_duplicates(subset='phone_number',inplace=True)"
   ]
  },
  {
   "source": [
    "### Preparation of Data"
   ],
   "cell_type": "markdown",
   "metadata": {}
  },
  {
   "source": [
    ">### Adding the num_interactions, age and gender columns"
   ],
   "cell_type": "markdown",
   "metadata": {}
  },
  {
   "cell_type": "code",
   "execution_count": 14,
   "metadata": {},
   "outputs": [],
   "source": [
    "# merging with num_interactions\n",
    "google_int = pd.merge(google_int,df_num_int,left_on ='phone_number',right_on = 'phone_number',how='left')"
   ]
  },
  {
   "cell_type": "code",
   "execution_count": 15,
   "metadata": {},
   "outputs": [],
   "source": [
    "# Merging with age_gender \n",
    "google_int = pd.merge(google_int,profile_cleaned,left_on ='phone_number',right_on = 'phone_number',how='left')"
   ]
  },
  {
   "cell_type": "code",
   "execution_count": 16,
   "metadata": {},
   "outputs": [],
   "source": [
    "# Merging with age gender to the knowledge score dataframe\n",
    "knowledge_score = pd.merge(knowledge_score,profile_cleaned,left_on='phone_number',right_on='phone_number',how='left')"
   ]
  },
  {
   "cell_type": "code",
   "execution_count": 17,
   "metadata": {},
   "outputs": [],
   "source": [
    "knowledge_score = pd.merge(knowledge_score,platform,left_on='phone_number',right_on='phone_number',how='left')"
   ]
  },
  {
   "source": [
    ">### Dropping Testers from the interactions dataset"
   ],
   "cell_type": "markdown",
   "metadata": {}
  },
  {
   "cell_type": "code",
   "execution_count": 18,
   "metadata": {},
   "outputs": [],
   "source": [
    "# converting testers list to str\n",
    "google_testers = [254722751761,254722403601,254721142364,254703257597,254726572541,254706410315,254703878695,254719666378,254720461425,254723888639,254799260550,254791578958,254727357236,254726572541,254735214551,254726363167,254703878695,254713015501,254732805011,254721626202,254718129918,254703903004,25400088814199,25400082264685,25400082269363,254726406275]\n",
    "google_testers_str = []\n",
    "for b in google_testers:\n",
    "    google_testers_str.append(str(b))"
   ]
  },
  {
   "cell_type": "code",
   "execution_count": 19,
   "metadata": {},
   "outputs": [],
   "source": [
    "# getting the interactions dataset without testers\n",
    "corr_googlelearners = []\n",
    "for y in google_testers_str:\n",
    "    df2 = google_int[google_int.phone_number == y]\n",
    "    corr_googlelearners.append(df2)\n",
    "    \n",
    "googleint_testers = pd.concat(corr_googlelearners)"
   ]
  },
  {
   "cell_type": "code",
   "execution_count": 20,
   "metadata": {},
   "outputs": [
    {
     "output_type": "execute_result",
     "data": {
      "text/plain": [
       "18"
      ]
     },
     "metadata": {},
     "execution_count": 20
    }
   ],
   "source": [
    "googleint_testers.phone_number.nunique()"
   ]
  },
  {
   "cell_type": "code",
   "execution_count": 21,
   "metadata": {},
   "outputs": [
    {
     "output_type": "execute_result",
     "data": {
      "text/plain": [
       "9939"
      ]
     },
     "metadata": {},
     "execution_count": 21
    }
   ],
   "source": [
    "# Dropping testers from the interactions dataset\n",
    "drop_indexes = list(googleint_testers.index)\n",
    "google_int.drop(drop_indexes,inplace=True)\n",
    "# counting the new number after dropping\n",
    "google_int.phone_number.nunique()"
   ]
  },
  {
   "source": [
    ">### Extracting Profile Data from the Profile interactions Set"
   ],
   "cell_type": "markdown",
   "metadata": {}
  },
  {
   "cell_type": "code",
   "execution_count": 22,
   "metadata": {},
   "outputs": [
    {
     "output_type": "execute_result",
     "data": {
      "text/plain": [
       "       phone_number                                        message_out\n",
       "0         110039919  Question 1: What is your age bracket? Reply wi...\n",
       "1         110039919    Question 2: Reply with the name of your county.\n",
       "2       17039538561  Question 1: What is your age bracket? Reply wi...\n",
       "3       17039538561    Question 2: Reply with the name of your county.\n",
       "4       17039538561  Question 3: What is your MAIN source of income...\n",
       "...             ...                                                ...\n",
       "15341  972509939497    Question 2: Reply with the name of your county.\n",
       "15342  972509939497  Question 3: What is your MAIN source of income...\n",
       "15343  972509939497  Question 4: What is your gender? Reply with a ...\n",
       "15344  972509939497  Your profile is complete! Choose a topic on th...\n",
       "15345  972509939497  Reply with a number to learn:\\n1. COVID-19 Hel...\n",
       "\n",
       "[15346 rows x 2 columns]"
      ],
      "text/html": "<div>\n<style scoped>\n    .dataframe tbody tr th:only-of-type {\n        vertical-align: middle;\n    }\n\n    .dataframe tbody tr th {\n        vertical-align: top;\n    }\n\n    .dataframe thead th {\n        text-align: right;\n    }\n</style>\n<table border=\"1\" class=\"dataframe\">\n  <thead>\n    <tr style=\"text-align: right;\">\n      <th></th>\n      <th>phone_number</th>\n      <th>message_out</th>\n    </tr>\n  </thead>\n  <tbody>\n    <tr>\n      <th>0</th>\n      <td>110039919</td>\n      <td>Question 1: What is your age bracket? Reply wi...</td>\n    </tr>\n    <tr>\n      <th>1</th>\n      <td>110039919</td>\n      <td>Question 2: Reply with the name of your county.</td>\n    </tr>\n    <tr>\n      <th>2</th>\n      <td>17039538561</td>\n      <td>Question 1: What is your age bracket? Reply wi...</td>\n    </tr>\n    <tr>\n      <th>3</th>\n      <td>17039538561</td>\n      <td>Question 2: Reply with the name of your county.</td>\n    </tr>\n    <tr>\n      <th>4</th>\n      <td>17039538561</td>\n      <td>Question 3: What is your MAIN source of income...</td>\n    </tr>\n    <tr>\n      <th>...</th>\n      <td>...</td>\n      <td>...</td>\n    </tr>\n    <tr>\n      <th>15341</th>\n      <td>972509939497</td>\n      <td>Question 2: Reply with the name of your county.</td>\n    </tr>\n    <tr>\n      <th>15342</th>\n      <td>972509939497</td>\n      <td>Question 3: What is your MAIN source of income...</td>\n    </tr>\n    <tr>\n      <th>15343</th>\n      <td>972509939497</td>\n      <td>Question 4: What is your gender? Reply with a ...</td>\n    </tr>\n    <tr>\n      <th>15344</th>\n      <td>972509939497</td>\n      <td>Your profile is complete! Choose a topic on th...</td>\n    </tr>\n    <tr>\n      <th>15345</th>\n      <td>972509939497</td>\n      <td>Reply with a number to learn:\\n1. COVID-19 Hel...</td>\n    </tr>\n  </tbody>\n</table>\n<p>15346 rows × 2 columns</p>\n</div>"
     },
     "metadata": {},
     "execution_count": 22
    }
   ],
   "source": [
    "profile_int[['phone_number','message_out']]"
   ]
  },
  {
   "cell_type": "code",
   "execution_count": 23,
   "metadata": {},
   "outputs": [
    {
     "output_type": "stream",
     "name": "stdout",
     "text": [
      "<class 'pandas.core.frame.DataFrame'>\nRangeIndex: 13063 entries, 0 to 13062\nData columns (total 3 columns):\n #   Column        Non-Null Count  Dtype \n---  ------        --------------  ----- \n 0   phone_number  13063 non-null  int64 \n 1   message_out   13063 non-null  object\n 2   learner_id    13063 non-null  int64 \ndtypes: int64(2), object(1)\nmemory usage: 306.3+ KB\n"
     ]
    }
   ],
   "source": [
    "# Grouping to get phone_number and messages on profiling\n",
    "profile_grouped = profile_int.groupby(['phone_number','message_out']).learner_id.nunique().reset_index()\n",
    "profile_grouped.info()"
   ]
  },
  {
   "cell_type": "code",
   "execution_count": 24,
   "metadata": {},
   "outputs": [
    {
     "output_type": "stream",
     "name": "stdout",
     "text": [
      "(110039919, 'Question 2: Reply with the name of your county.')\n"
     ]
    }
   ],
   "source": [
    "# Getting the last message for each learner using their phone number and last time accessed\n",
    "phone_numbers = list(profile_grouped.phone_number)\n",
    "profile_message = list(profile_grouped.message_out)\n",
    "zip_grouped = list(zip(phone_numbers,profile_message))\n",
    "print(zip_grouped[1])\n",
    "# Extracting the last message for each learner thus far\n",
    "user_response = []\n",
    "for each in zip_grouped:\n",
    "    df5 = profile_int[(profile_int.phone_number == each[0]) & (profile_int.message_out == each[1])]\n",
    "    y = list(df5['user_response'])[0]\n",
    "    user_response.append(y)"
   ]
  },
  {
   "cell_type": "code",
   "execution_count": 25,
   "metadata": {},
   "outputs": [
    {
     "output_type": "execute_result",
     "data": {
      "text/plain": [
       "   phone_number                                        message_out  \\\n",
       "0     110039919  Question 1: What is your age bracket? Reply wi...   \n",
       "1     110039919    Question 2: Reply with the name of your county.   \n",
       "\n",
       "  user_response  \n",
       "0             1  \n",
       "1           NaN  "
      ],
      "text/html": "<div>\n<style scoped>\n    .dataframe tbody tr th:only-of-type {\n        vertical-align: middle;\n    }\n\n    .dataframe tbody tr th {\n        vertical-align: top;\n    }\n\n    .dataframe thead th {\n        text-align: right;\n    }\n</style>\n<table border=\"1\" class=\"dataframe\">\n  <thead>\n    <tr style=\"text-align: right;\">\n      <th></th>\n      <th>phone_number</th>\n      <th>message_out</th>\n      <th>user_response</th>\n    </tr>\n  </thead>\n  <tbody>\n    <tr>\n      <th>0</th>\n      <td>110039919</td>\n      <td>Question 1: What is your age bracket? Reply wi...</td>\n      <td>1</td>\n    </tr>\n    <tr>\n      <th>1</th>\n      <td>110039919</td>\n      <td>Question 2: Reply with the name of your county.</td>\n      <td>NaN</td>\n    </tr>\n  </tbody>\n</table>\n</div>"
     },
     "metadata": {},
     "execution_count": 25
    }
   ],
   "source": [
    "# Creating a dataframe of the each of the learners last message\n",
    "profile_grouped_full = pd.DataFrame(list(zip(phone_numbers,profile_message,user_response)),columns=['phone_number', 'message_out','user_response'])\n",
    "profile_grouped_full.head(2)"
   ]
  },
  {
   "cell_type": "code",
   "execution_count": 26,
   "metadata": {},
   "outputs": [],
   "source": [
    "# Function to extract profile questions\n",
    "def is_prof(x):\n",
    "    if 'Question 1:' in x:\n",
    "        return 'age'\n",
    "    elif 'Swali 1:' in x:\n",
    "        return 'age'\n",
    "    elif 'Question 4:' in x:\n",
    "        return 'gender'\n",
    "    elif 'Swali 4:' in x:\n",
    "        return 'gender'\n",
    "    elif 'Swali 2:' in x:\n",
    "        return 'county'\n",
    "    elif 'Question 2:' in x:\n",
    "        return 'county'\n",
    "    else:\n",
    "        return 'invalid'\n",
    "\n",
    "profile_grouped_full['profile'] = profile_grouped_full['message_out'].apply(is_prof)"
   ]
  },
  {
   "cell_type": "code",
   "execution_count": 27,
   "metadata": {},
   "outputs": [
    {
     "output_type": "execute_result",
     "data": {
      "text/plain": [
       "           phone_number                                        message_out  \\\n",
       "0             110039919  Question 1: What is your age bracket? Reply wi...   \n",
       "1             110039919    Question 2: Reply with the name of your county.   \n",
       "2           17039538561  Question 1: What is your age bracket? Reply wi...   \n",
       "3           17039538561    Question 2: Reply with the name of your county.   \n",
       "4           17039538561  Question 3: What is your MAIN source of income...   \n",
       "...                 ...                                                ...   \n",
       "13058  4559932780744436   Question 2: Reply with the name of your county.    \n",
       "13059  4559932780744436  Question 3: What is your MAIN source of income...   \n",
       "13060  4559932780744436  Question 4: What is your gender? Reply with a ...   \n",
       "13061  4559932780744436  Reply with a number to learn:\\n1. COVID-19 Hel...   \n",
       "13062  4559932780744436  Your profile is complete! Choose a topic on th...   \n",
       "\n",
       "        user_response  profile  \n",
       "0                   1      age  \n",
       "1                 NaN   county  \n",
       "2      4. 36 - 50 yrs      age  \n",
       "3                Pune   county  \n",
       "4          1. Farming  invalid  \n",
       "...               ...      ...  \n",
       "13058           Kisii   county  \n",
       "13059               2  invalid  \n",
       "13060               1   gender  \n",
       "13061               5  invalid  \n",
       "13062               A  invalid  \n",
       "\n",
       "[13063 rows x 4 columns]"
      ],
      "text/html": "<div>\n<style scoped>\n    .dataframe tbody tr th:only-of-type {\n        vertical-align: middle;\n    }\n\n    .dataframe tbody tr th {\n        vertical-align: top;\n    }\n\n    .dataframe thead th {\n        text-align: right;\n    }\n</style>\n<table border=\"1\" class=\"dataframe\">\n  <thead>\n    <tr style=\"text-align: right;\">\n      <th></th>\n      <th>phone_number</th>\n      <th>message_out</th>\n      <th>user_response</th>\n      <th>profile</th>\n    </tr>\n  </thead>\n  <tbody>\n    <tr>\n      <th>0</th>\n      <td>110039919</td>\n      <td>Question 1: What is your age bracket? Reply wi...</td>\n      <td>1</td>\n      <td>age</td>\n    </tr>\n    <tr>\n      <th>1</th>\n      <td>110039919</td>\n      <td>Question 2: Reply with the name of your county.</td>\n      <td>NaN</td>\n      <td>county</td>\n    </tr>\n    <tr>\n      <th>2</th>\n      <td>17039538561</td>\n      <td>Question 1: What is your age bracket? Reply wi...</td>\n      <td>4. 36 - 50 yrs</td>\n      <td>age</td>\n    </tr>\n    <tr>\n      <th>3</th>\n      <td>17039538561</td>\n      <td>Question 2: Reply with the name of your county.</td>\n      <td>Pune</td>\n      <td>county</td>\n    </tr>\n    <tr>\n      <th>4</th>\n      <td>17039538561</td>\n      <td>Question 3: What is your MAIN source of income...</td>\n      <td>1. Farming</td>\n      <td>invalid</td>\n    </tr>\n    <tr>\n      <th>...</th>\n      <td>...</td>\n      <td>...</td>\n      <td>...</td>\n      <td>...</td>\n    </tr>\n    <tr>\n      <th>13058</th>\n      <td>4559932780744436</td>\n      <td>Question 2: Reply with the name of your county.</td>\n      <td>Kisii</td>\n      <td>county</td>\n    </tr>\n    <tr>\n      <th>13059</th>\n      <td>4559932780744436</td>\n      <td>Question 3: What is your MAIN source of income...</td>\n      <td>2</td>\n      <td>invalid</td>\n    </tr>\n    <tr>\n      <th>13060</th>\n      <td>4559932780744436</td>\n      <td>Question 4: What is your gender? Reply with a ...</td>\n      <td>1</td>\n      <td>gender</td>\n    </tr>\n    <tr>\n      <th>13061</th>\n      <td>4559932780744436</td>\n      <td>Reply with a number to learn:\\n1. COVID-19 Hel...</td>\n      <td>5</td>\n      <td>invalid</td>\n    </tr>\n    <tr>\n      <th>13062</th>\n      <td>4559932780744436</td>\n      <td>Your profile is complete! Choose a topic on th...</td>\n      <td>A</td>\n      <td>invalid</td>\n    </tr>\n  </tbody>\n</table>\n<p>13063 rows × 4 columns</p>\n</div>"
     },
     "metadata": {},
     "execution_count": 27
    }
   ],
   "source": [
    "profile_grouped_full"
   ]
  },
  {
   "cell_type": "code",
   "execution_count": 28,
   "metadata": {},
   "outputs": [
    {
     "output_type": "execute_result",
     "data": {
      "text/plain": [
       "   phone_number profile   user_response\n",
       "0     110039919     age               1\n",
       "1     110039919  county             NaN\n",
       "2   17039538561     age  4. 36 - 50 yrs\n",
       "3   17039538561  county            Pune\n",
       "5   17039538561  gender       1. Female"
      ],
      "text/html": "<div>\n<style scoped>\n    .dataframe tbody tr th:only-of-type {\n        vertical-align: middle;\n    }\n\n    .dataframe tbody tr th {\n        vertical-align: top;\n    }\n\n    .dataframe thead th {\n        text-align: right;\n    }\n</style>\n<table border=\"1\" class=\"dataframe\">\n  <thead>\n    <tr style=\"text-align: right;\">\n      <th></th>\n      <th>phone_number</th>\n      <th>profile</th>\n      <th>user_response</th>\n    </tr>\n  </thead>\n  <tbody>\n    <tr>\n      <th>0</th>\n      <td>110039919</td>\n      <td>age</td>\n      <td>1</td>\n    </tr>\n    <tr>\n      <th>1</th>\n      <td>110039919</td>\n      <td>county</td>\n      <td>NaN</td>\n    </tr>\n    <tr>\n      <th>2</th>\n      <td>17039538561</td>\n      <td>age</td>\n      <td>4. 36 - 50 yrs</td>\n    </tr>\n    <tr>\n      <th>3</th>\n      <td>17039538561</td>\n      <td>county</td>\n      <td>Pune</td>\n    </tr>\n    <tr>\n      <th>5</th>\n      <td>17039538561</td>\n      <td>gender</td>\n      <td>1. Female</td>\n    </tr>\n  </tbody>\n</table>\n</div>"
     },
     "metadata": {},
     "execution_count": 28
    }
   ],
   "source": [
    "df_profile_response = profile_grouped_full[profile_grouped_full.profile != 'invalid']\n",
    "df_profile_response = df_profile_response[['phone_number','profile','user_response']]\n",
    "df_profile_response.head()"
   ]
  },
  {
   "cell_type": "code",
   "execution_count": 29,
   "metadata": {},
   "outputs": [],
   "source": [
    "# dropping duplicates in the \n",
    "#df_profile_response[df_profile_response.duplicated()]\n",
    "df_profile_response.drop_duplicates(subset = ['phone_number', 'profile'],inplace = True)"
   ]
  },
  {
   "cell_type": "code",
   "execution_count": 30,
   "metadata": {},
   "outputs": [],
   "source": [
    "#df_profile_response[df_profile_response.duplicated()]"
   ]
  },
  {
   "cell_type": "code",
   "execution_count": 31,
   "metadata": {},
   "outputs": [],
   "source": [
    "#df_profile_response.set_index(['phone_number','profile'],inplace=True)\n",
    "df_profilePivot = df_profile_response.pivot(index='phone_number',columns='profile',values='user_response')"
   ]
  },
  {
   "cell_type": "code",
   "execution_count": 32,
   "metadata": {},
   "outputs": [],
   "source": [
    "#df_profilePivot.to_excel('profiles.xlsx')"
   ]
  },
  {
   "cell_type": "code",
   "execution_count": 33,
   "metadata": {},
   "outputs": [],
   "source": [
    "# At this point i cleaned the data Offline and Read back into the Notebooks - It was easier cleaning with excel"
   ]
  },
  {
   "source": [
    ">### Preparing the code dictionaries"
   ],
   "cell_type": "markdown",
   "metadata": {}
  },
  {
   "cell_type": "code",
   "execution_count": 34,
   "metadata": {},
   "outputs": [],
   "source": [
    "# dataset with the length of the contents\n",
    "codes_mb = pd.read_excel('AFE_codes.xlsx',sheet_name= 'mb')\n",
    "dict_start_mb = dict(zip(list(codes_mb.program_code), list(codes_mb.start)))\n",
    "dict_complete_mb = dict(zip(list(codes_mb.program_code), list(codes_mb.end)))\n",
    "c_mb = list(codes_mb.program_code.unique())"
   ]
  },
  {
   "cell_type": "code",
   "execution_count": 35,
   "metadata": {},
   "outputs": [],
   "source": [
    "codes_seq = pd.read_excel('AFE_codes.xlsx',sheet_name= 'lnS')\n",
    "dict_start_seq = dict(zip(list(codes_seq.program_code), list(codes_seq.start)))\n",
    "dict_complete_seq = dict(zip(list(codes_seq.program_code), list(codes_seq.end)))\n",
    "c_seq = list(codes_seq.program_code.unique())"
   ]
  },
  {
   "cell_type": "code",
   "execution_count": 36,
   "metadata": {},
   "outputs": [],
   "source": [
    "codes_nonseq = pd.read_excel('AFE_codes.xlsx',sheet_name= 'lnG')\n",
    "dict_start_nonseq = dict(zip(list(codes_nonseq.program_code), list(codes_nonseq.start)))\n",
    "dict_complete_nonseq = dict(zip(list(codes_nonseq.program_code), list(codes_nonseq.end)))\n",
    "c_nonseq = list(codes_nonseq.program_code.unique())"
   ]
  },
  {
   "cell_type": "code",
   "execution_count": 37,
   "metadata": {},
   "outputs": [],
   "source": [
    "# dataset with the length of the contents\n",
    "codes_mb_dup = pd.read_excel('AFE_codes.xlsx',sheet_name= 'mb_dup')\n",
    "dict_start_mb_dup = dict(zip(list(codes_mb_dup.program_code), list(codes_mb_dup.start)))\n",
    "dict_complete_mb_dup = dict(zip(list(codes_mb_dup.program_code), list(codes_mb_dup.end)))\n",
    "c_mb_dup = list(codes_mb_dup.program_code.unique())"
   ]
  },
  {
   "source": [
    ">\n",
    "### Preparing the interaction dataset for each variation"
   ],
   "cell_type": "markdown",
   "metadata": {}
  },
  {
   "cell_type": "code",
   "execution_count": 38,
   "metadata": {},
   "outputs": [
    {
     "output_type": "execute_result",
     "data": {
      "text/plain": [
       "1231"
      ]
     },
     "metadata": {},
     "execution_count": 38
    }
   ],
   "source": [
    "# Extracting menu based interactions\n",
    "# Create the list\n",
    "mb_code_list = list(AFE_codes_mb.program_code)\n",
    "mb_dataframes = []\n",
    "for x in mb_code_list:\n",
    "    df4 = google_int[google_int.program_code == x]\n",
    "    mb_dataframes.append(df4)\n",
    "# Concat the List\n",
    "mb_int = pd.concat(mb_dataframes)\n",
    "mb_int.phone_number.nunique()"
   ]
  },
  {
   "cell_type": "code",
   "execution_count": 39,
   "metadata": {},
   "outputs": [
    {
     "output_type": "execute_result",
     "data": {
      "text/plain": [
       "501"
      ]
     },
     "metadata": {},
     "execution_count": 39
    }
   ],
   "source": [
    "# Extracting long Narrative Seq interactions\n",
    "# Create the list\n",
    "lnSeq_code_list = list(AFE_codes_ln_seq.program_code)\n",
    "lnSeq_dataframes = []\n",
    "for x in lnSeq_code_list:\n",
    "    df4 = google_int[google_int.program_code == x]\n",
    "    lnSeq_dataframes.append(df4)\n",
    "# Concat the List\n",
    "seq_int = pd.concat(lnSeq_dataframes)\n",
    "seq_int.phone_number.nunique()"
   ]
  },
  {
   "cell_type": "code",
   "execution_count": 40,
   "metadata": {},
   "outputs": [
    {
     "output_type": "execute_result",
     "data": {
      "text/plain": [
       "441"
      ]
     },
     "metadata": {},
     "execution_count": 40
    }
   ],
   "source": [
    "# Extracting long Narrative Seq interactions\n",
    "# Create the list\n",
    "nonSeq_code_list = list(AFE_codes_ln_nonseq.program_code)\n",
    "nonSeq_dataframes = []\n",
    "for x in nonSeq_code_list:\n",
    "    df4 = google_int[google_int.program_code == x]\n",
    "    nonSeq_dataframes.append(df4)\n",
    "# Concat the List\n",
    "nonseq_int = pd.concat(nonSeq_dataframes)\n",
    "nonseq_int.phone_number.nunique()"
   ]
  },
  {
   "cell_type": "code",
   "execution_count": 53,
   "metadata": {},
   "outputs": [
    {
     "output_type": "execute_result",
     "data": {
      "text/plain": [
       "array(['22744', 'fb', 'telegram', 'whatsapp', 'whatsapp_ni', '33300'],\n",
       "      dtype=object)"
      ]
     },
     "metadata": {},
     "execution_count": 53
    }
   ],
   "source": [
    "nonseq_int.sender.unique()"
   ]
  },
  {
   "source": [
    "### Analysis"
   ],
   "cell_type": "markdown",
   "metadata": {}
  },
  {
   "source": [
    ">## Engagement Level"
   ],
   "cell_type": "markdown",
   "metadata": {}
  },
  {
   "cell_type": "code",
   "execution_count": 54,
   "metadata": {},
   "outputs": [],
   "source": [
    "def get_interactions(df):\n",
    "    df_interactions = df.groupby('learner_id').message_out.count().reset_index()\n",
    "    return df_interactions.message_out.mean(), df_interactions.message_out.median()"
   ]
  },
  {
   "cell_type": "code",
   "execution_count": 55,
   "metadata": {},
   "outputs": [
    {
     "output_type": "execute_result",
     "data": {
      "text/plain": [
       "(38.80097481722177, 21.0)"
      ]
     },
     "metadata": {},
     "execution_count": 55
    }
   ],
   "source": [
    "# Mean and Median Engagement level for menu based\n",
    "get_interactions(mb_int)"
   ]
  },
  {
   "cell_type": "code",
   "execution_count": 181,
   "metadata": {},
   "outputs": [
    {
     "output_type": "execute_result",
     "data": {
      "text/plain": [
       "(38.082835183603756, 21.0)"
      ]
     },
     "metadata": {},
     "execution_count": 181
    }
   ],
   "source": [
    "# Mean and Median Engagement level for menu based dropped\n",
    "get_interactions(mb_int_dropped)"
   ]
  },
  {
   "cell_type": "code",
   "execution_count": 57,
   "metadata": {},
   "outputs": [
    {
     "output_type": "execute_result",
     "data": {
      "text/plain": [
       "(42.007984031936125, 20.0)"
      ]
     },
     "metadata": {},
     "execution_count": 57
    }
   ],
   "source": [
    "# Mean and Median Engagement level for sequential Message\n",
    "get_interactions(seq_int)"
   ]
  },
  {
   "cell_type": "code",
   "execution_count": 182,
   "metadata": {},
   "outputs": [
    {
     "output_type": "execute_result",
     "data": {
      "text/plain": [
       "(40.630390143737166, 20.0)"
      ]
     },
     "metadata": {},
     "execution_count": 182
    }
   ],
   "source": [
    "# Mean and Median Engagement level for sequential Message Dropped\n",
    "get_interactions(seq_int_dropped)"
   ]
  },
  {
   "cell_type": "code",
   "execution_count": 59,
   "metadata": {},
   "outputs": [
    {
     "output_type": "execute_result",
     "data": {
      "text/plain": [
       "(32.673469387755105, 14.0)"
      ]
     },
     "metadata": {},
     "execution_count": 59
    }
   ],
   "source": [
    "# Mean and Median Engagement level for Grouped Message\n",
    "get_interactions(nonseq_int)"
   ]
  },
  {
   "cell_type": "code",
   "execution_count": 183,
   "metadata": {},
   "outputs": [
    {
     "output_type": "execute_result",
     "data": {
      "text/plain": [
       "(31.191601049868765, 13.0)"
      ]
     },
     "metadata": {},
     "execution_count": 183
    }
   ],
   "source": [
    "# Mean and Median Engagement level for Grouped Message Dropped\n",
    "get_interactions(nonseq_int_dropped)"
   ]
  },
  {
   "source": [
    ">## Knowledge Scores"
   ],
   "cell_type": "markdown",
   "metadata": {}
  },
  {
   "cell_type": "code",
   "execution_count": 61,
   "metadata": {},
   "outputs": [
    {
     "output_type": "execute_result",
     "data": {
      "text/plain": [
       "   index  partner_id  user_id  phone_number  \\\n",
       "0      1        81.0    130.0  254702796022   \n",
       "1      2        81.0    427.0  254727450780   \n",
       "2      3        81.0    440.0  254710458341   \n",
       "3      4        81.0    612.0  254723595423   \n",
       "4      5        81.0    929.0  254712484825   \n",
       "\n",
       "   trainings_attempted_blooms_content_question  \\\n",
       "0                                          1.0   \n",
       "1                                          4.0   \n",
       "2                                          1.0   \n",
       "3                                          0.0   \n",
       "4                                          2.0   \n",
       "\n",
       "   possible_blooms_content_questions  blooms_content_questions_attempted  \\\n",
       "0                                2.0                                 2.0   \n",
       "1                                9.0                                 9.0   \n",
       "2                                3.0                                 3.0   \n",
       "3                                0.0                                 0.0   \n",
       "4                                4.0                                 3.0   \n",
       "\n",
       "   blooms_content_questions_scored_correct  quizzes_attempted  \\\n",
       "0                                      2.0                0.0   \n",
       "1                                      5.0                0.0   \n",
       "2                                      3.0                0.0   \n",
       "3                                      NaN                1.0   \n",
       "4                                      2.0                0.0   \n",
       "\n",
       "   possible_quiz_questions  ...  blooms_quiz_questions_scored_correct  \\\n",
       "0                      0.0  ...                                   NaN   \n",
       "1                      0.0  ...                                   NaN   \n",
       "2                      0.0  ...                                   NaN   \n",
       "3                     10.0  ...                                   3.0   \n",
       "4                      0.0  ...                                   NaN   \n",
       "\n",
       "   trainings_score  trainings_possible_score  percent  Unnamed: 0  \\\n",
       "0              7.0                       7.0    100.0         NaN   \n",
       "1             15.5                      22.5     69.0         NaN   \n",
       "2              6.5                       6.5    100.0         NaN   \n",
       "3              9.0                      23.0     39.0         NaN   \n",
       "4              4.5                      11.0     41.0         NaN   \n",
       "\n",
       "   Unnamed: 0.1  age gender sender learner_id  \n",
       "0           NaN  NaN    NaN  22744        1.0  \n",
       "1           NaN  NaN    NaN  22744        1.0  \n",
       "2           NaN  NaN    NaN  22744        1.0  \n",
       "3           NaN  NaN    NaN  22744        1.0  \n",
       "4           NaN  NaN    NaN  22744        1.0  \n",
       "\n",
       "[5 rows x 21 columns]"
      ],
      "text/html": "<div>\n<style scoped>\n    .dataframe tbody tr th:only-of-type {\n        vertical-align: middle;\n    }\n\n    .dataframe tbody tr th {\n        vertical-align: top;\n    }\n\n    .dataframe thead th {\n        text-align: right;\n    }\n</style>\n<table border=\"1\" class=\"dataframe\">\n  <thead>\n    <tr style=\"text-align: right;\">\n      <th></th>\n      <th>index</th>\n      <th>partner_id</th>\n      <th>user_id</th>\n      <th>phone_number</th>\n      <th>trainings_attempted_blooms_content_question</th>\n      <th>possible_blooms_content_questions</th>\n      <th>blooms_content_questions_attempted</th>\n      <th>blooms_content_questions_scored_correct</th>\n      <th>quizzes_attempted</th>\n      <th>possible_quiz_questions</th>\n      <th>...</th>\n      <th>blooms_quiz_questions_scored_correct</th>\n      <th>trainings_score</th>\n      <th>trainings_possible_score</th>\n      <th>percent</th>\n      <th>Unnamed: 0</th>\n      <th>Unnamed: 0.1</th>\n      <th>age</th>\n      <th>gender</th>\n      <th>sender</th>\n      <th>learner_id</th>\n    </tr>\n  </thead>\n  <tbody>\n    <tr>\n      <th>0</th>\n      <td>1</td>\n      <td>81.0</td>\n      <td>130.0</td>\n      <td>254702796022</td>\n      <td>1.0</td>\n      <td>2.0</td>\n      <td>2.0</td>\n      <td>2.0</td>\n      <td>0.0</td>\n      <td>0.0</td>\n      <td>...</td>\n      <td>NaN</td>\n      <td>7.0</td>\n      <td>7.0</td>\n      <td>100.0</td>\n      <td>NaN</td>\n      <td>NaN</td>\n      <td>NaN</td>\n      <td>NaN</td>\n      <td>22744</td>\n      <td>1.0</td>\n    </tr>\n    <tr>\n      <th>1</th>\n      <td>2</td>\n      <td>81.0</td>\n      <td>427.0</td>\n      <td>254727450780</td>\n      <td>4.0</td>\n      <td>9.0</td>\n      <td>9.0</td>\n      <td>5.0</td>\n      <td>0.0</td>\n      <td>0.0</td>\n      <td>...</td>\n      <td>NaN</td>\n      <td>15.5</td>\n      <td>22.5</td>\n      <td>69.0</td>\n      <td>NaN</td>\n      <td>NaN</td>\n      <td>NaN</td>\n      <td>NaN</td>\n      <td>22744</td>\n      <td>1.0</td>\n    </tr>\n    <tr>\n      <th>2</th>\n      <td>3</td>\n      <td>81.0</td>\n      <td>440.0</td>\n      <td>254710458341</td>\n      <td>1.0</td>\n      <td>3.0</td>\n      <td>3.0</td>\n      <td>3.0</td>\n      <td>0.0</td>\n      <td>0.0</td>\n      <td>...</td>\n      <td>NaN</td>\n      <td>6.5</td>\n      <td>6.5</td>\n      <td>100.0</td>\n      <td>NaN</td>\n      <td>NaN</td>\n      <td>NaN</td>\n      <td>NaN</td>\n      <td>22744</td>\n      <td>1.0</td>\n    </tr>\n    <tr>\n      <th>3</th>\n      <td>4</td>\n      <td>81.0</td>\n      <td>612.0</td>\n      <td>254723595423</td>\n      <td>0.0</td>\n      <td>0.0</td>\n      <td>0.0</td>\n      <td>NaN</td>\n      <td>1.0</td>\n      <td>10.0</td>\n      <td>...</td>\n      <td>3.0</td>\n      <td>9.0</td>\n      <td>23.0</td>\n      <td>39.0</td>\n      <td>NaN</td>\n      <td>NaN</td>\n      <td>NaN</td>\n      <td>NaN</td>\n      <td>22744</td>\n      <td>1.0</td>\n    </tr>\n    <tr>\n      <th>4</th>\n      <td>5</td>\n      <td>81.0</td>\n      <td>929.0</td>\n      <td>254712484825</td>\n      <td>2.0</td>\n      <td>4.0</td>\n      <td>3.0</td>\n      <td>2.0</td>\n      <td>0.0</td>\n      <td>0.0</td>\n      <td>...</td>\n      <td>NaN</td>\n      <td>4.5</td>\n      <td>11.0</td>\n      <td>41.0</td>\n      <td>NaN</td>\n      <td>NaN</td>\n      <td>NaN</td>\n      <td>NaN</td>\n      <td>22744</td>\n      <td>1.0</td>\n    </tr>\n  </tbody>\n</table>\n<p>5 rows × 21 columns</p>\n</div>"
     },
     "metadata": {},
     "execution_count": 61
    }
   ],
   "source": [
    "knowledge_score.head()"
   ]
  },
  {
   "cell_type": "code",
   "execution_count": 62,
   "metadata": {},
   "outputs": [],
   "source": [
    "def get_KS(df):\n",
    "    actual_score = df.trainings_score.mean()\n",
    "    total_score = df.trainings_possible_score.mean()\n",
    "    print(actual_score)\n",
    "    print(total_score)\n",
    "    print(actual_score/total_score * 100)"
   ]
  },
  {
   "cell_type": "code",
   "execution_count": 63,
   "metadata": {},
   "outputs": [
    {
     "output_type": "execute_result",
     "data": {
      "text/plain": [
       "852"
      ]
     },
     "metadata": {},
     "execution_count": 63
    }
   ],
   "source": [
    "# Knowledge score data for menu based variation\n",
    "mb_scores = []\n",
    "for x in list(mb_int.phone_number.unique()):\n",
    "    df4 = knowledge_score[knowledge_score.phone_number == x]\n",
    "    mb_scores.append(df4)\n",
    "# Concat the List\n",
    "mb_knowledgescore = pd.concat(mb_scores)\n",
    "mb_knowledgescore.phone_number.nunique()"
   ]
  },
  {
   "cell_type": "code",
   "execution_count": 175,
   "metadata": {},
   "outputs": [
    {
     "output_type": "execute_result",
     "data": {
      "text/plain": [
       "797"
      ]
     },
     "metadata": {},
     "execution_count": 175
    }
   ],
   "source": [
    "# Knowledge score data for menu based variation Dropped\n",
    "mb_scores = []\n",
    "for x in list(mb_int_dropped.phone_number.unique()):\n",
    "    df4 = knowledge_score[knowledge_score.phone_number == x]\n",
    "    mb_scores.append(df4)\n",
    "# Concat the List\n",
    "mb_knowledgescore_dropped = pd.concat(mb_scores)\n",
    "mb_knowledgescore_dropped.phone_number.nunique()"
   ]
  },
  {
   "cell_type": "code",
   "execution_count": 75,
   "metadata": {},
   "outputs": [
    {
     "output_type": "execute_result",
     "data": {
      "text/plain": [
       "338"
      ]
     },
     "metadata": {},
     "execution_count": 75
    }
   ],
   "source": [
    "# Knowledge Score for sequential variation\n",
    "seq_scores = []\n",
    "for x in list(seq_int.phone_number.unique()):\n",
    "    df4 = knowledge_score[knowledge_score.phone_number == x]\n",
    "    seq_scores.append(df4)\n",
    "# Concat the List\n",
    "seq_knowledgescore = pd.concat(seq_scores)\n",
    "seq_knowledgescore.phone_number.nunique()"
   ]
  },
  {
   "cell_type": "code",
   "execution_count": 176,
   "metadata": {},
   "outputs": [
    {
     "output_type": "execute_result",
     "data": {
      "text/plain": [
       "324"
      ]
     },
     "metadata": {},
     "execution_count": 176
    }
   ],
   "source": [
    "# Knowledge Score for sequential variation for Dropped\n",
    "seq_scores = []\n",
    "for x in list(seq_int_dropped.phone_number.unique()):\n",
    "    df4 = knowledge_score[knowledge_score.phone_number == x]\n",
    "    seq_scores.append(df4)\n",
    "# Concat the List\n",
    "seq_knowledgescore_dropped = pd.concat(seq_scores)\n",
    "seq_knowledgescore_dropped.phone_number.nunique()"
   ]
  },
  {
   "cell_type": "code",
   "execution_count": 77,
   "metadata": {},
   "outputs": [
    {
     "output_type": "execute_result",
     "data": {
      "text/plain": [
       "296"
      ]
     },
     "metadata": {},
     "execution_count": 77
    }
   ],
   "source": [
    "# Knowledge Score for sequential variation for Dropped\n",
    "nonseq_scores = []\n",
    "for x in list(nonseq_int.phone_number.unique()):\n",
    "    df4 = knowledge_score[knowledge_score.phone_number == x]\n",
    "    nonseq_scores.append(df4)\n",
    "# Concat the List\n",
    "nonseq_knowledgescore = pd.concat(nonseq_scores)\n",
    "nonseq_knowledgescore.phone_number.nunique()"
   ]
  },
  {
   "cell_type": "code",
   "execution_count": 177,
   "metadata": {},
   "outputs": [
    {
     "output_type": "execute_result",
     "data": {
      "text/plain": [
       "241"
      ]
     },
     "metadata": {},
     "execution_count": 177
    }
   ],
   "source": [
    "# Knowledge Score for sequential variation for Dropped\n",
    "nonseq_scores = []\n",
    "for x in list(nonseq_int_dropped.phone_number.unique()):\n",
    "    df4 = knowledge_score[knowledge_score.phone_number == x]\n",
    "    nonseq_scores.append(df4)\n",
    "# Concat the List\n",
    "nonseq_knowledgescore_dropped = pd.concat(nonseq_scores)\n",
    "nonseq_knowledgescore_dropped.phone_number.nunique()"
   ]
  },
  {
   "cell_type": "code",
   "execution_count": 79,
   "metadata": {},
   "outputs": [
    {
     "output_type": "stream",
     "name": "stdout",
     "text": [
      "48.7887323943662\n63.93779342723005\n76.30656264341441\n"
     ]
    }
   ],
   "source": [
    "# Menu Based Knowledge Score\n",
    "get_KS(mb_knowledgescore)"
   ]
  },
  {
   "cell_type": "code",
   "execution_count": 178,
   "metadata": {},
   "outputs": [
    {
     "output_type": "stream",
     "name": "stdout",
     "text": [
      "44.91091593475533\n58.89272271016311\n76.2588548601864\n"
     ]
    }
   ],
   "source": [
    "# Menu Based Knowledge Score for Dropped\n",
    "get_KS(mb_knowledgescore_dropped)"
   ]
  },
  {
   "cell_type": "code",
   "execution_count": 81,
   "metadata": {},
   "outputs": [
    {
     "output_type": "stream",
     "name": "stdout",
     "text": [
      "51.773668639053255\n67.56952662721893\n76.62280797775686\n"
     ]
    }
   ],
   "source": [
    "# Sequential Knowledge Score\n",
    "get_KS(seq_knowledgescore)"
   ]
  },
  {
   "cell_type": "code",
   "execution_count": 179,
   "metadata": {},
   "outputs": [
    {
     "output_type": "stream",
     "name": "stdout",
     "text": [
      "45.23456790123457\n58.824074074074076\n76.89805341308568\n"
     ]
    }
   ],
   "source": [
    "# Sequential Knowledge Score for Dropped\n",
    "get_KS(seq_knowledgescore_dropped)"
   ]
  },
  {
   "cell_type": "code",
   "execution_count": 83,
   "metadata": {},
   "outputs": [
    {
     "output_type": "stream",
     "name": "stdout",
     "text": [
      "57.638513513513516\n74.71621621621621\n77.14324470971243\n"
     ]
    }
   ],
   "source": [
    "# Non Sequential Knowledge Score\n",
    "get_KS(nonseq_knowledgescore)"
   ]
  },
  {
   "cell_type": "code",
   "execution_count": 180,
   "metadata": {},
   "outputs": [
    {
     "output_type": "stream",
     "name": "stdout",
     "text": [
      "46.83402489626556\n60.49170124481328\n77.42223136811057\n"
     ]
    }
   ],
   "source": [
    "# Non Sequential Knowledge Score for dropped\n",
    "get_KS(nonseq_knowledgescore_dropped)"
   ]
  },
  {
   "source": [
    ">## Completion Rates"
   ],
   "cell_type": "markdown",
   "metadata": {}
  },
  {
   "cell_type": "code",
   "execution_count": 85,
   "metadata": {},
   "outputs": [],
   "source": [
    "# defined function to acquire the learners\n",
    "def get_complete_figs(b,dict_start,dict_complete,c):\n",
    "    for v in c:\n",
    "        df = b[(b['program_code'] == v)].groupby(['message_out']).learner_id.nunique().reset_index()\n",
    "        min = str(dict_start.get(v))\n",
    "        df['is_beginning'] = df.message_out.apply(lambda x : True if min in x else False)\n",
    "        df_begin = df[df['is_beginning'] == True]\n",
    "        begun = df_begin.learner_id.sum()\n",
    "        max = str(dict_complete.get(v))\n",
    "        starting.append(begun)\n",
    "        df['is_completing'] = df.message_out.apply(lambda x : True if max in x else False)\n",
    "        df_complete = df[df['is_completing'] == True]\n",
    "        complete = df_complete.learner_id.sum()\n",
    "        completing.append(complete)\n",
    "\n",
    "    test_df = pd.DataFrame(list(zip(c,starting,completing)),columns=['code', 'starting','completing'])\n",
    "    display(test_df)"
   ]
  },
  {
   "cell_type": "code",
   "execution_count": 86,
   "metadata": {},
   "outputs": [],
   "source": [
    "# Defining code to get completion of all training\n",
    "def get_compTraining(b,dict_complete,c):\n",
    "    df_full = []\n",
    "    for v in c:\n",
    "        df = b[(b['program_code'] == v)]\n",
    "        max = str(dict_complete.get(v))\n",
    "        df['is_completing'] = df.message_out.apply(lambda x : True if max in x else False)\n",
    "        df_complete = df[df['is_completing'] == True]\n",
    "        df_full.append(df_complete)\n",
    "\n",
    "    full_Train = pd.concat(df_full)\n",
    "    full_Train = full_Train.groupby(['phone_number','program_code']).learner_id.nunique().unstack().reset_index()\n",
    "    return full_Train"
   ]
  },
  {
   "source": [
    "#### Menu Based"
   ],
   "cell_type": "markdown",
   "metadata": {}
  },
  {
   "cell_type": "code",
   "execution_count": 184,
   "metadata": {},
   "outputs": [
    {
     "output_type": "display_data",
     "data": {
      "text/plain": "        code  starting  completing\n0      GSAVE       161         112\n1      GQUIZ       182         139\n2    GSECURE       241         171\n3    GSPELLS       182         146\n4    GSAVING        99          82\n5      GGROW       220         160\n6     GTLOAN       357         253\n7      GLOAN       361         270\n8     GMONEY       139         106\n9     GSAVEM        91           0\n10     GBORR        93          80\n11     GCONS        77          69\n12    GSAVEK        11           8\n13    GQUIZK        12           8\n14  GSECUREK         8           6\n15  GSPELLSK         8           5\n16  GSAVINGK         1           1\n17    GGROWK        18          13\n18   GTLOANK        29          18\n19    GLOANK        14          11\n20   GMONEYK         4           2\n21   GSAVEMK         6           4\n22    GBORRK         8           6\n23    GCONSK         8           8",
      "text/html": "<div>\n<style scoped>\n    .dataframe tbody tr th:only-of-type {\n        vertical-align: middle;\n    }\n\n    .dataframe tbody tr th {\n        vertical-align: top;\n    }\n\n    .dataframe thead th {\n        text-align: right;\n    }\n</style>\n<table border=\"1\" class=\"dataframe\">\n  <thead>\n    <tr style=\"text-align: right;\">\n      <th></th>\n      <th>code</th>\n      <th>starting</th>\n      <th>completing</th>\n    </tr>\n  </thead>\n  <tbody>\n    <tr>\n      <th>0</th>\n      <td>GSAVE</td>\n      <td>161</td>\n      <td>112</td>\n    </tr>\n    <tr>\n      <th>1</th>\n      <td>GQUIZ</td>\n      <td>182</td>\n      <td>139</td>\n    </tr>\n    <tr>\n      <th>2</th>\n      <td>GSECURE</td>\n      <td>241</td>\n      <td>171</td>\n    </tr>\n    <tr>\n      <th>3</th>\n      <td>GSPELLS</td>\n      <td>182</td>\n      <td>146</td>\n    </tr>\n    <tr>\n      <th>4</th>\n      <td>GSAVING</td>\n      <td>99</td>\n      <td>82</td>\n    </tr>\n    <tr>\n      <th>5</th>\n      <td>GGROW</td>\n      <td>220</td>\n      <td>160</td>\n    </tr>\n    <tr>\n      <th>6</th>\n      <td>GTLOAN</td>\n      <td>357</td>\n      <td>253</td>\n    </tr>\n    <tr>\n      <th>7</th>\n      <td>GLOAN</td>\n      <td>361</td>\n      <td>270</td>\n    </tr>\n    <tr>\n      <th>8</th>\n      <td>GMONEY</td>\n      <td>139</td>\n      <td>106</td>\n    </tr>\n    <tr>\n      <th>9</th>\n      <td>GSAVEM</td>\n      <td>91</td>\n      <td>0</td>\n    </tr>\n    <tr>\n      <th>10</th>\n      <td>GBORR</td>\n      <td>93</td>\n      <td>80</td>\n    </tr>\n    <tr>\n      <th>11</th>\n      <td>GCONS</td>\n      <td>77</td>\n      <td>69</td>\n    </tr>\n    <tr>\n      <th>12</th>\n      <td>GSAVEK</td>\n      <td>11</td>\n      <td>8</td>\n    </tr>\n    <tr>\n      <th>13</th>\n      <td>GQUIZK</td>\n      <td>12</td>\n      <td>8</td>\n    </tr>\n    <tr>\n      <th>14</th>\n      <td>GSECUREK</td>\n      <td>8</td>\n      <td>6</td>\n    </tr>\n    <tr>\n      <th>15</th>\n      <td>GSPELLSK</td>\n      <td>8</td>\n      <td>5</td>\n    </tr>\n    <tr>\n      <th>16</th>\n      <td>GSAVINGK</td>\n      <td>1</td>\n      <td>1</td>\n    </tr>\n    <tr>\n      <th>17</th>\n      <td>GGROWK</td>\n      <td>18</td>\n      <td>13</td>\n    </tr>\n    <tr>\n      <th>18</th>\n      <td>GTLOANK</td>\n      <td>29</td>\n      <td>18</td>\n    </tr>\n    <tr>\n      <th>19</th>\n      <td>GLOANK</td>\n      <td>14</td>\n      <td>11</td>\n    </tr>\n    <tr>\n      <th>20</th>\n      <td>GMONEYK</td>\n      <td>4</td>\n      <td>2</td>\n    </tr>\n    <tr>\n      <th>21</th>\n      <td>GSAVEMK</td>\n      <td>6</td>\n      <td>4</td>\n    </tr>\n    <tr>\n      <th>22</th>\n      <td>GBORRK</td>\n      <td>8</td>\n      <td>6</td>\n    </tr>\n    <tr>\n      <th>23</th>\n      <td>GCONSK</td>\n      <td>8</td>\n      <td>8</td>\n    </tr>\n  </tbody>\n</table>\n</div>"
     },
     "metadata": {}
    }
   ],
   "source": [
    "starting = []\n",
    "completing = []\n",
    "get_complete_figs(mb_int,dict_start_mb,dict_complete_mb,c_mb)"
   ]
  },
  {
   "cell_type": "code",
   "execution_count": 88,
   "metadata": {},
   "outputs": [],
   "source": [
    "df_complete_mb = get_compTraining(mb_int,dict_complete_mb,c_mb)"
   ]
  },
  {
   "cell_type": "code",
   "execution_count": 89,
   "metadata": {},
   "outputs": [],
   "source": [
    "df_complete_mb.to_excel('mb_complete.xlsx')"
   ]
  },
  {
   "cell_type": "code",
   "execution_count": 188,
   "metadata": {},
   "outputs": [],
   "source": [
    "df_complete_mb_dropped = get_compTraining(mb_int_dropped,dict_complete_mb,c_mb)"
   ]
  },
  {
   "cell_type": "code",
   "execution_count": 189,
   "metadata": {},
   "outputs": [],
   "source": [
    "df_complete_mb_dropped.to_excel('mb_complete_dropped.xlsx')"
   ]
  },
  {
   "cell_type": "code",
   "execution_count": 92,
   "metadata": {},
   "outputs": [],
   "source": [
    "# Dropped"
   ]
  },
  {
   "cell_type": "code",
   "execution_count": 93,
   "metadata": {},
   "outputs": [
    {
     "output_type": "error",
     "ename": "NameError",
     "evalue": "name 'mb_int_dropped' is not defined",
     "traceback": [
      "\u001b[1;31m---------------------------------------------------------------------------\u001b[0m",
      "\u001b[1;31mNameError\u001b[0m                                 Traceback (most recent call last)",
      "\u001b[1;32m<ipython-input-93-da48cceab9fc>\u001b[0m in \u001b[0;36m<module>\u001b[1;34m\u001b[0m\n\u001b[0;32m      1\u001b[0m \u001b[0mstarting\u001b[0m \u001b[1;33m=\u001b[0m \u001b[1;33m[\u001b[0m\u001b[1;33m]\u001b[0m\u001b[1;33m\u001b[0m\u001b[1;33m\u001b[0m\u001b[0m\n\u001b[0;32m      2\u001b[0m \u001b[0mcompleting\u001b[0m \u001b[1;33m=\u001b[0m \u001b[1;33m[\u001b[0m\u001b[1;33m]\u001b[0m\u001b[1;33m\u001b[0m\u001b[1;33m\u001b[0m\u001b[0m\n\u001b[1;32m----> 3\u001b[1;33m \u001b[0mget_complete_figs\u001b[0m\u001b[1;33m(\u001b[0m\u001b[0mmb_int_dropped\u001b[0m\u001b[1;33m,\u001b[0m\u001b[0mdict_start_mb\u001b[0m\u001b[1;33m,\u001b[0m\u001b[0mdict_complete_mb\u001b[0m\u001b[1;33m,\u001b[0m\u001b[0mc_mb\u001b[0m\u001b[1;33m)\u001b[0m\u001b[1;33m\u001b[0m\u001b[1;33m\u001b[0m\u001b[0m\n\u001b[0m",
      "\u001b[1;31mNameError\u001b[0m: name 'mb_int_dropped' is not defined"
     ]
    }
   ],
   "source": [
    "starting = []\n",
    "completing = []\n",
    "get_complete_figs(mb_int_dropped,dict_start_mb,dict_complete_mb,c_mb)"
   ]
  },
  {
   "source": [
    "#### LN - Sequential"
   ],
   "cell_type": "markdown",
   "metadata": {}
  },
  {
   "cell_type": "code",
   "execution_count": 185,
   "metadata": {},
   "outputs": [
    {
     "output_type": "display_data",
     "data": {
      "text/plain": "           code  starting  completing\n0       GFUTURE       496         273\n1      GDSPELLS       214         131\n2      GSAVENOW         0           0\n3        GLGROW        88          66\n4       GLLOANS        58          47\n5      GLGAMBLE        40          34\n6      GMMOBILE        31          30\n7        GSAVES        29          27\n8      GLBORROW        25          23\n9    GAVOIDCONS        20          20\n10        GTEST        18          18\n11     GFUTUREK         7           4\n12    GDSPELLSK         4           3\n13    GSAVENOWK         0           0\n14      GLGROWK         2           2\n15     GLLOANSK         2           2\n16    GLGAMBLEK         2           2\n17    GMMOBILEK         2           2\n18      GSAVESK         2           2\n19    GLBORROWK         2           2\n20  GAVOIDCONSK         2           2\n21       GTESTK         2           2",
      "text/html": "<div>\n<style scoped>\n    .dataframe tbody tr th:only-of-type {\n        vertical-align: middle;\n    }\n\n    .dataframe tbody tr th {\n        vertical-align: top;\n    }\n\n    .dataframe thead th {\n        text-align: right;\n    }\n</style>\n<table border=\"1\" class=\"dataframe\">\n  <thead>\n    <tr style=\"text-align: right;\">\n      <th></th>\n      <th>code</th>\n      <th>starting</th>\n      <th>completing</th>\n    </tr>\n  </thead>\n  <tbody>\n    <tr>\n      <th>0</th>\n      <td>GFUTURE</td>\n      <td>496</td>\n      <td>273</td>\n    </tr>\n    <tr>\n      <th>1</th>\n      <td>GDSPELLS</td>\n      <td>214</td>\n      <td>131</td>\n    </tr>\n    <tr>\n      <th>2</th>\n      <td>GSAVENOW</td>\n      <td>0</td>\n      <td>0</td>\n    </tr>\n    <tr>\n      <th>3</th>\n      <td>GLGROW</td>\n      <td>88</td>\n      <td>66</td>\n    </tr>\n    <tr>\n      <th>4</th>\n      <td>GLLOANS</td>\n      <td>58</td>\n      <td>47</td>\n    </tr>\n    <tr>\n      <th>5</th>\n      <td>GLGAMBLE</td>\n      <td>40</td>\n      <td>34</td>\n    </tr>\n    <tr>\n      <th>6</th>\n      <td>GMMOBILE</td>\n      <td>31</td>\n      <td>30</td>\n    </tr>\n    <tr>\n      <th>7</th>\n      <td>GSAVES</td>\n      <td>29</td>\n      <td>27</td>\n    </tr>\n    <tr>\n      <th>8</th>\n      <td>GLBORROW</td>\n      <td>25</td>\n      <td>23</td>\n    </tr>\n    <tr>\n      <th>9</th>\n      <td>GAVOIDCONS</td>\n      <td>20</td>\n      <td>20</td>\n    </tr>\n    <tr>\n      <th>10</th>\n      <td>GTEST</td>\n      <td>18</td>\n      <td>18</td>\n    </tr>\n    <tr>\n      <th>11</th>\n      <td>GFUTUREK</td>\n      <td>7</td>\n      <td>4</td>\n    </tr>\n    <tr>\n      <th>12</th>\n      <td>GDSPELLSK</td>\n      <td>4</td>\n      <td>3</td>\n    </tr>\n    <tr>\n      <th>13</th>\n      <td>GSAVENOWK</td>\n      <td>0</td>\n      <td>0</td>\n    </tr>\n    <tr>\n      <th>14</th>\n      <td>GLGROWK</td>\n      <td>2</td>\n      <td>2</td>\n    </tr>\n    <tr>\n      <th>15</th>\n      <td>GLLOANSK</td>\n      <td>2</td>\n      <td>2</td>\n    </tr>\n    <tr>\n      <th>16</th>\n      <td>GLGAMBLEK</td>\n      <td>2</td>\n      <td>2</td>\n    </tr>\n    <tr>\n      <th>17</th>\n      <td>GMMOBILEK</td>\n      <td>2</td>\n      <td>2</td>\n    </tr>\n    <tr>\n      <th>18</th>\n      <td>GSAVESK</td>\n      <td>2</td>\n      <td>2</td>\n    </tr>\n    <tr>\n      <th>19</th>\n      <td>GLBORROWK</td>\n      <td>2</td>\n      <td>2</td>\n    </tr>\n    <tr>\n      <th>20</th>\n      <td>GAVOIDCONSK</td>\n      <td>2</td>\n      <td>2</td>\n    </tr>\n    <tr>\n      <th>21</th>\n      <td>GTESTK</td>\n      <td>2</td>\n      <td>2</td>\n    </tr>\n  </tbody>\n</table>\n</div>"
     },
     "metadata": {}
    }
   ],
   "source": [
    "starting = []\n",
    "completing = []\n",
    "get_complete_figs(seq_int,dict_start_seq,dict_complete_seq,c_seq)"
   ]
  },
  {
   "cell_type": "code",
   "execution_count": 186,
   "metadata": {},
   "outputs": [
    {
     "output_type": "display_data",
     "data": {
      "text/plain": "           code  starting  completing\n0       GFUTURE       482         265\n1      GDSPELLS       206         125\n2      GSAVENOW         0           0\n3        GLGROW        84          64\n4       GLLOANS        56          45\n5      GLGAMBLE        38          32\n6      GMMOBILE        29          28\n7        GSAVES        28          26\n8      GLBORROW        24          22\n9    GAVOIDCONS        19          19\n10        GTEST        17          17\n11     GFUTUREK         5           3\n12    GDSPELLSK         3           2\n13    GSAVENOWK         0           0\n14      GLGROWK         1           1\n15     GLLOANSK         1           1\n16    GLGAMBLEK         1           1\n17    GMMOBILEK         1           1\n18      GSAVESK         1           1\n19    GLBORROWK         1           1\n20  GAVOIDCONSK         1           1\n21       GTESTK         1           1",
      "text/html": "<div>\n<style scoped>\n    .dataframe tbody tr th:only-of-type {\n        vertical-align: middle;\n    }\n\n    .dataframe tbody tr th {\n        vertical-align: top;\n    }\n\n    .dataframe thead th {\n        text-align: right;\n    }\n</style>\n<table border=\"1\" class=\"dataframe\">\n  <thead>\n    <tr style=\"text-align: right;\">\n      <th></th>\n      <th>code</th>\n      <th>starting</th>\n      <th>completing</th>\n    </tr>\n  </thead>\n  <tbody>\n    <tr>\n      <th>0</th>\n      <td>GFUTURE</td>\n      <td>482</td>\n      <td>265</td>\n    </tr>\n    <tr>\n      <th>1</th>\n      <td>GDSPELLS</td>\n      <td>206</td>\n      <td>125</td>\n    </tr>\n    <tr>\n      <th>2</th>\n      <td>GSAVENOW</td>\n      <td>0</td>\n      <td>0</td>\n    </tr>\n    <tr>\n      <th>3</th>\n      <td>GLGROW</td>\n      <td>84</td>\n      <td>64</td>\n    </tr>\n    <tr>\n      <th>4</th>\n      <td>GLLOANS</td>\n      <td>56</td>\n      <td>45</td>\n    </tr>\n    <tr>\n      <th>5</th>\n      <td>GLGAMBLE</td>\n      <td>38</td>\n      <td>32</td>\n    </tr>\n    <tr>\n      <th>6</th>\n      <td>GMMOBILE</td>\n      <td>29</td>\n      <td>28</td>\n    </tr>\n    <tr>\n      <th>7</th>\n      <td>GSAVES</td>\n      <td>28</td>\n      <td>26</td>\n    </tr>\n    <tr>\n      <th>8</th>\n      <td>GLBORROW</td>\n      <td>24</td>\n      <td>22</td>\n    </tr>\n    <tr>\n      <th>9</th>\n      <td>GAVOIDCONS</td>\n      <td>19</td>\n      <td>19</td>\n    </tr>\n    <tr>\n      <th>10</th>\n      <td>GTEST</td>\n      <td>17</td>\n      <td>17</td>\n    </tr>\n    <tr>\n      <th>11</th>\n      <td>GFUTUREK</td>\n      <td>5</td>\n      <td>3</td>\n    </tr>\n    <tr>\n      <th>12</th>\n      <td>GDSPELLSK</td>\n      <td>3</td>\n      <td>2</td>\n    </tr>\n    <tr>\n      <th>13</th>\n      <td>GSAVENOWK</td>\n      <td>0</td>\n      <td>0</td>\n    </tr>\n    <tr>\n      <th>14</th>\n      <td>GLGROWK</td>\n      <td>1</td>\n      <td>1</td>\n    </tr>\n    <tr>\n      <th>15</th>\n      <td>GLLOANSK</td>\n      <td>1</td>\n      <td>1</td>\n    </tr>\n    <tr>\n      <th>16</th>\n      <td>GLGAMBLEK</td>\n      <td>1</td>\n      <td>1</td>\n    </tr>\n    <tr>\n      <th>17</th>\n      <td>GMMOBILEK</td>\n      <td>1</td>\n      <td>1</td>\n    </tr>\n    <tr>\n      <th>18</th>\n      <td>GSAVESK</td>\n      <td>1</td>\n      <td>1</td>\n    </tr>\n    <tr>\n      <th>19</th>\n      <td>GLBORROWK</td>\n      <td>1</td>\n      <td>1</td>\n    </tr>\n    <tr>\n      <th>20</th>\n      <td>GAVOIDCONSK</td>\n      <td>1</td>\n      <td>1</td>\n    </tr>\n    <tr>\n      <th>21</th>\n      <td>GTESTK</td>\n      <td>1</td>\n      <td>1</td>\n    </tr>\n  </tbody>\n</table>\n</div>"
     },
     "metadata": {}
    }
   ],
   "source": [
    "#Dropped\n",
    "starting = []\n",
    "completing = []\n",
    "get_complete_figs(seq_int_dropped,dict_start_seq,dict_complete_seq,c_seq)"
   ]
  },
  {
   "source": [
    "#### Non Seq"
   ],
   "cell_type": "markdown",
   "metadata": {}
  },
  {
   "cell_type": "code",
   "execution_count": 96,
   "metadata": {},
   "outputs": [
    {
     "output_type": "display_data",
     "data": {
      "text/plain": "          code  starting  completing\n0      GSECFUT       438         232\n1     GPREPDRY       174         125\n2      GLOGROW        88          75\n3      GWHKNOW        68          61\n4    GGAMBLING        56          52\n5        GMOMO        48          45\n6      GMOSAVE        39          34\n7       GBOROW        32          31\n8       GMOCON        28          27\n9       GCERTQ        23          23\n10    GSECFUTK         5           3\n11   GPREPDRYK         4           3\n12    GLOGROWK         3           2\n13    GWHKNOWK         2           2\n14  GGAMBLINGK         2           2\n15      GMOMOK         2           2\n16    GMOSAVEK         2           2\n17     GBOROWK         2           2\n18     GMOCONK         2           2\n19     GCERTQK         1           1",
      "text/html": "<div>\n<style scoped>\n    .dataframe tbody tr th:only-of-type {\n        vertical-align: middle;\n    }\n\n    .dataframe tbody tr th {\n        vertical-align: top;\n    }\n\n    .dataframe thead th {\n        text-align: right;\n    }\n</style>\n<table border=\"1\" class=\"dataframe\">\n  <thead>\n    <tr style=\"text-align: right;\">\n      <th></th>\n      <th>code</th>\n      <th>starting</th>\n      <th>completing</th>\n    </tr>\n  </thead>\n  <tbody>\n    <tr>\n      <th>0</th>\n      <td>GSECFUT</td>\n      <td>438</td>\n      <td>232</td>\n    </tr>\n    <tr>\n      <th>1</th>\n      <td>GPREPDRY</td>\n      <td>174</td>\n      <td>125</td>\n    </tr>\n    <tr>\n      <th>2</th>\n      <td>GLOGROW</td>\n      <td>88</td>\n      <td>75</td>\n    </tr>\n    <tr>\n      <th>3</th>\n      <td>GWHKNOW</td>\n      <td>68</td>\n      <td>61</td>\n    </tr>\n    <tr>\n      <th>4</th>\n      <td>GGAMBLING</td>\n      <td>56</td>\n      <td>52</td>\n    </tr>\n    <tr>\n      <th>5</th>\n      <td>GMOMO</td>\n      <td>48</td>\n      <td>45</td>\n    </tr>\n    <tr>\n      <th>6</th>\n      <td>GMOSAVE</td>\n      <td>39</td>\n      <td>34</td>\n    </tr>\n    <tr>\n      <th>7</th>\n      <td>GBOROW</td>\n      <td>32</td>\n      <td>31</td>\n    </tr>\n    <tr>\n      <th>8</th>\n      <td>GMOCON</td>\n      <td>28</td>\n      <td>27</td>\n    </tr>\n    <tr>\n      <th>9</th>\n      <td>GCERTQ</td>\n      <td>23</td>\n      <td>23</td>\n    </tr>\n    <tr>\n      <th>10</th>\n      <td>GSECFUTK</td>\n      <td>5</td>\n      <td>3</td>\n    </tr>\n    <tr>\n      <th>11</th>\n      <td>GPREPDRYK</td>\n      <td>4</td>\n      <td>3</td>\n    </tr>\n    <tr>\n      <th>12</th>\n      <td>GLOGROWK</td>\n      <td>3</td>\n      <td>2</td>\n    </tr>\n    <tr>\n      <th>13</th>\n      <td>GWHKNOWK</td>\n      <td>2</td>\n      <td>2</td>\n    </tr>\n    <tr>\n      <th>14</th>\n      <td>GGAMBLINGK</td>\n      <td>2</td>\n      <td>2</td>\n    </tr>\n    <tr>\n      <th>15</th>\n      <td>GMOMOK</td>\n      <td>2</td>\n      <td>2</td>\n    </tr>\n    <tr>\n      <th>16</th>\n      <td>GMOSAVEK</td>\n      <td>2</td>\n      <td>2</td>\n    </tr>\n    <tr>\n      <th>17</th>\n      <td>GBOROWK</td>\n      <td>2</td>\n      <td>2</td>\n    </tr>\n    <tr>\n      <th>18</th>\n      <td>GMOCONK</td>\n      <td>2</td>\n      <td>2</td>\n    </tr>\n    <tr>\n      <th>19</th>\n      <td>GCERTQK</td>\n      <td>1</td>\n      <td>1</td>\n    </tr>\n  </tbody>\n</table>\n</div>"
     },
     "metadata": {}
    }
   ],
   "source": [
    "starting = []\n",
    "completing = []\n",
    "get_complete_figs(nonseq_int,dict_start_nonseq,dict_complete_nonseq,c_nonseq)"
   ]
  },
  {
   "cell_type": "code",
   "execution_count": 187,
   "metadata": {},
   "outputs": [
    {
     "output_type": "display_data",
     "data": {
      "text/plain": "          code  starting  completing\n0      GSECFUT       378         196\n1     GPREPDRY       149         103\n2      GLOGROW        74          61\n3      GWHKNOW        54          49\n4    GGAMBLING        45          41\n5        GMOMO        38          35\n6      GMOSAVE        31          28\n7       GBOROW        26          26\n8       GMOCON        23          22\n9       GCERTQ        18          18\n10    GSECFUTK         3           3\n11   GPREPDRYK         3           2\n12    GLOGROWK         2           2\n13    GWHKNOWK         2           2\n14  GGAMBLINGK         2           2\n15      GMOMOK         2           2\n16    GMOSAVEK         2           2\n17     GBOROWK         2           2\n18     GMOCONK         2           2\n19     GCERTQK         1           1",
      "text/html": "<div>\n<style scoped>\n    .dataframe tbody tr th:only-of-type {\n        vertical-align: middle;\n    }\n\n    .dataframe tbody tr th {\n        vertical-align: top;\n    }\n\n    .dataframe thead th {\n        text-align: right;\n    }\n</style>\n<table border=\"1\" class=\"dataframe\">\n  <thead>\n    <tr style=\"text-align: right;\">\n      <th></th>\n      <th>code</th>\n      <th>starting</th>\n      <th>completing</th>\n    </tr>\n  </thead>\n  <tbody>\n    <tr>\n      <th>0</th>\n      <td>GSECFUT</td>\n      <td>378</td>\n      <td>196</td>\n    </tr>\n    <tr>\n      <th>1</th>\n      <td>GPREPDRY</td>\n      <td>149</td>\n      <td>103</td>\n    </tr>\n    <tr>\n      <th>2</th>\n      <td>GLOGROW</td>\n      <td>74</td>\n      <td>61</td>\n    </tr>\n    <tr>\n      <th>3</th>\n      <td>GWHKNOW</td>\n      <td>54</td>\n      <td>49</td>\n    </tr>\n    <tr>\n      <th>4</th>\n      <td>GGAMBLING</td>\n      <td>45</td>\n      <td>41</td>\n    </tr>\n    <tr>\n      <th>5</th>\n      <td>GMOMO</td>\n      <td>38</td>\n      <td>35</td>\n    </tr>\n    <tr>\n      <th>6</th>\n      <td>GMOSAVE</td>\n      <td>31</td>\n      <td>28</td>\n    </tr>\n    <tr>\n      <th>7</th>\n      <td>GBOROW</td>\n      <td>26</td>\n      <td>26</td>\n    </tr>\n    <tr>\n      <th>8</th>\n      <td>GMOCON</td>\n      <td>23</td>\n      <td>22</td>\n    </tr>\n    <tr>\n      <th>9</th>\n      <td>GCERTQ</td>\n      <td>18</td>\n      <td>18</td>\n    </tr>\n    <tr>\n      <th>10</th>\n      <td>GSECFUTK</td>\n      <td>3</td>\n      <td>3</td>\n    </tr>\n    <tr>\n      <th>11</th>\n      <td>GPREPDRYK</td>\n      <td>3</td>\n      <td>2</td>\n    </tr>\n    <tr>\n      <th>12</th>\n      <td>GLOGROWK</td>\n      <td>2</td>\n      <td>2</td>\n    </tr>\n    <tr>\n      <th>13</th>\n      <td>GWHKNOWK</td>\n      <td>2</td>\n      <td>2</td>\n    </tr>\n    <tr>\n      <th>14</th>\n      <td>GGAMBLINGK</td>\n      <td>2</td>\n      <td>2</td>\n    </tr>\n    <tr>\n      <th>15</th>\n      <td>GMOMOK</td>\n      <td>2</td>\n      <td>2</td>\n    </tr>\n    <tr>\n      <th>16</th>\n      <td>GMOSAVEK</td>\n      <td>2</td>\n      <td>2</td>\n    </tr>\n    <tr>\n      <th>17</th>\n      <td>GBOROWK</td>\n      <td>2</td>\n      <td>2</td>\n    </tr>\n    <tr>\n      <th>18</th>\n      <td>GMOCONK</td>\n      <td>2</td>\n      <td>2</td>\n    </tr>\n    <tr>\n      <th>19</th>\n      <td>GCERTQK</td>\n      <td>1</td>\n      <td>1</td>\n    </tr>\n  </tbody>\n</table>\n</div>"
     },
     "metadata": {}
    }
   ],
   "source": [
    "starting = []\n",
    "completing = []\n",
    "get_complete_figs(nonseq_int_dropped,dict_start_nonseq,dict_complete_nonseq,c_nonseq)"
   ]
  },
  {
   "source": [
    ">### Stats By Category"
   ],
   "cell_type": "markdown",
   "metadata": {}
  },
  {
   "source": [
    ">## Gender"
   ],
   "cell_type": "markdown",
   "metadata": {}
  },
  {
   "cell_type": "code",
   "execution_count": 98,
   "metadata": {},
   "outputs": [],
   "source": [
    "def stats_category(df,category,list_category):\n",
    "    for each in list_category:\n",
    "        print('-------------------------')\n",
    "        print('Number of Learners in {}'.format(each))\n",
    "        print(df[df[category] == each].phone_number.nunique())\n",
    "        print('Engagement Level in {}'.format(each))\n",
    "        print(get_interactions(df[df[category] == each]))"
   ]
  },
  {
   "cell_type": "code",
   "execution_count": 99,
   "metadata": {},
   "outputs": [],
   "source": [
    "def ks_category(df,category,list_category):\n",
    "    for each in list_category:\n",
    "        print('-----------------------------------------')\n",
    "        print('The Number of learners in {}'.format(each))\n",
    "        print(df[df[category] == each].phone_number.nunique())\n",
    "        print('The Knowledge Score for {}'.format(each))\n",
    "        print(get_KS(df[df[category] == each]))"
   ]
  },
  {
   "source": [
    ">### Engagement"
   ],
   "cell_type": "markdown",
   "metadata": {}
  },
  {
   "cell_type": "code",
   "execution_count": 100,
   "metadata": {},
   "outputs": [],
   "source": [
    "gender_list = ['Female','Male']"
   ]
  },
  {
   "cell_type": "code",
   "execution_count": 101,
   "metadata": {},
   "outputs": [],
   "source": [
    "#mb_int"
   ]
  },
  {
   "cell_type": "code",
   "execution_count": 102,
   "metadata": {},
   "outputs": [
    {
     "output_type": "stream",
     "name": "stdout",
     "text": [
      "-------------------------\nNumber of Learners in Female\n56\nEngagement Level in Female\n(53.69642857142857, 35.0)\n-------------------------\nNumber of Learners in Male\n167\nEngagement Level in Male\n(47.82035928143713, 26.0)\n"
     ]
    }
   ],
   "source": [
    "stats_category(mb_int,'gender',['Female','Male'])"
   ]
  },
  {
   "cell_type": "code",
   "execution_count": 103,
   "metadata": {},
   "outputs": [],
   "source": [
    "#seq_int"
   ]
  },
  {
   "cell_type": "code",
   "execution_count": 104,
   "metadata": {},
   "outputs": [
    {
     "output_type": "stream",
     "name": "stdout",
     "text": [
      "-------------------------\nNumber of Learners in Female\n17\nEngagement Level in Female\n(46.23529411764706, 22.0)\n-------------------------\nNumber of Learners in Male\n36\nEngagement Level in Male\n(90.58333333333333, 22.0)\n"
     ]
    }
   ],
   "source": [
    "stats_category(seq_int,'gender',['Female','Male'])"
   ]
  },
  {
   "cell_type": "code",
   "execution_count": 105,
   "metadata": {},
   "outputs": [],
   "source": [
    "#nonseq_int"
   ]
  },
  {
   "cell_type": "code",
   "execution_count": 106,
   "metadata": {},
   "outputs": [
    {
     "output_type": "stream",
     "name": "stdout",
     "text": [
      "-------------------------\nNumber of Learners in Female\n15\nEngagement Level in Female\n(52.733333333333334, 18.0)\n-------------------------\nNumber of Learners in Male\n37\nEngagement Level in Male\n(51.54054054054054, 23.0)\n"
     ]
    }
   ],
   "source": [
    "stats_category(nonseq_int,'gender',['Female','Male'])"
   ]
  },
  {
   "source": [
    ">### Knowledge Score"
   ],
   "cell_type": "markdown",
   "metadata": {}
  },
  {
   "cell_type": "code",
   "execution_count": 107,
   "metadata": {},
   "outputs": [
    {
     "output_type": "stream",
     "name": "stdout",
     "text": [
      "-----------------------------------------\nThe Number of learners in Female\n50\nThe Knowledge Score for Female\n74.0\n96.81\n76.43838446441484\nNone\n-----------------------------------------\nThe Number of learners in Male\n138\nThe Knowledge Score for Male\n79.77898550724638\n101.42753623188406\n78.65614060155747\nNone\n"
     ]
    }
   ],
   "source": [
    "#menu based\n",
    "ks_category(mb_knowledgescore,'gender',['Female','Male'])"
   ]
  },
  {
   "cell_type": "code",
   "execution_count": 108,
   "metadata": {},
   "outputs": [
    {
     "output_type": "stream",
     "name": "stdout",
     "text": [
      "-----------------------------------------\nThe Number of learners in Female\n17\nThe Knowledge Score for Female\n72.97058823529412\n92.73529411764706\n78.68696479543293\nNone\n-----------------------------------------\nThe Number of learners in Male\n33\nThe Knowledge Score for Male\n104.03030303030303\n134.8181818181818\n77.16340750730501\nNone\n"
     ]
    }
   ],
   "source": [
    "#sequential\n",
    "ks_category(seq_knowledgescore,'gender',['Female','Male'])"
   ]
  },
  {
   "cell_type": "code",
   "execution_count": 109,
   "metadata": {},
   "outputs": [
    {
     "output_type": "stream",
     "name": "stdout",
     "text": [
      "-----------------------------------------\nThe Number of learners in Female\n12\nThe Knowledge Score for Female\n102.29166666666667\n130.25\n78.53486884197058\nNone\n-----------------------------------------\nThe Number of learners in Male\n35\nThe Knowledge Score for Male\n100.25714285714285\n127.95714285714286\n78.35212682817908\nNone\n"
     ]
    }
   ],
   "source": [
    "#nonseq_knowledgescore\n",
    "ks_category(nonseq_knowledgescore,'gender',['Female','Male'])"
   ]
  },
  {
   "source": [
    ">## platform"
   ],
   "cell_type": "markdown",
   "metadata": {}
  },
  {
   "cell_type": "code",
   "execution_count": 110,
   "metadata": {},
   "outputs": [],
   "source": [
    "platform_list = ['22744', 'telegram', 'whatsapp', 'fb']"
   ]
  },
  {
   "source": [
    ">#### Engagement Level"
   ],
   "cell_type": "markdown",
   "metadata": {}
  },
  {
   "cell_type": "code",
   "execution_count": 111,
   "metadata": {},
   "outputs": [
    {
     "output_type": "stream",
     "name": "stdout",
     "text": [
      "-------------------------\nNumber of Learners in 22744\n1178\nEngagement Level in 22744\n(38.16298811544991, 21.0)\n-------------------------\nNumber of Learners in telegram\n6\nEngagement Level in telegram\n(69.0, 53.5)\n-------------------------\nNumber of Learners in whatsapp\n36\nEngagement Level in whatsapp\n(34.166666666666664, 8.5)\n-------------------------\nNumber of Learners in fb\n13\nEngagement Level in fb\n(59.46153846153846, 23.0)\n"
     ]
    }
   ],
   "source": [
    "# menu based \n",
    "stats_category(mb_int,'sender',platform_list)"
   ]
  },
  {
   "cell_type": "code",
   "execution_count": 112,
   "metadata": {},
   "outputs": [
    {
     "output_type": "stream",
     "name": "stdout",
     "text": [
      "-------------------------\nNumber of Learners in 22744\n479\nEngagement Level in 22744\n(40.1419624217119, 20.0)\n-------------------------\nNumber of Learners in telegram\n1\nEngagement Level in telegram\n(55.0, 55.0)\n-------------------------\nNumber of Learners in whatsapp\n19\nEngagement Level in whatsapp\n(61.68421052631579, 27.0)\n-------------------------\nNumber of Learners in fb\n4\nEngagement Level in fb\n(142.5, 141.5)\n"
     ]
    }
   ],
   "source": [
    "#sequential\n",
    "stats_category(seq_int,'sender',platform_list)"
   ]
  },
  {
   "cell_type": "code",
   "execution_count": 113,
   "metadata": {},
   "outputs": [
    {
     "output_type": "stream",
     "name": "stdout",
     "text": [
      "-------------------------\nNumber of Learners in 22744\n417\nEngagement Level in 22744\n(32.45323741007194, 14.0)\n-------------------------\nNumber of Learners in telegram\n2\nEngagement Level in telegram\n(21.0, 21.0)\n-------------------------\nNumber of Learners in whatsapp\n18\nEngagement Level in whatsapp\n(21.444444444444443, 11.5)\n-------------------------\nNumber of Learners in fb\n3\nEngagement Level in fb\n(131.33333333333334, 184.0)\n"
     ]
    }
   ],
   "source": [
    "#non_seq\n",
    "stats_category(nonseq_int,'sender',platform_list)"
   ]
  },
  {
   "source": [
    ">#### Knowledge Score"
   ],
   "cell_type": "markdown",
   "metadata": {}
  },
  {
   "cell_type": "code",
   "execution_count": 114,
   "metadata": {},
   "outputs": [
    {
     "output_type": "stream",
     "name": "stdout",
     "text": [
      "-----------------------------------------\nThe Number of learners in 22744\n823\nThe Knowledge Score for 22744\n47.78007290400972\n62.59720534629405\n76.32940263017422\nNone\n-----------------------------------------\nThe Number of learners in telegram\n0\nThe Knowledge Score for telegram\nnan\nnan\nnan\nNone\n-----------------------------------------\nThe Number of learners in whatsapp\n10\nThe Knowledge Score for whatsapp\n31.0\n43.6\n71.10091743119266\nNone\n-----------------------------------------\nThe Number of learners in fb\n10\nThe Knowledge Score for fb\n167.75\n215.55\n77.82417072604963\nNone\n"
     ]
    }
   ],
   "source": [
    "#menu based\n",
    "ks_category(mb_knowledgescore,'sender',platform_list)"
   ]
  },
  {
   "cell_type": "code",
   "execution_count": 115,
   "metadata": {},
   "outputs": [
    {
     "output_type": "stream",
     "name": "stdout",
     "text": [
      "-----------------------------------------\nThe Number of learners in 22744\n323\nThe Knowledge Score for 22744\n49.688854489164086\n64.42105263157895\n77.13139177239523\nNone\n-----------------------------------------\nThe Number of learners in telegram\n0\nThe Knowledge Score for telegram\nnan\nnan\nnan\nNone\n-----------------------------------------\nThe Number of learners in whatsapp\n9\nThe Knowledge Score for whatsapp\n44.611111111111114\n57.5\n77.58454106280193\nNone\n-----------------------------------------\nThe Number of learners in fb\n4\nThe Knowledge Score for fb\n258.125\n373.0\n69.2024128686327\nNone\n"
     ]
    }
   ],
   "source": [
    "#Sequential\n",
    "ks_category(seq_knowledgescore,'sender',platform_list)"
   ]
  },
  {
   "cell_type": "code",
   "execution_count": 116,
   "metadata": {},
   "outputs": [
    {
     "output_type": "stream",
     "name": "stdout",
     "text": [
      "-----------------------------------------\nThe Number of learners in 22744\n283\nThe Knowledge Score for 22744\n54.99823321554771\n70.59540636042402\n77.90624921790926\nNone\n-----------------------------------------\nThe Number of learners in telegram\n0\nThe Knowledge Score for telegram\nnan\nnan\nnan\nNone\n-----------------------------------------\nThe Number of learners in whatsapp\n7\nThe Knowledge Score for whatsapp\n38.357142857142854\n45.214285714285715\n84.8341232227488\nNone\n-----------------------------------------\nThe Number of learners in fb\n3\nThe Knowledge Score for fb\n401.5\n596.5\n67.30930427493713\nNone\n"
     ]
    }
   ],
   "source": [
    "# non sequential\n",
    "ks_category(nonseq_knowledgescore,'sender',platform_list)"
   ]
  },
  {
   "source": [
    ">## Age"
   ],
   "cell_type": "markdown",
   "metadata": {}
  },
  {
   "cell_type": "code",
   "execution_count": 117,
   "metadata": {},
   "outputs": [],
   "source": [
    "age_list = ['Below 18 yrs', '18 - 25 yrs', '26 - 35 yrs','36 - 50 yrs', '51 - 65 yrs','Above 65 yrs']"
   ]
  },
  {
   "source": [
    ">#### Engagement Level"
   ],
   "cell_type": "markdown",
   "metadata": {}
  },
  {
   "cell_type": "code",
   "execution_count": 118,
   "metadata": {},
   "outputs": [
    {
     "output_type": "stream",
     "name": "stdout",
     "text": [
      "-------------------------\nNumber of Learners in Below 18 yrs\n15\nEngagement Level in Below 18 yrs\n(77.86666666666666, 32.0)\n-------------------------\nNumber of Learners in 18 - 25 yrs\n105\nEngagement Level in 18 - 25 yrs\n(49.86666666666667, 26.0)\n-------------------------\nNumber of Learners in 26 - 35 yrs\n90\nEngagement Level in 26 - 35 yrs\n(48.25555555555555, 30.5)\n-------------------------\nNumber of Learners in 36 - 50 yrs\n18\nEngagement Level in 36 - 50 yrs\n(67.77777777777777, 35.0)\n-------------------------\nNumber of Learners in 51 - 65 yrs\n4\nEngagement Level in 51 - 65 yrs\n(18.25, 15.5)\n-------------------------\nNumber of Learners in Above 65 yrs\n2\nEngagement Level in Above 65 yrs\n(44.0, 44.0)\n"
     ]
    }
   ],
   "source": [
    "stats_category(mb_int,'age',age_list)"
   ]
  },
  {
   "cell_type": "code",
   "execution_count": 119,
   "metadata": {},
   "outputs": [
    {
     "output_type": "stream",
     "name": "stdout",
     "text": [
      "-------------------------\nNumber of Learners in Below 18 yrs\n3\nEngagement Level in Below 18 yrs\n(45.666666666666664, 60.0)\n-------------------------\nNumber of Learners in 18 - 25 yrs\n24\nEngagement Level in 18 - 25 yrs\n(40.666666666666664, 20.5)\n-------------------------\nNumber of Learners in 26 - 35 yrs\n17\nEngagement Level in 26 - 35 yrs\n(152.11764705882354, 71.0)\n-------------------------\nNumber of Learners in 36 - 50 yrs\n9\nEngagement Level in 36 - 50 yrs\n(55.77777777777778, 47.0)\n-------------------------\nNumber of Learners in 51 - 65 yrs\n2\nEngagement Level in 51 - 65 yrs\n(21.0, 21.0)\n-------------------------\nNumber of Learners in Above 65 yrs\n0\nEngagement Level in Above 65 yrs\n(nan, nan)\n"
     ]
    }
   ],
   "source": [
    "stats_category(seq_int,'age',age_list)"
   ]
  },
  {
   "cell_type": "code",
   "execution_count": 120,
   "metadata": {},
   "outputs": [
    {
     "output_type": "stream",
     "name": "stdout",
     "text": [
      "-------------------------\nNumber of Learners in Below 18 yrs\n4\nEngagement Level in Below 18 yrs\n(8.5, 4.5)\n-------------------------\nNumber of Learners in 18 - 25 yrs\n23\nEngagement Level in 18 - 25 yrs\n(64.3913043478261, 22.0)\n-------------------------\nNumber of Learners in 26 - 35 yrs\n22\nEngagement Level in 26 - 35 yrs\n(48.54545454545455, 27.5)\n-------------------------\nNumber of Learners in 36 - 50 yrs\n4\nEngagement Level in 36 - 50 yrs\n(112.75, 98.0)\n-------------------------\nNumber of Learners in 51 - 65 yrs\n1\nEngagement Level in 51 - 65 yrs\n(8.0, 8.0)\n-------------------------\nNumber of Learners in Above 65 yrs\n1\nEngagement Level in Above 65 yrs\n(3.0, 3.0)\n"
     ]
    }
   ],
   "source": [
    "stats_category(nonseq_int,'age',age_list)"
   ]
  },
  {
   "source": [
    ">#### Knowledge Score"
   ],
   "cell_type": "markdown",
   "metadata": {}
  },
  {
   "cell_type": "code",
   "execution_count": 121,
   "metadata": {},
   "outputs": [
    {
     "output_type": "stream",
     "name": "stdout",
     "text": [
      "-----------------------------------------\nThe Number of learners in Below 18 yrs\n10\nThe Knowledge Score for Below 18 yrs\n63.7\n90.0\n70.77777777777779\nNone\n-----------------------------------------\nThe Number of learners in 18 - 25 yrs\n86\nThe Knowledge Score for 18 - 25 yrs\n70.5\n92.29651162790698\n76.38425196850393\nNone\n-----------------------------------------\nThe Number of learners in 26 - 35 yrs\n80\nThe Knowledge Score for 26 - 35 yrs\n80.75625\n103.0\n78.40412621359224\nNone\n-----------------------------------------\nThe Number of learners in 36 - 50 yrs\n16\nThe Knowledge Score for 36 - 50 yrs\n108.3125\n124.8125\n86.78017025538307\nNone\n-----------------------------------------\nThe Number of learners in 51 - 65 yrs\n3\nThe Knowledge Score for 51 - 65 yrs\n16.5\n24.166666666666668\n68.27586206896551\nNone\n-----------------------------------------\nThe Number of learners in Above 65 yrs\n2\nThe Knowledge Score for Above 65 yrs\n54.25\n80.25\n67.601246105919\nNone\n"
     ]
    }
   ],
   "source": [
    "ks_category(mb_knowledgescore,'age',age_list)"
   ]
  },
  {
   "cell_type": "code",
   "execution_count": 122,
   "metadata": {},
   "outputs": [
    {
     "output_type": "stream",
     "name": "stdout",
     "text": [
      "-----------------------------------------\nThe Number of learners in Below 18 yrs\n2\nThe Knowledge Score for Below 18 yrs\n92.25\n111.75\n82.5503355704698\nNone\n-----------------------------------------\nThe Number of learners in 18 - 25 yrs\n24\nThe Knowledge Score for 18 - 25 yrs\n83.1875\n102.77083333333333\n80.94465842286641\nNone\n-----------------------------------------\nThe Number of learners in 26 - 35 yrs\n16\nThe Knowledge Score for 26 - 35 yrs\n103.96875\n142.3125\n73.0566534914361\nNone\n-----------------------------------------\nThe Number of learners in 36 - 50 yrs\n8\nThe Knowledge Score for 36 - 50 yrs\n86.125\n106.25\n81.05882352941177\nNone\n-----------------------------------------\nThe Number of learners in 51 - 65 yrs\n2\nThe Knowledge Score for 51 - 65 yrs\n107.0\n164.25\n65.14459665144597\nNone\n-----------------------------------------\nThe Number of learners in Above 65 yrs\n0\nThe Knowledge Score for Above 65 yrs\nnan\nnan\nnan\nNone\n"
     ]
    }
   ],
   "source": [
    "ks_category(seq_knowledgescore,'age',age_list)"
   ]
  },
  {
   "cell_type": "code",
   "execution_count": 123,
   "metadata": {},
   "outputs": [
    {
     "output_type": "stream",
     "name": "stdout",
     "text": [
      "-----------------------------------------\nThe Number of learners in Below 18 yrs\n4\nThe Knowledge Score for Below 18 yrs\n57.0\n74.75\n76.2541806020067\nNone\n-----------------------------------------\nThe Number of learners in 18 - 25 yrs\n20\nThe Knowledge Score for 18 - 25 yrs\n92.975\n117.575\n79.0771847756751\nNone\n-----------------------------------------\nThe Number of learners in 26 - 35 yrs\n21\nThe Knowledge Score for 26 - 35 yrs\n108.95238095238095\n144.07142857142858\n75.62386382416129\nNone\n-----------------------------------------\nThe Number of learners in 36 - 50 yrs\n4\nThe Knowledge Score for 36 - 50 yrs\n127.125\n155.25\n81.88405797101449\nNone\n-----------------------------------------\nThe Number of learners in 51 - 65 yrs\n0\nThe Knowledge Score for 51 - 65 yrs\nnan\nnan\nnan\nNone\n-----------------------------------------\nThe Number of learners in Above 65 yrs\n0\nThe Knowledge Score for Above 65 yrs\nnan\nnan\nnan\nNone\n"
     ]
    }
   ],
   "source": [
    "ks_category(nonseq_knowledgescore,'age',age_list)"
   ]
  },
  {
   "source": [
    ">## Completion Rates"
   ],
   "cell_type": "markdown",
   "metadata": {}
  },
  {
   "cell_type": "code",
   "execution_count": 124,
   "metadata": {},
   "outputs": [],
   "source": [
    "mb_completionCodes = ['GCONS','GCONSK']\n",
    "seq_completionCodes = ['GAVOIDCONS','GAVOIDCONSK']\n",
    "nonseq_completionCodes = ['GMOCON','GMOCONK']"
   ]
  },
  {
   "cell_type": "code",
   "execution_count": 125,
   "metadata": {},
   "outputs": [],
   "source": [
    "def complete_category(b,list_category,category,codes,dict_complete):\n",
    "    for each in list_category:\n",
    "        dat = b[b[category] == each]\n",
    "        df = dat[(dat.program_code == codes[0]) | (dat.program_code == codes[1])].groupby(['message_out']).learner_id.nunique().reset_index()\n",
    "        max = str(dict_complete.get(codes[0]))\n",
    "        df['is_completing'] = df.message_out.apply(lambda x : True if max in x else False)\n",
    "        df_complete = df[df['is_completing'] == True]\n",
    "        complete = df_complete.learner_id.sum()\n",
    "        print('---------------------------------')\n",
    "        print('Completion for {}'.format(each))\n",
    "        print(complete)"
   ]
  },
  {
   "source": [
    ">## Gender"
   ],
   "cell_type": "markdown",
   "metadata": {}
  },
  {
   "cell_type": "code",
   "execution_count": 126,
   "metadata": {},
   "outputs": [
    {
     "output_type": "stream",
     "name": "stdout",
     "text": [
      "---------------------------------\nCompletion for Female\n5\n---------------------------------\nCompletion for Male\n15\n"
     ]
    }
   ],
   "source": [
    "complete_category(mb_int,gender_list,'gender',mb_completionCodes,dict_complete_mb)"
   ]
  },
  {
   "cell_type": "code",
   "execution_count": 127,
   "metadata": {},
   "outputs": [
    {
     "output_type": "stream",
     "name": "stdout",
     "text": [
      "---------------------------------\nCompletion for Female\n0\n---------------------------------\nCompletion for Male\n4\n"
     ]
    }
   ],
   "source": [
    "complete_category(seq_int,gender_list,'gender',seq_completionCodes,dict_complete_seq)"
   ]
  },
  {
   "cell_type": "code",
   "execution_count": 128,
   "metadata": {},
   "outputs": [
    {
     "output_type": "stream",
     "name": "stdout",
     "text": [
      "---------------------------------\nCompletion for Female\n2\n---------------------------------\nCompletion for Male\n4\n"
     ]
    }
   ],
   "source": [
    "complete_category(nonseq_int,gender_list,'gender',nonseq_completionCodes,dict_complete_nonseq)"
   ]
  },
  {
   "source": [
    ">## Platform"
   ],
   "cell_type": "markdown",
   "metadata": {}
  },
  {
   "cell_type": "code",
   "execution_count": 129,
   "metadata": {},
   "outputs": [
    {
     "output_type": "stream",
     "name": "stdout",
     "text": [
      "---------------------------------\nCompletion for 22744\n71\n---------------------------------\nCompletion for telegram\n1\n---------------------------------\nCompletion for whatsapp\n4\n---------------------------------\nCompletion for fb\n2\n"
     ]
    }
   ],
   "source": [
    "complete_category(mb_int,platform_list,'sender',mb_completionCodes,dict_complete_mb)"
   ]
  },
  {
   "cell_type": "code",
   "execution_count": 130,
   "metadata": {},
   "outputs": [
    {
     "output_type": "stream",
     "name": "stdout",
     "text": [
      "---------------------------------\nCompletion for 22744\n18\n---------------------------------\nCompletion for telegram\n0\n---------------------------------\nCompletion for whatsapp\n2\n---------------------------------\nCompletion for fb\n2\n"
     ]
    }
   ],
   "source": [
    "complete_category(seq_int,platform_list,'sender',seq_completionCodes,dict_complete_seq)"
   ]
  },
  {
   "cell_type": "code",
   "execution_count": 131,
   "metadata": {},
   "outputs": [
    {
     "output_type": "stream",
     "name": "stdout",
     "text": [
      "---------------------------------\nCompletion for 22744\n26\n---------------------------------\nCompletion for telegram\n0\n---------------------------------\nCompletion for whatsapp\n1\n---------------------------------\nCompletion for fb\n2\n"
     ]
    }
   ],
   "source": [
    "complete_category(nonseq_int,platform_list,'sender',nonseq_completionCodes,dict_complete_nonseq)"
   ]
  },
  {
   "source": [
    ">## Age"
   ],
   "cell_type": "markdown",
   "metadata": {}
  },
  {
   "cell_type": "code",
   "execution_count": 132,
   "metadata": {},
   "outputs": [
    {
     "output_type": "stream",
     "name": "stdout",
     "text": [
      "---------------------------------\nCompletion for Below 18 yrs\n2\n---------------------------------\nCompletion for 18 - 25 yrs\n9\n---------------------------------\nCompletion for 26 - 35 yrs\n9\n---------------------------------\nCompletion for 36 - 50 yrs\n3\n---------------------------------\nCompletion for 51 - 65 yrs\n0\n---------------------------------\nCompletion for Above 65 yrs\n0\n"
     ]
    }
   ],
   "source": [
    "complete_category(mb_int,age_list,'age',mb_completionCodes,dict_complete_mb)"
   ]
  },
  {
   "cell_type": "code",
   "execution_count": 133,
   "metadata": {},
   "outputs": [
    {
     "output_type": "stream",
     "name": "stdout",
     "text": [
      "---------------------------------\nCompletion for Below 18 yrs\n0\n---------------------------------\nCompletion for 18 - 25 yrs\n1\n---------------------------------\nCompletion for 26 - 35 yrs\n3\n---------------------------------\nCompletion for 36 - 50 yrs\n0\n---------------------------------\nCompletion for 51 - 65 yrs\n0\n---------------------------------\nCompletion for Above 65 yrs\n0\n"
     ]
    }
   ],
   "source": [
    "complete_category(seq_int,age_list,'age',seq_completionCodes,dict_complete_seq)"
   ]
  },
  {
   "cell_type": "code",
   "execution_count": 134,
   "metadata": {},
   "outputs": [
    {
     "output_type": "stream",
     "name": "stdout",
     "text": [
      "---------------------------------\nCompletion for Below 18 yrs\n0\n---------------------------------\nCompletion for 18 - 25 yrs\n4\n---------------------------------\nCompletion for 26 - 35 yrs\n2\n---------------------------------\nCompletion for 36 - 50 yrs\n1\n---------------------------------\nCompletion for 51 - 65 yrs\n0\n---------------------------------\nCompletion for Above 65 yrs\n0\n"
     ]
    }
   ],
   "source": [
    "complete_category(nonseq_int,age_list,'age',nonseq_completionCodes,dict_complete_nonseq)"
   ]
  },
  {
   "source": [
    ">### Training Completion rate:"
   ],
   "cell_type": "markdown",
   "metadata": {}
  },
  {
   "cell_type": "code",
   "execution_count": 135,
   "metadata": {},
   "outputs": [],
   "source": [
    "AFE_comp_codes = pd.read_excel('AFE_codes.xlsx',sheet_name= 'mb_codes')"
   ]
  },
  {
   "cell_type": "code",
   "execution_count": 136,
   "metadata": {},
   "outputs": [
    {
     "output_type": "execute_result",
     "data": {
      "text/plain": [
       "array(['(15/15)', '(17/17)', '(8/8)', '(13/13)', '(11/11)', '(12/12)'],\n",
       "      dtype=object)"
      ]
     },
     "metadata": {},
     "execution_count": 136
    }
   ],
   "source": [
    "AFE_comp_codes.end.unique()"
   ]
  },
  {
   "cell_type": "code",
   "execution_count": 137,
   "metadata": {},
   "outputs": [],
   "source": [
    "comp_codes_mb = list(AFE_comp_codes.end.unique())\n",
    "def message_check(x):\n",
    "    for each in comp_codes_mb:\n",
    "        if each in x:\n",
    "            return True"
   ]
  },
  {
   "cell_type": "code",
   "execution_count": 138,
   "metadata": {},
   "outputs": [],
   "source": [
    "mb_int['mb_completed'] = mb_int['message_out'].apply(message_check)"
   ]
  },
  {
   "cell_type": "code",
   "execution_count": 139,
   "metadata": {},
   "outputs": [],
   "source": [
    "def comp_oneTraining(b,list_category,category):\n",
    "    for each in list_category:\n",
    "        print('Training Completion for {}'.format(each))\n",
    "        df = b[b[category] == each]\n",
    "        print(df[df.mb_completed == True].phone_number.nunique())\n",
    "        print('--------------------------------------------------')"
   ]
  },
  {
   "cell_type": "code",
   "execution_count": 140,
   "metadata": {},
   "outputs": [
    {
     "output_type": "stream",
     "name": "stdout",
     "text": [
      "Training Completion for Below 18 yrs\n10\n--------------------------------------------------\nTraining Completion for 18 - 25 yrs\n61\n--------------------------------------------------\nTraining Completion for 26 - 35 yrs\n65\n--------------------------------------------------\nTraining Completion for 36 - 50 yrs\n11\n--------------------------------------------------\nTraining Completion for 51 - 65 yrs\n2\n--------------------------------------------------\nTraining Completion for Above 65 yrs\n2\n--------------------------------------------------\n"
     ]
    }
   ],
   "source": [
    "comp_oneTraining(mb_int,age_list,'age')"
   ]
  },
  {
   "cell_type": "code",
   "execution_count": 141,
   "metadata": {},
   "outputs": [
    {
     "output_type": "stream",
     "name": "stdout",
     "text": [
      "Training Completion for Female\n",
      "40\n",
      "--------------------------------------------------\n",
      "Training Completion for Male\n",
      "104\n",
      "--------------------------------------------------\n"
     ]
    }
   ],
   "source": [
    "comp_oneTraining(mb_int,gender_list,'gender')"
   ]
  },
  {
   "cell_type": "code",
   "execution_count": 142,
   "metadata": {},
   "outputs": [
    {
     "output_type": "stream",
     "name": "stdout",
     "text": [
      "Training Completion for 22744\n657\n--------------------------------------------------\nTraining Completion for telegram\n4\n--------------------------------------------------\nTraining Completion for whatsapp\n16\n--------------------------------------------------\nTraining Completion for fb\n8\n--------------------------------------------------\n"
     ]
    }
   ],
   "source": [
    "comp_oneTraining(mb_int,platform_list,'sender')"
   ]
  },
  {
   "cell_type": "code",
   "execution_count": 143,
   "metadata": {},
   "outputs": [],
   "source": [
    "# Long Narrative grouped"
   ]
  },
  {
   "cell_type": "code",
   "execution_count": 144,
   "metadata": {},
   "outputs": [],
   "source": [
    "def categorize_df(b,list_category,category):\n",
    "    category_dataframes = []\n",
    "    for each in list_category:\n",
    "        df = seq_int[seq_int[category] == each]\n",
    "    for x in category_dataframes:\n",
    "        starting = []\n",
    "        completing = []\n",
    "        get_complete(x,dict_start_seq,dict_complete_seq,c_seq)"
   ]
  },
  {
   "cell_type": "code",
   "execution_count": 145,
   "metadata": {},
   "outputs": [
    {
     "output_type": "stream",
     "name": "stdout",
     "text": [
      "Training Completion for Female\n"
     ]
    },
    {
     "output_type": "display_data",
     "data": {
      "text/plain": "           code  starting  completing\n0       GFUTURE        15          12\n1      GDSPELLS         8           6\n2      GSAVENOW         0           0\n3        GLGROW         3           3\n4       GLLOANS         2           2\n5      GLGAMBLE         1           1\n6      GMMOBILE         1           1\n7        GSAVES         1           0\n8      GLBORROW         0           0\n9    GAVOIDCONS         0           0\n10        GTEST         0           0\n11     GFUTUREK         2           1\n12    GDSPELLSK         1           1\n13    GSAVENOWK         0           0\n14      GLGROWK         0           0\n15     GLLOANSK         0           0\n16    GLGAMBLEK         0           0\n17    GMMOBILEK         0           0\n18      GSAVESK         0           0\n19    GLBORROWK         0           0\n20  GAVOIDCONSK         0           0\n21       GTESTK         0           0",
      "text/html": "<div>\n<style scoped>\n    .dataframe tbody tr th:only-of-type {\n        vertical-align: middle;\n    }\n\n    .dataframe tbody tr th {\n        vertical-align: top;\n    }\n\n    .dataframe thead th {\n        text-align: right;\n    }\n</style>\n<table border=\"1\" class=\"dataframe\">\n  <thead>\n    <tr style=\"text-align: right;\">\n      <th></th>\n      <th>code</th>\n      <th>starting</th>\n      <th>completing</th>\n    </tr>\n  </thead>\n  <tbody>\n    <tr>\n      <th>0</th>\n      <td>GFUTURE</td>\n      <td>15</td>\n      <td>12</td>\n    </tr>\n    <tr>\n      <th>1</th>\n      <td>GDSPELLS</td>\n      <td>8</td>\n      <td>6</td>\n    </tr>\n    <tr>\n      <th>2</th>\n      <td>GSAVENOW</td>\n      <td>0</td>\n      <td>0</td>\n    </tr>\n    <tr>\n      <th>3</th>\n      <td>GLGROW</td>\n      <td>3</td>\n      <td>3</td>\n    </tr>\n    <tr>\n      <th>4</th>\n      <td>GLLOANS</td>\n      <td>2</td>\n      <td>2</td>\n    </tr>\n    <tr>\n      <th>5</th>\n      <td>GLGAMBLE</td>\n      <td>1</td>\n      <td>1</td>\n    </tr>\n    <tr>\n      <th>6</th>\n      <td>GMMOBILE</td>\n      <td>1</td>\n      <td>1</td>\n    </tr>\n    <tr>\n      <th>7</th>\n      <td>GSAVES</td>\n      <td>1</td>\n      <td>0</td>\n    </tr>\n    <tr>\n      <th>8</th>\n      <td>GLBORROW</td>\n      <td>0</td>\n      <td>0</td>\n    </tr>\n    <tr>\n      <th>9</th>\n      <td>GAVOIDCONS</td>\n      <td>0</td>\n      <td>0</td>\n    </tr>\n    <tr>\n      <th>10</th>\n      <td>GTEST</td>\n      <td>0</td>\n      <td>0</td>\n    </tr>\n    <tr>\n      <th>11</th>\n      <td>GFUTUREK</td>\n      <td>2</td>\n      <td>1</td>\n    </tr>\n    <tr>\n      <th>12</th>\n      <td>GDSPELLSK</td>\n      <td>1</td>\n      <td>1</td>\n    </tr>\n    <tr>\n      <th>13</th>\n      <td>GSAVENOWK</td>\n      <td>0</td>\n      <td>0</td>\n    </tr>\n    <tr>\n      <th>14</th>\n      <td>GLGROWK</td>\n      <td>0</td>\n      <td>0</td>\n    </tr>\n    <tr>\n      <th>15</th>\n      <td>GLLOANSK</td>\n      <td>0</td>\n      <td>0</td>\n    </tr>\n    <tr>\n      <th>16</th>\n      <td>GLGAMBLEK</td>\n      <td>0</td>\n      <td>0</td>\n    </tr>\n    <tr>\n      <th>17</th>\n      <td>GMMOBILEK</td>\n      <td>0</td>\n      <td>0</td>\n    </tr>\n    <tr>\n      <th>18</th>\n      <td>GSAVESK</td>\n      <td>0</td>\n      <td>0</td>\n    </tr>\n    <tr>\n      <th>19</th>\n      <td>GLBORROWK</td>\n      <td>0</td>\n      <td>0</td>\n    </tr>\n    <tr>\n      <th>20</th>\n      <td>GAVOIDCONSK</td>\n      <td>0</td>\n      <td>0</td>\n    </tr>\n    <tr>\n      <th>21</th>\n      <td>GTESTK</td>\n      <td>0</td>\n      <td>0</td>\n    </tr>\n  </tbody>\n</table>\n</div>"
     },
     "metadata": {}
    },
    {
     "output_type": "stream",
     "name": "stdout",
     "text": [
      "Training Completion for Male\n"
     ]
    },
    {
     "output_type": "display_data",
     "data": {
      "text/plain": "           code  starting  completing\n0       GFUTURE        36          22\n1      GDSPELLS        18          16\n2      GSAVENOW         0           0\n3        GLGROW        14          13\n4       GLLOANS        10           8\n5      GLGAMBLE         7           6\n6      GMMOBILE         6           6\n7        GSAVES         6           5\n8      GLBORROW         5           4\n9    GAVOIDCONS         3           3\n10        GTEST         3           3\n11     GFUTUREK         1           1\n12    GDSPELLSK         1           1\n13    GSAVENOWK         0           0\n14      GLGROWK         1           1\n15     GLLOANSK         1           1\n16    GLGAMBLEK         1           1\n17    GMMOBILEK         1           1\n18      GSAVESK         1           1\n19    GLBORROWK         1           1\n20  GAVOIDCONSK         1           1\n21       GTESTK         1           1",
      "text/html": "<div>\n<style scoped>\n    .dataframe tbody tr th:only-of-type {\n        vertical-align: middle;\n    }\n\n    .dataframe tbody tr th {\n        vertical-align: top;\n    }\n\n    .dataframe thead th {\n        text-align: right;\n    }\n</style>\n<table border=\"1\" class=\"dataframe\">\n  <thead>\n    <tr style=\"text-align: right;\">\n      <th></th>\n      <th>code</th>\n      <th>starting</th>\n      <th>completing</th>\n    </tr>\n  </thead>\n  <tbody>\n    <tr>\n      <th>0</th>\n      <td>GFUTURE</td>\n      <td>36</td>\n      <td>22</td>\n    </tr>\n    <tr>\n      <th>1</th>\n      <td>GDSPELLS</td>\n      <td>18</td>\n      <td>16</td>\n    </tr>\n    <tr>\n      <th>2</th>\n      <td>GSAVENOW</td>\n      <td>0</td>\n      <td>0</td>\n    </tr>\n    <tr>\n      <th>3</th>\n      <td>GLGROW</td>\n      <td>14</td>\n      <td>13</td>\n    </tr>\n    <tr>\n      <th>4</th>\n      <td>GLLOANS</td>\n      <td>10</td>\n      <td>8</td>\n    </tr>\n    <tr>\n      <th>5</th>\n      <td>GLGAMBLE</td>\n      <td>7</td>\n      <td>6</td>\n    </tr>\n    <tr>\n      <th>6</th>\n      <td>GMMOBILE</td>\n      <td>6</td>\n      <td>6</td>\n    </tr>\n    <tr>\n      <th>7</th>\n      <td>GSAVES</td>\n      <td>6</td>\n      <td>5</td>\n    </tr>\n    <tr>\n      <th>8</th>\n      <td>GLBORROW</td>\n      <td>5</td>\n      <td>4</td>\n    </tr>\n    <tr>\n      <th>9</th>\n      <td>GAVOIDCONS</td>\n      <td>3</td>\n      <td>3</td>\n    </tr>\n    <tr>\n      <th>10</th>\n      <td>GTEST</td>\n      <td>3</td>\n      <td>3</td>\n    </tr>\n    <tr>\n      <th>11</th>\n      <td>GFUTUREK</td>\n      <td>1</td>\n      <td>1</td>\n    </tr>\n    <tr>\n      <th>12</th>\n      <td>GDSPELLSK</td>\n      <td>1</td>\n      <td>1</td>\n    </tr>\n    <tr>\n      <th>13</th>\n      <td>GSAVENOWK</td>\n      <td>0</td>\n      <td>0</td>\n    </tr>\n    <tr>\n      <th>14</th>\n      <td>GLGROWK</td>\n      <td>1</td>\n      <td>1</td>\n    </tr>\n    <tr>\n      <th>15</th>\n      <td>GLLOANSK</td>\n      <td>1</td>\n      <td>1</td>\n    </tr>\n    <tr>\n      <th>16</th>\n      <td>GLGAMBLEK</td>\n      <td>1</td>\n      <td>1</td>\n    </tr>\n    <tr>\n      <th>17</th>\n      <td>GMMOBILEK</td>\n      <td>1</td>\n      <td>1</td>\n    </tr>\n    <tr>\n      <th>18</th>\n      <td>GSAVESK</td>\n      <td>1</td>\n      <td>1</td>\n    </tr>\n    <tr>\n      <th>19</th>\n      <td>GLBORROWK</td>\n      <td>1</td>\n      <td>1</td>\n    </tr>\n    <tr>\n      <th>20</th>\n      <td>GAVOIDCONSK</td>\n      <td>1</td>\n      <td>1</td>\n    </tr>\n    <tr>\n      <th>21</th>\n      <td>GTESTK</td>\n      <td>1</td>\n      <td>1</td>\n    </tr>\n  </tbody>\n</table>\n</div>"
     },
     "metadata": {}
    }
   ],
   "source": [
    "for each in gender_list:\n",
    "    starting = []\n",
    "    completing = []\n",
    "    df = seq_int[seq_int['gender'] == each]\n",
    "    print('Training Completion for {}'.format(each))\n",
    "    get_complete_figs(df,dict_start_seq,dict_complete_seq,c_seq)"
   ]
  },
  {
   "cell_type": "code",
   "execution_count": 146,
   "metadata": {},
   "outputs": [
    {
     "output_type": "stream",
     "name": "stdout",
     "text": [
      "Training Completion for Below 18 yrs\n"
     ]
    },
    {
     "output_type": "display_data",
     "data": {
      "text/plain": "           code  starting  completing\n0       GFUTURE         3           2\n1      GDSPELLS         2           2\n2      GSAVENOW         0           0\n3        GLGROW         1           1\n4       GLLOANS         1           0\n5      GLGAMBLE         0           0\n6      GMMOBILE         0           0\n7        GSAVES         0           0\n8      GLBORROW         0           0\n9    GAVOIDCONS         0           0\n10        GTEST         0           0\n11     GFUTUREK         0           0\n12    GDSPELLSK         0           0\n13    GSAVENOWK         0           0\n14      GLGROWK         0           0\n15     GLLOANSK         0           0\n16    GLGAMBLEK         0           0\n17    GMMOBILEK         0           0\n18      GSAVESK         0           0\n19    GLBORROWK         0           0\n20  GAVOIDCONSK         0           0\n21       GTESTK         0           0",
      "text/html": "<div>\n<style scoped>\n    .dataframe tbody tr th:only-of-type {\n        vertical-align: middle;\n    }\n\n    .dataframe tbody tr th {\n        vertical-align: top;\n    }\n\n    .dataframe thead th {\n        text-align: right;\n    }\n</style>\n<table border=\"1\" class=\"dataframe\">\n  <thead>\n    <tr style=\"text-align: right;\">\n      <th></th>\n      <th>code</th>\n      <th>starting</th>\n      <th>completing</th>\n    </tr>\n  </thead>\n  <tbody>\n    <tr>\n      <th>0</th>\n      <td>GFUTURE</td>\n      <td>3</td>\n      <td>2</td>\n    </tr>\n    <tr>\n      <th>1</th>\n      <td>GDSPELLS</td>\n      <td>2</td>\n      <td>2</td>\n    </tr>\n    <tr>\n      <th>2</th>\n      <td>GSAVENOW</td>\n      <td>0</td>\n      <td>0</td>\n    </tr>\n    <tr>\n      <th>3</th>\n      <td>GLGROW</td>\n      <td>1</td>\n      <td>1</td>\n    </tr>\n    <tr>\n      <th>4</th>\n      <td>GLLOANS</td>\n      <td>1</td>\n      <td>0</td>\n    </tr>\n    <tr>\n      <th>5</th>\n      <td>GLGAMBLE</td>\n      <td>0</td>\n      <td>0</td>\n    </tr>\n    <tr>\n      <th>6</th>\n      <td>GMMOBILE</td>\n      <td>0</td>\n      <td>0</td>\n    </tr>\n    <tr>\n      <th>7</th>\n      <td>GSAVES</td>\n      <td>0</td>\n      <td>0</td>\n    </tr>\n    <tr>\n      <th>8</th>\n      <td>GLBORROW</td>\n      <td>0</td>\n      <td>0</td>\n    </tr>\n    <tr>\n      <th>9</th>\n      <td>GAVOIDCONS</td>\n      <td>0</td>\n      <td>0</td>\n    </tr>\n    <tr>\n      <th>10</th>\n      <td>GTEST</td>\n      <td>0</td>\n      <td>0</td>\n    </tr>\n    <tr>\n      <th>11</th>\n      <td>GFUTUREK</td>\n      <td>0</td>\n      <td>0</td>\n    </tr>\n    <tr>\n      <th>12</th>\n      <td>GDSPELLSK</td>\n      <td>0</td>\n      <td>0</td>\n    </tr>\n    <tr>\n      <th>13</th>\n      <td>GSAVENOWK</td>\n      <td>0</td>\n      <td>0</td>\n    </tr>\n    <tr>\n      <th>14</th>\n      <td>GLGROWK</td>\n      <td>0</td>\n      <td>0</td>\n    </tr>\n    <tr>\n      <th>15</th>\n      <td>GLLOANSK</td>\n      <td>0</td>\n      <td>0</td>\n    </tr>\n    <tr>\n      <th>16</th>\n      <td>GLGAMBLEK</td>\n      <td>0</td>\n      <td>0</td>\n    </tr>\n    <tr>\n      <th>17</th>\n      <td>GMMOBILEK</td>\n      <td>0</td>\n      <td>0</td>\n    </tr>\n    <tr>\n      <th>18</th>\n      <td>GSAVESK</td>\n      <td>0</td>\n      <td>0</td>\n    </tr>\n    <tr>\n      <th>19</th>\n      <td>GLBORROWK</td>\n      <td>0</td>\n      <td>0</td>\n    </tr>\n    <tr>\n      <th>20</th>\n      <td>GAVOIDCONSK</td>\n      <td>0</td>\n      <td>0</td>\n    </tr>\n    <tr>\n      <th>21</th>\n      <td>GTESTK</td>\n      <td>0</td>\n      <td>0</td>\n    </tr>\n  </tbody>\n</table>\n</div>"
     },
     "metadata": {}
    },
    {
     "output_type": "stream",
     "name": "stdout",
     "text": [
      "Training Completion for 18 - 25 yrs\n"
     ]
    },
    {
     "output_type": "display_data",
     "data": {
      "text/plain": "           code  starting  completing\n0       GFUTURE        23          13\n1      GDSPELLS        11           6\n2      GSAVENOW         0           0\n3        GLGROW         6           5\n4       GLLOANS         5           2\n5      GLGAMBLE         2           2\n6      GMMOBILE         2           2\n7        GSAVES         2           2\n8      GLBORROW         2           2\n9    GAVOIDCONS         1           1\n10        GTEST         1           1\n11     GFUTUREK         1           0\n12    GDSPELLSK         0           0\n13    GSAVENOWK         0           0\n14      GLGROWK         0           0\n15     GLLOANSK         0           0\n16    GLGAMBLEK         0           0\n17    GMMOBILEK         0           0\n18      GSAVESK         0           0\n19    GLBORROWK         0           0\n20  GAVOIDCONSK         0           0\n21       GTESTK         0           0",
      "text/html": "<div>\n<style scoped>\n    .dataframe tbody tr th:only-of-type {\n        vertical-align: middle;\n    }\n\n    .dataframe tbody tr th {\n        vertical-align: top;\n    }\n\n    .dataframe thead th {\n        text-align: right;\n    }\n</style>\n<table border=\"1\" class=\"dataframe\">\n  <thead>\n    <tr style=\"text-align: right;\">\n      <th></th>\n      <th>code</th>\n      <th>starting</th>\n      <th>completing</th>\n    </tr>\n  </thead>\n  <tbody>\n    <tr>\n      <th>0</th>\n      <td>GFUTURE</td>\n      <td>23</td>\n      <td>13</td>\n    </tr>\n    <tr>\n      <th>1</th>\n      <td>GDSPELLS</td>\n      <td>11</td>\n      <td>6</td>\n    </tr>\n    <tr>\n      <th>2</th>\n      <td>GSAVENOW</td>\n      <td>0</td>\n      <td>0</td>\n    </tr>\n    <tr>\n      <th>3</th>\n      <td>GLGROW</td>\n      <td>6</td>\n      <td>5</td>\n    </tr>\n    <tr>\n      <th>4</th>\n      <td>GLLOANS</td>\n      <td>5</td>\n      <td>2</td>\n    </tr>\n    <tr>\n      <th>5</th>\n      <td>GLGAMBLE</td>\n      <td>2</td>\n      <td>2</td>\n    </tr>\n    <tr>\n      <th>6</th>\n      <td>GMMOBILE</td>\n      <td>2</td>\n      <td>2</td>\n    </tr>\n    <tr>\n      <th>7</th>\n      <td>GSAVES</td>\n      <td>2</td>\n      <td>2</td>\n    </tr>\n    <tr>\n      <th>8</th>\n      <td>GLBORROW</td>\n      <td>2</td>\n      <td>2</td>\n    </tr>\n    <tr>\n      <th>9</th>\n      <td>GAVOIDCONS</td>\n      <td>1</td>\n      <td>1</td>\n    </tr>\n    <tr>\n      <th>10</th>\n      <td>GTEST</td>\n      <td>1</td>\n      <td>1</td>\n    </tr>\n    <tr>\n      <th>11</th>\n      <td>GFUTUREK</td>\n      <td>1</td>\n      <td>0</td>\n    </tr>\n    <tr>\n      <th>12</th>\n      <td>GDSPELLSK</td>\n      <td>0</td>\n      <td>0</td>\n    </tr>\n    <tr>\n      <th>13</th>\n      <td>GSAVENOWK</td>\n      <td>0</td>\n      <td>0</td>\n    </tr>\n    <tr>\n      <th>14</th>\n      <td>GLGROWK</td>\n      <td>0</td>\n      <td>0</td>\n    </tr>\n    <tr>\n      <th>15</th>\n      <td>GLLOANSK</td>\n      <td>0</td>\n      <td>0</td>\n    </tr>\n    <tr>\n      <th>16</th>\n      <td>GLGAMBLEK</td>\n      <td>0</td>\n      <td>0</td>\n    </tr>\n    <tr>\n      <th>17</th>\n      <td>GMMOBILEK</td>\n      <td>0</td>\n      <td>0</td>\n    </tr>\n    <tr>\n      <th>18</th>\n      <td>GSAVESK</td>\n      <td>0</td>\n      <td>0</td>\n    </tr>\n    <tr>\n      <th>19</th>\n      <td>GLBORROWK</td>\n      <td>0</td>\n      <td>0</td>\n    </tr>\n    <tr>\n      <th>20</th>\n      <td>GAVOIDCONSK</td>\n      <td>0</td>\n      <td>0</td>\n    </tr>\n    <tr>\n      <th>21</th>\n      <td>GTESTK</td>\n      <td>0</td>\n      <td>0</td>\n    </tr>\n  </tbody>\n</table>\n</div>"
     },
     "metadata": {}
    },
    {
     "output_type": "stream",
     "name": "stdout",
     "text": [
      "Training Completion for 26 - 35 yrs\n"
     ]
    },
    {
     "output_type": "display_data",
     "data": {
      "text/plain": "           code  starting  completing\n0       GFUTURE        17          14\n1      GDSPELLS        11          11\n2      GSAVENOW         0           0\n3        GLGROW         8           8\n4       GLLOANS         6           6\n5      GLGAMBLE         5           5\n6      GMMOBILE         5           5\n7        GSAVES         5           3\n8      GLBORROW         3           2\n9    GAVOIDCONS         2           2\n10        GTEST         2           2\n11     GFUTUREK         1           1\n12    GDSPELLSK         1           1\n13    GSAVENOWK         0           0\n14      GLGROWK         1           1\n15     GLLOANSK         1           1\n16    GLGAMBLEK         1           1\n17    GMMOBILEK         1           1\n18      GSAVESK         1           1\n19    GLBORROWK         1           1\n20  GAVOIDCONSK         1           1\n21       GTESTK         1           1",
      "text/html": "<div>\n<style scoped>\n    .dataframe tbody tr th:only-of-type {\n        vertical-align: middle;\n    }\n\n    .dataframe tbody tr th {\n        vertical-align: top;\n    }\n\n    .dataframe thead th {\n        text-align: right;\n    }\n</style>\n<table border=\"1\" class=\"dataframe\">\n  <thead>\n    <tr style=\"text-align: right;\">\n      <th></th>\n      <th>code</th>\n      <th>starting</th>\n      <th>completing</th>\n    </tr>\n  </thead>\n  <tbody>\n    <tr>\n      <th>0</th>\n      <td>GFUTURE</td>\n      <td>17</td>\n      <td>14</td>\n    </tr>\n    <tr>\n      <th>1</th>\n      <td>GDSPELLS</td>\n      <td>11</td>\n      <td>11</td>\n    </tr>\n    <tr>\n      <th>2</th>\n      <td>GSAVENOW</td>\n      <td>0</td>\n      <td>0</td>\n    </tr>\n    <tr>\n      <th>3</th>\n      <td>GLGROW</td>\n      <td>8</td>\n      <td>8</td>\n    </tr>\n    <tr>\n      <th>4</th>\n      <td>GLLOANS</td>\n      <td>6</td>\n      <td>6</td>\n    </tr>\n    <tr>\n      <th>5</th>\n      <td>GLGAMBLE</td>\n      <td>5</td>\n      <td>5</td>\n    </tr>\n    <tr>\n      <th>6</th>\n      <td>GMMOBILE</td>\n      <td>5</td>\n      <td>5</td>\n    </tr>\n    <tr>\n      <th>7</th>\n      <td>GSAVES</td>\n      <td>5</td>\n      <td>3</td>\n    </tr>\n    <tr>\n      <th>8</th>\n      <td>GLBORROW</td>\n      <td>3</td>\n      <td>2</td>\n    </tr>\n    <tr>\n      <th>9</th>\n      <td>GAVOIDCONS</td>\n      <td>2</td>\n      <td>2</td>\n    </tr>\n    <tr>\n      <th>10</th>\n      <td>GTEST</td>\n      <td>2</td>\n      <td>2</td>\n    </tr>\n    <tr>\n      <th>11</th>\n      <td>GFUTUREK</td>\n      <td>1</td>\n      <td>1</td>\n    </tr>\n    <tr>\n      <th>12</th>\n      <td>GDSPELLSK</td>\n      <td>1</td>\n      <td>1</td>\n    </tr>\n    <tr>\n      <th>13</th>\n      <td>GSAVENOWK</td>\n      <td>0</td>\n      <td>0</td>\n    </tr>\n    <tr>\n      <th>14</th>\n      <td>GLGROWK</td>\n      <td>1</td>\n      <td>1</td>\n    </tr>\n    <tr>\n      <th>15</th>\n      <td>GLLOANSK</td>\n      <td>1</td>\n      <td>1</td>\n    </tr>\n    <tr>\n      <th>16</th>\n      <td>GLGAMBLEK</td>\n      <td>1</td>\n      <td>1</td>\n    </tr>\n    <tr>\n      <th>17</th>\n      <td>GMMOBILEK</td>\n      <td>1</td>\n      <td>1</td>\n    </tr>\n    <tr>\n      <th>18</th>\n      <td>GSAVESK</td>\n      <td>1</td>\n      <td>1</td>\n    </tr>\n    <tr>\n      <th>19</th>\n      <td>GLBORROWK</td>\n      <td>1</td>\n      <td>1</td>\n    </tr>\n    <tr>\n      <th>20</th>\n      <td>GAVOIDCONSK</td>\n      <td>1</td>\n      <td>1</td>\n    </tr>\n    <tr>\n      <th>21</th>\n      <td>GTESTK</td>\n      <td>1</td>\n      <td>1</td>\n    </tr>\n  </tbody>\n</table>\n</div>"
     },
     "metadata": {}
    },
    {
     "output_type": "stream",
     "name": "stdout",
     "text": [
      "Training Completion for 36 - 50 yrs\n"
     ]
    },
    {
     "output_type": "display_data",
     "data": {
      "text/plain": "           code  starting  completing\n0       GFUTURE         8           6\n1      GDSPELLS         5           5\n2      GSAVENOW         0           0\n3        GLGROW         4           4\n4       GLLOANS         2           2\n5      GLGAMBLE         1           0\n6      GMMOBILE         0           0\n7        GSAVES         0           0\n8      GLBORROW         0           0\n9    GAVOIDCONS         0           0\n10        GTEST         0           0\n11     GFUTUREK         1           1\n12    GDSPELLSK         1           1\n13    GSAVENOWK         0           0\n14      GLGROWK         0           0\n15     GLLOANSK         0           0\n16    GLGAMBLEK         0           0\n17    GMMOBILEK         0           0\n18      GSAVESK         0           0\n19    GLBORROWK         0           0\n20  GAVOIDCONSK         0           0\n21       GTESTK         0           0",
      "text/html": "<div>\n<style scoped>\n    .dataframe tbody tr th:only-of-type {\n        vertical-align: middle;\n    }\n\n    .dataframe tbody tr th {\n        vertical-align: top;\n    }\n\n    .dataframe thead th {\n        text-align: right;\n    }\n</style>\n<table border=\"1\" class=\"dataframe\">\n  <thead>\n    <tr style=\"text-align: right;\">\n      <th></th>\n      <th>code</th>\n      <th>starting</th>\n      <th>completing</th>\n    </tr>\n  </thead>\n  <tbody>\n    <tr>\n      <th>0</th>\n      <td>GFUTURE</td>\n      <td>8</td>\n      <td>6</td>\n    </tr>\n    <tr>\n      <th>1</th>\n      <td>GDSPELLS</td>\n      <td>5</td>\n      <td>5</td>\n    </tr>\n    <tr>\n      <th>2</th>\n      <td>GSAVENOW</td>\n      <td>0</td>\n      <td>0</td>\n    </tr>\n    <tr>\n      <th>3</th>\n      <td>GLGROW</td>\n      <td>4</td>\n      <td>4</td>\n    </tr>\n    <tr>\n      <th>4</th>\n      <td>GLLOANS</td>\n      <td>2</td>\n      <td>2</td>\n    </tr>\n    <tr>\n      <th>5</th>\n      <td>GLGAMBLE</td>\n      <td>1</td>\n      <td>0</td>\n    </tr>\n    <tr>\n      <th>6</th>\n      <td>GMMOBILE</td>\n      <td>0</td>\n      <td>0</td>\n    </tr>\n    <tr>\n      <th>7</th>\n      <td>GSAVES</td>\n      <td>0</td>\n      <td>0</td>\n    </tr>\n    <tr>\n      <th>8</th>\n      <td>GLBORROW</td>\n      <td>0</td>\n      <td>0</td>\n    </tr>\n    <tr>\n      <th>9</th>\n      <td>GAVOIDCONS</td>\n      <td>0</td>\n      <td>0</td>\n    </tr>\n    <tr>\n      <th>10</th>\n      <td>GTEST</td>\n      <td>0</td>\n      <td>0</td>\n    </tr>\n    <tr>\n      <th>11</th>\n      <td>GFUTUREK</td>\n      <td>1</td>\n      <td>1</td>\n    </tr>\n    <tr>\n      <th>12</th>\n      <td>GDSPELLSK</td>\n      <td>1</td>\n      <td>1</td>\n    </tr>\n    <tr>\n      <th>13</th>\n      <td>GSAVENOWK</td>\n      <td>0</td>\n      <td>0</td>\n    </tr>\n    <tr>\n      <th>14</th>\n      <td>GLGROWK</td>\n      <td>0</td>\n      <td>0</td>\n    </tr>\n    <tr>\n      <th>15</th>\n      <td>GLLOANSK</td>\n      <td>0</td>\n      <td>0</td>\n    </tr>\n    <tr>\n      <th>16</th>\n      <td>GLGAMBLEK</td>\n      <td>0</td>\n      <td>0</td>\n    </tr>\n    <tr>\n      <th>17</th>\n      <td>GMMOBILEK</td>\n      <td>0</td>\n      <td>0</td>\n    </tr>\n    <tr>\n      <th>18</th>\n      <td>GSAVESK</td>\n      <td>0</td>\n      <td>0</td>\n    </tr>\n    <tr>\n      <th>19</th>\n      <td>GLBORROWK</td>\n      <td>0</td>\n      <td>0</td>\n    </tr>\n    <tr>\n      <th>20</th>\n      <td>GAVOIDCONSK</td>\n      <td>0</td>\n      <td>0</td>\n    </tr>\n    <tr>\n      <th>21</th>\n      <td>GTESTK</td>\n      <td>0</td>\n      <td>0</td>\n    </tr>\n  </tbody>\n</table>\n</div>"
     },
     "metadata": {}
    },
    {
     "output_type": "stream",
     "name": "stdout",
     "text": [
      "Training Completion for 51 - 65 yrs\n"
     ]
    },
    {
     "output_type": "display_data",
     "data": {
      "text/plain": "           code  starting  completing\n0       GFUTURE         2           2\n1      GDSPELLS         0           0\n2      GSAVENOW         0           0\n3        GLGROW         0           0\n4       GLLOANS         0           0\n5      GLGAMBLE         0           0\n6      GMMOBILE         0           0\n7        GSAVES         0           0\n8      GLBORROW         0           0\n9    GAVOIDCONS         0           0\n10        GTEST         0           0\n11     GFUTUREK         0           0\n12    GDSPELLSK         0           0\n13    GSAVENOWK         0           0\n14      GLGROWK         0           0\n15     GLLOANSK         0           0\n16    GLGAMBLEK         0           0\n17    GMMOBILEK         0           0\n18      GSAVESK         0           0\n19    GLBORROWK         0           0\n20  GAVOIDCONSK         0           0\n21       GTESTK         0           0",
      "text/html": "<div>\n<style scoped>\n    .dataframe tbody tr th:only-of-type {\n        vertical-align: middle;\n    }\n\n    .dataframe tbody tr th {\n        vertical-align: top;\n    }\n\n    .dataframe thead th {\n        text-align: right;\n    }\n</style>\n<table border=\"1\" class=\"dataframe\">\n  <thead>\n    <tr style=\"text-align: right;\">\n      <th></th>\n      <th>code</th>\n      <th>starting</th>\n      <th>completing</th>\n    </tr>\n  </thead>\n  <tbody>\n    <tr>\n      <th>0</th>\n      <td>GFUTURE</td>\n      <td>2</td>\n      <td>2</td>\n    </tr>\n    <tr>\n      <th>1</th>\n      <td>GDSPELLS</td>\n      <td>0</td>\n      <td>0</td>\n    </tr>\n    <tr>\n      <th>2</th>\n      <td>GSAVENOW</td>\n      <td>0</td>\n      <td>0</td>\n    </tr>\n    <tr>\n      <th>3</th>\n      <td>GLGROW</td>\n      <td>0</td>\n      <td>0</td>\n    </tr>\n    <tr>\n      <th>4</th>\n      <td>GLLOANS</td>\n      <td>0</td>\n      <td>0</td>\n    </tr>\n    <tr>\n      <th>5</th>\n      <td>GLGAMBLE</td>\n      <td>0</td>\n      <td>0</td>\n    </tr>\n    <tr>\n      <th>6</th>\n      <td>GMMOBILE</td>\n      <td>0</td>\n      <td>0</td>\n    </tr>\n    <tr>\n      <th>7</th>\n      <td>GSAVES</td>\n      <td>0</td>\n      <td>0</td>\n    </tr>\n    <tr>\n      <th>8</th>\n      <td>GLBORROW</td>\n      <td>0</td>\n      <td>0</td>\n    </tr>\n    <tr>\n      <th>9</th>\n      <td>GAVOIDCONS</td>\n      <td>0</td>\n      <td>0</td>\n    </tr>\n    <tr>\n      <th>10</th>\n      <td>GTEST</td>\n      <td>0</td>\n      <td>0</td>\n    </tr>\n    <tr>\n      <th>11</th>\n      <td>GFUTUREK</td>\n      <td>0</td>\n      <td>0</td>\n    </tr>\n    <tr>\n      <th>12</th>\n      <td>GDSPELLSK</td>\n      <td>0</td>\n      <td>0</td>\n    </tr>\n    <tr>\n      <th>13</th>\n      <td>GSAVENOWK</td>\n      <td>0</td>\n      <td>0</td>\n    </tr>\n    <tr>\n      <th>14</th>\n      <td>GLGROWK</td>\n      <td>0</td>\n      <td>0</td>\n    </tr>\n    <tr>\n      <th>15</th>\n      <td>GLLOANSK</td>\n      <td>0</td>\n      <td>0</td>\n    </tr>\n    <tr>\n      <th>16</th>\n      <td>GLGAMBLEK</td>\n      <td>0</td>\n      <td>0</td>\n    </tr>\n    <tr>\n      <th>17</th>\n      <td>GMMOBILEK</td>\n      <td>0</td>\n      <td>0</td>\n    </tr>\n    <tr>\n      <th>18</th>\n      <td>GSAVESK</td>\n      <td>0</td>\n      <td>0</td>\n    </tr>\n    <tr>\n      <th>19</th>\n      <td>GLBORROWK</td>\n      <td>0</td>\n      <td>0</td>\n    </tr>\n    <tr>\n      <th>20</th>\n      <td>GAVOIDCONSK</td>\n      <td>0</td>\n      <td>0</td>\n    </tr>\n    <tr>\n      <th>21</th>\n      <td>GTESTK</td>\n      <td>0</td>\n      <td>0</td>\n    </tr>\n  </tbody>\n</table>\n</div>"
     },
     "metadata": {}
    },
    {
     "output_type": "stream",
     "name": "stdout",
     "text": [
      "Training Completion for Above 65 yrs\n"
     ]
    },
    {
     "output_type": "display_data",
     "data": {
      "text/plain": "           code  starting  completing\n0       GFUTURE         0           0\n1      GDSPELLS         0           0\n2      GSAVENOW         0           0\n3        GLGROW         0           0\n4       GLLOANS         0           0\n5      GLGAMBLE         0           0\n6      GMMOBILE         0           0\n7        GSAVES         0           0\n8      GLBORROW         0           0\n9    GAVOIDCONS         0           0\n10        GTEST         0           0\n11     GFUTUREK         0           0\n12    GDSPELLSK         0           0\n13    GSAVENOWK         0           0\n14      GLGROWK         0           0\n15     GLLOANSK         0           0\n16    GLGAMBLEK         0           0\n17    GMMOBILEK         0           0\n18      GSAVESK         0           0\n19    GLBORROWK         0           0\n20  GAVOIDCONSK         0           0\n21       GTESTK         0           0",
      "text/html": "<div>\n<style scoped>\n    .dataframe tbody tr th:only-of-type {\n        vertical-align: middle;\n    }\n\n    .dataframe tbody tr th {\n        vertical-align: top;\n    }\n\n    .dataframe thead th {\n        text-align: right;\n    }\n</style>\n<table border=\"1\" class=\"dataframe\">\n  <thead>\n    <tr style=\"text-align: right;\">\n      <th></th>\n      <th>code</th>\n      <th>starting</th>\n      <th>completing</th>\n    </tr>\n  </thead>\n  <tbody>\n    <tr>\n      <th>0</th>\n      <td>GFUTURE</td>\n      <td>0</td>\n      <td>0</td>\n    </tr>\n    <tr>\n      <th>1</th>\n      <td>GDSPELLS</td>\n      <td>0</td>\n      <td>0</td>\n    </tr>\n    <tr>\n      <th>2</th>\n      <td>GSAVENOW</td>\n      <td>0</td>\n      <td>0</td>\n    </tr>\n    <tr>\n      <th>3</th>\n      <td>GLGROW</td>\n      <td>0</td>\n      <td>0</td>\n    </tr>\n    <tr>\n      <th>4</th>\n      <td>GLLOANS</td>\n      <td>0</td>\n      <td>0</td>\n    </tr>\n    <tr>\n      <th>5</th>\n      <td>GLGAMBLE</td>\n      <td>0</td>\n      <td>0</td>\n    </tr>\n    <tr>\n      <th>6</th>\n      <td>GMMOBILE</td>\n      <td>0</td>\n      <td>0</td>\n    </tr>\n    <tr>\n      <th>7</th>\n      <td>GSAVES</td>\n      <td>0</td>\n      <td>0</td>\n    </tr>\n    <tr>\n      <th>8</th>\n      <td>GLBORROW</td>\n      <td>0</td>\n      <td>0</td>\n    </tr>\n    <tr>\n      <th>9</th>\n      <td>GAVOIDCONS</td>\n      <td>0</td>\n      <td>0</td>\n    </tr>\n    <tr>\n      <th>10</th>\n      <td>GTEST</td>\n      <td>0</td>\n      <td>0</td>\n    </tr>\n    <tr>\n      <th>11</th>\n      <td>GFUTUREK</td>\n      <td>0</td>\n      <td>0</td>\n    </tr>\n    <tr>\n      <th>12</th>\n      <td>GDSPELLSK</td>\n      <td>0</td>\n      <td>0</td>\n    </tr>\n    <tr>\n      <th>13</th>\n      <td>GSAVENOWK</td>\n      <td>0</td>\n      <td>0</td>\n    </tr>\n    <tr>\n      <th>14</th>\n      <td>GLGROWK</td>\n      <td>0</td>\n      <td>0</td>\n    </tr>\n    <tr>\n      <th>15</th>\n      <td>GLLOANSK</td>\n      <td>0</td>\n      <td>0</td>\n    </tr>\n    <tr>\n      <th>16</th>\n      <td>GLGAMBLEK</td>\n      <td>0</td>\n      <td>0</td>\n    </tr>\n    <tr>\n      <th>17</th>\n      <td>GMMOBILEK</td>\n      <td>0</td>\n      <td>0</td>\n    </tr>\n    <tr>\n      <th>18</th>\n      <td>GSAVESK</td>\n      <td>0</td>\n      <td>0</td>\n    </tr>\n    <tr>\n      <th>19</th>\n      <td>GLBORROWK</td>\n      <td>0</td>\n      <td>0</td>\n    </tr>\n    <tr>\n      <th>20</th>\n      <td>GAVOIDCONSK</td>\n      <td>0</td>\n      <td>0</td>\n    </tr>\n    <tr>\n      <th>21</th>\n      <td>GTESTK</td>\n      <td>0</td>\n      <td>0</td>\n    </tr>\n  </tbody>\n</table>\n</div>"
     },
     "metadata": {}
    }
   ],
   "source": [
    "for each in age_list:\n",
    "    starting = []\n",
    "    completing = []\n",
    "    df = seq_int[seq_int['age'] == each]\n",
    "    print('Training Completion for {}'.format(each))\n",
    "    get_complete_figs(df,dict_start_seq,dict_complete_seq,c_seq)"
   ]
  },
  {
   "cell_type": "code",
   "execution_count": 147,
   "metadata": {},
   "outputs": [
    {
     "output_type": "stream",
     "name": "stdout",
     "text": [
      "Training Completion for 22744\n"
     ]
    },
    {
     "output_type": "display_data",
     "data": {
      "text/plain": "           code  starting  completing\n0       GFUTURE       474         259\n1      GDSPELLS       201         121\n2      GSAVENOW         0           0\n3        GLGROW        80          58\n4       GLLOANS        51          40\n5      GLGAMBLE        35          30\n6      GMMOBILE        27          26\n7        GSAVES        25          24\n8      GLBORROW        22          20\n9    GAVOIDCONS        17          17\n10        GTEST        15          15\n11     GFUTUREK         4           3\n12    GDSPELLSK         3           2\n13    GSAVENOWK         0           0\n14      GLGROWK         1           1\n15     GLLOANSK         1           1\n16    GLGAMBLEK         1           1\n17    GMMOBILEK         1           1\n18      GSAVESK         1           1\n19    GLBORROWK         1           1\n20  GAVOIDCONSK         1           1\n21       GTESTK         1           1",
      "text/html": "<div>\n<style scoped>\n    .dataframe tbody tr th:only-of-type {\n        vertical-align: middle;\n    }\n\n    .dataframe tbody tr th {\n        vertical-align: top;\n    }\n\n    .dataframe thead th {\n        text-align: right;\n    }\n</style>\n<table border=\"1\" class=\"dataframe\">\n  <thead>\n    <tr style=\"text-align: right;\">\n      <th></th>\n      <th>code</th>\n      <th>starting</th>\n      <th>completing</th>\n    </tr>\n  </thead>\n  <tbody>\n    <tr>\n      <th>0</th>\n      <td>GFUTURE</td>\n      <td>474</td>\n      <td>259</td>\n    </tr>\n    <tr>\n      <th>1</th>\n      <td>GDSPELLS</td>\n      <td>201</td>\n      <td>121</td>\n    </tr>\n    <tr>\n      <th>2</th>\n      <td>GSAVENOW</td>\n      <td>0</td>\n      <td>0</td>\n    </tr>\n    <tr>\n      <th>3</th>\n      <td>GLGROW</td>\n      <td>80</td>\n      <td>58</td>\n    </tr>\n    <tr>\n      <th>4</th>\n      <td>GLLOANS</td>\n      <td>51</td>\n      <td>40</td>\n    </tr>\n    <tr>\n      <th>5</th>\n      <td>GLGAMBLE</td>\n      <td>35</td>\n      <td>30</td>\n    </tr>\n    <tr>\n      <th>6</th>\n      <td>GMMOBILE</td>\n      <td>27</td>\n      <td>26</td>\n    </tr>\n    <tr>\n      <th>7</th>\n      <td>GSAVES</td>\n      <td>25</td>\n      <td>24</td>\n    </tr>\n    <tr>\n      <th>8</th>\n      <td>GLBORROW</td>\n      <td>22</td>\n      <td>20</td>\n    </tr>\n    <tr>\n      <th>9</th>\n      <td>GAVOIDCONS</td>\n      <td>17</td>\n      <td>17</td>\n    </tr>\n    <tr>\n      <th>10</th>\n      <td>GTEST</td>\n      <td>15</td>\n      <td>15</td>\n    </tr>\n    <tr>\n      <th>11</th>\n      <td>GFUTUREK</td>\n      <td>4</td>\n      <td>3</td>\n    </tr>\n    <tr>\n      <th>12</th>\n      <td>GDSPELLSK</td>\n      <td>3</td>\n      <td>2</td>\n    </tr>\n    <tr>\n      <th>13</th>\n      <td>GSAVENOWK</td>\n      <td>0</td>\n      <td>0</td>\n    </tr>\n    <tr>\n      <th>14</th>\n      <td>GLGROWK</td>\n      <td>1</td>\n      <td>1</td>\n    </tr>\n    <tr>\n      <th>15</th>\n      <td>GLLOANSK</td>\n      <td>1</td>\n      <td>1</td>\n    </tr>\n    <tr>\n      <th>16</th>\n      <td>GLGAMBLEK</td>\n      <td>1</td>\n      <td>1</td>\n    </tr>\n    <tr>\n      <th>17</th>\n      <td>GMMOBILEK</td>\n      <td>1</td>\n      <td>1</td>\n    </tr>\n    <tr>\n      <th>18</th>\n      <td>GSAVESK</td>\n      <td>1</td>\n      <td>1</td>\n    </tr>\n    <tr>\n      <th>19</th>\n      <td>GLBORROWK</td>\n      <td>1</td>\n      <td>1</td>\n    </tr>\n    <tr>\n      <th>20</th>\n      <td>GAVOIDCONSK</td>\n      <td>1</td>\n      <td>1</td>\n    </tr>\n    <tr>\n      <th>21</th>\n      <td>GTESTK</td>\n      <td>1</td>\n      <td>1</td>\n    </tr>\n  </tbody>\n</table>\n</div>"
     },
     "metadata": {}
    },
    {
     "output_type": "stream",
     "name": "stdout",
     "text": [
      "Training Completion for telegram\n"
     ]
    },
    {
     "output_type": "display_data",
     "data": {
      "text/plain": "           code  starting  completing\n0       GFUTURE         1           0\n1      GDSPELLS         1           1\n2      GSAVENOW         0           0\n3        GLGROW         0           0\n4       GLLOANS         0           0\n5      GLGAMBLE         0           0\n6      GMMOBILE         0           0\n7        GSAVES         0           0\n8      GLBORROW         0           0\n9    GAVOIDCONS         0           0\n10        GTEST         0           0\n11     GFUTUREK         1           0\n12    GDSPELLSK         0           0\n13    GSAVENOWK         0           0\n14      GLGROWK         0           0\n15     GLLOANSK         0           0\n16    GLGAMBLEK         0           0\n17    GMMOBILEK         0           0\n18      GSAVESK         0           0\n19    GLBORROWK         0           0\n20  GAVOIDCONSK         0           0\n21       GTESTK         0           0",
      "text/html": "<div>\n<style scoped>\n    .dataframe tbody tr th:only-of-type {\n        vertical-align: middle;\n    }\n\n    .dataframe tbody tr th {\n        vertical-align: top;\n    }\n\n    .dataframe thead th {\n        text-align: right;\n    }\n</style>\n<table border=\"1\" class=\"dataframe\">\n  <thead>\n    <tr style=\"text-align: right;\">\n      <th></th>\n      <th>code</th>\n      <th>starting</th>\n      <th>completing</th>\n    </tr>\n  </thead>\n  <tbody>\n    <tr>\n      <th>0</th>\n      <td>GFUTURE</td>\n      <td>1</td>\n      <td>0</td>\n    </tr>\n    <tr>\n      <th>1</th>\n      <td>GDSPELLS</td>\n      <td>1</td>\n      <td>1</td>\n    </tr>\n    <tr>\n      <th>2</th>\n      <td>GSAVENOW</td>\n      <td>0</td>\n      <td>0</td>\n    </tr>\n    <tr>\n      <th>3</th>\n      <td>GLGROW</td>\n      <td>0</td>\n      <td>0</td>\n    </tr>\n    <tr>\n      <th>4</th>\n      <td>GLLOANS</td>\n      <td>0</td>\n      <td>0</td>\n    </tr>\n    <tr>\n      <th>5</th>\n      <td>GLGAMBLE</td>\n      <td>0</td>\n      <td>0</td>\n    </tr>\n    <tr>\n      <th>6</th>\n      <td>GMMOBILE</td>\n      <td>0</td>\n      <td>0</td>\n    </tr>\n    <tr>\n      <th>7</th>\n      <td>GSAVES</td>\n      <td>0</td>\n      <td>0</td>\n    </tr>\n    <tr>\n      <th>8</th>\n      <td>GLBORROW</td>\n      <td>0</td>\n      <td>0</td>\n    </tr>\n    <tr>\n      <th>9</th>\n      <td>GAVOIDCONS</td>\n      <td>0</td>\n      <td>0</td>\n    </tr>\n    <tr>\n      <th>10</th>\n      <td>GTEST</td>\n      <td>0</td>\n      <td>0</td>\n    </tr>\n    <tr>\n      <th>11</th>\n      <td>GFUTUREK</td>\n      <td>1</td>\n      <td>0</td>\n    </tr>\n    <tr>\n      <th>12</th>\n      <td>GDSPELLSK</td>\n      <td>0</td>\n      <td>0</td>\n    </tr>\n    <tr>\n      <th>13</th>\n      <td>GSAVENOWK</td>\n      <td>0</td>\n      <td>0</td>\n    </tr>\n    <tr>\n      <th>14</th>\n      <td>GLGROWK</td>\n      <td>0</td>\n      <td>0</td>\n    </tr>\n    <tr>\n      <th>15</th>\n      <td>GLLOANSK</td>\n      <td>0</td>\n      <td>0</td>\n    </tr>\n    <tr>\n      <th>16</th>\n      <td>GLGAMBLEK</td>\n      <td>0</td>\n      <td>0</td>\n    </tr>\n    <tr>\n      <th>17</th>\n      <td>GMMOBILEK</td>\n      <td>0</td>\n      <td>0</td>\n    </tr>\n    <tr>\n      <th>18</th>\n      <td>GSAVESK</td>\n      <td>0</td>\n      <td>0</td>\n    </tr>\n    <tr>\n      <th>19</th>\n      <td>GLBORROWK</td>\n      <td>0</td>\n      <td>0</td>\n    </tr>\n    <tr>\n      <th>20</th>\n      <td>GAVOIDCONSK</td>\n      <td>0</td>\n      <td>0</td>\n    </tr>\n    <tr>\n      <th>21</th>\n      <td>GTESTK</td>\n      <td>0</td>\n      <td>0</td>\n    </tr>\n  </tbody>\n</table>\n</div>"
     },
     "metadata": {}
    },
    {
     "output_type": "stream",
     "name": "stdout",
     "text": [
      "Training Completion for whatsapp\n"
     ]
    },
    {
     "output_type": "display_data",
     "data": {
      "text/plain": "           code  starting  completing\n0       GFUTURE        17          11\n1      GDSPELLS        10           8\n2      GSAVENOW         0           0\n3        GLGROW         7           7\n4       GLLOANS         6           6\n5      GLGAMBLE         4           3\n6      GMMOBILE         3           3\n7        GSAVES         3           2\n8      GLBORROW         2           2\n9    GAVOIDCONS         2           2\n10        GTEST         2           2\n11     GFUTUREK         2           0\n12    GDSPELLSK         0           0\n13    GSAVENOWK         0           0\n14      GLGROWK         0           0\n15     GLLOANSK         0           0\n16    GLGAMBLEK         0           0\n17    GMMOBILEK         0           0\n18      GSAVESK         0           0\n19    GLBORROWK         0           0\n20  GAVOIDCONSK         0           0\n21       GTESTK         0           0",
      "text/html": "<div>\n<style scoped>\n    .dataframe tbody tr th:only-of-type {\n        vertical-align: middle;\n    }\n\n    .dataframe tbody tr th {\n        vertical-align: top;\n    }\n\n    .dataframe thead th {\n        text-align: right;\n    }\n</style>\n<table border=\"1\" class=\"dataframe\">\n  <thead>\n    <tr style=\"text-align: right;\">\n      <th></th>\n      <th>code</th>\n      <th>starting</th>\n      <th>completing</th>\n    </tr>\n  </thead>\n  <tbody>\n    <tr>\n      <th>0</th>\n      <td>GFUTURE</td>\n      <td>17</td>\n      <td>11</td>\n    </tr>\n    <tr>\n      <th>1</th>\n      <td>GDSPELLS</td>\n      <td>10</td>\n      <td>8</td>\n    </tr>\n    <tr>\n      <th>2</th>\n      <td>GSAVENOW</td>\n      <td>0</td>\n      <td>0</td>\n    </tr>\n    <tr>\n      <th>3</th>\n      <td>GLGROW</td>\n      <td>7</td>\n      <td>7</td>\n    </tr>\n    <tr>\n      <th>4</th>\n      <td>GLLOANS</td>\n      <td>6</td>\n      <td>6</td>\n    </tr>\n    <tr>\n      <th>5</th>\n      <td>GLGAMBLE</td>\n      <td>4</td>\n      <td>3</td>\n    </tr>\n    <tr>\n      <th>6</th>\n      <td>GMMOBILE</td>\n      <td>3</td>\n      <td>3</td>\n    </tr>\n    <tr>\n      <th>7</th>\n      <td>GSAVES</td>\n      <td>3</td>\n      <td>2</td>\n    </tr>\n    <tr>\n      <th>8</th>\n      <td>GLBORROW</td>\n      <td>2</td>\n      <td>2</td>\n    </tr>\n    <tr>\n      <th>9</th>\n      <td>GAVOIDCONS</td>\n      <td>2</td>\n      <td>2</td>\n    </tr>\n    <tr>\n      <th>10</th>\n      <td>GTEST</td>\n      <td>2</td>\n      <td>2</td>\n    </tr>\n    <tr>\n      <th>11</th>\n      <td>GFUTUREK</td>\n      <td>2</td>\n      <td>0</td>\n    </tr>\n    <tr>\n      <th>12</th>\n      <td>GDSPELLSK</td>\n      <td>0</td>\n      <td>0</td>\n    </tr>\n    <tr>\n      <th>13</th>\n      <td>GSAVENOWK</td>\n      <td>0</td>\n      <td>0</td>\n    </tr>\n    <tr>\n      <th>14</th>\n      <td>GLGROWK</td>\n      <td>0</td>\n      <td>0</td>\n    </tr>\n    <tr>\n      <th>15</th>\n      <td>GLLOANSK</td>\n      <td>0</td>\n      <td>0</td>\n    </tr>\n    <tr>\n      <th>16</th>\n      <td>GLGAMBLEK</td>\n      <td>0</td>\n      <td>0</td>\n    </tr>\n    <tr>\n      <th>17</th>\n      <td>GMMOBILEK</td>\n      <td>0</td>\n      <td>0</td>\n    </tr>\n    <tr>\n      <th>18</th>\n      <td>GSAVESK</td>\n      <td>0</td>\n      <td>0</td>\n    </tr>\n    <tr>\n      <th>19</th>\n      <td>GLBORROWK</td>\n      <td>0</td>\n      <td>0</td>\n    </tr>\n    <tr>\n      <th>20</th>\n      <td>GAVOIDCONSK</td>\n      <td>0</td>\n      <td>0</td>\n    </tr>\n    <tr>\n      <th>21</th>\n      <td>GTESTK</td>\n      <td>0</td>\n      <td>0</td>\n    </tr>\n  </tbody>\n</table>\n</div>"
     },
     "metadata": {}
    },
    {
     "output_type": "stream",
     "name": "stdout",
     "text": [
      "Training Completion for fb\n"
     ]
    },
    {
     "output_type": "display_data",
     "data": {
      "text/plain": "           code  starting  completing\n0       GFUTURE         3           2\n1      GDSPELLS         2           1\n2      GSAVENOW         0           0\n3        GLGROW         1           1\n4       GLLOANS         1           1\n5      GLGAMBLE         1           1\n6      GMMOBILE         1           1\n7        GSAVES         1           1\n8      GLBORROW         1           1\n9    GAVOIDCONS         1           1\n10        GTEST         1           1\n11     GFUTUREK         1           1\n12    GDSPELLSK         1           1\n13    GSAVENOWK         0           0\n14      GLGROWK         1           1\n15     GLLOANSK         1           1\n16    GLGAMBLEK         1           1\n17    GMMOBILEK         1           1\n18      GSAVESK         1           1\n19    GLBORROWK         1           1\n20  GAVOIDCONSK         1           1\n21       GTESTK         1           1",
      "text/html": "<div>\n<style scoped>\n    .dataframe tbody tr th:only-of-type {\n        vertical-align: middle;\n    }\n\n    .dataframe tbody tr th {\n        vertical-align: top;\n    }\n\n    .dataframe thead th {\n        text-align: right;\n    }\n</style>\n<table border=\"1\" class=\"dataframe\">\n  <thead>\n    <tr style=\"text-align: right;\">\n      <th></th>\n      <th>code</th>\n      <th>starting</th>\n      <th>completing</th>\n    </tr>\n  </thead>\n  <tbody>\n    <tr>\n      <th>0</th>\n      <td>GFUTURE</td>\n      <td>3</td>\n      <td>2</td>\n    </tr>\n    <tr>\n      <th>1</th>\n      <td>GDSPELLS</td>\n      <td>2</td>\n      <td>1</td>\n    </tr>\n    <tr>\n      <th>2</th>\n      <td>GSAVENOW</td>\n      <td>0</td>\n      <td>0</td>\n    </tr>\n    <tr>\n      <th>3</th>\n      <td>GLGROW</td>\n      <td>1</td>\n      <td>1</td>\n    </tr>\n    <tr>\n      <th>4</th>\n      <td>GLLOANS</td>\n      <td>1</td>\n      <td>1</td>\n    </tr>\n    <tr>\n      <th>5</th>\n      <td>GLGAMBLE</td>\n      <td>1</td>\n      <td>1</td>\n    </tr>\n    <tr>\n      <th>6</th>\n      <td>GMMOBILE</td>\n      <td>1</td>\n      <td>1</td>\n    </tr>\n    <tr>\n      <th>7</th>\n      <td>GSAVES</td>\n      <td>1</td>\n      <td>1</td>\n    </tr>\n    <tr>\n      <th>8</th>\n      <td>GLBORROW</td>\n      <td>1</td>\n      <td>1</td>\n    </tr>\n    <tr>\n      <th>9</th>\n      <td>GAVOIDCONS</td>\n      <td>1</td>\n      <td>1</td>\n    </tr>\n    <tr>\n      <th>10</th>\n      <td>GTEST</td>\n      <td>1</td>\n      <td>1</td>\n    </tr>\n    <tr>\n      <th>11</th>\n      <td>GFUTUREK</td>\n      <td>1</td>\n      <td>1</td>\n    </tr>\n    <tr>\n      <th>12</th>\n      <td>GDSPELLSK</td>\n      <td>1</td>\n      <td>1</td>\n    </tr>\n    <tr>\n      <th>13</th>\n      <td>GSAVENOWK</td>\n      <td>0</td>\n      <td>0</td>\n    </tr>\n    <tr>\n      <th>14</th>\n      <td>GLGROWK</td>\n      <td>1</td>\n      <td>1</td>\n    </tr>\n    <tr>\n      <th>15</th>\n      <td>GLLOANSK</td>\n      <td>1</td>\n      <td>1</td>\n    </tr>\n    <tr>\n      <th>16</th>\n      <td>GLGAMBLEK</td>\n      <td>1</td>\n      <td>1</td>\n    </tr>\n    <tr>\n      <th>17</th>\n      <td>GMMOBILEK</td>\n      <td>1</td>\n      <td>1</td>\n    </tr>\n    <tr>\n      <th>18</th>\n      <td>GSAVESK</td>\n      <td>1</td>\n      <td>1</td>\n    </tr>\n    <tr>\n      <th>19</th>\n      <td>GLBORROWK</td>\n      <td>1</td>\n      <td>1</td>\n    </tr>\n    <tr>\n      <th>20</th>\n      <td>GAVOIDCONSK</td>\n      <td>1</td>\n      <td>1</td>\n    </tr>\n    <tr>\n      <th>21</th>\n      <td>GTESTK</td>\n      <td>1</td>\n      <td>1</td>\n    </tr>\n  </tbody>\n</table>\n</div>"
     },
     "metadata": {}
    }
   ],
   "source": [
    "for each in platform_list:\n",
    "    starting = []\n",
    "    completing = []\n",
    "    df = seq_int[seq_int['sender'] == each]\n",
    "    print('Training Completion for {}'.format(each))\n",
    "    get_complete_figs(df,dict_start_seq,dict_complete_seq,c_seq)"
   ]
  },
  {
   "cell_type": "code",
   "execution_count": 148,
   "metadata": {},
   "outputs": [],
   "source": [
    "# Nonseq"
   ]
  },
  {
   "cell_type": "code",
   "execution_count": 149,
   "metadata": {},
   "outputs": [
    {
     "output_type": "stream",
     "name": "stdout",
     "text": [
      "-------------------------------------------\nTraining Completion for Below 18 yrs\n"
     ]
    },
    {
     "output_type": "display_data",
     "data": {
      "text/plain": "          code  starting  completing\n0      GSECFUT         4           1\n1     GPREPDRY         1           0\n2      GLOGROW         0           0\n3      GWHKNOW         0           0\n4    GGAMBLING         0           0\n5        GMOMO         0           0\n6      GMOSAVE         0           0\n7       GBOROW         0           0\n8       GMOCON         0           0\n9       GCERTQ         0           0\n10    GSECFUTK         0           0\n11   GPREPDRYK         0           0\n12    GLOGROWK         0           0\n13    GWHKNOWK         0           0\n14  GGAMBLINGK         0           0\n15      GMOMOK         0           0\n16    GMOSAVEK         0           0\n17     GBOROWK         0           0\n18     GMOCONK         0           0\n19     GCERTQK         0           0",
      "text/html": "<div>\n<style scoped>\n    .dataframe tbody tr th:only-of-type {\n        vertical-align: middle;\n    }\n\n    .dataframe tbody tr th {\n        vertical-align: top;\n    }\n\n    .dataframe thead th {\n        text-align: right;\n    }\n</style>\n<table border=\"1\" class=\"dataframe\">\n  <thead>\n    <tr style=\"text-align: right;\">\n      <th></th>\n      <th>code</th>\n      <th>starting</th>\n      <th>completing</th>\n    </tr>\n  </thead>\n  <tbody>\n    <tr>\n      <th>0</th>\n      <td>GSECFUT</td>\n      <td>4</td>\n      <td>1</td>\n    </tr>\n    <tr>\n      <th>1</th>\n      <td>GPREPDRY</td>\n      <td>1</td>\n      <td>0</td>\n    </tr>\n    <tr>\n      <th>2</th>\n      <td>GLOGROW</td>\n      <td>0</td>\n      <td>0</td>\n    </tr>\n    <tr>\n      <th>3</th>\n      <td>GWHKNOW</td>\n      <td>0</td>\n      <td>0</td>\n    </tr>\n    <tr>\n      <th>4</th>\n      <td>GGAMBLING</td>\n      <td>0</td>\n      <td>0</td>\n    </tr>\n    <tr>\n      <th>5</th>\n      <td>GMOMO</td>\n      <td>0</td>\n      <td>0</td>\n    </tr>\n    <tr>\n      <th>6</th>\n      <td>GMOSAVE</td>\n      <td>0</td>\n      <td>0</td>\n    </tr>\n    <tr>\n      <th>7</th>\n      <td>GBOROW</td>\n      <td>0</td>\n      <td>0</td>\n    </tr>\n    <tr>\n      <th>8</th>\n      <td>GMOCON</td>\n      <td>0</td>\n      <td>0</td>\n    </tr>\n    <tr>\n      <th>9</th>\n      <td>GCERTQ</td>\n      <td>0</td>\n      <td>0</td>\n    </tr>\n    <tr>\n      <th>10</th>\n      <td>GSECFUTK</td>\n      <td>0</td>\n      <td>0</td>\n    </tr>\n    <tr>\n      <th>11</th>\n      <td>GPREPDRYK</td>\n      <td>0</td>\n      <td>0</td>\n    </tr>\n    <tr>\n      <th>12</th>\n      <td>GLOGROWK</td>\n      <td>0</td>\n      <td>0</td>\n    </tr>\n    <tr>\n      <th>13</th>\n      <td>GWHKNOWK</td>\n      <td>0</td>\n      <td>0</td>\n    </tr>\n    <tr>\n      <th>14</th>\n      <td>GGAMBLINGK</td>\n      <td>0</td>\n      <td>0</td>\n    </tr>\n    <tr>\n      <th>15</th>\n      <td>GMOMOK</td>\n      <td>0</td>\n      <td>0</td>\n    </tr>\n    <tr>\n      <th>16</th>\n      <td>GMOSAVEK</td>\n      <td>0</td>\n      <td>0</td>\n    </tr>\n    <tr>\n      <th>17</th>\n      <td>GBOROWK</td>\n      <td>0</td>\n      <td>0</td>\n    </tr>\n    <tr>\n      <th>18</th>\n      <td>GMOCONK</td>\n      <td>0</td>\n      <td>0</td>\n    </tr>\n    <tr>\n      <th>19</th>\n      <td>GCERTQK</td>\n      <td>0</td>\n      <td>0</td>\n    </tr>\n  </tbody>\n</table>\n</div>"
     },
     "metadata": {}
    },
    {
     "output_type": "stream",
     "name": "stdout",
     "text": [
      "-------------------------------------------\nTraining Completion for 18 - 25 yrs\n"
     ]
    },
    {
     "output_type": "display_data",
     "data": {
      "text/plain": "          code  starting  completing\n0      GSECFUT        22          16\n1     GPREPDRY        14          10\n2      GLOGROW         7           7\n3      GWHKNOW         7           6\n4    GGAMBLING         6           5\n5        GMOMO         5           5\n6      GMOSAVE         4           4\n7       GBOROW         4           3\n8       GMOCON         3           3\n9       GCERTQ         3           3\n10    GSECFUTK         1           1\n11   GPREPDRYK         1           1\n12    GLOGROWK         1           1\n13    GWHKNOWK         1           1\n14  GGAMBLINGK         1           1\n15      GMOMOK         1           1\n16    GMOSAVEK         1           1\n17     GBOROWK         1           1\n18     GMOCONK         1           1\n19     GCERTQK         0           0",
      "text/html": "<div>\n<style scoped>\n    .dataframe tbody tr th:only-of-type {\n        vertical-align: middle;\n    }\n\n    .dataframe tbody tr th {\n        vertical-align: top;\n    }\n\n    .dataframe thead th {\n        text-align: right;\n    }\n</style>\n<table border=\"1\" class=\"dataframe\">\n  <thead>\n    <tr style=\"text-align: right;\">\n      <th></th>\n      <th>code</th>\n      <th>starting</th>\n      <th>completing</th>\n    </tr>\n  </thead>\n  <tbody>\n    <tr>\n      <th>0</th>\n      <td>GSECFUT</td>\n      <td>22</td>\n      <td>16</td>\n    </tr>\n    <tr>\n      <th>1</th>\n      <td>GPREPDRY</td>\n      <td>14</td>\n      <td>10</td>\n    </tr>\n    <tr>\n      <th>2</th>\n      <td>GLOGROW</td>\n      <td>7</td>\n      <td>7</td>\n    </tr>\n    <tr>\n      <th>3</th>\n      <td>GWHKNOW</td>\n      <td>7</td>\n      <td>6</td>\n    </tr>\n    <tr>\n      <th>4</th>\n      <td>GGAMBLING</td>\n      <td>6</td>\n      <td>5</td>\n    </tr>\n    <tr>\n      <th>5</th>\n      <td>GMOMO</td>\n      <td>5</td>\n      <td>5</td>\n    </tr>\n    <tr>\n      <th>6</th>\n      <td>GMOSAVE</td>\n      <td>4</td>\n      <td>4</td>\n    </tr>\n    <tr>\n      <th>7</th>\n      <td>GBOROW</td>\n      <td>4</td>\n      <td>3</td>\n    </tr>\n    <tr>\n      <th>8</th>\n      <td>GMOCON</td>\n      <td>3</td>\n      <td>3</td>\n    </tr>\n    <tr>\n      <th>9</th>\n      <td>GCERTQ</td>\n      <td>3</td>\n      <td>3</td>\n    </tr>\n    <tr>\n      <th>10</th>\n      <td>GSECFUTK</td>\n      <td>1</td>\n      <td>1</td>\n    </tr>\n    <tr>\n      <th>11</th>\n      <td>GPREPDRYK</td>\n      <td>1</td>\n      <td>1</td>\n    </tr>\n    <tr>\n      <th>12</th>\n      <td>GLOGROWK</td>\n      <td>1</td>\n      <td>1</td>\n    </tr>\n    <tr>\n      <th>13</th>\n      <td>GWHKNOWK</td>\n      <td>1</td>\n      <td>1</td>\n    </tr>\n    <tr>\n      <th>14</th>\n      <td>GGAMBLINGK</td>\n      <td>1</td>\n      <td>1</td>\n    </tr>\n    <tr>\n      <th>15</th>\n      <td>GMOMOK</td>\n      <td>1</td>\n      <td>1</td>\n    </tr>\n    <tr>\n      <th>16</th>\n      <td>GMOSAVEK</td>\n      <td>1</td>\n      <td>1</td>\n    </tr>\n    <tr>\n      <th>17</th>\n      <td>GBOROWK</td>\n      <td>1</td>\n      <td>1</td>\n    </tr>\n    <tr>\n      <th>18</th>\n      <td>GMOCONK</td>\n      <td>1</td>\n      <td>1</td>\n    </tr>\n    <tr>\n      <th>19</th>\n      <td>GCERTQK</td>\n      <td>0</td>\n      <td>0</td>\n    </tr>\n  </tbody>\n</table>\n</div>"
     },
     "metadata": {}
    },
    {
     "output_type": "stream",
     "name": "stdout",
     "text": [
      "-------------------------------------------\nTraining Completion for 26 - 35 yrs\n"
     ]
    },
    {
     "output_type": "display_data",
     "data": {
      "text/plain": "          code  starting  completing\n0      GSECFUT        22          17\n1     GPREPDRY        13          11\n2      GLOGROW         7           7\n3      GWHKNOW         6           6\n4    GGAMBLING         5           5\n5        GMOMO         5           5\n6      GMOSAVE         4           2\n7       GBOROW         2           2\n8       GMOCON         2           2\n9       GCERTQ         1           1\n10    GSECFUTK         0           0\n11   GPREPDRYK         0           0\n12    GLOGROWK         0           0\n13    GWHKNOWK         0           0\n14  GGAMBLINGK         0           0\n15      GMOMOK         0           0\n16    GMOSAVEK         0           0\n17     GBOROWK         0           0\n18     GMOCONK         0           0\n19     GCERTQK         0           0",
      "text/html": "<div>\n<style scoped>\n    .dataframe tbody tr th:only-of-type {\n        vertical-align: middle;\n    }\n\n    .dataframe tbody tr th {\n        vertical-align: top;\n    }\n\n    .dataframe thead th {\n        text-align: right;\n    }\n</style>\n<table border=\"1\" class=\"dataframe\">\n  <thead>\n    <tr style=\"text-align: right;\">\n      <th></th>\n      <th>code</th>\n      <th>starting</th>\n      <th>completing</th>\n    </tr>\n  </thead>\n  <tbody>\n    <tr>\n      <th>0</th>\n      <td>GSECFUT</td>\n      <td>22</td>\n      <td>17</td>\n    </tr>\n    <tr>\n      <th>1</th>\n      <td>GPREPDRY</td>\n      <td>13</td>\n      <td>11</td>\n    </tr>\n    <tr>\n      <th>2</th>\n      <td>GLOGROW</td>\n      <td>7</td>\n      <td>7</td>\n    </tr>\n    <tr>\n      <th>3</th>\n      <td>GWHKNOW</td>\n      <td>6</td>\n      <td>6</td>\n    </tr>\n    <tr>\n      <th>4</th>\n      <td>GGAMBLING</td>\n      <td>5</td>\n      <td>5</td>\n    </tr>\n    <tr>\n      <th>5</th>\n      <td>GMOMO</td>\n      <td>5</td>\n      <td>5</td>\n    </tr>\n    <tr>\n      <th>6</th>\n      <td>GMOSAVE</td>\n      <td>4</td>\n      <td>2</td>\n    </tr>\n    <tr>\n      <th>7</th>\n      <td>GBOROW</td>\n      <td>2</td>\n      <td>2</td>\n    </tr>\n    <tr>\n      <th>8</th>\n      <td>GMOCON</td>\n      <td>2</td>\n      <td>2</td>\n    </tr>\n    <tr>\n      <th>9</th>\n      <td>GCERTQ</td>\n      <td>1</td>\n      <td>1</td>\n    </tr>\n    <tr>\n      <th>10</th>\n      <td>GSECFUTK</td>\n      <td>0</td>\n      <td>0</td>\n    </tr>\n    <tr>\n      <th>11</th>\n      <td>GPREPDRYK</td>\n      <td>0</td>\n      <td>0</td>\n    </tr>\n    <tr>\n      <th>12</th>\n      <td>GLOGROWK</td>\n      <td>0</td>\n      <td>0</td>\n    </tr>\n    <tr>\n      <th>13</th>\n      <td>GWHKNOWK</td>\n      <td>0</td>\n      <td>0</td>\n    </tr>\n    <tr>\n      <th>14</th>\n      <td>GGAMBLINGK</td>\n      <td>0</td>\n      <td>0</td>\n    </tr>\n    <tr>\n      <th>15</th>\n      <td>GMOMOK</td>\n      <td>0</td>\n      <td>0</td>\n    </tr>\n    <tr>\n      <th>16</th>\n      <td>GMOSAVEK</td>\n      <td>0</td>\n      <td>0</td>\n    </tr>\n    <tr>\n      <th>17</th>\n      <td>GBOROWK</td>\n      <td>0</td>\n      <td>0</td>\n    </tr>\n    <tr>\n      <th>18</th>\n      <td>GMOCONK</td>\n      <td>0</td>\n      <td>0</td>\n    </tr>\n    <tr>\n      <th>19</th>\n      <td>GCERTQK</td>\n      <td>0</td>\n      <td>0</td>\n    </tr>\n  </tbody>\n</table>\n</div>"
     },
     "metadata": {}
    },
    {
     "output_type": "stream",
     "name": "stdout",
     "text": [
      "-------------------------------------------\nTraining Completion for 36 - 50 yrs\n"
     ]
    },
    {
     "output_type": "display_data",
     "data": {
      "text/plain": "          code  starting  completing\n0      GSECFUT         4           4\n1     GPREPDRY         4           4\n2      GLOGROW         4           4\n3      GWHKNOW         4           4\n4    GGAMBLING         3           3\n5        GMOMO         3           2\n6      GMOSAVE         2           2\n7       GBOROW         1           1\n8       GMOCON         1           1\n9       GCERTQ         1           1\n10    GSECFUTK         0           0\n11   GPREPDRYK         0           0\n12    GLOGROWK         0           0\n13    GWHKNOWK         0           0\n14  GGAMBLINGK         0           0\n15      GMOMOK         0           0\n16    GMOSAVEK         0           0\n17     GBOROWK         0           0\n18     GMOCONK         0           0\n19     GCERTQK         0           0",
      "text/html": "<div>\n<style scoped>\n    .dataframe tbody tr th:only-of-type {\n        vertical-align: middle;\n    }\n\n    .dataframe tbody tr th {\n        vertical-align: top;\n    }\n\n    .dataframe thead th {\n        text-align: right;\n    }\n</style>\n<table border=\"1\" class=\"dataframe\">\n  <thead>\n    <tr style=\"text-align: right;\">\n      <th></th>\n      <th>code</th>\n      <th>starting</th>\n      <th>completing</th>\n    </tr>\n  </thead>\n  <tbody>\n    <tr>\n      <th>0</th>\n      <td>GSECFUT</td>\n      <td>4</td>\n      <td>4</td>\n    </tr>\n    <tr>\n      <th>1</th>\n      <td>GPREPDRY</td>\n      <td>4</td>\n      <td>4</td>\n    </tr>\n    <tr>\n      <th>2</th>\n      <td>GLOGROW</td>\n      <td>4</td>\n      <td>4</td>\n    </tr>\n    <tr>\n      <th>3</th>\n      <td>GWHKNOW</td>\n      <td>4</td>\n      <td>4</td>\n    </tr>\n    <tr>\n      <th>4</th>\n      <td>GGAMBLING</td>\n      <td>3</td>\n      <td>3</td>\n    </tr>\n    <tr>\n      <th>5</th>\n      <td>GMOMO</td>\n      <td>3</td>\n      <td>2</td>\n    </tr>\n    <tr>\n      <th>6</th>\n      <td>GMOSAVE</td>\n      <td>2</td>\n      <td>2</td>\n    </tr>\n    <tr>\n      <th>7</th>\n      <td>GBOROW</td>\n      <td>1</td>\n      <td>1</td>\n    </tr>\n    <tr>\n      <th>8</th>\n      <td>GMOCON</td>\n      <td>1</td>\n      <td>1</td>\n    </tr>\n    <tr>\n      <th>9</th>\n      <td>GCERTQ</td>\n      <td>1</td>\n      <td>1</td>\n    </tr>\n    <tr>\n      <th>10</th>\n      <td>GSECFUTK</td>\n      <td>0</td>\n      <td>0</td>\n    </tr>\n    <tr>\n      <th>11</th>\n      <td>GPREPDRYK</td>\n      <td>0</td>\n      <td>0</td>\n    </tr>\n    <tr>\n      <th>12</th>\n      <td>GLOGROWK</td>\n      <td>0</td>\n      <td>0</td>\n    </tr>\n    <tr>\n      <th>13</th>\n      <td>GWHKNOWK</td>\n      <td>0</td>\n      <td>0</td>\n    </tr>\n    <tr>\n      <th>14</th>\n      <td>GGAMBLINGK</td>\n      <td>0</td>\n      <td>0</td>\n    </tr>\n    <tr>\n      <th>15</th>\n      <td>GMOMOK</td>\n      <td>0</td>\n      <td>0</td>\n    </tr>\n    <tr>\n      <th>16</th>\n      <td>GMOSAVEK</td>\n      <td>0</td>\n      <td>0</td>\n    </tr>\n    <tr>\n      <th>17</th>\n      <td>GBOROWK</td>\n      <td>0</td>\n      <td>0</td>\n    </tr>\n    <tr>\n      <th>18</th>\n      <td>GMOCONK</td>\n      <td>0</td>\n      <td>0</td>\n    </tr>\n    <tr>\n      <th>19</th>\n      <td>GCERTQK</td>\n      <td>0</td>\n      <td>0</td>\n    </tr>\n  </tbody>\n</table>\n</div>"
     },
     "metadata": {}
    },
    {
     "output_type": "stream",
     "name": "stdout",
     "text": [
      "-------------------------------------------\nTraining Completion for 51 - 65 yrs\n"
     ]
    },
    {
     "output_type": "display_data",
     "data": {
      "text/plain": "          code  starting  completing\n0      GSECFUT         1           0\n1     GPREPDRY         0           0\n2      GLOGROW         0           0\n3      GWHKNOW         0           0\n4    GGAMBLING         0           0\n5        GMOMO         0           0\n6      GMOSAVE         0           0\n7       GBOROW         0           0\n8       GMOCON         0           0\n9       GCERTQ         0           0\n10    GSECFUTK         0           0\n11   GPREPDRYK         0           0\n12    GLOGROWK         0           0\n13    GWHKNOWK         0           0\n14  GGAMBLINGK         0           0\n15      GMOMOK         0           0\n16    GMOSAVEK         0           0\n17     GBOROWK         0           0\n18     GMOCONK         0           0\n19     GCERTQK         0           0",
      "text/html": "<div>\n<style scoped>\n    .dataframe tbody tr th:only-of-type {\n        vertical-align: middle;\n    }\n\n    .dataframe tbody tr th {\n        vertical-align: top;\n    }\n\n    .dataframe thead th {\n        text-align: right;\n    }\n</style>\n<table border=\"1\" class=\"dataframe\">\n  <thead>\n    <tr style=\"text-align: right;\">\n      <th></th>\n      <th>code</th>\n      <th>starting</th>\n      <th>completing</th>\n    </tr>\n  </thead>\n  <tbody>\n    <tr>\n      <th>0</th>\n      <td>GSECFUT</td>\n      <td>1</td>\n      <td>0</td>\n    </tr>\n    <tr>\n      <th>1</th>\n      <td>GPREPDRY</td>\n      <td>0</td>\n      <td>0</td>\n    </tr>\n    <tr>\n      <th>2</th>\n      <td>GLOGROW</td>\n      <td>0</td>\n      <td>0</td>\n    </tr>\n    <tr>\n      <th>3</th>\n      <td>GWHKNOW</td>\n      <td>0</td>\n      <td>0</td>\n    </tr>\n    <tr>\n      <th>4</th>\n      <td>GGAMBLING</td>\n      <td>0</td>\n      <td>0</td>\n    </tr>\n    <tr>\n      <th>5</th>\n      <td>GMOMO</td>\n      <td>0</td>\n      <td>0</td>\n    </tr>\n    <tr>\n      <th>6</th>\n      <td>GMOSAVE</td>\n      <td>0</td>\n      <td>0</td>\n    </tr>\n    <tr>\n      <th>7</th>\n      <td>GBOROW</td>\n      <td>0</td>\n      <td>0</td>\n    </tr>\n    <tr>\n      <th>8</th>\n      <td>GMOCON</td>\n      <td>0</td>\n      <td>0</td>\n    </tr>\n    <tr>\n      <th>9</th>\n      <td>GCERTQ</td>\n      <td>0</td>\n      <td>0</td>\n    </tr>\n    <tr>\n      <th>10</th>\n      <td>GSECFUTK</td>\n      <td>0</td>\n      <td>0</td>\n    </tr>\n    <tr>\n      <th>11</th>\n      <td>GPREPDRYK</td>\n      <td>0</td>\n      <td>0</td>\n    </tr>\n    <tr>\n      <th>12</th>\n      <td>GLOGROWK</td>\n      <td>0</td>\n      <td>0</td>\n    </tr>\n    <tr>\n      <th>13</th>\n      <td>GWHKNOWK</td>\n      <td>0</td>\n      <td>0</td>\n    </tr>\n    <tr>\n      <th>14</th>\n      <td>GGAMBLINGK</td>\n      <td>0</td>\n      <td>0</td>\n    </tr>\n    <tr>\n      <th>15</th>\n      <td>GMOMOK</td>\n      <td>0</td>\n      <td>0</td>\n    </tr>\n    <tr>\n      <th>16</th>\n      <td>GMOSAVEK</td>\n      <td>0</td>\n      <td>0</td>\n    </tr>\n    <tr>\n      <th>17</th>\n      <td>GBOROWK</td>\n      <td>0</td>\n      <td>0</td>\n    </tr>\n    <tr>\n      <th>18</th>\n      <td>GMOCONK</td>\n      <td>0</td>\n      <td>0</td>\n    </tr>\n    <tr>\n      <th>19</th>\n      <td>GCERTQK</td>\n      <td>0</td>\n      <td>0</td>\n    </tr>\n  </tbody>\n</table>\n</div>"
     },
     "metadata": {}
    },
    {
     "output_type": "stream",
     "name": "stdout",
     "text": [
      "-------------------------------------------\nTraining Completion for Above 65 yrs\n"
     ]
    },
    {
     "output_type": "display_data",
     "data": {
      "text/plain": "          code  starting  completing\n0      GSECFUT         1           0\n1     GPREPDRY         0           0\n2      GLOGROW         0           0\n3      GWHKNOW         0           0\n4    GGAMBLING         0           0\n5        GMOMO         0           0\n6      GMOSAVE         0           0\n7       GBOROW         0           0\n8       GMOCON         0           0\n9       GCERTQ         0           0\n10    GSECFUTK         0           0\n11   GPREPDRYK         0           0\n12    GLOGROWK         0           0\n13    GWHKNOWK         0           0\n14  GGAMBLINGK         0           0\n15      GMOMOK         0           0\n16    GMOSAVEK         0           0\n17     GBOROWK         0           0\n18     GMOCONK         0           0\n19     GCERTQK         0           0",
      "text/html": "<div>\n<style scoped>\n    .dataframe tbody tr th:only-of-type {\n        vertical-align: middle;\n    }\n\n    .dataframe tbody tr th {\n        vertical-align: top;\n    }\n\n    .dataframe thead th {\n        text-align: right;\n    }\n</style>\n<table border=\"1\" class=\"dataframe\">\n  <thead>\n    <tr style=\"text-align: right;\">\n      <th></th>\n      <th>code</th>\n      <th>starting</th>\n      <th>completing</th>\n    </tr>\n  </thead>\n  <tbody>\n    <tr>\n      <th>0</th>\n      <td>GSECFUT</td>\n      <td>1</td>\n      <td>0</td>\n    </tr>\n    <tr>\n      <th>1</th>\n      <td>GPREPDRY</td>\n      <td>0</td>\n      <td>0</td>\n    </tr>\n    <tr>\n      <th>2</th>\n      <td>GLOGROW</td>\n      <td>0</td>\n      <td>0</td>\n    </tr>\n    <tr>\n      <th>3</th>\n      <td>GWHKNOW</td>\n      <td>0</td>\n      <td>0</td>\n    </tr>\n    <tr>\n      <th>4</th>\n      <td>GGAMBLING</td>\n      <td>0</td>\n      <td>0</td>\n    </tr>\n    <tr>\n      <th>5</th>\n      <td>GMOMO</td>\n      <td>0</td>\n      <td>0</td>\n    </tr>\n    <tr>\n      <th>6</th>\n      <td>GMOSAVE</td>\n      <td>0</td>\n      <td>0</td>\n    </tr>\n    <tr>\n      <th>7</th>\n      <td>GBOROW</td>\n      <td>0</td>\n      <td>0</td>\n    </tr>\n    <tr>\n      <th>8</th>\n      <td>GMOCON</td>\n      <td>0</td>\n      <td>0</td>\n    </tr>\n    <tr>\n      <th>9</th>\n      <td>GCERTQ</td>\n      <td>0</td>\n      <td>0</td>\n    </tr>\n    <tr>\n      <th>10</th>\n      <td>GSECFUTK</td>\n      <td>0</td>\n      <td>0</td>\n    </tr>\n    <tr>\n      <th>11</th>\n      <td>GPREPDRYK</td>\n      <td>0</td>\n      <td>0</td>\n    </tr>\n    <tr>\n      <th>12</th>\n      <td>GLOGROWK</td>\n      <td>0</td>\n      <td>0</td>\n    </tr>\n    <tr>\n      <th>13</th>\n      <td>GWHKNOWK</td>\n      <td>0</td>\n      <td>0</td>\n    </tr>\n    <tr>\n      <th>14</th>\n      <td>GGAMBLINGK</td>\n      <td>0</td>\n      <td>0</td>\n    </tr>\n    <tr>\n      <th>15</th>\n      <td>GMOMOK</td>\n      <td>0</td>\n      <td>0</td>\n    </tr>\n    <tr>\n      <th>16</th>\n      <td>GMOSAVEK</td>\n      <td>0</td>\n      <td>0</td>\n    </tr>\n    <tr>\n      <th>17</th>\n      <td>GBOROWK</td>\n      <td>0</td>\n      <td>0</td>\n    </tr>\n    <tr>\n      <th>18</th>\n      <td>GMOCONK</td>\n      <td>0</td>\n      <td>0</td>\n    </tr>\n    <tr>\n      <th>19</th>\n      <td>GCERTQK</td>\n      <td>0</td>\n      <td>0</td>\n    </tr>\n  </tbody>\n</table>\n</div>"
     },
     "metadata": {}
    }
   ],
   "source": [
    "for each in age_list:\n",
    "    starting = []\n",
    "    completing = []\n",
    "    df = nonseq_int[nonseq_int['age'] == each]\n",
    "    print('-------------------------------------------')\n",
    "    print('Training Completion for {}'.format(each))\n",
    "    get_complete_figs(df,dict_start_nonseq,dict_complete_nonseq,c_nonseq)"
   ]
  },
  {
   "cell_type": "code",
   "execution_count": 150,
   "metadata": {},
   "outputs": [
    {
     "output_type": "stream",
     "name": "stdout",
     "text": [
      "-------------------------------------------\nTraining Completion for Female\n"
     ]
    },
    {
     "output_type": "display_data",
     "data": {
      "text/plain": "          code  starting  completing\n0      GSECFUT        15           9\n1     GPREPDRY         9           6\n2      GLOGROW         5           5\n3      GWHKNOW         5           5\n4    GGAMBLING         5           4\n5        GMOMO         4           4\n6      GMOSAVE         3           2\n7       GBOROW         2           2\n8       GMOCON         2           2\n9       GCERTQ         2           2\n10    GSECFUTK         0           0\n11   GPREPDRYK         0           0\n12    GLOGROWK         0           0\n13    GWHKNOWK         0           0\n14  GGAMBLINGK         0           0\n15      GMOMOK         0           0\n16    GMOSAVEK         0           0\n17     GBOROWK         0           0\n18     GMOCONK         0           0\n19     GCERTQK         0           0",
      "text/html": "<div>\n<style scoped>\n    .dataframe tbody tr th:only-of-type {\n        vertical-align: middle;\n    }\n\n    .dataframe tbody tr th {\n        vertical-align: top;\n    }\n\n    .dataframe thead th {\n        text-align: right;\n    }\n</style>\n<table border=\"1\" class=\"dataframe\">\n  <thead>\n    <tr style=\"text-align: right;\">\n      <th></th>\n      <th>code</th>\n      <th>starting</th>\n      <th>completing</th>\n    </tr>\n  </thead>\n  <tbody>\n    <tr>\n      <th>0</th>\n      <td>GSECFUT</td>\n      <td>15</td>\n      <td>9</td>\n    </tr>\n    <tr>\n      <th>1</th>\n      <td>GPREPDRY</td>\n      <td>9</td>\n      <td>6</td>\n    </tr>\n    <tr>\n      <th>2</th>\n      <td>GLOGROW</td>\n      <td>5</td>\n      <td>5</td>\n    </tr>\n    <tr>\n      <th>3</th>\n      <td>GWHKNOW</td>\n      <td>5</td>\n      <td>5</td>\n    </tr>\n    <tr>\n      <th>4</th>\n      <td>GGAMBLING</td>\n      <td>5</td>\n      <td>4</td>\n    </tr>\n    <tr>\n      <th>5</th>\n      <td>GMOMO</td>\n      <td>4</td>\n      <td>4</td>\n    </tr>\n    <tr>\n      <th>6</th>\n      <td>GMOSAVE</td>\n      <td>3</td>\n      <td>2</td>\n    </tr>\n    <tr>\n      <th>7</th>\n      <td>GBOROW</td>\n      <td>2</td>\n      <td>2</td>\n    </tr>\n    <tr>\n      <th>8</th>\n      <td>GMOCON</td>\n      <td>2</td>\n      <td>2</td>\n    </tr>\n    <tr>\n      <th>9</th>\n      <td>GCERTQ</td>\n      <td>2</td>\n      <td>2</td>\n    </tr>\n    <tr>\n      <th>10</th>\n      <td>GSECFUTK</td>\n      <td>0</td>\n      <td>0</td>\n    </tr>\n    <tr>\n      <th>11</th>\n      <td>GPREPDRYK</td>\n      <td>0</td>\n      <td>0</td>\n    </tr>\n    <tr>\n      <th>12</th>\n      <td>GLOGROWK</td>\n      <td>0</td>\n      <td>0</td>\n    </tr>\n    <tr>\n      <th>13</th>\n      <td>GWHKNOWK</td>\n      <td>0</td>\n      <td>0</td>\n    </tr>\n    <tr>\n      <th>14</th>\n      <td>GGAMBLINGK</td>\n      <td>0</td>\n      <td>0</td>\n    </tr>\n    <tr>\n      <th>15</th>\n      <td>GMOMOK</td>\n      <td>0</td>\n      <td>0</td>\n    </tr>\n    <tr>\n      <th>16</th>\n      <td>GMOSAVEK</td>\n      <td>0</td>\n      <td>0</td>\n    </tr>\n    <tr>\n      <th>17</th>\n      <td>GBOROWK</td>\n      <td>0</td>\n      <td>0</td>\n    </tr>\n    <tr>\n      <th>18</th>\n      <td>GMOCONK</td>\n      <td>0</td>\n      <td>0</td>\n    </tr>\n    <tr>\n      <th>19</th>\n      <td>GCERTQK</td>\n      <td>0</td>\n      <td>0</td>\n    </tr>\n  </tbody>\n</table>\n</div>"
     },
     "metadata": {}
    },
    {
     "output_type": "stream",
     "name": "stdout",
     "text": [
      "-------------------------------------------\nTraining Completion for Male\n"
     ]
    },
    {
     "output_type": "display_data",
     "data": {
      "text/plain": "          code  starting  completing\n0      GSECFUT        37          28\n1     GPREPDRY        22          18\n2      GLOGROW        13          13\n3      GWHKNOW        12          11\n4    GGAMBLING         9           9\n5        GMOMO         9           8\n6      GMOSAVE         7           6\n7       GBOROW         5           4\n8       GMOCON         4           4\n9       GCERTQ         3           3\n10    GSECFUTK         0           0\n11   GPREPDRYK         0           0\n12    GLOGROWK         0           0\n13    GWHKNOWK         0           0\n14  GGAMBLINGK         0           0\n15      GMOMOK         0           0\n16    GMOSAVEK         0           0\n17     GBOROWK         0           0\n18     GMOCONK         0           0\n19     GCERTQK         0           0",
      "text/html": "<div>\n<style scoped>\n    .dataframe tbody tr th:only-of-type {\n        vertical-align: middle;\n    }\n\n    .dataframe tbody tr th {\n        vertical-align: top;\n    }\n\n    .dataframe thead th {\n        text-align: right;\n    }\n</style>\n<table border=\"1\" class=\"dataframe\">\n  <thead>\n    <tr style=\"text-align: right;\">\n      <th></th>\n      <th>code</th>\n      <th>starting</th>\n      <th>completing</th>\n    </tr>\n  </thead>\n  <tbody>\n    <tr>\n      <th>0</th>\n      <td>GSECFUT</td>\n      <td>37</td>\n      <td>28</td>\n    </tr>\n    <tr>\n      <th>1</th>\n      <td>GPREPDRY</td>\n      <td>22</td>\n      <td>18</td>\n    </tr>\n    <tr>\n      <th>2</th>\n      <td>GLOGROW</td>\n      <td>13</td>\n      <td>13</td>\n    </tr>\n    <tr>\n      <th>3</th>\n      <td>GWHKNOW</td>\n      <td>12</td>\n      <td>11</td>\n    </tr>\n    <tr>\n      <th>4</th>\n      <td>GGAMBLING</td>\n      <td>9</td>\n      <td>9</td>\n    </tr>\n    <tr>\n      <th>5</th>\n      <td>GMOMO</td>\n      <td>9</td>\n      <td>8</td>\n    </tr>\n    <tr>\n      <th>6</th>\n      <td>GMOSAVE</td>\n      <td>7</td>\n      <td>6</td>\n    </tr>\n    <tr>\n      <th>7</th>\n      <td>GBOROW</td>\n      <td>5</td>\n      <td>4</td>\n    </tr>\n    <tr>\n      <th>8</th>\n      <td>GMOCON</td>\n      <td>4</td>\n      <td>4</td>\n    </tr>\n    <tr>\n      <th>9</th>\n      <td>GCERTQ</td>\n      <td>3</td>\n      <td>3</td>\n    </tr>\n    <tr>\n      <th>10</th>\n      <td>GSECFUTK</td>\n      <td>0</td>\n      <td>0</td>\n    </tr>\n    <tr>\n      <th>11</th>\n      <td>GPREPDRYK</td>\n      <td>0</td>\n      <td>0</td>\n    </tr>\n    <tr>\n      <th>12</th>\n      <td>GLOGROWK</td>\n      <td>0</td>\n      <td>0</td>\n    </tr>\n    <tr>\n      <th>13</th>\n      <td>GWHKNOWK</td>\n      <td>0</td>\n      <td>0</td>\n    </tr>\n    <tr>\n      <th>14</th>\n      <td>GGAMBLINGK</td>\n      <td>0</td>\n      <td>0</td>\n    </tr>\n    <tr>\n      <th>15</th>\n      <td>GMOMOK</td>\n      <td>0</td>\n      <td>0</td>\n    </tr>\n    <tr>\n      <th>16</th>\n      <td>GMOSAVEK</td>\n      <td>0</td>\n      <td>0</td>\n    </tr>\n    <tr>\n      <th>17</th>\n      <td>GBOROWK</td>\n      <td>0</td>\n      <td>0</td>\n    </tr>\n    <tr>\n      <th>18</th>\n      <td>GMOCONK</td>\n      <td>0</td>\n      <td>0</td>\n    </tr>\n    <tr>\n      <th>19</th>\n      <td>GCERTQK</td>\n      <td>0</td>\n      <td>0</td>\n    </tr>\n  </tbody>\n</table>\n</div>"
     },
     "metadata": {}
    }
   ],
   "source": [
    "for each in gender_list:\n",
    "    starting = []\n",
    "    completing = []\n",
    "    df = nonseq_int[nonseq_int['gender'] == each]\n",
    "    print('-------------------------------------------')\n",
    "    print('Training Completion for {}'.format(each))\n",
    "    get_complete_figs(df,dict_start_nonseq,dict_complete_nonseq,c_nonseq)"
   ]
  },
  {
   "cell_type": "code",
   "execution_count": 151,
   "metadata": {},
   "outputs": [
    {
     "output_type": "stream",
     "name": "stdout",
     "text": [
      "-------------------------------------------\nTraining Completion for 22744\n"
     ]
    },
    {
     "output_type": "display_data",
     "data": {
      "text/plain": "          code  starting  completing\n0      GSECFUT       412         220\n1     GPREPDRY       165         120\n2      GLOGROW        85          72\n3      GWHKNOW        65          59\n4    GGAMBLING        54          50\n5        GMOMO        47          44\n6      GMOSAVE        38          32\n7       GBOROW        30          29\n8       GMOCON        26          25\n9       GCERTQ        21          21\n10    GSECFUTK         2           2\n11   GPREPDRYK         2           1\n12    GLOGROWK         1           1\n13    GWHKNOWK         1           1\n14  GGAMBLINGK         1           1\n15      GMOMOK         1           1\n16    GMOSAVEK         1           1\n17     GBOROWK         1           1\n18     GMOCONK         1           1\n19     GCERTQK         0           0",
      "text/html": "<div>\n<style scoped>\n    .dataframe tbody tr th:only-of-type {\n        vertical-align: middle;\n    }\n\n    .dataframe tbody tr th {\n        vertical-align: top;\n    }\n\n    .dataframe thead th {\n        text-align: right;\n    }\n</style>\n<table border=\"1\" class=\"dataframe\">\n  <thead>\n    <tr style=\"text-align: right;\">\n      <th></th>\n      <th>code</th>\n      <th>starting</th>\n      <th>completing</th>\n    </tr>\n  </thead>\n  <tbody>\n    <tr>\n      <th>0</th>\n      <td>GSECFUT</td>\n      <td>412</td>\n      <td>220</td>\n    </tr>\n    <tr>\n      <th>1</th>\n      <td>GPREPDRY</td>\n      <td>165</td>\n      <td>120</td>\n    </tr>\n    <tr>\n      <th>2</th>\n      <td>GLOGROW</td>\n      <td>85</td>\n      <td>72</td>\n    </tr>\n    <tr>\n      <th>3</th>\n      <td>GWHKNOW</td>\n      <td>65</td>\n      <td>59</td>\n    </tr>\n    <tr>\n      <th>4</th>\n      <td>GGAMBLING</td>\n      <td>54</td>\n      <td>50</td>\n    </tr>\n    <tr>\n      <th>5</th>\n      <td>GMOMO</td>\n      <td>47</td>\n      <td>44</td>\n    </tr>\n    <tr>\n      <th>6</th>\n      <td>GMOSAVE</td>\n      <td>38</td>\n      <td>32</td>\n    </tr>\n    <tr>\n      <th>7</th>\n      <td>GBOROW</td>\n      <td>30</td>\n      <td>29</td>\n    </tr>\n    <tr>\n      <th>8</th>\n      <td>GMOCON</td>\n      <td>26</td>\n      <td>25</td>\n    </tr>\n    <tr>\n      <th>9</th>\n      <td>GCERTQ</td>\n      <td>21</td>\n      <td>21</td>\n    </tr>\n    <tr>\n      <th>10</th>\n      <td>GSECFUTK</td>\n      <td>2</td>\n      <td>2</td>\n    </tr>\n    <tr>\n      <th>11</th>\n      <td>GPREPDRYK</td>\n      <td>2</td>\n      <td>1</td>\n    </tr>\n    <tr>\n      <th>12</th>\n      <td>GLOGROWK</td>\n      <td>1</td>\n      <td>1</td>\n    </tr>\n    <tr>\n      <th>13</th>\n      <td>GWHKNOWK</td>\n      <td>1</td>\n      <td>1</td>\n    </tr>\n    <tr>\n      <th>14</th>\n      <td>GGAMBLINGK</td>\n      <td>1</td>\n      <td>1</td>\n    </tr>\n    <tr>\n      <th>15</th>\n      <td>GMOMOK</td>\n      <td>1</td>\n      <td>1</td>\n    </tr>\n    <tr>\n      <th>16</th>\n      <td>GMOSAVEK</td>\n      <td>1</td>\n      <td>1</td>\n    </tr>\n    <tr>\n      <th>17</th>\n      <td>GBOROWK</td>\n      <td>1</td>\n      <td>1</td>\n    </tr>\n    <tr>\n      <th>18</th>\n      <td>GMOCONK</td>\n      <td>1</td>\n      <td>1</td>\n    </tr>\n    <tr>\n      <th>19</th>\n      <td>GCERTQK</td>\n      <td>0</td>\n      <td>0</td>\n    </tr>\n  </tbody>\n</table>\n</div>"
     },
     "metadata": {}
    },
    {
     "output_type": "stream",
     "name": "stdout",
     "text": [
      "-------------------------------------------\nTraining Completion for telegram\n"
     ]
    },
    {
     "output_type": "display_data",
     "data": {
      "text/plain": "          code  starting  completing\n0      GSECFUT         2           0\n1     GPREPDRY         0           0\n2      GLOGROW         0           0\n3      GWHKNOW         0           0\n4    GGAMBLING         0           0\n5        GMOMO         0           0\n6      GMOSAVE         0           0\n7       GBOROW         0           0\n8       GMOCON         0           0\n9       GCERTQ         0           0\n10    GSECFUTK         1           0\n11   GPREPDRYK         1           1\n12    GLOGROWK         1           0\n13    GWHKNOWK         0           0\n14  GGAMBLINGK         0           0\n15      GMOMOK         0           0\n16    GMOSAVEK         0           0\n17     GBOROWK         0           0\n18     GMOCONK         0           0\n19     GCERTQK         0           0",
      "text/html": "<div>\n<style scoped>\n    .dataframe tbody tr th:only-of-type {\n        vertical-align: middle;\n    }\n\n    .dataframe tbody tr th {\n        vertical-align: top;\n    }\n\n    .dataframe thead th {\n        text-align: right;\n    }\n</style>\n<table border=\"1\" class=\"dataframe\">\n  <thead>\n    <tr style=\"text-align: right;\">\n      <th></th>\n      <th>code</th>\n      <th>starting</th>\n      <th>completing</th>\n    </tr>\n  </thead>\n  <tbody>\n    <tr>\n      <th>0</th>\n      <td>GSECFUT</td>\n      <td>2</td>\n      <td>0</td>\n    </tr>\n    <tr>\n      <th>1</th>\n      <td>GPREPDRY</td>\n      <td>0</td>\n      <td>0</td>\n    </tr>\n    <tr>\n      <th>2</th>\n      <td>GLOGROW</td>\n      <td>0</td>\n      <td>0</td>\n    </tr>\n    <tr>\n      <th>3</th>\n      <td>GWHKNOW</td>\n      <td>0</td>\n      <td>0</td>\n    </tr>\n    <tr>\n      <th>4</th>\n      <td>GGAMBLING</td>\n      <td>0</td>\n      <td>0</td>\n    </tr>\n    <tr>\n      <th>5</th>\n      <td>GMOMO</td>\n      <td>0</td>\n      <td>0</td>\n    </tr>\n    <tr>\n      <th>6</th>\n      <td>GMOSAVE</td>\n      <td>0</td>\n      <td>0</td>\n    </tr>\n    <tr>\n      <th>7</th>\n      <td>GBOROW</td>\n      <td>0</td>\n      <td>0</td>\n    </tr>\n    <tr>\n      <th>8</th>\n      <td>GMOCON</td>\n      <td>0</td>\n      <td>0</td>\n    </tr>\n    <tr>\n      <th>9</th>\n      <td>GCERTQ</td>\n      <td>0</td>\n      <td>0</td>\n    </tr>\n    <tr>\n      <th>10</th>\n      <td>GSECFUTK</td>\n      <td>1</td>\n      <td>0</td>\n    </tr>\n    <tr>\n      <th>11</th>\n      <td>GPREPDRYK</td>\n      <td>1</td>\n      <td>1</td>\n    </tr>\n    <tr>\n      <th>12</th>\n      <td>GLOGROWK</td>\n      <td>1</td>\n      <td>0</td>\n    </tr>\n    <tr>\n      <th>13</th>\n      <td>GWHKNOWK</td>\n      <td>0</td>\n      <td>0</td>\n    </tr>\n    <tr>\n      <th>14</th>\n      <td>GGAMBLINGK</td>\n      <td>0</td>\n      <td>0</td>\n    </tr>\n    <tr>\n      <th>15</th>\n      <td>GMOMOK</td>\n      <td>0</td>\n      <td>0</td>\n    </tr>\n    <tr>\n      <th>16</th>\n      <td>GMOSAVEK</td>\n      <td>0</td>\n      <td>0</td>\n    </tr>\n    <tr>\n      <th>17</th>\n      <td>GBOROWK</td>\n      <td>0</td>\n      <td>0</td>\n    </tr>\n    <tr>\n      <th>18</th>\n      <td>GMOCONK</td>\n      <td>0</td>\n      <td>0</td>\n    </tr>\n    <tr>\n      <th>19</th>\n      <td>GCERTQK</td>\n      <td>0</td>\n      <td>0</td>\n    </tr>\n  </tbody>\n</table>\n</div>"
     },
     "metadata": {}
    },
    {
     "output_type": "stream",
     "name": "stdout",
     "text": [
      "-------------------------------------------\nTraining Completion for whatsapp\n"
     ]
    },
    {
     "output_type": "display_data",
     "data": {
      "text/plain": "          code  starting  completing\n0      GSECFUT        17           8\n1     GPREPDRY         7           4\n2      GLOGROW         2           2\n3      GWHKNOW         2           1\n4    GGAMBLING         1           1\n5        GMOMO         0           0\n6      GMOSAVE         0           1\n7       GBOROW         1           1\n8       GMOCON         1           1\n9       GCERTQ         1           1\n10    GSECFUTK         0           0\n11   GPREPDRYK         0           0\n12    GLOGROWK         0           0\n13    GWHKNOWK         0           0\n14  GGAMBLINGK         0           0\n15      GMOMOK         0           0\n16    GMOSAVEK         0           0\n17     GBOROWK         0           0\n18     GMOCONK         0           0\n19     GCERTQK         0           0",
      "text/html": "<div>\n<style scoped>\n    .dataframe tbody tr th:only-of-type {\n        vertical-align: middle;\n    }\n\n    .dataframe tbody tr th {\n        vertical-align: top;\n    }\n\n    .dataframe thead th {\n        text-align: right;\n    }\n</style>\n<table border=\"1\" class=\"dataframe\">\n  <thead>\n    <tr style=\"text-align: right;\">\n      <th></th>\n      <th>code</th>\n      <th>starting</th>\n      <th>completing</th>\n    </tr>\n  </thead>\n  <tbody>\n    <tr>\n      <th>0</th>\n      <td>GSECFUT</td>\n      <td>17</td>\n      <td>8</td>\n    </tr>\n    <tr>\n      <th>1</th>\n      <td>GPREPDRY</td>\n      <td>7</td>\n      <td>4</td>\n    </tr>\n    <tr>\n      <th>2</th>\n      <td>GLOGROW</td>\n      <td>2</td>\n      <td>2</td>\n    </tr>\n    <tr>\n      <th>3</th>\n      <td>GWHKNOW</td>\n      <td>2</td>\n      <td>1</td>\n    </tr>\n    <tr>\n      <th>4</th>\n      <td>GGAMBLING</td>\n      <td>1</td>\n      <td>1</td>\n    </tr>\n    <tr>\n      <th>5</th>\n      <td>GMOMO</td>\n      <td>0</td>\n      <td>0</td>\n    </tr>\n    <tr>\n      <th>6</th>\n      <td>GMOSAVE</td>\n      <td>0</td>\n      <td>1</td>\n    </tr>\n    <tr>\n      <th>7</th>\n      <td>GBOROW</td>\n      <td>1</td>\n      <td>1</td>\n    </tr>\n    <tr>\n      <th>8</th>\n      <td>GMOCON</td>\n      <td>1</td>\n      <td>1</td>\n    </tr>\n    <tr>\n      <th>9</th>\n      <td>GCERTQ</td>\n      <td>1</td>\n      <td>1</td>\n    </tr>\n    <tr>\n      <th>10</th>\n      <td>GSECFUTK</td>\n      <td>0</td>\n      <td>0</td>\n    </tr>\n    <tr>\n      <th>11</th>\n      <td>GPREPDRYK</td>\n      <td>0</td>\n      <td>0</td>\n    </tr>\n    <tr>\n      <th>12</th>\n      <td>GLOGROWK</td>\n      <td>0</td>\n      <td>0</td>\n    </tr>\n    <tr>\n      <th>13</th>\n      <td>GWHKNOWK</td>\n      <td>0</td>\n      <td>0</td>\n    </tr>\n    <tr>\n      <th>14</th>\n      <td>GGAMBLINGK</td>\n      <td>0</td>\n      <td>0</td>\n    </tr>\n    <tr>\n      <th>15</th>\n      <td>GMOMOK</td>\n      <td>0</td>\n      <td>0</td>\n    </tr>\n    <tr>\n      <th>16</th>\n      <td>GMOSAVEK</td>\n      <td>0</td>\n      <td>0</td>\n    </tr>\n    <tr>\n      <th>17</th>\n      <td>GBOROWK</td>\n      <td>0</td>\n      <td>0</td>\n    </tr>\n    <tr>\n      <th>18</th>\n      <td>GMOCONK</td>\n      <td>0</td>\n      <td>0</td>\n    </tr>\n    <tr>\n      <th>19</th>\n      <td>GCERTQK</td>\n      <td>0</td>\n      <td>0</td>\n    </tr>\n  </tbody>\n</table>\n</div>"
     },
     "metadata": {}
    },
    {
     "output_type": "stream",
     "name": "stdout",
     "text": [
      "-------------------------------------------\nTraining Completion for fb\n"
     ]
    },
    {
     "output_type": "display_data",
     "data": {
      "text/plain": "          code  starting  completing\n0      GSECFUT         2           1\n1     GPREPDRY         1           1\n2      GLOGROW         1           1\n3      GWHKNOW         1           1\n4    GGAMBLING         1           1\n5        GMOMO         1           1\n6      GMOSAVE         1           1\n7       GBOROW         1           1\n8       GMOCON         1           1\n9       GCERTQ         1           1\n10    GSECFUTK         2           1\n11   GPREPDRYK         1           1\n12    GLOGROWK         1           1\n13    GWHKNOWK         1           1\n14  GGAMBLINGK         1           1\n15      GMOMOK         1           1\n16    GMOSAVEK         1           1\n17     GBOROWK         1           1\n18     GMOCONK         1           1\n19     GCERTQK         1           1",
      "text/html": "<div>\n<style scoped>\n    .dataframe tbody tr th:only-of-type {\n        vertical-align: middle;\n    }\n\n    .dataframe tbody tr th {\n        vertical-align: top;\n    }\n\n    .dataframe thead th {\n        text-align: right;\n    }\n</style>\n<table border=\"1\" class=\"dataframe\">\n  <thead>\n    <tr style=\"text-align: right;\">\n      <th></th>\n      <th>code</th>\n      <th>starting</th>\n      <th>completing</th>\n    </tr>\n  </thead>\n  <tbody>\n    <tr>\n      <th>0</th>\n      <td>GSECFUT</td>\n      <td>2</td>\n      <td>1</td>\n    </tr>\n    <tr>\n      <th>1</th>\n      <td>GPREPDRY</td>\n      <td>1</td>\n      <td>1</td>\n    </tr>\n    <tr>\n      <th>2</th>\n      <td>GLOGROW</td>\n      <td>1</td>\n      <td>1</td>\n    </tr>\n    <tr>\n      <th>3</th>\n      <td>GWHKNOW</td>\n      <td>1</td>\n      <td>1</td>\n    </tr>\n    <tr>\n      <th>4</th>\n      <td>GGAMBLING</td>\n      <td>1</td>\n      <td>1</td>\n    </tr>\n    <tr>\n      <th>5</th>\n      <td>GMOMO</td>\n      <td>1</td>\n      <td>1</td>\n    </tr>\n    <tr>\n      <th>6</th>\n      <td>GMOSAVE</td>\n      <td>1</td>\n      <td>1</td>\n    </tr>\n    <tr>\n      <th>7</th>\n      <td>GBOROW</td>\n      <td>1</td>\n      <td>1</td>\n    </tr>\n    <tr>\n      <th>8</th>\n      <td>GMOCON</td>\n      <td>1</td>\n      <td>1</td>\n    </tr>\n    <tr>\n      <th>9</th>\n      <td>GCERTQ</td>\n      <td>1</td>\n      <td>1</td>\n    </tr>\n    <tr>\n      <th>10</th>\n      <td>GSECFUTK</td>\n      <td>2</td>\n      <td>1</td>\n    </tr>\n    <tr>\n      <th>11</th>\n      <td>GPREPDRYK</td>\n      <td>1</td>\n      <td>1</td>\n    </tr>\n    <tr>\n      <th>12</th>\n      <td>GLOGROWK</td>\n      <td>1</td>\n      <td>1</td>\n    </tr>\n    <tr>\n      <th>13</th>\n      <td>GWHKNOWK</td>\n      <td>1</td>\n      <td>1</td>\n    </tr>\n    <tr>\n      <th>14</th>\n      <td>GGAMBLINGK</td>\n      <td>1</td>\n      <td>1</td>\n    </tr>\n    <tr>\n      <th>15</th>\n      <td>GMOMOK</td>\n      <td>1</td>\n      <td>1</td>\n    </tr>\n    <tr>\n      <th>16</th>\n      <td>GMOSAVEK</td>\n      <td>1</td>\n      <td>1</td>\n    </tr>\n    <tr>\n      <th>17</th>\n      <td>GBOROWK</td>\n      <td>1</td>\n      <td>1</td>\n    </tr>\n    <tr>\n      <th>18</th>\n      <td>GMOCONK</td>\n      <td>1</td>\n      <td>1</td>\n    </tr>\n    <tr>\n      <th>19</th>\n      <td>GCERTQK</td>\n      <td>1</td>\n      <td>1</td>\n    </tr>\n  </tbody>\n</table>\n</div>"
     },
     "metadata": {}
    }
   ],
   "source": [
    "for each in platform_list:\n",
    "    starting = []\n",
    "    completing = []\n",
    "    df = nonseq_int[nonseq_int['sender'] == each]\n",
    "    print('-------------------------------------------')\n",
    "    print('Training Completion for {}'.format(each))\n",
    "    get_complete_figs(df,dict_start_nonseq,dict_complete_nonseq,c_nonseq)"
   ]
  },
  {
   "source": [
    ">## Quick Checks\n"
   ],
   "cell_type": "markdown",
   "metadata": {}
  },
  {
   "source": [
    ">### Check 1. If there are learners in all variants"
   ],
   "cell_type": "markdown",
   "metadata": {}
  },
  {
   "cell_type": "code",
   "execution_count": 152,
   "metadata": {},
   "outputs": [
    {
     "output_type": "execute_result",
     "data": {
      "text/plain": [
       "63"
      ]
     },
     "metadata": {},
     "execution_count": 152
    }
   ],
   "source": [
    "len(set(mb_int.phone_number.unique()) & set(seq_int.phone_number.unique()))"
   ]
  },
  {
   "cell_type": "code",
   "execution_count": 153,
   "metadata": {},
   "outputs": [],
   "source": [
    "allvariants_learners = list(set(mb_int.phone_number.unique()) & set(nonseq_int.phone_number.unique()))"
   ]
  },
  {
   "cell_type": "code",
   "execution_count": 154,
   "metadata": {},
   "outputs": [
    {
     "output_type": "execute_result",
     "data": {
      "text/plain": [
       "['254729602890',\n",
       " '254790416452',\n",
       " '254710638278',\n",
       " '254711653936',\n",
       " '254795111680',\n",
       " '254724575198',\n",
       " '254781439992',\n",
       " '254717222720',\n",
       " '254757577161',\n",
       " '254794580118',\n",
       " '254764578843',\n",
       " '254718752597',\n",
       " '254798090597',\n",
       " '254720986735',\n",
       " '254714502189',\n",
       " '254741513523',\n",
       " '254714685549',\n",
       " '254703821113',\n",
       " '254746987961',\n",
       " '254702147113',\n",
       " '254764308421',\n",
       " '254796887184',\n",
       " '3936006623140473',\n",
       " '254768206928',\n",
       " '254720969270',\n",
       " '254704161695',\n",
       " '254763613654',\n",
       " '254706493667',\n",
       " '254797532659',\n",
       " '254758166653',\n",
       " '254721796988',\n",
       " '254716736399',\n",
       " '254718643506',\n",
       " '254743766235',\n",
       " '254701052929',\n",
       " '254727703087',\n",
       " '254723284371',\n",
       " '254766153000',\n",
       " '254763351800',\n",
       " '254708498325',\n",
       " '254764183935',\n",
       " '254740705104',\n",
       " '254714136555',\n",
       " '254758814568',\n",
       " '254726881540',\n",
       " '254763281384',\n",
       " '254764098478',\n",
       " '254728735014',\n",
       " '254714882874',\n",
       " '254764788250',\n",
       " '254711689102',\n",
       " '254765883193',\n",
       " '254757821653',\n",
       " '254725120708',\n",
       " '254714430283',\n",
       " '254763726513',\n",
       " '254701583265',\n",
       " '254765974816',\n",
       " '254716558395',\n",
       " '254706177988']"
      ]
     },
     "metadata": {},
     "execution_count": 154
    }
   ],
   "source": [
    "allvariants_learners"
   ]
  },
  {
   "cell_type": "code",
   "execution_count": 155,
   "metadata": {},
   "outputs": [
    {
     "output_type": "execute_result",
     "data": {
      "text/plain": [
       "39"
      ]
     },
     "metadata": {},
     "execution_count": 155
    }
   ],
   "source": [
    "len(set(nonseq_int.phone_number.unique()) & set(seq_int.phone_number.unique()))"
   ]
  },
  {
   "cell_type": "code",
   "execution_count": 156,
   "metadata": {},
   "outputs": [
    {
     "output_type": "execute_result",
     "data": {
      "text/plain": [
       "14"
      ]
     },
     "metadata": {},
     "execution_count": 156
    }
   ],
   "source": [
    "len(set(mb_int.phone_number.unique()) & set(seq_int.phone_number.unique()) & set(nonseq_int.phone_number.unique()))"
   ]
  },
  {
   "source": [
    "## Checking gender for the 42:"
   ],
   "cell_type": "markdown",
   "metadata": {}
  },
  {
   "source": [
    ">## DROPPING THE LEARNERS IN ALL VARIANTS"
   ],
   "cell_type": "markdown",
   "metadata": {}
  },
  {
   "cell_type": "code",
   "execution_count": 157,
   "metadata": {},
   "outputs": [],
   "source": [
    "allvariants_learners = list(set(mb_int.phone_number.unique()) & set(nonseq_int.phone_number.unique()))"
   ]
  },
  {
   "cell_type": "code",
   "execution_count": 158,
   "metadata": {},
   "outputs": [
    {
     "output_type": "execute_result",
     "data": {
      "text/plain": [
       "1171"
      ]
     },
     "metadata": {},
     "execution_count": 158
    }
   ],
   "source": [
    "# getting the mb interactions dataset without all variant learners\n",
    "all_varlearners_mb = []\n",
    "for y in allvariants_learners:\n",
    "    df2 = mb_int[mb_int.phone_number == y]\n",
    "    all_varlearners_mb.append(df2)\n",
    "    \n",
    "mbvar_learners = pd.concat(all_varlearners_mb)\n",
    "# Dropping testers from the interactions dataset\n",
    "drop_indexes = list(mbvar_learners.index)\n",
    "mb_int_dropped = mb_int.drop(drop_indexes)\n",
    "# counting the new number after dropping\n",
    "mb_int_dropped.phone_number.nunique()"
   ]
  },
  {
   "cell_type": "code",
   "execution_count": 159,
   "metadata": {},
   "outputs": [
    {
     "output_type": "execute_result",
     "data": {
      "text/plain": [
       "487"
      ]
     },
     "metadata": {},
     "execution_count": 159
    }
   ],
   "source": [
    "# getting the interactions dataset without all variant learners\n",
    "all_varlearners_seq = []\n",
    "for y in allvariants_learners:\n",
    "    df2 = seq_int[seq_int.phone_number == y]\n",
    "    all_varlearners_seq.append(df2)\n",
    "    \n",
    "seqvar_learners = pd.concat(all_varlearners_seq)\n",
    "# Dropping testers from the interactions dataset\n",
    "drop_indexes = list(seqvar_learners.index)\n",
    "seq_int_dropped = seq_int.drop(drop_indexes)\n",
    "# counting the new number after dropping\n",
    "seq_int_dropped.phone_number.nunique()"
   ]
  },
  {
   "cell_type": "code",
   "execution_count": 160,
   "metadata": {},
   "outputs": [
    {
     "output_type": "execute_result",
     "data": {
      "text/plain": [
       "381"
      ]
     },
     "metadata": {},
     "execution_count": 160
    }
   ],
   "source": [
    "# getting the interactions dataset without all variant learners\n",
    "all_varlearners_nonseq = []\n",
    "for y in allvariants_learners:\n",
    "    df2 = nonseq_int[nonseq_int.phone_number == y]\n",
    "    all_varlearners_nonseq.append(df2)\n",
    "    \n",
    "nonseqvar_learners = pd.concat(all_varlearners_nonseq)\n",
    "# Dropping testers from the interactions dataset\n",
    "drop_indexes = list(nonseqvar_learners.index)\n",
    "nonseq_int_dropped = nonseq_int.drop(drop_indexes)\n",
    "# counting the new number after dropping\n",
    "nonseq_int_dropped.phone_number.nunique()"
   ]
  },
  {
   "source": [
    ">### check for mb_int"
   ],
   "cell_type": "markdown",
   "metadata": {}
  },
  {
   "cell_type": "code",
   "execution_count": 161,
   "metadata": {},
   "outputs": [],
   "source": [
    "mb_int_check = mb_int[['phone_number','program_code','message_out']]"
   ]
  },
  {
   "cell_type": "code",
   "execution_count": 162,
   "metadata": {},
   "outputs": [],
   "source": [
    "def complete_category(b,list_category,category,codes,dict_complete):\n",
    "    for each in list_category:\n",
    "        dat = b[b[category] == each]\n",
    "        df = dat[(dat.program_code == codes[0]) | (dat.program_code == codes[1])].groupby(['message_out']).learner_id.nunique().reset_index()\n",
    "        max = str(dict_complete.get(codes[0]))\n",
    "        df['is_completing'] = df.message_out.apply(lambda x : True if max in x else False)\n",
    "        df_complete = df[df['is_completing'] == True]\n",
    "        complete = df_complete.learner_id.sum()\n",
    "        print('---------------------------------')\n",
    "        print('Completion for {}'.format(each))\n",
    "        print(complete)"
   ]
  },
  {
   "cell_type": "code",
   "execution_count": 163,
   "metadata": {},
   "outputs": [],
   "source": [
    "def duplicate_learners(b,dict_start,dict_complete,c):\n",
    "    duplicate_starting = []\n",
    "    duplicates_completing = []\n",
    "    for each in c:\n",
    "        df_course = b[(b.program_code == each)]\n",
    "        max = str(dict_complete.get(each))\n",
    "        min = str(dict_start.get(each))\n",
    "        df_course['is_completing'] = df_course.message_out.apply(lambda x : True if max in x else False)\n",
    "        df_course['is_starting'] = df_course.message_out.apply(lambda x : True if min in x else False)\n",
    "        df_message_start = df_course[df_course['is_starting'] == True]\n",
    "        df_message_complete = df_course[df_course['is_completing'] == True]\n",
    "        duplicate_starting.append(df_message_start[df_message_start.duplicated()].phone_number.nunique())\n",
    "        duplicates_completing.append(df_message_complete[df_message_complete.duplicated()].phone_number.nunique())\n",
    "\n",
    "    df_learners = pd.DataFrame(list(zip(c,duplicate_starting,duplicates_completing)),columns=['code', 'starting','completing'])\n",
    "    return df_learners"
   ]
  },
  {
   "cell_type": "code",
   "execution_count": 164,
   "metadata": {},
   "outputs": [],
   "source": [
    "mb_int_test = mb_int[mb_int.program_code == 'GSAVE']"
   ]
  },
  {
   "cell_type": "code",
   "execution_count": 165,
   "metadata": {},
   "outputs": [],
   "source": [
    "mb_int_test['completed'] = mb_int_test.message_out.apply(lambda x : True if '(8/8)' in x else False)"
   ]
  },
  {
   "cell_type": "code",
   "execution_count": 166,
   "metadata": {},
   "outputs": [],
   "source": [
    "mb_int_test_completed = mb_int_test[mb_int_test['completed'] == True]"
   ]
  },
  {
   "cell_type": "code",
   "execution_count": 167,
   "metadata": {},
   "outputs": [],
   "source": [
    "df_trial_mb = mb_int_test_completed[['phone_number','message_out']]"
   ]
  },
  {
   "cell_type": "code",
   "execution_count": 168,
   "metadata": {},
   "outputs": [
    {
     "output_type": "execute_result",
     "data": {
      "text/plain": [
       "array(['254708172472', '254763502452', '254721102729', '254720167245',\n",
       "       '254710823452', '254711834741', '254740175434', '254722506146',\n",
       "       '254706245611', '254764736045', '254794166058', '254713349479'],\n",
       "      dtype=object)"
      ]
     },
     "metadata": {},
     "execution_count": 168
    }
   ],
   "source": [
    "df_trial_mb[df_trial_mb.duplicated()].phone_number.unique()"
   ]
  },
  {
   "cell_type": "code",
   "execution_count": 169,
   "metadata": {},
   "outputs": [
    {
     "output_type": "execute_result",
     "data": {
      "text/plain": [
       "        code  starting  completing\n",
       "0      GSAVE        18          12\n",
       "1      GQUIZ        54          40\n",
       "2    GSECURE        26          18\n",
       "3    GSPELLS        47          27\n",
       "4    GSAVING        25          13\n",
       "5      GGROW        12          11\n",
       "6     GTLOAN        25          17\n",
       "7      GLOAN        26          20\n",
       "8     GMONEY         9           9\n",
       "9     GSAVEM         8           0\n",
       "10     GBORR        13          12\n",
       "11     GCONS         7           7\n",
       "12    GSAVEK         1           1\n",
       "13    GQUIZK         3           2\n",
       "14  GSECUREK         0           0\n",
       "15  GSPELLSK         1           0\n",
       "16  GSAVINGK         1           0\n",
       "17    GGROWK         1           0\n",
       "18   GTLOANK         3           0\n",
       "19    GLOANK         2           1\n",
       "20   GMONEYK         1           1\n",
       "21   GSAVEMK         0           0\n",
       "22    GBORRK         1           1\n",
       "23    GCONSK         1           1"
      ],
      "text/html": "<div>\n<style scoped>\n    .dataframe tbody tr th:only-of-type {\n        vertical-align: middle;\n    }\n\n    .dataframe tbody tr th {\n        vertical-align: top;\n    }\n\n    .dataframe thead th {\n        text-align: right;\n    }\n</style>\n<table border=\"1\" class=\"dataframe\">\n  <thead>\n    <tr style=\"text-align: right;\">\n      <th></th>\n      <th>code</th>\n      <th>starting</th>\n      <th>completing</th>\n    </tr>\n  </thead>\n  <tbody>\n    <tr>\n      <th>0</th>\n      <td>GSAVE</td>\n      <td>18</td>\n      <td>12</td>\n    </tr>\n    <tr>\n      <th>1</th>\n      <td>GQUIZ</td>\n      <td>54</td>\n      <td>40</td>\n    </tr>\n    <tr>\n      <th>2</th>\n      <td>GSECURE</td>\n      <td>26</td>\n      <td>18</td>\n    </tr>\n    <tr>\n      <th>3</th>\n      <td>GSPELLS</td>\n      <td>47</td>\n      <td>27</td>\n    </tr>\n    <tr>\n      <th>4</th>\n      <td>GSAVING</td>\n      <td>25</td>\n      <td>13</td>\n    </tr>\n    <tr>\n      <th>5</th>\n      <td>GGROW</td>\n      <td>12</td>\n      <td>11</td>\n    </tr>\n    <tr>\n      <th>6</th>\n      <td>GTLOAN</td>\n      <td>25</td>\n      <td>17</td>\n    </tr>\n    <tr>\n      <th>7</th>\n      <td>GLOAN</td>\n      <td>26</td>\n      <td>20</td>\n    </tr>\n    <tr>\n      <th>8</th>\n      <td>GMONEY</td>\n      <td>9</td>\n      <td>9</td>\n    </tr>\n    <tr>\n      <th>9</th>\n      <td>GSAVEM</td>\n      <td>8</td>\n      <td>0</td>\n    </tr>\n    <tr>\n      <th>10</th>\n      <td>GBORR</td>\n      <td>13</td>\n      <td>12</td>\n    </tr>\n    <tr>\n      <th>11</th>\n      <td>GCONS</td>\n      <td>7</td>\n      <td>7</td>\n    </tr>\n    <tr>\n      <th>12</th>\n      <td>GSAVEK</td>\n      <td>1</td>\n      <td>1</td>\n    </tr>\n    <tr>\n      <th>13</th>\n      <td>GQUIZK</td>\n      <td>3</td>\n      <td>2</td>\n    </tr>\n    <tr>\n      <th>14</th>\n      <td>GSECUREK</td>\n      <td>0</td>\n      <td>0</td>\n    </tr>\n    <tr>\n      <th>15</th>\n      <td>GSPELLSK</td>\n      <td>1</td>\n      <td>0</td>\n    </tr>\n    <tr>\n      <th>16</th>\n      <td>GSAVINGK</td>\n      <td>1</td>\n      <td>0</td>\n    </tr>\n    <tr>\n      <th>17</th>\n      <td>GGROWK</td>\n      <td>1</td>\n      <td>0</td>\n    </tr>\n    <tr>\n      <th>18</th>\n      <td>GTLOANK</td>\n      <td>3</td>\n      <td>0</td>\n    </tr>\n    <tr>\n      <th>19</th>\n      <td>GLOANK</td>\n      <td>2</td>\n      <td>1</td>\n    </tr>\n    <tr>\n      <th>20</th>\n      <td>GMONEYK</td>\n      <td>1</td>\n      <td>1</td>\n    </tr>\n    <tr>\n      <th>21</th>\n      <td>GSAVEMK</td>\n      <td>0</td>\n      <td>0</td>\n    </tr>\n    <tr>\n      <th>22</th>\n      <td>GBORRK</td>\n      <td>1</td>\n      <td>1</td>\n    </tr>\n    <tr>\n      <th>23</th>\n      <td>GCONSK</td>\n      <td>1</td>\n      <td>1</td>\n    </tr>\n  </tbody>\n</table>\n</div>"
     },
     "metadata": {},
     "execution_count": 169
    }
   ],
   "source": [
    "duplicate_learners(mb_int_check,dict_start_mb,dict_complete_mb,c_mb)"
   ]
  },
  {
   "cell_type": "code",
   "execution_count": 170,
   "metadata": {},
   "outputs": [],
   "source": [
    "def duplicate_learners_list(b,dict_start,dict_complete,c):\n",
    "    duplicate_starting = []\n",
    "    duplicates_completing = []\n",
    "    for each in c:\n",
    "        df_course = b[(b.program_code == each)]\n",
    "        max = str(dict_complete.get(each))\n",
    "        min = str(dict_start.get(each))\n",
    "        df_course['is_completing'] = df_course.message_out.apply(lambda x : True if max in x else False)\n",
    "        df_course['is_starting'] = df_course.message_out.apply(lambda x : True if min in x else False)\n",
    "        df_message_start = df_course[df_course['is_starting'] == True]\n",
    "        df_message_complete = df_course[df_course['is_completing'] == True]\n",
    "        for x in list(df_message_start[df_message_start.duplicated()].phone_number.unique()):\n",
    "            duplicate_starting.append(x)\n",
    "        for k in list(df_message_complete[df_message_complete.duplicated()].phone_number.unique()):\n",
    "            duplicates_completing.append(k)\n",
    "    \n",
    "    learners_starting = pd.DataFrame(duplicate_starting,columns =['start'])\n",
    "    learners_completing = pd.DataFrame(duplicates_completing,columns= ['complete'])\n",
    "    learners_startNo = learners_starting.start.nunique()\n",
    "    learners_completeNo = learners_completing.complete.nunique()\n",
    "    return learners_startNo, learners_completeNo"
   ]
  },
  {
   "cell_type": "code",
   "execution_count": 171,
   "metadata": {},
   "outputs": [
    {
     "output_type": "execute_result",
     "data": {
      "text/plain": [
       "(185, 117)"
      ]
     },
     "metadata": {},
     "execution_count": 171
    }
   ],
   "source": [
    "duplicate_learners_list(mb_int_check,dict_start_mb,dict_complete_mb,c_mb)"
   ]
  },
  {
   "cell_type": "code",
   "execution_count": 172,
   "metadata": {},
   "outputs": [
    {
     "output_type": "execute_result",
     "data": {
      "text/plain": [
       "(171, 111)"
      ]
     },
     "metadata": {},
     "execution_count": 172
    }
   ],
   "source": [
    "duplicate_learners_list(mb_int_dropped[['phone_number','program_code','message_out']],dict_start_mb,dict_complete_mb,c_mb)"
   ]
  },
  {
   "cell_type": "code",
   "execution_count": 173,
   "metadata": {},
   "outputs": [
    {
     "output_type": "execute_result",
     "data": {
      "text/plain": [
       "(154, 96)"
      ]
     },
     "metadata": {},
     "execution_count": 173
    }
   ],
   "source": [
    "duplicate_learners_list(mb_int_check,dict_start_mb_dup,dict_complete_mb_dup,c_mb_dup)"
   ]
  },
  {
   "cell_type": "code",
   "execution_count": 174,
   "metadata": {},
   "outputs": [
    {
     "output_type": "execute_result",
     "data": {
      "text/plain": [
       "(141, 91)"
      ]
     },
     "metadata": {},
     "execution_count": 174
    }
   ],
   "source": [
    "duplicate_learners_list(mb_int_dropped[['phone_number','program_code','message_out']],dict_start_mb_dup,dict_complete_mb_dup,c_mb_dup)"
   ]
  },
  {
   "cell_type": "code",
   "execution_count": null,
   "metadata": {},
   "outputs": [],
   "source": []
  }
 ]
}