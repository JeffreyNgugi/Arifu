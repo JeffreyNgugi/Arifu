{
 "cells": [
  {
   "cell_type": "markdown",
   "metadata": {},
   "source": [
    "# PULLING DATA WITH PYTHON"
   ]
  },
  {
   "cell_type": "markdown",
   "metadata": {},
   "source": [
    "### Great! You have made this far! Congratulations. What you are looking at right now is called a python notebook. It is an IDE that can be used to run python. "
   ]
  },
  {
   "cell_type": "markdown",
   "metadata": {},
   "source": [
    "In order to really gain the full power of python in analysis we use python Libraries. A Python library is a collection of functions and methods that allows you to perform many actions without writing your code. For todays discussion, since the aim is to pull data with python, we will use two important libraries;\n",
    "    1. pandas - software library written for the Python programming language for data manipulation and analysis.\n",
    "    2. pymysql - software library written for the python programming langugae to allow connection to external databases.\n",
    "\n",
    "\n",
    "NB: Kindly note that there are numerous libraries that can be used to achieve the same objective"
   ]
  },
  {
   "cell_type": "markdown",
   "metadata": {},
   "source": [
    "### Import the Libraries Needed"
   ]
  },
  {
   "cell_type": "code",
   "execution_count": 4,
   "metadata": {},
   "outputs": [],
   "source": [
    "# importing the needed libraries to our jupyter notebooks\n",
    "import pandas as pd\n",
    "import pymysql"
   ]
  },
  {
   "cell_type": "markdown",
   "metadata": {},
   "source": [
    "### Connect to Arifu database"
   ]
  },
  {
   "cell_type": "code",
   "execution_count": 6,
   "metadata": {},
   "outputs": [],
   "source": [
    "# using pymysql to connecto to the database\n",
    "# Parameters :\n",
    "# host – Host where the database server is located\n",
    "# user – Username to log in as\n",
    "# password – Password to use.\n",
    "# database – Database to use, None to not use a particular one.\n",
    "# port – MySQL port to use, default is usually OK. (default: 3306)\n",
    "# credentials have been xx'd out for privacy purposes\n",
    "\n",
    "db = pymysql.connect(host = 'xx',user = 'xx',password='xx',port = 3306,database = 'arifu_live')"
   ]
  },
  {
   "cell_type": "code",
   "execution_count": 8,
   "metadata": {},
   "outputs": [],
   "source": [
    "# Maintaining and capturing the connections using cursor() method\n",
    "curr = db.cursor()"
   ]
  },
  {
   "cell_type": "markdown",
   "metadata": {},
   "source": [
    "### Test the Connection"
   ]
  },
  {
   "cell_type": "code",
   "execution_count": 9,
   "metadata": {},
   "outputs": [
    {
     "data": {
      "text/plain": [
       "291"
      ]
     },
     "execution_count": 9,
     "metadata": {},
     "output_type": "execute_result"
    }
   ],
   "source": [
    "curr.execute(\"SHOW TABLES\")\n",
    "tables = curr.fetchall()\n",
    "len(tables)"
   ]
  },
  {
   "cell_type": "code",
   "execution_count": 10,
   "metadata": {},
   "outputs": [
    {
     "data": {
      "text/plain": [
       "27"
      ]
     },
     "execution_count": 10,
     "metadata": {},
     "output_type": "execute_result"
    }
   ],
   "source": [
    "curr.execute('SHOW DATABASES')"
   ]
  },
  {
   "cell_type": "code",
   "execution_count": 11,
   "metadata": {},
   "outputs": [],
   "source": [
    "databases = curr.fetchall()"
   ]
  },
  {
   "cell_type": "code",
   "execution_count": 12,
   "metadata": {
    "scrolled": true
   },
   "outputs": [
    {
     "data": {
      "text/plain": [
       "(('information_schema',),\n",
       " ('Postgress',),\n",
       " ('akengo_live',),\n",
       " ('akengo_staging',),\n",
       " ('arifu_analytics',),\n",
       " ('arifu_authorization',),\n",
       " ('arifu_blog',),\n",
       " ('arifu_content',),\n",
       " ('arifu_demo',),\n",
       " ('arifu_interactions',),\n",
       " ('arifu_live',),\n",
       " ('arifu_live_beta',),\n",
       " ('arifu_partners',),\n",
       " ('arifu_transaction',),\n",
       " ('arifu_web_v3',),\n",
       " ('communication_staging',),\n",
       " ('innodb',),\n",
       " ('metabase',),\n",
       " ('mysql',),\n",
       " ('new_arifu_web',),\n",
       " ('old_arifu_analytics',),\n",
       " ('performance_schema',),\n",
       " ('polling',),\n",
       " ('polling_service',),\n",
       " ('processor',),\n",
       " ('sms_dispatcher',),\n",
       " ('tmp',))"
      ]
     },
     "execution_count": 12,
     "metadata": {},
     "output_type": "execute_result"
    }
   ],
   "source": [
    "databases"
   ]
  },
  {
   "cell_type": "markdown",
   "metadata": {},
   "source": [
    "### Querying the data using SQL"
   ]
  },
  {
   "cell_type": "code",
   "execution_count": 14,
   "metadata": {},
   "outputs": [],
   "source": [
    "query = '''SELECT smsoutbox.id AS outbox_id, smsinbox.id AS inbox_id, smsoutbox.learner_id, learners.phone_number, projects.partner_id, partners.name AS partner_name, projects.id AS project_id, projects.project_name, program_variations.program_id, programs.program_code, programs.program_name, packages.variation_id, program_variations.variation_code, program_variations.variation_name, smsoutbox.package_id, smsoutbox.message_type, smsoutbox.object_id, smsoutbox.message_out, smsinbox.message_in, smsoutbox.sender, smsinbox.created_at FROM smsinbox LEFT JOIN smsoutbox ON smsoutbox.link_id = smsinbox.id LEFT JOIN learners ON smsoutbox.learner_id = learners.learner_id LEFT JOIN objects ON objects.id = smsoutbox.object_id LEFT JOIN packages ON packages.id = smsoutbox.package_id LEFT JOIN program_variations ON packages.variation_id = program_variations.id LEFT JOIN programs ON programs.id = program_variations.program_id LEFT JOIN projects ON programs.project_id = projects.id LEFT JOIN partners ON projects.partner_id = partners.id WHERE smsinbox.created_at >= \"2020-12-14\" and partners.id = 67'''\n",
    "dataframe = pd.read_sql(query, db)"
   ]
  },
  {
   "cell_type": "markdown",
   "metadata": {},
   "source": [
    "### Verifying the data/ quick look at the data"
   ]
  },
  {
   "cell_type": "code",
   "execution_count": 15,
   "metadata": {},
   "outputs": [
    {
     "data": {
      "text/html": [
       "<div>\n",
       "<style scoped>\n",
       "    .dataframe tbody tr th:only-of-type {\n",
       "        vertical-align: middle;\n",
       "    }\n",
       "\n",
       "    .dataframe tbody tr th {\n",
       "        vertical-align: top;\n",
       "    }\n",
       "\n",
       "    .dataframe thead th {\n",
       "        text-align: right;\n",
       "    }\n",
       "</style>\n",
       "<table border=\"1\" class=\"dataframe\">\n",
       "  <thead>\n",
       "    <tr style=\"text-align: right;\">\n",
       "      <th></th>\n",
       "      <th>outbox_id</th>\n",
       "      <th>inbox_id</th>\n",
       "      <th>learner_id</th>\n",
       "      <th>phone_number</th>\n",
       "      <th>partner_id</th>\n",
       "      <th>partner_name</th>\n",
       "      <th>project_id</th>\n",
       "      <th>project_name</th>\n",
       "      <th>program_id</th>\n",
       "      <th>program_code</th>\n",
       "      <th>...</th>\n",
       "      <th>variation_id</th>\n",
       "      <th>variation_code</th>\n",
       "      <th>variation_name</th>\n",
       "      <th>package_id</th>\n",
       "      <th>message_type</th>\n",
       "      <th>object_id</th>\n",
       "      <th>message_out</th>\n",
       "      <th>message_in</th>\n",
       "      <th>sender</th>\n",
       "      <th>created_at</th>\n",
       "    </tr>\n",
       "  </thead>\n",
       "  <tbody>\n",
       "    <tr>\n",
       "      <th>0</th>\n",
       "      <td>36121139</td>\n",
       "      <td>36094971</td>\n",
       "      <td>1216843</td>\n",
       "      <td>254711505446</td>\n",
       "      <td>67</td>\n",
       "      <td>Mastercard Kenya</td>\n",
       "      <td>100</td>\n",
       "      <td>Mastercard Financial Education</td>\n",
       "      <td>733</td>\n",
       "      <td>JAZA</td>\n",
       "      <td>...</td>\n",
       "      <td>836</td>\n",
       "      <td>JAZA</td>\n",
       "      <td>Jaza Duka Sales representatives</td>\n",
       "      <td>9255</td>\n",
       "      <td>1</td>\n",
       "      <td>74003</td>\n",
       "      <td>Please select your language to start learning....</td>\n",
       "      <td>JAZA</td>\n",
       "      <td>22374</td>\n",
       "      <td>2020-12-14 06:27:06</td>\n",
       "    </tr>\n",
       "    <tr>\n",
       "      <th>1</th>\n",
       "      <td>36121142</td>\n",
       "      <td>36094974</td>\n",
       "      <td>1216843</td>\n",
       "      <td>254711505446</td>\n",
       "      <td>67</td>\n",
       "      <td>Mastercard Kenya</td>\n",
       "      <td>100</td>\n",
       "      <td>Mastercard Financial Education</td>\n",
       "      <td>2410</td>\n",
       "      <td>BFRK</td>\n",
       "      <td>...</td>\n",
       "      <td>2555</td>\n",
       "      <td>BFRK</td>\n",
       "      <td>Financial Resiliency Swahili Version</td>\n",
       "      <td>13256</td>\n",
       "      <td>1</td>\n",
       "      <td>123237</td>\n",
       "      <td>(1/16) Mimi ni Arifu. Jifunze Sam anavyoendele...</td>\n",
       "      <td>2</td>\n",
       "      <td>22374</td>\n",
       "      <td>2020-12-14 06:27:49</td>\n",
       "    </tr>\n",
       "    <tr>\n",
       "      <th>2</th>\n",
       "      <td>36121146</td>\n",
       "      <td>36094978</td>\n",
       "      <td>1216843</td>\n",
       "      <td>254711505446</td>\n",
       "      <td>67</td>\n",
       "      <td>Mastercard Kenya</td>\n",
       "      <td>100</td>\n",
       "      <td>Mastercard Financial Education</td>\n",
       "      <td>2410</td>\n",
       "      <td>BFRK</td>\n",
       "      <td>...</td>\n",
       "      <td>2555</td>\n",
       "      <td>BFRK</td>\n",
       "      <td>Financial Resiliency Swahili Version</td>\n",
       "      <td>13256</td>\n",
       "      <td>1</td>\n",
       "      <td>123238</td>\n",
       "      <td>(2/16) Wakati kisa cha COVID-19 kiliripotiwa K...</td>\n",
       "      <td>A</td>\n",
       "      <td>22374</td>\n",
       "      <td>2020-12-14 06:29:10</td>\n",
       "    </tr>\n",
       "    <tr>\n",
       "      <th>3</th>\n",
       "      <td>36122155</td>\n",
       "      <td>36096000</td>\n",
       "      <td>938585</td>\n",
       "      <td>254722200677</td>\n",
       "      <td>67</td>\n",
       "      <td>Mastercard Kenya</td>\n",
       "      <td>100</td>\n",
       "      <td>Mastercard Financial Education</td>\n",
       "      <td>2426</td>\n",
       "      <td>DUKAB</td>\n",
       "      <td>...</td>\n",
       "      <td>2578</td>\n",
       "      <td>DUKAB</td>\n",
       "      <td>Safe Borrowing</td>\n",
       "      <td>13286</td>\n",
       "      <td>1</td>\n",
       "      <td>123604</td>\n",
       "      <td>(3/15) He considered borrowing from family, fr...</td>\n",
       "      <td>A</td>\n",
       "      <td>22374</td>\n",
       "      <td>2020-12-14 10:05:12</td>\n",
       "    </tr>\n",
       "    <tr>\n",
       "      <th>4</th>\n",
       "      <td>36122726</td>\n",
       "      <td>36096709</td>\n",
       "      <td>938585</td>\n",
       "      <td>254722200677</td>\n",
       "      <td>67</td>\n",
       "      <td>Mastercard Kenya</td>\n",
       "      <td>100</td>\n",
       "      <td>Mastercard Financial Education</td>\n",
       "      <td>2426</td>\n",
       "      <td>DUKAB</td>\n",
       "      <td>...</td>\n",
       "      <td>2578</td>\n",
       "      <td>DUKAB</td>\n",
       "      <td>Safe Borrowing</td>\n",
       "      <td>13286</td>\n",
       "      <td>1</td>\n",
       "      <td>123605</td>\n",
       "      <td>(4/15) Sam used his records to choose a loan h...</td>\n",
       "      <td>A</td>\n",
       "      <td>22374</td>\n",
       "      <td>2020-12-14 12:02:31</td>\n",
       "    </tr>\n",
       "  </tbody>\n",
       "</table>\n",
       "<p>5 rows × 21 columns</p>\n",
       "</div>"
      ],
      "text/plain": [
       "   outbox_id  inbox_id  learner_id  phone_number  partner_id  \\\n",
       "0   36121139  36094971     1216843  254711505446          67   \n",
       "1   36121142  36094974     1216843  254711505446          67   \n",
       "2   36121146  36094978     1216843  254711505446          67   \n",
       "3   36122155  36096000      938585  254722200677          67   \n",
       "4   36122726  36096709      938585  254722200677          67   \n",
       "\n",
       "       partner_name  project_id                    project_name  program_id  \\\n",
       "0  Mastercard Kenya         100  Mastercard Financial Education         733   \n",
       "1  Mastercard Kenya         100  Mastercard Financial Education        2410   \n",
       "2  Mastercard Kenya         100  Mastercard Financial Education        2410   \n",
       "3  Mastercard Kenya         100  Mastercard Financial Education        2426   \n",
       "4  Mastercard Kenya         100  Mastercard Financial Education        2426   \n",
       "\n",
       "  program_code  ... variation_id  variation_code  \\\n",
       "0         JAZA  ...          836            JAZA   \n",
       "1         BFRK  ...         2555            BFRK   \n",
       "2         BFRK  ...         2555            BFRK   \n",
       "3        DUKAB  ...         2578           DUKAB   \n",
       "4        DUKAB  ...         2578           DUKAB   \n",
       "\n",
       "                         variation_name package_id  message_type  object_id  \\\n",
       "0       Jaza Duka Sales representatives       9255             1      74003   \n",
       "1  Financial Resiliency Swahili Version      13256             1     123237   \n",
       "2  Financial Resiliency Swahili Version      13256             1     123238   \n",
       "3                        Safe Borrowing      13286             1     123604   \n",
       "4                        Safe Borrowing      13286             1     123605   \n",
       "\n",
       "                                         message_out message_in sender  \\\n",
       "0  Please select your language to start learning....       JAZA  22374   \n",
       "1  (1/16) Mimi ni Arifu. Jifunze Sam anavyoendele...          2  22374   \n",
       "2  (2/16) Wakati kisa cha COVID-19 kiliripotiwa K...          A  22374   \n",
       "3  (3/15) He considered borrowing from family, fr...          A  22374   \n",
       "4  (4/15) Sam used his records to choose a loan h...          A  22374   \n",
       "\n",
       "           created_at  \n",
       "0 2020-12-14 06:27:06  \n",
       "1 2020-12-14 06:27:49  \n",
       "2 2020-12-14 06:29:10  \n",
       "3 2020-12-14 10:05:12  \n",
       "4 2020-12-14 12:02:31  \n",
       "\n",
       "[5 rows x 21 columns]"
      ]
     },
     "execution_count": 15,
     "metadata": {},
     "output_type": "execute_result"
    }
   ],
   "source": [
    "# Displays the first five row in th dataframe\n",
    "dataframe.head()"
   ]
  },
  {
   "cell_type": "code",
   "execution_count": 16,
   "metadata": {
    "jupyter": {
     "outputs_hidden": true
    }
   },
   "outputs": [
    {
     "name": "stdout",
     "output_type": "stream",
     "text": [
      "<class 'pandas.core.frame.DataFrame'>\n",
      "RangeIndex: 24787 entries, 0 to 24786\n",
      "Data columns (total 21 columns):\n",
      " #   Column          Non-Null Count  Dtype         \n",
      "---  ------          --------------  -----         \n",
      " 0   outbox_id       24787 non-null  int64         \n",
      " 1   inbox_id        24787 non-null  int64         \n",
      " 2   learner_id      24787 non-null  int64         \n",
      " 3   phone_number    24787 non-null  object        \n",
      " 4   partner_id      24787 non-null  int64         \n",
      " 5   partner_name    24787 non-null  object        \n",
      " 6   project_id      24787 non-null  int64         \n",
      " 7   project_name    24787 non-null  object        \n",
      " 8   program_id      24787 non-null  int64         \n",
      " 9   program_code    24787 non-null  object        \n",
      " 10  program_name    24787 non-null  object        \n",
      " 11  variation_id    24787 non-null  int64         \n",
      " 12  variation_code  24787 non-null  object        \n",
      " 13  variation_name  24787 non-null  object        \n",
      " 14  package_id      24787 non-null  int64         \n",
      " 15  message_type    24787 non-null  int64         \n",
      " 16  object_id       24787 non-null  int64         \n",
      " 17  message_out     24787 non-null  object        \n",
      " 18  message_in      24787 non-null  object        \n",
      " 19  sender          24787 non-null  object        \n",
      " 20  created_at      24787 non-null  datetime64[ns]\n",
      "dtypes: datetime64[ns](1), int64(10), object(10)\n",
      "memory usage: 4.0+ MB\n"
     ]
    }
   ],
   "source": [
    "# Provides information on the individual columns within the dataframe\n",
    "dataframe.info()"
   ]
  },
  {
   "cell_type": "code",
   "execution_count": 19,
   "metadata": {
    "jupyter": {
     "outputs_hidden": true
    }
   },
   "outputs": [
    {
     "data": {
      "text/plain": [
       "823"
      ]
     },
     "execution_count": 19,
     "metadata": {},
     "output_type": "execute_result"
    }
   ],
   "source": [
    "# Getting the unique number of learners in the dataframe\n",
    "dataframe.learner_id.nunique()"
   ]
  },
  {
   "cell_type": "code",
   "execution_count": 18,
   "metadata": {
    "jupyter": {
     "outputs_hidden": true
    }
   },
   "outputs": [
    {
     "data": {
      "text/plain": [
       "Timestamp('2020-12-14 06:27:06')"
      ]
     },
     "execution_count": 18,
     "metadata": {},
     "output_type": "execute_result"
    }
   ],
   "source": [
    "# Getting the minimum time in the dataframe\n",
    "dataframe.created_at.min()"
   ]
  },
  {
   "cell_type": "code",
   "execution_count": 23,
   "metadata": {},
   "outputs": [
    {
     "data": {
      "text/plain": [
       "Timestamp('2021-01-05 15:30:06')"
      ]
     },
     "execution_count": 23,
     "metadata": {},
     "output_type": "execute_result"
    }
   ],
   "source": [
    "# getting the maximum date and time in the dataframe\n",
    "dataframe.created_at.max()"
   ]
  },
  {
   "cell_type": "markdown",
   "metadata": {},
   "source": [
    "### Saving the dataframe into Excel/csv"
   ]
  },
  {
   "cell_type": "code",
   "execution_count": 10,
   "metadata": {},
   "outputs": [],
   "source": [
    "# Saving the dataframe to excel and giving a name\n",
    "dataframe.to_excel('Mastercard_int.xlsx')"
   ]
  },
  {
   "cell_type": "code",
   "execution_count": null,
   "metadata": {},
   "outputs": [],
   "source": [
    "# Saving the dataframe to csv and giving a name\n",
    "dataframe.to_excel('Mastercard_int.csv')"
   ]
  },
  {
   "cell_type": "markdown",
   "metadata": {},
   "source": [
    "### Other Examples to note"
   ]
  },
  {
   "cell_type": "code",
   "execution_count": 8,
   "metadata": {},
   "outputs": [],
   "source": [
    "# Pulling learner level data from the database\n",
    "analytics_learner_query = '''SELECT * from analytics_learner_lvl_67'''\n",
    "analytics_learner = pd.read_sql(analytics_learner_query,db)\n",
    "# Saving the dataframe to csv and giving a name\n",
    "analytics_learner.to_csv('analytics_learner_67.csv')"
   ]
  },
  {
   "cell_type": "markdown",
   "metadata": {},
   "source": [
    "### Other Resources to Look at"
   ]
  },
  {
   "cell_type": "markdown",
   "metadata": {},
   "source": [
    "1. To understand SQL Where clause click [here](https://www.techonthenet.com/sql/where.php).\n",
    "2. Introduction to Pandas click [here](https://towardsdatascience.com/quick-dive-into-pandas-for-data-science-cc1c1a80d9c4) and [here](https://towardsdatascience.com/pandas-full-tutorial-on-a-single-dataset-4aa43461e1e2)"
   ]
  },
  {
   "cell_type": "code",
   "execution_count": null,
   "metadata": {},
   "outputs": [],
   "source": []
  }
 ],
 "metadata": {
  "kernelspec": {
   "display_name": "Python 3",
   "language": "python",
   "name": "python3"
  },
  "language_info": {
   "codemirror_mode": {
    "name": "ipython",
    "version": 3
   },
   "file_extension": ".py",
   "mimetype": "text/x-python",
   "name": "python",
   "nbconvert_exporter": "python",
   "pygments_lexer": "ipython3",
   "version": "3.7.6"
  }
 },
 "nbformat": 4,
 "nbformat_minor": 4
}